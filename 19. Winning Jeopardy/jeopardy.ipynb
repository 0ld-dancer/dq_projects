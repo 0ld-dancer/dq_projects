{
 "cells": [
  {
   "cell_type": "markdown",
   "id": "5192c43b",
   "metadata": {},
   "source": [
    "## Winning Jeopardy!\n",
    "\n",
    "![Image](https://media.comicbook.com/2020/12/jeopardy-logo-2019-1250897.jpeg?auto=webp)\n",
    "\n",
    "### Introduction\n",
    "\n",
    "[Jeopardy](https://en.wikipedia.org/wiki/Jeopardy!) is a popular TV show in the US where participants answer questions to win money. In this project we'll try to find a way to become the winner.\n",
    "\n",
    "We'll be working with the data set from [reddit](https://www.reddit.com/r/datasets/comments/1uyd0t/200000_jeopardy_questions_in_a_json_file/). It contains **216930** questions and other info. Let's take a look."
   ]
  },
  {
   "cell_type": "code",
   "execution_count": 1,
   "id": "451d855f",
   "metadata": {},
   "outputs": [
    {
     "data": {
      "text/html": [
       "<div>\n",
       "<style scoped>\n",
       "    .dataframe tbody tr th:only-of-type {\n",
       "        vertical-align: middle;\n",
       "    }\n",
       "\n",
       "    .dataframe tbody tr th {\n",
       "        vertical-align: top;\n",
       "    }\n",
       "\n",
       "    .dataframe thead th {\n",
       "        text-align: right;\n",
       "    }\n",
       "</style>\n",
       "<table border=\"1\" class=\"dataframe\">\n",
       "  <thead>\n",
       "    <tr style=\"text-align: right;\">\n",
       "      <th></th>\n",
       "      <th>Show Number</th>\n",
       "      <th>Air Date</th>\n",
       "      <th>Round</th>\n",
       "      <th>Category</th>\n",
       "      <th>Value</th>\n",
       "      <th>Question</th>\n",
       "      <th>Answer</th>\n",
       "    </tr>\n",
       "  </thead>\n",
       "  <tbody>\n",
       "    <tr>\n",
       "      <th>0</th>\n",
       "      <td>4680</td>\n",
       "      <td>2004-12-31</td>\n",
       "      <td>Jeopardy!</td>\n",
       "      <td>HISTORY</td>\n",
       "      <td>$200</td>\n",
       "      <td>For the last 8 years of his life, Galileo was ...</td>\n",
       "      <td>Copernicus</td>\n",
       "    </tr>\n",
       "    <tr>\n",
       "      <th>1</th>\n",
       "      <td>4680</td>\n",
       "      <td>2004-12-31</td>\n",
       "      <td>Jeopardy!</td>\n",
       "      <td>ESPN's TOP 10 ALL-TIME ATHLETES</td>\n",
       "      <td>$200</td>\n",
       "      <td>No. 2: 1912 Olympian; football star at Carlisl...</td>\n",
       "      <td>Jim Thorpe</td>\n",
       "    </tr>\n",
       "    <tr>\n",
       "      <th>2</th>\n",
       "      <td>4680</td>\n",
       "      <td>2004-12-31</td>\n",
       "      <td>Jeopardy!</td>\n",
       "      <td>EVERYBODY TALKS ABOUT IT...</td>\n",
       "      <td>$200</td>\n",
       "      <td>The city of Yuma in this state has a record av...</td>\n",
       "      <td>Arizona</td>\n",
       "    </tr>\n",
       "    <tr>\n",
       "      <th>3</th>\n",
       "      <td>4680</td>\n",
       "      <td>2004-12-31</td>\n",
       "      <td>Jeopardy!</td>\n",
       "      <td>THE COMPANY LINE</td>\n",
       "      <td>$200</td>\n",
       "      <td>In 1963, live on \"The Art Linkletter Show\", th...</td>\n",
       "      <td>McDonald's</td>\n",
       "    </tr>\n",
       "    <tr>\n",
       "      <th>4</th>\n",
       "      <td>4680</td>\n",
       "      <td>2004-12-31</td>\n",
       "      <td>Jeopardy!</td>\n",
       "      <td>EPITAPHS &amp; TRIBUTES</td>\n",
       "      <td>$200</td>\n",
       "      <td>Signer of the Dec. of Indep., framer of the Co...</td>\n",
       "      <td>John Adams</td>\n",
       "    </tr>\n",
       "  </tbody>\n",
       "</table>\n",
       "</div>"
      ],
      "text/plain": [
       "   Show Number   Air Date      Round                         Category  Value  \\\n",
       "0         4680 2004-12-31  Jeopardy!                          HISTORY   $200   \n",
       "1         4680 2004-12-31  Jeopardy!  ESPN's TOP 10 ALL-TIME ATHLETES   $200   \n",
       "2         4680 2004-12-31  Jeopardy!      EVERYBODY TALKS ABOUT IT...   $200   \n",
       "3         4680 2004-12-31  Jeopardy!                 THE COMPANY LINE   $200   \n",
       "4         4680 2004-12-31  Jeopardy!              EPITAPHS & TRIBUTES   $200   \n",
       "\n",
       "                                            Question      Answer  \n",
       "0  For the last 8 years of his life, Galileo was ...  Copernicus  \n",
       "1  No. 2: 1912 Olympian; football star at Carlisl...  Jim Thorpe  \n",
       "2  The city of Yuma in this state has a record av...     Arizona  \n",
       "3  In 1963, live on \"The Art Linkletter Show\", th...  McDonald's  \n",
       "4  Signer of the Dec. of Indep., framer of the Co...  John Adams  "
      ]
     },
     "execution_count": 1,
     "metadata": {},
     "output_type": "execute_result"
    }
   ],
   "source": [
    "import pandas as pd\n",
    "\n",
    "jeopardy = pd.read_csv('jeopardy.csv', parse_dates=[' Air Date'])\n",
    "jeopardy.head()"
   ]
  },
  {
   "cell_type": "code",
   "execution_count": 2,
   "id": "bdf5301a",
   "metadata": {},
   "outputs": [
    {
     "name": "stdout",
     "output_type": "stream",
     "text": [
      "<class 'pandas.core.frame.DataFrame'>\n",
      "RangeIndex: 216930 entries, 0 to 216929\n",
      "Data columns (total 7 columns):\n",
      " #   Column       Non-Null Count   Dtype         \n",
      "---  ------       --------------   -----         \n",
      " 0   Show Number  216930 non-null  int64         \n",
      " 1    Air Date    216930 non-null  datetime64[ns]\n",
      " 2    Round       216930 non-null  object        \n",
      " 3    Category    216930 non-null  object        \n",
      " 4    Value       216930 non-null  object        \n",
      " 5    Question    216930 non-null  object        \n",
      " 6    Answer      216928 non-null  object        \n",
      "dtypes: datetime64[ns](1), int64(1), object(5)\n",
      "memory usage: 11.6+ MB\n"
     ]
    }
   ],
   "source": [
    "jeopardy.info()"
   ]
  },
  {
   "cell_type": "markdown",
   "id": "9e4ec081",
   "metadata": {},
   "source": [
    "### Cleaning\n",
    "\n",
    "Before we start let's clean some mess. Several columns have spaces in front. Let's fix it."
   ]
  },
  {
   "cell_type": "code",
   "execution_count": 3,
   "id": "1e32b29b",
   "metadata": {},
   "outputs": [
    {
     "name": "stdout",
     "output_type": "stream",
     "text": [
      "Old \n",
      " Index(['Show Number', ' Air Date', ' Round', ' Category', ' Value',\n",
      "       ' Question', ' Answer'],\n",
      "      dtype='object')\n",
      "Fixed \n",
      " Index(['Show Number', 'Air Date', 'Round', 'Category', 'Value', 'Question',\n",
      "       'Answer'],\n",
      "      dtype='object')\n"
     ]
    }
   ],
   "source": [
    "cols_to_fix = jeopardy.columns\n",
    "print('Old \\n', cols_to_fix)\n",
    "\n",
    "cols_to_fix = cols_to_fix.str.replace(r'^ ', '', regex=True)\n",
    "print('Fixed \\n',cols_to_fix)\n",
    "\n",
    "jeopardy.columns = cols_to_fix"
   ]
  },
  {
   "cell_type": "markdown",
   "id": "e6e79f04",
   "metadata": {},
   "source": [
    "Also let's normalize strings in the `Question` and `Answer` columns. By that I mean:\n",
    "* Everyword should be in lowercase\n",
    "* No punctuation\n",
    "\n",
    "The `re` library will help us with that. But we are missing two values in the `Answer` column, so let's remove these rows first."
   ]
  },
  {
   "cell_type": "code",
   "execution_count": 4,
   "id": "e55d49bc",
   "metadata": {},
   "outputs": [
    {
     "name": "stdout",
     "output_type": "stream",
     "text": [
      "0    for the last 8 years of his life galileo was u...\n",
      "1    no 2 1912 olympian football star at carlisle i...\n",
      "2    the city of yuma in this state has a record av...\n",
      "3    in 1963 live on the art linkletter show this c...\n",
      "4    signer of the dec of indep framer of the const...\n",
      "Name: Question, dtype: object 0    copernicus\n",
      "1    jim thorpe\n",
      "2       arizona\n",
      "3     mcdonalds\n",
      "4    john adams\n",
      "Name: Answer, dtype: object\n"
     ]
    }
   ],
   "source": [
    "import re\n",
    "\n",
    "jeopardy.dropna(subset=['Answer'], inplace=True)\n",
    "\n",
    "def clean_qa(string):\n",
    "    '''\n",
    "    Take a string and return it in lowercase and\n",
    "    without any punctuation \n",
    "    '''\n",
    "    string = string.lower()\n",
    "    string = re.sub(r'[^\\w\\s]', '', string)\n",
    "    return string\n",
    "\n",
    "clean_question = jeopardy['Question'].apply(clean_qa)\n",
    "clean_answer = jeopardy['Answer'].apply(clean_qa)\n",
    "\n",
    "print(clean_question[:5], clean_answer[:5])"
   ]
  },
  {
   "cell_type": "markdown",
   "id": "0b5fdbe6",
   "metadata": {},
   "source": [
    "We also can turn `Value` column to the numeric to allow us to manipulate it easier. But we must remove **\\$** and **,** signs first.\n",
    "\n",
    "Some values are missing, we'll replace them with 0."
   ]
  },
  {
   "cell_type": "code",
   "execution_count": 20,
   "id": "f5e4c57a",
   "metadata": {},
   "outputs": [
    {
     "data": {
      "text/plain": [
       "0    200\n",
       "1    200\n",
       "2    200\n",
       "3    200\n",
       "4    200\n",
       "Name: Value, dtype: int64"
      ]
     },
     "execution_count": 20,
     "metadata": {},
     "output_type": "execute_result"
    }
   ],
   "source": [
    "def clean_value(string):\n",
    "    '''\n",
    "    Take a string, remove $ and , signs and try to covert it to int\n",
    "    \n",
    "    If can't convert return 0\n",
    "    '''\n",
    "    string = re.sub(r'[$,]', '', string)\n",
    "    \n",
    "    try:\n",
    "        string = int(string)\n",
    "    except:\n",
    "        string = 0\n",
    "        \n",
    "    return string\n",
    "\n",
    "clean_value = jeopardy['Value'].apply(clean_value)\n",
    "clean_value[:5]"
   ]
  }
 ],
 "metadata": {
  "kernelspec": {
   "display_name": "Python 3",
   "language": "python",
   "name": "python3"
  },
  "language_info": {
   "codemirror_mode": {
    "name": "ipython",
    "version": 3
   },
   "file_extension": ".py",
   "mimetype": "text/x-python",
   "name": "python",
   "nbconvert_exporter": "python",
   "pygments_lexer": "ipython3",
   "version": "3.9.7"
  },
  "toc": {
   "base_numbering": 1,
   "nav_menu": {},
   "number_sections": false,
   "sideBar": true,
   "skip_h1_title": true,
   "title_cell": "Table of Contents",
   "title_sidebar": "Contents",
   "toc_cell": false,
   "toc_position": {},
   "toc_section_display": true,
   "toc_window_display": false
  }
 },
 "nbformat": 4,
 "nbformat_minor": 5
}
