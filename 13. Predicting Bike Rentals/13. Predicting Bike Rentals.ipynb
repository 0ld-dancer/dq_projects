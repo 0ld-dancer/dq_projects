{
 "cells": [
  {
   "cell_type": "markdown",
   "id": "2cdb70a7",
   "metadata": {},
   "source": [
    "## Predicting bike rentals\n",
    "\n",
    "### Introduction\n",
    "\n",
    "Many U.S. cities have communal bike sharing stations where you can rent bicycles by the hour or day. Washington, D.C. is one of these cities. The District collects detailed data on the number of bicycles people rent by the hour and day.\n",
    "\n",
    "In this project we'll work with the data on the number of bicycles people rent by the hour in the Washington, D.C. The file contains 17380 rows, with each row representing the number of bike rentals for a single hour of a single day. You can download the data from the [University of California, Irvine's website](http://archive.ics.uci.edu/ml/datasets/Bike+Sharing+Dataset). Also there you can find more info about columns of the data set.\n",
    "\n",
    "Let's do some imports as always."
   ]
  },
  {
   "cell_type": "code",
   "execution_count": 1,
   "id": "029042e1",
   "metadata": {},
   "outputs": [],
   "source": [
    "import numpy as np\n",
    "import pandas as pd\n",
    "import matplotlib.pyplot as plt\n",
    "from sklearn.linear_model import LinearRegression\n",
    "from sklearn.tree import DecisionTreeRegressor\n",
    "from sklearn.ensemble import RandomForestRegressor\n",
    "from sklearn.metrics import mean_squared_error\n",
    "\n",
    "%matplotlib inline"
   ]
  },
  {
   "cell_type": "markdown",
   "id": "7e6a01c9",
   "metadata": {},
   "source": [
    "And take a quick look at the data."
   ]
  },
  {
   "cell_type": "code",
   "execution_count": 2,
   "id": "ef9b4cc3",
   "metadata": {},
   "outputs": [
    {
     "data": {
      "text/html": [
       "<div>\n",
       "<style scoped>\n",
       "    .dataframe tbody tr th:only-of-type {\n",
       "        vertical-align: middle;\n",
       "    }\n",
       "\n",
       "    .dataframe tbody tr th {\n",
       "        vertical-align: top;\n",
       "    }\n",
       "\n",
       "    .dataframe thead th {\n",
       "        text-align: right;\n",
       "    }\n",
       "</style>\n",
       "<table border=\"1\" class=\"dataframe\">\n",
       "  <thead>\n",
       "    <tr style=\"text-align: right;\">\n",
       "      <th></th>\n",
       "      <th>instant</th>\n",
       "      <th>dteday</th>\n",
       "      <th>season</th>\n",
       "      <th>yr</th>\n",
       "      <th>mnth</th>\n",
       "      <th>hr</th>\n",
       "      <th>holiday</th>\n",
       "      <th>weekday</th>\n",
       "      <th>workingday</th>\n",
       "      <th>weathersit</th>\n",
       "      <th>temp</th>\n",
       "      <th>atemp</th>\n",
       "      <th>hum</th>\n",
       "      <th>windspeed</th>\n",
       "      <th>casual</th>\n",
       "      <th>registered</th>\n",
       "      <th>cnt</th>\n",
       "    </tr>\n",
       "  </thead>\n",
       "  <tbody>\n",
       "    <tr>\n",
       "      <th>0</th>\n",
       "      <td>1</td>\n",
       "      <td>2011-01-01</td>\n",
       "      <td>1</td>\n",
       "      <td>0</td>\n",
       "      <td>1</td>\n",
       "      <td>0</td>\n",
       "      <td>0</td>\n",
       "      <td>6</td>\n",
       "      <td>0</td>\n",
       "      <td>1</td>\n",
       "      <td>0.24</td>\n",
       "      <td>0.2879</td>\n",
       "      <td>0.81</td>\n",
       "      <td>0.0</td>\n",
       "      <td>3</td>\n",
       "      <td>13</td>\n",
       "      <td>16</td>\n",
       "    </tr>\n",
       "    <tr>\n",
       "      <th>1</th>\n",
       "      <td>2</td>\n",
       "      <td>2011-01-01</td>\n",
       "      <td>1</td>\n",
       "      <td>0</td>\n",
       "      <td>1</td>\n",
       "      <td>1</td>\n",
       "      <td>0</td>\n",
       "      <td>6</td>\n",
       "      <td>0</td>\n",
       "      <td>1</td>\n",
       "      <td>0.22</td>\n",
       "      <td>0.2727</td>\n",
       "      <td>0.80</td>\n",
       "      <td>0.0</td>\n",
       "      <td>8</td>\n",
       "      <td>32</td>\n",
       "      <td>40</td>\n",
       "    </tr>\n",
       "    <tr>\n",
       "      <th>2</th>\n",
       "      <td>3</td>\n",
       "      <td>2011-01-01</td>\n",
       "      <td>1</td>\n",
       "      <td>0</td>\n",
       "      <td>1</td>\n",
       "      <td>2</td>\n",
       "      <td>0</td>\n",
       "      <td>6</td>\n",
       "      <td>0</td>\n",
       "      <td>1</td>\n",
       "      <td>0.22</td>\n",
       "      <td>0.2727</td>\n",
       "      <td>0.80</td>\n",
       "      <td>0.0</td>\n",
       "      <td>5</td>\n",
       "      <td>27</td>\n",
       "      <td>32</td>\n",
       "    </tr>\n",
       "    <tr>\n",
       "      <th>3</th>\n",
       "      <td>4</td>\n",
       "      <td>2011-01-01</td>\n",
       "      <td>1</td>\n",
       "      <td>0</td>\n",
       "      <td>1</td>\n",
       "      <td>3</td>\n",
       "      <td>0</td>\n",
       "      <td>6</td>\n",
       "      <td>0</td>\n",
       "      <td>1</td>\n",
       "      <td>0.24</td>\n",
       "      <td>0.2879</td>\n",
       "      <td>0.75</td>\n",
       "      <td>0.0</td>\n",
       "      <td>3</td>\n",
       "      <td>10</td>\n",
       "      <td>13</td>\n",
       "    </tr>\n",
       "    <tr>\n",
       "      <th>4</th>\n",
       "      <td>5</td>\n",
       "      <td>2011-01-01</td>\n",
       "      <td>1</td>\n",
       "      <td>0</td>\n",
       "      <td>1</td>\n",
       "      <td>4</td>\n",
       "      <td>0</td>\n",
       "      <td>6</td>\n",
       "      <td>0</td>\n",
       "      <td>1</td>\n",
       "      <td>0.24</td>\n",
       "      <td>0.2879</td>\n",
       "      <td>0.75</td>\n",
       "      <td>0.0</td>\n",
       "      <td>0</td>\n",
       "      <td>1</td>\n",
       "      <td>1</td>\n",
       "    </tr>\n",
       "  </tbody>\n",
       "</table>\n",
       "</div>"
      ],
      "text/plain": [
       "   instant     dteday  season  yr  mnth  hr  holiday  weekday  workingday  \\\n",
       "0        1 2011-01-01       1   0     1   0        0        6           0   \n",
       "1        2 2011-01-01       1   0     1   1        0        6           0   \n",
       "2        3 2011-01-01       1   0     1   2        0        6           0   \n",
       "3        4 2011-01-01       1   0     1   3        0        6           0   \n",
       "4        5 2011-01-01       1   0     1   4        0        6           0   \n",
       "\n",
       "   weathersit  temp   atemp   hum  windspeed  casual  registered  cnt  \n",
       "0           1  0.24  0.2879  0.81        0.0       3          13   16  \n",
       "1           1  0.22  0.2727  0.80        0.0       8          32   40  \n",
       "2           1  0.22  0.2727  0.80        0.0       5          27   32  \n",
       "3           1  0.24  0.2879  0.75        0.0       3          10   13  \n",
       "4           1  0.24  0.2879  0.75        0.0       0           1    1  "
      ]
     },
     "execution_count": 2,
     "metadata": {},
     "output_type": "execute_result"
    }
   ],
   "source": [
    "bike_rentals = pd.read_csv('hour.csv', parse_dates=[1])\n",
    "bike_rentals.head()"
   ]
  },
  {
   "cell_type": "markdown",
   "id": "44d7a117",
   "metadata": {},
   "source": [
    "We'll be predict `cnt` column - the total number of bike rentals (`casual` + `registered`).\n",
    "\n",
    "### Data exploration\n",
    "\n",
    "Let's explore our target a bit - male histogram."
   ]
  },
  {
   "cell_type": "code",
   "execution_count": 3,
   "id": "15bc532c",
   "metadata": {},
   "outputs": [
    {
     "data": {
      "text/plain": [
       "Text(0.5, 1.0, 'Bike rental distribution')"
      ]
     },
     "execution_count": 3,
     "metadata": {},
     "output_type": "execute_result"
    },
    {
     "data": {
      "image/png": "[encoded data removed]",
      "text/plain": [
       "<Figure size 1152x648 with 1 Axes>"
      ]
     },
     "metadata": {
      "needs_background": "light"
     },
     "output_type": "display_data"
    }
   ],
   "source": [
    "fig, ax = plt.subplots(figsize=(16,9))\n",
    "\n",
    "ax.hist(bike_rentals['cnt'], bins=np.linspace(0, 1000, 11), edgecolor='white')\n",
    "\n",
    "plt.xticks(np.linspace(0, 1000, 11), fontsize=14)\n",
    "plt.yticks(fontsize=14)\n",
    "\n",
    "ax.set_title('Bike rental distribution', fontsize=20)"
   ]
  },
  {
   "cell_type": "markdown",
   "id": "b730fb99",
   "metadata": {},
   "source": [
    "It looks like the overwhelming majority lies between **0** and **100**. It means that usually there are few bike rentals per hour but sometimes it reaches over **800**.\n",
    "\n",
    "Now let's find out what columns are correlated with the target the most. But we'll ignore some of them:\n",
    "* `casual` and `registered` because they are part of the target column\n",
    "* `instant` because it's just an index"
   ]
  },
  {
   "cell_type": "code",
   "execution_count": 4,
   "id": "4e01925e",
   "metadata": {},
   "outputs": [
    {
     "name": "stdout",
     "output_type": "stream",
     "text": [
      "['dteday', 'season', 'yr', 'mnth', 'hr', 'holiday', 'weekday', 'workingday', 'weathersit', 'temp', 'atemp', 'hum', 'windspeed', 'cnt']\n"
     ]
    }
   ],
   "source": [
    "corr_cols = bike_rentals.columns.to_list()\n",
    "del corr_cols[-3:-1]\n",
    "del corr_cols[0]\n",
    "print(corr_cols)"
   ]
  },
  {
   "cell_type": "code",
   "execution_count": 5,
   "id": "ba5ce7df",
   "metadata": {},
   "outputs": [
    {
     "data": {
      "text/plain": [
       "cnt           1.000000\n",
       "temp          0.404772\n",
       "atemp         0.400929\n",
       "hr            0.394071\n",
       "hum           0.322911\n",
       "yr            0.250495\n",
       "season        0.178056\n",
       "weathersit    0.142426\n",
       "mnth          0.120638\n",
       "windspeed     0.093234\n",
       "holiday       0.030927\n",
       "workingday    0.030284\n",
       "weekday       0.026900\n",
       "Name: cnt, dtype: float64"
      ]
     },
     "execution_count": 5,
     "metadata": {},
     "output_type": "execute_result"
    }
   ],
   "source": [
    "feature_corrs = bike_rentals[corr_cols].corr()['cnt'].abs().sort_values(ascending=False)\n",
    "feature_corrs"
   ]
  },
  {
   "cell_type": "markdown",
   "id": "9a9903ab",
   "metadata": {},
   "source": [
    "Less then half columns have significant correlation with the target. Let's take a **0.1** value as threshold so each column with higher value will be used in models."
   ]
  },
  {
   "cell_type": "code",
   "execution_count": 6,
   "id": "58e4dee5",
   "metadata": {},
   "outputs": [
    {
     "data": {
      "text/plain": [
       "Index(['cnt', 'temp', 'atemp', 'hr', 'hum', 'yr', 'season', 'weathersit',\n",
       "       'mnth'],\n",
       "      dtype='object')"
      ]
     },
     "execution_count": 6,
     "metadata": {},
     "output_type": "execute_result"
    }
   ],
   "source": [
    "usefull_features = feature_corrs[feature_corrs > 0.1].index\n",
    "usefull_features"
   ]
  },
  {
   "cell_type": "markdown",
   "id": "f84c1a50",
   "metadata": {},
   "source": [
    "### Feature engineering\n",
    "\n",
    "For now we have `hr` column that represents particular hour value. Model will threat each value differently without understanding it's meaning. But we can add some labels for **evening**, **night**, etc to clarify daytime and achieve better model accuracy."
   ]
  },
  {
   "cell_type": "code",
   "execution_count": 7,
   "id": "96275ac4",
   "metadata": {},
   "outputs": [
    {
     "data": {
      "text/plain": [
       "array([1, 2, 3, 4], dtype=int64)"
      ]
     },
     "execution_count": 7,
     "metadata": {},
     "output_type": "execute_result"
    }
   ],
   "source": [
    "def daytime(hour):\n",
    "    # 1 - night\n",
    "    # 2 - morning\n",
    "    # 3 - afternoon\n",
    "    # 4 - evening\n",
    "    if hour <= 6:\n",
    "        return 1\n",
    "    elif hour > 6 and hour <= 12:\n",
    "        return 2\n",
    "    elif hour > 18:\n",
    "        return 4\n",
    "    else:\n",
    "        return 3\n",
    "    \n",
    "bike_rentals['daytime'] = bike_rentals['hr'].apply(daytime)\n",
    "bike_rentals['daytime'].unique()"
   ]
  },
  {
   "cell_type": "markdown",
   "id": "50983831",
   "metadata": {},
   "source": [
    "Let's create a list with the usefull predictors."
   ]
  },
  {
   "cell_type": "code",
   "execution_count": 8,
   "id": "280e710a",
   "metadata": {},
   "outputs": [
    {
     "data": {
      "text/plain": [
       "['temp', 'atemp', 'hr', 'hum', 'yr', 'season', 'weathersit', 'mnth', 'daytime']"
      ]
     },
     "execution_count": 8,
     "metadata": {},
     "output_type": "execute_result"
    }
   ],
   "source": [
    "predictors = usefull_features.to_list()\n",
    "predictors.remove('cnt')\n",
    "predictors.append('daytime')\n",
    "predictors"
   ]
  },
  {
   "cell_type": "markdown",
   "id": "8a015bfb",
   "metadata": {},
   "source": [
    "### Splitting the data\n",
    "\n",
    "We'll split our data set to the train and test parts. **80%** of the rows will go to the train set - other to the test set."
   ]
  },
  {
   "cell_type": "code",
   "execution_count": 9,
   "id": "665a6931",
   "metadata": {},
   "outputs": [],
   "source": [
    "train_set = bike_rentals.sample(frac=0.8, random_state=1)\n",
    "\n",
    "test_mask = bike_rentals.index.isin(train_set.index)\n",
    "test_set = bike_rentals.loc[~test_mask]"
   ]
  },
  {
   "cell_type": "markdown",
   "id": "01136399",
   "metadata": {},
   "source": [
    "We'll use **RMSE** as error metric for following models.\n",
    "\n",
    "## Models\n",
    "In this project we will apply:\n",
    "* Linear regression\n",
    "* Decision tree\n",
    "* Random forest\n",
    "\n",
    "### Linear regression\n",
    "\n",
    "Firstly let's try old good linear regression to predict bike rentals. In this case we can't capture the non-linear features."
   ]
  },
  {
   "cell_type": "code",
   "execution_count": 10,
   "id": "cd11e7c4",
   "metadata": {},
   "outputs": [
    {
     "data": {
      "text/plain": [
       "139.9510454082042"
      ]
     },
     "execution_count": 10,
     "metadata": {},
     "output_type": "execute_result"
    }
   ],
   "source": [
    "lin_reg = LinearRegression()\n",
    "lin_reg.fit(train_set[predictors], train_set['cnt'])\n",
    "lin_predict = lin_reg.predict(test_set[predictors])\n",
    "lin_rmse = mean_squared_error(test_set['cnt'], lin_predict, squared=False)\n",
    "lin_rmse"
   ]
  },
  {
   "cell_type": "markdown",
   "id": "bdbf7bd8",
   "metadata": {},
   "source": [
    "Error is pretty high especially considering that a lot of rents values are lower then 100.\n",
    "\n",
    "### Decision tree\n",
    "\n",
    "Tree will capture non-linear features also. Let's try it."
   ]
  },
  {
   "cell_type": "code",
   "execution_count": 11,
   "id": "01791f42",
   "metadata": {},
   "outputs": [
    {
     "data": {
      "text/plain": [
       "90.55684064503053"
      ]
     },
     "execution_count": 11,
     "metadata": {},
     "output_type": "execute_result"
    }
   ],
   "source": [
    "dec_tree = DecisionTreeRegressor(min_samples_leaf=20)\n",
    "dec_tree.fit(train_set[predictors], train_set['cnt'])\n",
    "tree_predict = dec_tree.predict(test_set[predictors])\n",
    "tree_rmse = mean_squared_error(test_set['cnt'], tree_predict, squared=False)\n",
    "tree_rmse"
   ]
  },
  {
   "cell_type": "markdown",
   "id": "db92cb11",
   "metadata": {},
   "source": [
    "That's better! But we can improve this result using random forest. It will help us handle model overfitting.\n",
    "\n",
    "### Random forest"
   ]
  },
  {
   "cell_type": "code",
   "execution_count": 12,
   "id": "5594283d",
   "metadata": {},
   "outputs": [
    {
     "data": {
      "text/plain": [
       "87.53888550443388"
      ]
     },
     "execution_count": 12,
     "metadata": {},
     "output_type": "execute_result"
    }
   ],
   "source": [
    "ran_for = RandomForestRegressor(min_samples_leaf=20)\n",
    "ran_for.fit(train_set[predictors], train_set['cnt'])\n",
    "forest_predict = ran_for.predict(test_set[predictors])\n",
    "forest_rmse = mean_squared_error(test_set['cnt'], forest_predict, squared=False)\n",
    "forest_rmse"
   ]
  },
  {
   "cell_type": "markdown",
   "id": "99db670d",
   "metadata": {},
   "source": [
    "Yep, RMSE is a bit smaller this time. And we've got this without any hyperparameters optimization.\n",
    "\n",
    "## Conclusion\n",
    "\n",
    "Choosing correct algorithm is essential skill for machine learning. It can, ceteris paribus, significantly decrease model error and improve results.\n",
    "\n",
    "We've tried three different algorithms in this project:\n",
    "* linear regression - **RMSE ~ 139.95**\n",
    "* decision tree - **RMSE ~ 90.56**\n",
    "* random forest - **RMSE ~ 87.54**"
   ]
  }
 ],
 "metadata": {
  "kernelspec": {
   "display_name": "Python 3",
   "language": "python",
   "name": "python3"
  },
  "language_info": {
   "codemirror_mode": {
    "name": "ipython",
    "version": 3
   },
   "file_extension": ".py",
   "mimetype": "text/x-python",
   "name": "python",
   "nbconvert_exporter": "python",
   "pygments_lexer": "ipython3",
   "version": "3.9.5"
  },
  "toc": {
   "base_numbering": 1,
   "nav_menu": {},
   "number_sections": false,
   "sideBar": true,
   "skip_h1_title": true,
   "title_cell": "Table of Contents",
   "title_sidebar": "Contents",
   "toc_cell": false,
   "toc_position": {},
   "toc_section_display": true,
   "toc_window_display": true
  }
 },
 "nbformat": 4,
 "nbformat_minor": 5
}
