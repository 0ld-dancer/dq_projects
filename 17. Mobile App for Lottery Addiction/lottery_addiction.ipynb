{
 "cells": [
  {
   "cell_type": "markdown",
   "id": "129210d7",
   "metadata": {},
   "source": [
    "##  Mobile App for Lottery Addiction\n",
    "\n",
    "![Image](https://i.pinimg.com/originals/66/3e/e6/663ee6d5c6e6d81d8f8d6447380d91fa.png)\n",
    "\n",
    "### Introduction\n",
    "\n",
    "[Ludomania](https://en.wikipedia.org/wiki/Problem_gambling) or pathological gambling is a common disorder that is associated with both social and family costs.\n",
    "\n",
    "A medical institute that aims to prevent and treat gambling addictions wants to build a dedicated mobile app to help lottery addicts better estimate their chances of winning. We're here to help them to create the logical core of the app and calculate probabilities.\n",
    "\n",
    "We'll focus on the [6/49 lottery](https://en.wikipedia.org/wiki/Lotto_6/49) and help users to find:\n",
    "* The probability of winning the big prize with a single ticket?\n",
    "* The probability of winning the big prize if we play 40 different tickets (or any other number)?\n",
    "* The probability of having at least five (or four, or three, or two) winning numbers on a single ticket?\n",
    "\n",
    "The institute also provides us with the historical [data](https://www.kaggle.com/datascienceai/lottery-dataset/version/1). There are 3,665 drawings from the national 6/49 lottery game in Canada, dating from 1982 to 2018.\n",
    "\n",
    "### Finding the probabilities\n",
    "\n",
    "First of all let's prepare two core functions: [**factorial**](https://en.wikipedia.org/wiki/Factorial) and [**combinations**](https://en.wikipedia.org/wiki/Combination)."
   ]
  },
  {
   "cell_type": "code",
   "execution_count": 1,
   "id": "a7849b99",
   "metadata": {},
   "outputs": [],
   "source": [
    "def factorial(n):\n",
    "    '''\n",
    "    Calculate the factirial of n (n!)\n",
    "    '''\n",
    "    result = 1\n",
    "    for i in range(n, 1, -1):\n",
    "        result *= i\n",
    "        \n",
    "    return result\n",
    "\n",
    "def combinations(n, k):\n",
    "    '''\n",
    "    Calculate the number of combinations when we're sampling\n",
    "    without replacement and taking only k objects from a group\n",
    "    of n objects\n",
    "    '''\n",
    "    denominator = factorial(k) * factorial(n - k)\n",
    "    return factorial(n) / denominator"
   ]
  },
  {
   "cell_type": "markdown",
   "id": "5fac08fd",
   "metadata": {},
   "source": [
    "Now we can move on.\n",
    "\n",
    "#### One ticket\n",
    "\n",
    "We'll start with simpe function of our app - calculation the probability of winning the big prize with a single ticket.\n",
    "\n",
    "A user input six different numbers from 1 to 49, we calculate the probability under the hood and return it in some frianly way."
   ]
  },
  {
   "cell_type": "code",
   "execution_count": 24,
   "id": "53a235ce",
   "metadata": {},
   "outputs": [],
   "source": [
    "def one_ticket_probability(ticket):\n",
    "    '''\n",
    "    Calculate the probability to win using only one ticket\n",
    "    (exact numbers match)\n",
    "    \n",
    "    ticket - list\n",
    "    '''\n",
    "    k = len(ticket)\n",
    "    n = 49\n",
    "    comb = combinations(n, k)\n",
    "    prob = 1 / comb\n",
    "    print('''Your chances to win the big prize with the {} numbers\n",
    "are {:%} or 1 in {:,}.\n",
    "'''.format(ticket, prob, int(comb)))\n",
    "    return None"
   ]
  },
  {
   "cell_type": "markdown",
   "id": "78143260",
   "metadata": {},
   "source": [
    "Let's run some tests."
   ]
  },
  {
   "cell_type": "code",
   "execution_count": 25,
   "id": "75dae81b",
   "metadata": {},
   "outputs": [
    {
     "name": "stdout",
     "output_type": "stream",
     "text": [
      "Your chances to win the big prize with the [1, 2, 3, 4, 5, 6] numbers\n",
      "are 0.000007% or 1 in 13,983,816.\n",
      "\n",
      "Your chances to win the big prize with the [15, 25, 35, 45, 55, 65] numbers\n",
      "are 0.000007% or 1 in 13,983,816.\n",
      "\n"
     ]
    }
   ],
   "source": [
    "one_ticket_probability([1, 2, 3, 4, 5, 6])\n",
    "one_ticket_probability([15, 25, 35, 45, 55, 65])"
   ]
  },
  {
   "cell_type": "markdown",
   "id": "2f0f420d",
   "metadata": {},
   "source": [
    "Everything's fine, the probability is independent from the numbers. We can hope that users will notice that too.\n",
    "\n",
    "#### Historical draws\n",
    "\n",
    "Now we want give users the ability to compare their ticket against the historical lottery data and determine whether they would have ever won by now. Let's first take a look at this data."
   ]
  },
  {
   "cell_type": "code",
   "execution_count": 4,
   "id": "d7085020",
   "metadata": {},
   "outputs": [
    {
     "name": "stdout",
     "output_type": "stream",
     "text": [
      "(3665, 11)\n"
     ]
    },
    {
     "data": {
      "text/html": [
       "<div>\n",
       "<style scoped>\n",
       "    .dataframe tbody tr th:only-of-type {\n",
       "        vertical-align: middle;\n",
       "    }\n",
       "\n",
       "    .dataframe tbody tr th {\n",
       "        vertical-align: top;\n",
       "    }\n",
       "\n",
       "    .dataframe thead th {\n",
       "        text-align: right;\n",
       "    }\n",
       "</style>\n",
       "<table border=\"1\" class=\"dataframe\">\n",
       "  <thead>\n",
       "    <tr style=\"text-align: right;\">\n",
       "      <th></th>\n",
       "      <th>PRODUCT</th>\n",
       "      <th>DRAW NUMBER</th>\n",
       "      <th>SEQUENCE NUMBER</th>\n",
       "      <th>DRAW DATE</th>\n",
       "      <th>NUMBER DRAWN 1</th>\n",
       "      <th>NUMBER DRAWN 2</th>\n",
       "      <th>NUMBER DRAWN 3</th>\n",
       "      <th>NUMBER DRAWN 4</th>\n",
       "      <th>NUMBER DRAWN 5</th>\n",
       "      <th>NUMBER DRAWN 6</th>\n",
       "      <th>BONUS NUMBER</th>\n",
       "    </tr>\n",
       "  </thead>\n",
       "  <tbody>\n",
       "    <tr>\n",
       "      <th>0</th>\n",
       "      <td>649</td>\n",
       "      <td>1</td>\n",
       "      <td>0</td>\n",
       "      <td>6/12/1982</td>\n",
       "      <td>3</td>\n",
       "      <td>11</td>\n",
       "      <td>12</td>\n",
       "      <td>14</td>\n",
       "      <td>41</td>\n",
       "      <td>43</td>\n",
       "      <td>13</td>\n",
       "    </tr>\n",
       "    <tr>\n",
       "      <th>1</th>\n",
       "      <td>649</td>\n",
       "      <td>2</td>\n",
       "      <td>0</td>\n",
       "      <td>6/19/1982</td>\n",
       "      <td>8</td>\n",
       "      <td>33</td>\n",
       "      <td>36</td>\n",
       "      <td>37</td>\n",
       "      <td>39</td>\n",
       "      <td>41</td>\n",
       "      <td>9</td>\n",
       "    </tr>\n",
       "    <tr>\n",
       "      <th>2</th>\n",
       "      <td>649</td>\n",
       "      <td>3</td>\n",
       "      <td>0</td>\n",
       "      <td>6/26/1982</td>\n",
       "      <td>1</td>\n",
       "      <td>6</td>\n",
       "      <td>23</td>\n",
       "      <td>24</td>\n",
       "      <td>27</td>\n",
       "      <td>39</td>\n",
       "      <td>34</td>\n",
       "    </tr>\n",
       "    <tr>\n",
       "      <th>3</th>\n",
       "      <td>649</td>\n",
       "      <td>4</td>\n",
       "      <td>0</td>\n",
       "      <td>7/3/1982</td>\n",
       "      <td>3</td>\n",
       "      <td>9</td>\n",
       "      <td>10</td>\n",
       "      <td>13</td>\n",
       "      <td>20</td>\n",
       "      <td>43</td>\n",
       "      <td>34</td>\n",
       "    </tr>\n",
       "    <tr>\n",
       "      <th>4</th>\n",
       "      <td>649</td>\n",
       "      <td>5</td>\n",
       "      <td>0</td>\n",
       "      <td>7/10/1982</td>\n",
       "      <td>5</td>\n",
       "      <td>14</td>\n",
       "      <td>21</td>\n",
       "      <td>31</td>\n",
       "      <td>34</td>\n",
       "      <td>47</td>\n",
       "      <td>45</td>\n",
       "    </tr>\n",
       "  </tbody>\n",
       "</table>\n",
       "</div>"
      ],
      "text/plain": [
       "   PRODUCT  DRAW NUMBER  SEQUENCE NUMBER  DRAW DATE  NUMBER DRAWN 1  \\\n",
       "0      649            1                0  6/12/1982               3   \n",
       "1      649            2                0  6/19/1982               8   \n",
       "2      649            3                0  6/26/1982               1   \n",
       "3      649            4                0   7/3/1982               3   \n",
       "4      649            5                0  7/10/1982               5   \n",
       "\n",
       "   NUMBER DRAWN 2  NUMBER DRAWN 3  NUMBER DRAWN 4  NUMBER DRAWN 5  \\\n",
       "0              11              12              14              41   \n",
       "1              33              36              37              39   \n",
       "2               6              23              24              27   \n",
       "3               9              10              13              20   \n",
       "4              14              21              31              34   \n",
       "\n",
       "   NUMBER DRAWN 6  BONUS NUMBER  \n",
       "0              43            13  \n",
       "1              41             9  \n",
       "2              39            34  \n",
       "3              43            34  \n",
       "4              47            45  "
      ]
     },
     "execution_count": 4,
     "metadata": {},
     "output_type": "execute_result"
    }
   ],
   "source": [
    "import pandas as pd\n",
    "\n",
    "historical = pd.read_csv('649.csv')\n",
    "print(historical.shape)\n",
    "historical.head()"
   ]
  },
  {
   "cell_type": "markdown",
   "id": "ea8a5acf",
   "metadata": {},
   "source": [
    "Nubers are stored in six different columns. We need to combine them in something more useful - sets. Then we' store these sets in the new column."
   ]
  },
  {
   "cell_type": "code",
   "execution_count": 5,
   "id": "c3b9f0ad",
   "metadata": {},
   "outputs": [
    {
     "data": {
      "text/html": [
       "<div>\n",
       "<style scoped>\n",
       "    .dataframe tbody tr th:only-of-type {\n",
       "        vertical-align: middle;\n",
       "    }\n",
       "\n",
       "    .dataframe tbody tr th {\n",
       "        vertical-align: top;\n",
       "    }\n",
       "\n",
       "    .dataframe thead th {\n",
       "        text-align: right;\n",
       "    }\n",
       "</style>\n",
       "<table border=\"1\" class=\"dataframe\">\n",
       "  <thead>\n",
       "    <tr style=\"text-align: right;\">\n",
       "      <th></th>\n",
       "      <th>PRODUCT</th>\n",
       "      <th>DRAW NUMBER</th>\n",
       "      <th>SEQUENCE NUMBER</th>\n",
       "      <th>DRAW DATE</th>\n",
       "      <th>NUMBER DRAWN 1</th>\n",
       "      <th>NUMBER DRAWN 2</th>\n",
       "      <th>NUMBER DRAWN 3</th>\n",
       "      <th>NUMBER DRAWN 4</th>\n",
       "      <th>NUMBER DRAWN 5</th>\n",
       "      <th>NUMBER DRAWN 6</th>\n",
       "      <th>BONUS NUMBER</th>\n",
       "      <th>SETS DRAWN</th>\n",
       "    </tr>\n",
       "  </thead>\n",
       "  <tbody>\n",
       "    <tr>\n",
       "      <th>0</th>\n",
       "      <td>649</td>\n",
       "      <td>1</td>\n",
       "      <td>0</td>\n",
       "      <td>6/12/1982</td>\n",
       "      <td>3</td>\n",
       "      <td>11</td>\n",
       "      <td>12</td>\n",
       "      <td>14</td>\n",
       "      <td>41</td>\n",
       "      <td>43</td>\n",
       "      <td>13</td>\n",
       "      <td>{3, 41, 11, 12, 43, 14}</td>\n",
       "    </tr>\n",
       "    <tr>\n",
       "      <th>1</th>\n",
       "      <td>649</td>\n",
       "      <td>2</td>\n",
       "      <td>0</td>\n",
       "      <td>6/19/1982</td>\n",
       "      <td>8</td>\n",
       "      <td>33</td>\n",
       "      <td>36</td>\n",
       "      <td>37</td>\n",
       "      <td>39</td>\n",
       "      <td>41</td>\n",
       "      <td>9</td>\n",
       "      <td>{33, 36, 37, 39, 8, 41}</td>\n",
       "    </tr>\n",
       "    <tr>\n",
       "      <th>2</th>\n",
       "      <td>649</td>\n",
       "      <td>3</td>\n",
       "      <td>0</td>\n",
       "      <td>6/26/1982</td>\n",
       "      <td>1</td>\n",
       "      <td>6</td>\n",
       "      <td>23</td>\n",
       "      <td>24</td>\n",
       "      <td>27</td>\n",
       "      <td>39</td>\n",
       "      <td>34</td>\n",
       "      <td>{1, 6, 39, 23, 24, 27}</td>\n",
       "    </tr>\n",
       "    <tr>\n",
       "      <th>3</th>\n",
       "      <td>649</td>\n",
       "      <td>4</td>\n",
       "      <td>0</td>\n",
       "      <td>7/3/1982</td>\n",
       "      <td>3</td>\n",
       "      <td>9</td>\n",
       "      <td>10</td>\n",
       "      <td>13</td>\n",
       "      <td>20</td>\n",
       "      <td>43</td>\n",
       "      <td>34</td>\n",
       "      <td>{3, 9, 10, 43, 13, 20}</td>\n",
       "    </tr>\n",
       "    <tr>\n",
       "      <th>4</th>\n",
       "      <td>649</td>\n",
       "      <td>5</td>\n",
       "      <td>0</td>\n",
       "      <td>7/10/1982</td>\n",
       "      <td>5</td>\n",
       "      <td>14</td>\n",
       "      <td>21</td>\n",
       "      <td>31</td>\n",
       "      <td>34</td>\n",
       "      <td>47</td>\n",
       "      <td>45</td>\n",
       "      <td>{34, 5, 14, 47, 21, 31}</td>\n",
       "    </tr>\n",
       "  </tbody>\n",
       "</table>\n",
       "</div>"
      ],
      "text/plain": [
       "   PRODUCT  DRAW NUMBER  SEQUENCE NUMBER  DRAW DATE  NUMBER DRAWN 1  \\\n",
       "0      649            1                0  6/12/1982               3   \n",
       "1      649            2                0  6/19/1982               8   \n",
       "2      649            3                0  6/26/1982               1   \n",
       "3      649            4                0   7/3/1982               3   \n",
       "4      649            5                0  7/10/1982               5   \n",
       "\n",
       "   NUMBER DRAWN 2  NUMBER DRAWN 3  NUMBER DRAWN 4  NUMBER DRAWN 5  \\\n",
       "0              11              12              14              41   \n",
       "1              33              36              37              39   \n",
       "2               6              23              24              27   \n",
       "3               9              10              13              20   \n",
       "4              14              21              31              34   \n",
       "\n",
       "   NUMBER DRAWN 6  BONUS NUMBER               SETS DRAWN  \n",
       "0              43            13  {3, 41, 11, 12, 43, 14}  \n",
       "1              41             9  {33, 36, 37, 39, 8, 41}  \n",
       "2              39            34   {1, 6, 39, 23, 24, 27}  \n",
       "3              43            34   {3, 9, 10, 43, 13, 20}  \n",
       "4              47            45  {34, 5, 14, 47, 21, 31}  "
      ]
     },
     "execution_count": 5,
     "metadata": {},
     "output_type": "execute_result"
    }
   ],
   "source": [
    "def extract_numbers(row):\n",
    "    '''\n",
    "    Extract numbers from certain columns in the row\n",
    "    and store them as set\n",
    "    '''\n",
    "    numbers = row.iloc[4:10]\n",
    "    return set(numbers)\n",
    "\n",
    "historical['SETS DRAWN'] = historical.apply(extract_numbers, axis=1)\n",
    "historical.head()"
   ]
  },
  {
   "cell_type": "markdown",
   "id": "9607317c",
   "metadata": {},
   "source": [
    "Now we'll write a function that makes the comparison."
   ]
  },
  {
   "cell_type": "code",
   "execution_count": 6,
   "id": "7be2de20",
   "metadata": {},
   "outputs": [],
   "source": [
    "def check_historical_occurence(ticket, compare_to=historical['SETS DRAWN']):\n",
    "    '''\n",
    "    Take ticket number and compare them with the winning sets\n",
    "    Return number of wins and probability to win\n",
    "    \n",
    "    ticket - list\n",
    "    '''\n",
    "    ticket_set = set(ticket)\n",
    "    win_num = (ticket_set == compare_to).sum()\n",
    "    \n",
    "    if win_num == 1:\n",
    "        print('''The {} numbers won {:,} time.\n",
    "It doesn't change chances to win in the future.'''.format(ticket, int(win_num)))\n",
    "        one_ticket_probability(ticket)\n",
    "        \n",
    "    else:\n",
    "        print('''The {} numbers won {:,} times.\n",
    "It doesn't change chances to win in the future.'''.format(ticket, int(win_num)))\n",
    "        one_ticket_probability(ticket)\n",
    "    return None"
   ]
  },
  {
   "cell_type": "markdown",
   "id": "391d7df8",
   "metadata": {},
   "source": [
    "And some more tests."
   ]
  },
  {
   "cell_type": "code",
   "execution_count": 7,
   "id": "3f1d57c1",
   "metadata": {},
   "outputs": [
    {
     "name": "stdout",
     "output_type": "stream",
     "text": [
      "The [1, 2, 3, 4, 5, 6] numbers won 0 times.\n",
      "It doesn't change chances to win in the future.\n",
      "Your chances to win the big prize with the [1, 2, 3, 4, 5, 6] numbers\n",
      "are 0.000715% or 1 in 13,983,816.\n",
      "\n",
      "The [3, 41, 11, 12, 43, 14] numbers won 1 time.\n",
      "It doesn't change chances to win in the future.\n",
      "Your chances to win the big prize with the [3, 41, 11, 12, 43, 14] numbers\n",
      "are 0.000715% or 1 in 13,983,816.\n",
      "\n"
     ]
    }
   ],
   "source": [
    "check_historical_occurence([1, 2, 3, 4, 5, 6])\n",
    "check_historical_occurence([3, 41, 11, 12, 43, 14])"
   ]
  },
  {
   "cell_type": "markdown",
   "id": "cf4b19d5",
   "metadata": {},
   "source": [
    "#### Several tickets\n",
    "\n",
    "We've finished with the single ticket case but lottery addicts usually play more than one ticket on a single drawing. They thinks that this might increase their chances of winning significantly.\n",
    "\n",
    "Our purpose is to help them better estimate their chances of winning. So we should add ability to calculate the chances of winning for any number of different tickets."
   ]
  },
  {
   "cell_type": "code",
   "execution_count": 26,
   "id": "8e9450b1",
   "metadata": {},
   "outputs": [],
   "source": [
    "def multi_ticket_probability(num_of_ticket=1):\n",
    "    '''\n",
    "    Calculate the probability to win using any number of tickets\n",
    "    (exact numbers match)\n",
    "    \n",
    "    ticket - int\n",
    "    '''\n",
    "    k = 6\n",
    "    n = 49\n",
    "    comb = combinations(n, k)\n",
    "    prob = num_of_ticket / comb\n",
    "    if num_of_ticket == 1:\n",
    "        print('''Your chances to win the big prize with the one ticket\n",
    "are {:%} or 1 in {:,}.\n",
    "'''.format(prob, int(comb)))\n",
    "        \n",
    "    else:\n",
    "        print('''Your chances to win the big prize with the {:,} number of tickets\n",
    "are {:%} or {:,} in {:,}.\n",
    "'''.format(num_of_ticket, prob, num_of_ticket, int(comb)))\n",
    "    return None"
   ]
  },
  {
   "cell_type": "markdown",
   "id": "322b3ebb",
   "metadata": {},
   "source": [
    "Let's test our function on different numbers of tickets. Start with one end with the number's equal to the number of combinations - 13,983,816."
   ]
  },
  {
   "cell_type": "code",
   "execution_count": 27,
   "id": "760c6121",
   "metadata": {},
   "outputs": [
    {
     "name": "stdout",
     "output_type": "stream",
     "text": [
      "Your chances to win the big prize with the one ticket\n",
      "are 0.000007% or 1 in 13,983,816.\n",
      "\n",
      "Your chances to win the big prize with the 10 number of tickets\n",
      "are 0.000072% or 10 in 13,983,816.\n",
      "\n",
      "Your chances to win the big prize with the 100 number of tickets\n",
      "are 0.000715% or 100 in 13,983,816.\n",
      "\n",
      "Your chances to win the big prize with the 10,000 number of tickets\n",
      "are 0.071511% or 10,000 in 13,983,816.\n",
      "\n",
      "Your chances to win the big prize with the 1,000,000 number of tickets\n",
      "are 7.151124% or 1,000,000 in 13,983,816.\n",
      "\n",
      "Your chances to win the big prize with the 6,991,908 number of tickets\n",
      "are 50.000000% or 6,991,908 in 13,983,816.\n",
      "\n",
      "Your chances to win the big prize with the 13,983,816 number of tickets\n",
      "are 100.000000% or 13,983,816 in 13,983,816.\n",
      "\n"
     ]
    }
   ],
   "source": [
    "test_num = [1, 10, 100, 10000, 1000000, 6991908, 13983816]\n",
    "\n",
    "for number in test_num:\n",
    "    multi_ticket_probability(number)"
   ]
  },
  {
   "cell_type": "markdown",
   "id": "45c8c98b",
   "metadata": {},
   "source": [
    "Everything's exactly as planed. With the 13,983,816 number of tickets user has 100% to win.\n",
    "\n",
    "#### Small prizes\n",
    "\n",
    "In most 6/49 lotteries there are smaller prizes if a player's ticket match 2, 3, 5, or 5 of the 6 numbers drawn. So the users might be interested in knowing the probability of having less then 6 winning numbers.\n",
    "\n",
    "For that purpose we'll write another function."
   ]
  },
  {
   "cell_type": "code",
   "execution_count": 57,
   "id": "88fac95f",
   "metadata": {},
   "outputs": [],
   "source": [
    "def probability_less_6(ticket=[1,2,3,4,5,6], winning_number=5):\n",
    "    '''\n",
    "    Calculate the probability of having exactly winnning numbers\n",
    "    \n",
    "    ticket - list\n",
    "    winning_number - int between 2 and 5\n",
    "    '''\n",
    "    k = len(ticket)\n",
    "    n = 49\n",
    "    #Combinations of winning numbers (exactly win out of 6)\n",
    "    win_num_comb = combinations(k, winning_number)\n",
    "    #Combinatioans of additional numbers (6-win out of 49 except 6 out of 6)\n",
    "    add_win_comb = combinations(43, k-winning_number)\n",
    "    n_win = win_num_comb * add_win_comb\n",
    "    #Total combinatians\n",
    "    comb = combinations(n, k)\n",
    "    prob = n_win / comb\n",
    "    \n",
    "    print('''Your chances to win the small prize with the {} numbers and\n",
    "{} winning numbers are {:%} or 1 in {:,}.\n",
    "'''.format(ticket, int(winning_number), prob, round(comb/n_win)))\n",
    "    \n",
    "    return None"
   ]
  },
  {
   "cell_type": "markdown",
   "id": "cd2f6836",
   "metadata": {},
   "source": [
    "And test this function with the different winning numbers."
   ]
  },
  {
   "cell_type": "code",
   "execution_count": 58,
   "id": "86761d7e",
   "metadata": {},
   "outputs": [
    {
     "name": "stdout",
     "output_type": "stream",
     "text": [
      "Your chances to win the small prize with the [1, 2, 3, 4, 5, 6] numbers and\n",
      "2 winning numbers are 13.237803% or 1 in 8.\n",
      "\n",
      "Your chances to win the small prize with the [1, 2, 3, 4, 5, 6] numbers and\n",
      "3 winning numbers are 1.765040% or 1 in 57.\n",
      "\n",
      "Your chances to win the small prize with the [1, 2, 3, 4, 5, 6] numbers and\n",
      "4 winning numbers are 0.096862% or 1 in 1,032.\n",
      "\n",
      "Your chances to win the small prize with the [1, 2, 3, 4, 5, 6] numbers and\n",
      "5 winning numbers are 0.001845% or 1 in 54,201.\n",
      "\n"
     ]
    }
   ],
   "source": [
    "winning = [2, 3, 4, 5]\n",
    "for number in winning:\n",
    "    probability_less_6(winning_number=number)"
   ]
  },
  {
   "cell_type": "markdown",
   "id": "448b7c49",
   "metadata": {},
   "source": [
    "### Conclusion\n",
    "\n",
    "For the first version of the app, we added four main features:\n",
    "* show the probability of winning the big prize with a single ticket\n",
    "* check whether a certain combination has occurred in the Canada lottery\n",
    "* show the probability for any number of of tickets between 1 and 13,983,816\n",
    "* show the probability of having 2, 3, 4 or 5 winning numbers exactly\n",
    "\n",
    "Hope, that will help a medical institute to prevent and treat gambling addictions in the future."
   ]
  }
 ],
 "metadata": {
  "kernelspec": {
   "display_name": "Python 3",
   "language": "python",
   "name": "python3"
  },
  "language_info": {
   "codemirror_mode": {
    "name": "ipython",
    "version": 3
   },
   "file_extension": ".py",
   "mimetype": "text/x-python",
   "name": "python",
   "nbconvert_exporter": "python",
   "pygments_lexer": "ipython3",
   "version": "3.9.7"
  },
  "toc": {
   "base_numbering": 1,
   "nav_menu": {},
   "number_sections": false,
   "sideBar": true,
   "skip_h1_title": true,
   "title_cell": "Table of Contents",
   "title_sidebar": "Contents",
   "toc_cell": false,
   "toc_position": {},
   "toc_section_display": true,
   "toc_window_display": false
  }
 },
 "nbformat": 4,
 "nbformat_minor": 5
}
