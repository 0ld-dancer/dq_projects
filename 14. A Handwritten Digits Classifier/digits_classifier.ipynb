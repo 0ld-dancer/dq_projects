{
 "cells": [
  {
   "cell_type": "markdown",
   "id": "a7cd011f",
   "metadata": {},
   "source": [
    "<center><h1>Handwritten Digits Classifier</h1></center>\n",
    "\n",
    "![Image](https://cdn-images-1.medium.com/max/2400/1*LmxW8FDfXZJl5yvESvjP7Q.jpeg)\n",
    "\n",
    "In this project, we'll:\n",
    "* explore why image classification is a hard task\n",
    "* observe the limitations of traditional machine learning models for image classification\n",
    "* train, test, and improve a few different deep neural networks for image classification\n",
    "\n",
    "### Introduction\n",
    "\n",
    "The `sklearn` library has built-in function that returns the exact copy of [hand-written digits dataset](http://archive.ics.uci.edu/ml/datasets/Optical+Recognition+of+Handwritten+Digits) from UCI."
   ]
  },
  {
   "cell_type": "code",
   "execution_count": 23,
   "id": "c29eea81",
   "metadata": {},
   "outputs": [
    {
     "name": "stdout",
     "output_type": "stream",
     "text": [
      "(1797, 64)\n"
     ]
    }
   ],
   "source": [
    "from sklearn.datasets import load_digits\n",
    "digits = load_digits(as_frame=True)\n",
    "print(digits.data.shape)"
   ]
  },
  {
   "cell_type": "markdown",
   "id": "0d8985ed",
   "metadata": {},
   "source": [
    "The data set has **1797** images are represented as a row of pixel values. Since each row contain **64** values our images have **8x8** resolution.\n",
    "\n",
    "Let's display some of them using `matplotlib`."
   ]
  },
  {
   "cell_type": "code",
   "execution_count": 22,
   "id": "fae43062",
   "metadata": {},
   "outputs": [
    {
     "data": {
      "image/png": "[encoded data removed]",
      "text/plain": [
       "<Figure size 1152x648 with 8 Axes>"
      ]
     },
     "metadata": {
      "needs_background": "light"
     },
     "output_type": "display_data"
    }
   ],
   "source": [
    "import matplotlib.pyplot as plt\n",
    "%matplotlib inline\n",
    "\n",
    "fix, axs = plt.subplots(2, 4, figsize=(16,9))\n",
    "digits_df = digits.data\n",
    "bias = 0\n",
    "\n",
    "for row in range(2):\n",
    "    for col in range(4):\n",
    "        #Calculate index for each image\n",
    "        #It would be 1100 for second bottom image for exaple \n",
    "        index = col * 100 + bias\n",
    "        image = digits_df.iloc[index].values.reshape(8,8)\n",
    "        axs[row, col].imshow(image, cmap='gray_r')\n",
    "        \n",
    "    bias = 1000"
   ]
  }
 ],
 "metadata": {
  "kernelspec": {
   "display_name": "Python 3",
   "language": "python",
   "name": "python3"
  },
  "language_info": {
   "codemirror_mode": {
    "name": "ipython",
    "version": 3
   },
   "file_extension": ".py",
   "mimetype": "text/x-python",
   "name": "python",
   "nbconvert_exporter": "python",
   "pygments_lexer": "ipython3",
   "version": "3.9.5"
  },
  "toc": {
   "base_numbering": 1,
   "nav_menu": {},
   "number_sections": false,
   "sideBar": true,
   "skip_h1_title": true,
   "title_cell": "Table of Contents",
   "title_sidebar": "Contents",
   "toc_cell": false,
   "toc_position": {},
   "toc_section_display": true,
   "toc_window_display": false
  }
 },
 "nbformat": 4,
 "nbformat_minor": 5
}
