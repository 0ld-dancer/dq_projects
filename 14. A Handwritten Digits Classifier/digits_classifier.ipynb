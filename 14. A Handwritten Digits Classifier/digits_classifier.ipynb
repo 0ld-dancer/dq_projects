{
 "cells": [
  {
   "cell_type": "markdown",
   "id": "a7cd011f",
   "metadata": {},
   "source": [
    "![Image](https://cdn-images-1.medium.com/max/2400/1*LmxW8FDfXZJl5yvESvjP7Q.jpeg)\n",
    "\n",
    "<left><h1>Handwritten Digits Classifier</h1></left>\n",
    "\n",
    "In this project, we'll:\n",
    "* explore why image classification is a hard task\n",
    "* observe the limitations of traditional machine learning models for image classification\n",
    "* train, test, and improve a few different deep neural networks for image classification\n",
    "\n",
    "### Introduction\n",
    "\n",
    "The `sklearn` library has built-in function that returns the exact copy of [hand-written digits dataset](http://archive.ics.uci.edu/ml/datasets/Optical+Recognition+of+Handwritten+Digits) from UCI."
   ]
  },
  {
   "cell_type": "code",
   "execution_count": 1,
   "id": "c29eea81",
   "metadata": {
    "scrolled": true
   },
   "outputs": [
    {
     "name": "stdout",
     "output_type": "stream",
     "text": [
      "(1797, 64)\n"
     ]
    }
   ],
   "source": [
    "from sklearn.datasets import load_digits\n",
    "digits = load_digits(as_frame=True)\n",
    "print(digits.data.shape)"
   ]
  },
  {
   "cell_type": "code",
   "execution_count": 2,
   "id": "c3b66f08",
   "metadata": {},
   "outputs": [
    {
     "data": {
      "text/html": [
       "<div>\n",
       "<style scoped>\n",
       "    .dataframe tbody tr th:only-of-type {\n",
       "        vertical-align: middle;\n",
       "    }\n",
       "\n",
       "    .dataframe tbody tr th {\n",
       "        vertical-align: top;\n",
       "    }\n",
       "\n",
       "    .dataframe thead th {\n",
       "        text-align: right;\n",
       "    }\n",
       "</style>\n",
       "<table border=\"1\" class=\"dataframe\">\n",
       "  <thead>\n",
       "    <tr style=\"text-align: right;\">\n",
       "      <th></th>\n",
       "      <th>pixel_0_0</th>\n",
       "      <th>pixel_0_1</th>\n",
       "      <th>pixel_0_2</th>\n",
       "      <th>pixel_0_3</th>\n",
       "      <th>pixel_0_4</th>\n",
       "      <th>pixel_0_5</th>\n",
       "      <th>pixel_0_6</th>\n",
       "      <th>pixel_0_7</th>\n",
       "      <th>pixel_1_0</th>\n",
       "      <th>pixel_1_1</th>\n",
       "      <th>...</th>\n",
       "      <th>pixel_6_7</th>\n",
       "      <th>pixel_7_0</th>\n",
       "      <th>pixel_7_1</th>\n",
       "      <th>pixel_7_2</th>\n",
       "      <th>pixel_7_3</th>\n",
       "      <th>pixel_7_4</th>\n",
       "      <th>pixel_7_5</th>\n",
       "      <th>pixel_7_6</th>\n",
       "      <th>pixel_7_7</th>\n",
       "      <th>target</th>\n",
       "    </tr>\n",
       "  </thead>\n",
       "  <tbody>\n",
       "    <tr>\n",
       "      <th>0</th>\n",
       "      <td>0.0</td>\n",
       "      <td>0.0</td>\n",
       "      <td>5.0</td>\n",
       "      <td>13.0</td>\n",
       "      <td>9.0</td>\n",
       "      <td>1.0</td>\n",
       "      <td>0.0</td>\n",
       "      <td>0.0</td>\n",
       "      <td>0.0</td>\n",
       "      <td>0.0</td>\n",
       "      <td>...</td>\n",
       "      <td>0.0</td>\n",
       "      <td>0.0</td>\n",
       "      <td>0.0</td>\n",
       "      <td>6.0</td>\n",
       "      <td>13.0</td>\n",
       "      <td>10.0</td>\n",
       "      <td>0.0</td>\n",
       "      <td>0.0</td>\n",
       "      <td>0.0</td>\n",
       "      <td>0</td>\n",
       "    </tr>\n",
       "    <tr>\n",
       "      <th>1</th>\n",
       "      <td>0.0</td>\n",
       "      <td>0.0</td>\n",
       "      <td>0.0</td>\n",
       "      <td>12.0</td>\n",
       "      <td>13.0</td>\n",
       "      <td>5.0</td>\n",
       "      <td>0.0</td>\n",
       "      <td>0.0</td>\n",
       "      <td>0.0</td>\n",
       "      <td>0.0</td>\n",
       "      <td>...</td>\n",
       "      <td>0.0</td>\n",
       "      <td>0.0</td>\n",
       "      <td>0.0</td>\n",
       "      <td>0.0</td>\n",
       "      <td>11.0</td>\n",
       "      <td>16.0</td>\n",
       "      <td>10.0</td>\n",
       "      <td>0.0</td>\n",
       "      <td>0.0</td>\n",
       "      <td>1</td>\n",
       "    </tr>\n",
       "    <tr>\n",
       "      <th>2</th>\n",
       "      <td>0.0</td>\n",
       "      <td>0.0</td>\n",
       "      <td>0.0</td>\n",
       "      <td>4.0</td>\n",
       "      <td>15.0</td>\n",
       "      <td>12.0</td>\n",
       "      <td>0.0</td>\n",
       "      <td>0.0</td>\n",
       "      <td>0.0</td>\n",
       "      <td>0.0</td>\n",
       "      <td>...</td>\n",
       "      <td>0.0</td>\n",
       "      <td>0.0</td>\n",
       "      <td>0.0</td>\n",
       "      <td>0.0</td>\n",
       "      <td>3.0</td>\n",
       "      <td>11.0</td>\n",
       "      <td>16.0</td>\n",
       "      <td>9.0</td>\n",
       "      <td>0.0</td>\n",
       "      <td>2</td>\n",
       "    </tr>\n",
       "    <tr>\n",
       "      <th>3</th>\n",
       "      <td>0.0</td>\n",
       "      <td>0.0</td>\n",
       "      <td>7.0</td>\n",
       "      <td>15.0</td>\n",
       "      <td>13.0</td>\n",
       "      <td>1.0</td>\n",
       "      <td>0.0</td>\n",
       "      <td>0.0</td>\n",
       "      <td>0.0</td>\n",
       "      <td>8.0</td>\n",
       "      <td>...</td>\n",
       "      <td>0.0</td>\n",
       "      <td>0.0</td>\n",
       "      <td>0.0</td>\n",
       "      <td>7.0</td>\n",
       "      <td>13.0</td>\n",
       "      <td>13.0</td>\n",
       "      <td>9.0</td>\n",
       "      <td>0.0</td>\n",
       "      <td>0.0</td>\n",
       "      <td>3</td>\n",
       "    </tr>\n",
       "    <tr>\n",
       "      <th>4</th>\n",
       "      <td>0.0</td>\n",
       "      <td>0.0</td>\n",
       "      <td>0.0</td>\n",
       "      <td>1.0</td>\n",
       "      <td>11.0</td>\n",
       "      <td>0.0</td>\n",
       "      <td>0.0</td>\n",
       "      <td>0.0</td>\n",
       "      <td>0.0</td>\n",
       "      <td>0.0</td>\n",
       "      <td>...</td>\n",
       "      <td>0.0</td>\n",
       "      <td>0.0</td>\n",
       "      <td>0.0</td>\n",
       "      <td>0.0</td>\n",
       "      <td>2.0</td>\n",
       "      <td>16.0</td>\n",
       "      <td>4.0</td>\n",
       "      <td>0.0</td>\n",
       "      <td>0.0</td>\n",
       "      <td>4</td>\n",
       "    </tr>\n",
       "  </tbody>\n",
       "</table>\n",
       "<p>5 rows × 65 columns</p>\n",
       "</div>"
      ],
      "text/plain": [
       "   pixel_0_0  pixel_0_1  pixel_0_2  pixel_0_3  pixel_0_4  pixel_0_5  \\\n",
       "0        0.0        0.0        5.0       13.0        9.0        1.0   \n",
       "1        0.0        0.0        0.0       12.0       13.0        5.0   \n",
       "2        0.0        0.0        0.0        4.0       15.0       12.0   \n",
       "3        0.0        0.0        7.0       15.0       13.0        1.0   \n",
       "4        0.0        0.0        0.0        1.0       11.0        0.0   \n",
       "\n",
       "   pixel_0_6  pixel_0_7  pixel_1_0  pixel_1_1  ...  pixel_6_7  pixel_7_0  \\\n",
       "0        0.0        0.0        0.0        0.0  ...        0.0        0.0   \n",
       "1        0.0        0.0        0.0        0.0  ...        0.0        0.0   \n",
       "2        0.0        0.0        0.0        0.0  ...        0.0        0.0   \n",
       "3        0.0        0.0        0.0        8.0  ...        0.0        0.0   \n",
       "4        0.0        0.0        0.0        0.0  ...        0.0        0.0   \n",
       "\n",
       "   pixel_7_1  pixel_7_2  pixel_7_3  pixel_7_4  pixel_7_5  pixel_7_6  \\\n",
       "0        0.0        6.0       13.0       10.0        0.0        0.0   \n",
       "1        0.0        0.0       11.0       16.0       10.0        0.0   \n",
       "2        0.0        0.0        3.0       11.0       16.0        9.0   \n",
       "3        0.0        7.0       13.0       13.0        9.0        0.0   \n",
       "4        0.0        0.0        2.0       16.0        4.0        0.0   \n",
       "\n",
       "   pixel_7_7  target  \n",
       "0        0.0       0  \n",
       "1        0.0       1  \n",
       "2        0.0       2  \n",
       "3        0.0       3  \n",
       "4        0.0       4  \n",
       "\n",
       "[5 rows x 65 columns]"
      ]
     },
     "execution_count": 2,
     "metadata": {},
     "output_type": "execute_result"
    }
   ],
   "source": [
    "digits.frame.head()"
   ]
  },
  {
   "cell_type": "markdown",
   "id": "0d8985ed",
   "metadata": {},
   "source": [
    "The data set has **1797** images are represented as a row of pixel values. Since each row contain **64** values our images have **8x8** resolution.\n",
    "\n",
    "Let's display some of them using `matplotlib`."
   ]
  },
  {
   "cell_type": "code",
   "execution_count": 3,
   "id": "fae43062",
   "metadata": {},
   "outputs": [
    {
     "data": {
      "image/png": "[encoded data removed]",
      "text/plain": [
       "<Figure size 1152x648 with 8 Axes>"
      ]
     },
     "metadata": {
      "needs_background": "light"
     },
     "output_type": "display_data"
    }
   ],
   "source": [
    "import matplotlib.pyplot as plt\n",
    "import pandas as pd\n",
    "import numpy as np\n",
    "%matplotlib inline\n",
    "\n",
    "fix, axs = plt.subplots(2, 4, figsize=(16,9))\n",
    "digits_df = digits.data\n",
    "bias = 0\n",
    "\n",
    "for row in range(2):\n",
    "    for col in range(4):\n",
    "        #Calculate index for each image\n",
    "        #It would be 1100 for second bottom image for exaple \n",
    "        index = col * 100 + bias\n",
    "        image = digits_df.iloc[index].values.reshape(8,8)\n",
    "        axs[row, col].imshow(image, cmap='gray_r')\n",
    "        \n",
    "    bias = 1000"
   ]
  },
  {
   "cell_type": "markdown",
   "id": "f1358576",
   "metadata": {},
   "source": [
    "### KNN classifier\n",
    "\n",
    "Due to there is no linearity between image's pixels and an actiual digit we'll use the k-nearest neighbors algorithm here. The `KNeighborsClassifier` to be precise.\n",
    "\n",
    "Let's define a few functions and run them with **k=5** and **folds=4**."
   ]
  },
  {
   "cell_type": "code",
   "execution_count": 4,
   "id": "c9a8f974",
   "metadata": {},
   "outputs": [
    {
     "data": {
      "text/plain": [
       "0.990725350762988"
      ]
     },
     "execution_count": 4,
     "metadata": {},
     "output_type": "execute_result"
    }
   ],
   "source": [
    "from sklearn.neighbors import KNeighborsClassifier\n",
    "from sklearn.model_selection import KFold\n",
    "from sklearn.metrics import accuracy_score\n",
    "\n",
    "def train_test(train_set, test_set, k, how='train'):\n",
    "    #trains and tests k-nearest neighbors models with different k\n",
    "    \n",
    "    knn = KNeighborsClassifier(n_neighbors=k)\n",
    "    knn.fit(train_set.iloc[:, :-1], train_set['target'])\n",
    "    \n",
    "    #uses train or test sets in predict() depending on how\n",
    "    if how == 'train':\n",
    "        prediction = knn.predict(train_set.iloc[:, :-1])\n",
    "        accuracy = accuracy_score(train_set['target'], prediction)\n",
    "        return accuracy\n",
    "    \n",
    "    elif how == 'test':\n",
    "        prediction = knn.predict(test_set.iloc[:, :-1])\n",
    "        accuracy = accuracy_score(test_set['target'], prediction)\n",
    "        return accuracy\n",
    "    \n",
    "def cross_validate(data, k, how='train'):\n",
    "    #performs 4-fold cross validation using train() and test()\n",
    "    #returns overall accuracy\n",
    "    \n",
    "    kf = KFold(n_splits=4,\n",
    "              shuffle=True,\n",
    "              random_state=0)\n",
    "    \n",
    "    accuracies = []\n",
    "    \n",
    "    for train_index, test_index in kf.split(data):\n",
    "        \n",
    "        train_set = data.iloc[train_index]\n",
    "        test_set = data.iloc[test_index]\n",
    "\n",
    "        accuracy = train_test(train_set, test_set, k, how)\n",
    "        accuracies.append(accuracy)\n",
    "        \n",
    "    return np.mean(accuracies)\n",
    "\n",
    "cross_validate(digits.frame, 5)"
   ]
  },
  {
   "cell_type": "markdown",
   "id": "6b4be2c3",
   "metadata": {},
   "source": [
    "Now let's iterate number of neigbors and build a plot for computed accuracies."
   ]
  },
  {
   "cell_type": "code",
   "execution_count": 33,
   "id": "67edd9be",
   "metadata": {
    "scrolled": false
   },
   "outputs": [
    {
     "data": {
      "text/html": [
       "<div>\n",
       "<style scoped>\n",
       "    .dataframe tbody tr th:only-of-type {\n",
       "        vertical-align: middle;\n",
       "    }\n",
       "\n",
       "    .dataframe tbody tr th {\n",
       "        vertical-align: top;\n",
       "    }\n",
       "\n",
       "    .dataframe thead th {\n",
       "        text-align: right;\n",
       "    }\n",
       "</style>\n",
       "<table border=\"1\" class=\"dataframe\">\n",
       "  <thead>\n",
       "    <tr style=\"text-align: right;\">\n",
       "      <th></th>\n",
       "      <th>train</th>\n",
       "      <th>test</th>\n",
       "    </tr>\n",
       "  </thead>\n",
       "  <tbody>\n",
       "    <tr>\n",
       "      <th>1</th>\n",
       "      <td>1.0</td>\n",
       "      <td>0.986642</td>\n",
       "    </tr>\n",
       "    <tr>\n",
       "      <th>2</th>\n",
       "      <td>0.991838</td>\n",
       "      <td>0.981634</td>\n",
       "    </tr>\n",
       "    <tr>\n",
       "      <th>3</th>\n",
       "      <td>0.993322</td>\n",
       "      <td>0.984417</td>\n",
       "    </tr>\n",
       "    <tr>\n",
       "      <th>4</th>\n",
       "      <td>0.991838</td>\n",
       "      <td>0.982751</td>\n",
       "    </tr>\n",
       "    <tr>\n",
       "      <th>5</th>\n",
       "      <td>0.990725</td>\n",
       "      <td>0.982194</td>\n",
       "    </tr>\n",
       "    <tr>\n",
       "      <th>6</th>\n",
       "      <td>0.989613</td>\n",
       "      <td>0.981639</td>\n",
       "    </tr>\n",
       "    <tr>\n",
       "      <th>7</th>\n",
       "      <td>0.989984</td>\n",
       "      <td>0.982195</td>\n",
       "    </tr>\n",
       "    <tr>\n",
       "      <th>8</th>\n",
       "      <td>0.987572</td>\n",
       "      <td>0.983309</td>\n",
       "    </tr>\n",
       "    <tr>\n",
       "      <th>9</th>\n",
       "      <td>0.987943</td>\n",
       "      <td>0.983309</td>\n",
       "    </tr>\n",
       "    <tr>\n",
       "      <th>10</th>\n",
       "      <td>0.985346</td>\n",
       "      <td>0.980526</td>\n",
       "    </tr>\n",
       "    <tr>\n",
       "      <th>11</th>\n",
       "      <td>0.986088</td>\n",
       "      <td>0.977743</td>\n",
       "    </tr>\n",
       "    <tr>\n",
       "      <th>12</th>\n",
       "      <td>0.984418</td>\n",
       "      <td>0.979414</td>\n",
       "    </tr>\n",
       "    <tr>\n",
       "      <th>13</th>\n",
       "      <td>0.984975</td>\n",
       "      <td>0.976631</td>\n",
       "    </tr>\n",
       "    <tr>\n",
       "      <th>14</th>\n",
       "      <td>0.982749</td>\n",
       "      <td>0.977188</td>\n",
       "    </tr>\n",
       "    <tr>\n",
       "      <th>15</th>\n",
       "      <td>0.981451</td>\n",
       "      <td>0.976631</td>\n",
       "    </tr>\n",
       "  </tbody>\n",
       "</table>\n",
       "</div>"
      ],
      "text/plain": [
       "       train      test\n",
       "1        1.0  0.986642\n",
       "2   0.991838  0.981634\n",
       "3   0.993322  0.984417\n",
       "4   0.991838  0.982751\n",
       "5   0.990725  0.982194\n",
       "6   0.989613  0.981639\n",
       "7   0.989984  0.982195\n",
       "8   0.987572  0.983309\n",
       "9   0.987943  0.983309\n",
       "10  0.985346  0.980526\n",
       "11  0.986088  0.977743\n",
       "12  0.984418  0.979414\n",
       "13  0.984975  0.976631\n",
       "14  0.982749  0.977188\n",
       "15  0.981451  0.976631"
      ]
     },
     "execution_count": 33,
     "metadata": {},
     "output_type": "execute_result"
    }
   ],
   "source": [
    "knn_accuracies = pd.DataFrame(index=range(1,16), columns=['train', 'test'])\n",
    "\n",
    "methods = ['train', 'test']\n",
    "\n",
    "#Iterate over both methods and 15 neigbors numbers\n",
    "for how in methods:\n",
    "    for k in range(1,16):\n",
    "        accuracy = cross_validate(digits.frame, k, how)\n",
    "        knn_accuracies.loc[k, how] = accuracy\n",
    "    \n",
    "knn_accuracies"
   ]
  },
  {
   "cell_type": "code",
   "execution_count": 6,
   "id": "bb065ed1",
   "metadata": {},
   "outputs": [
    {
     "data": {
      "text/plain": [
       "<matplotlib.legend.Legend at 0x1dab62192b0>"
      ]
     },
     "execution_count": 6,
     "metadata": {},
     "output_type": "execute_result"
    },
    {
     "data": {
      "image/png": "[encoded data removed]",
      "text/plain": [
       "<Figure size 1152x648 with 1 Axes>"
      ]
     },
     "metadata": {
      "needs_background": "light"
     },
     "output_type": "display_data"
    }
   ],
   "source": [
    "fig, ax = plt.subplots(figsize=(16,9))\n",
    "\n",
    "for col in knn_accuracies.columns:\n",
    "    ax.plot(knn_accuracies[col],\n",
    "           lw=5)\n",
    "\n",
    "#decorations\n",
    "ax.set_xlim(1, 15)\n",
    "ax.set_title('Mean accuracy vs k-value', fontsize=20)\n",
    "ax.tick_params(labelsize=14)\n",
    "ax.legend(['Train accuracy', 'Test accuracy'],\n",
    "         fontsize=14)"
   ]
  },
  {
   "cell_type": "markdown",
   "id": "d684b2e8",
   "metadata": {},
   "source": [
    "It seems the best result is **0.986** with **k=1**. Increasing k-value doesn't make our predictions more accurate.\n",
    "\n",
    "Also we can observe the difference between train and test accurecies which is pretty low (less the 1.4%). There is no overfitting so.\n",
    "\n",
    "### MLP classifier\n",
    "\n",
    "There are a few downsides to using k-nearest neighbors:\n",
    "* high memory usage (for each new unseen observation, many comparisons need to be made to seen observations)\n",
    "* no model representation to debug and explore\n",
    "\n",
    "Considering this we'll try a neural network with a single hidden layer but with different number of neurons. We'll keep using cross validation with 4 folds at this try aswell."
   ]
  },
  {
   "cell_type": "code",
   "execution_count": 8,
   "id": "8e69a40e",
   "metadata": {},
   "outputs": [],
   "source": [
    "from sklearn.neural_network import MLPClassifier\n",
    "\n",
    "def mlp_cross_val(data, n, how='train'):\n",
    "    #performs 4-fold cross validation using MLPClassifier\n",
    "    #returns overall accuracy\n",
    "    \n",
    "    kf = KFold(n_splits=4,\n",
    "              shuffle=True,\n",
    "              random_state=0)\n",
    "    \n",
    "    accuracies = []\n",
    "    \n",
    "    for train_index, test_index in kf.split(data):\n",
    "        \n",
    "        train_set = data.iloc[train_index]\n",
    "        test_set = data.iloc[test_index]\n",
    "        \n",
    "        mlp_class = MLPClassifier(hidden_layer_sizes=(n,),\n",
    "                                  max_iter=1000,\n",
    "                                  learning_rate_init=0.002,\n",
    "                                 random_state=2)\n",
    "        \n",
    "        mlp_class.fit(train_set.iloc[:, :-1], train_set['target'])\n",
    "        \n",
    "        #uses train or test sets in predict() depending on how\n",
    "        if how == 'train':\n",
    "            prediction = mlp_class.predict(train_set.iloc[:, :-1])\n",
    "            accuracy = accuracy_score(train_set['target'], prediction)\n",
    "\n",
    "        elif how == 'test':\n",
    "            prediction = mlp_class.predict(test_set.iloc[:, :-1])\n",
    "            accuracy = accuracy_score(test_set['target'], prediction)\n",
    "\n",
    "        accuracies.append(accuracy)\n",
    "        \n",
    "    return np.mean(accuracies)"
   ]
  },
  {
   "cell_type": "markdown",
   "id": "b014a372",
   "metadata": {},
   "source": [
    "Now we've got `mlp_cross_val()` func, let's iterate through different neurons number."
   ]
  },
  {
   "cell_type": "code",
   "execution_count": 32,
   "id": "53f1a596",
   "metadata": {},
   "outputs": [
    {
     "data": {
      "text/html": [
       "<div>\n",
       "<style scoped>\n",
       "    .dataframe tbody tr th:only-of-type {\n",
       "        vertical-align: middle;\n",
       "    }\n",
       "\n",
       "    .dataframe tbody tr th {\n",
       "        vertical-align: top;\n",
       "    }\n",
       "\n",
       "    .dataframe thead th {\n",
       "        text-align: right;\n",
       "    }\n",
       "</style>\n",
       "<table border=\"1\" class=\"dataframe\">\n",
       "  <thead>\n",
       "    <tr style=\"text-align: right;\">\n",
       "      <th></th>\n",
       "      <th>train</th>\n",
       "      <th>test</th>\n",
       "    </tr>\n",
       "  </thead>\n",
       "  <tbody>\n",
       "    <tr>\n",
       "      <th>8</th>\n",
       "      <td>0.999629</td>\n",
       "      <td>0.944907</td>\n",
       "    </tr>\n",
       "    <tr>\n",
       "      <th>16</th>\n",
       "      <td>1.0</td>\n",
       "      <td>0.958822</td>\n",
       "    </tr>\n",
       "    <tr>\n",
       "      <th>32</th>\n",
       "      <td>1.0</td>\n",
       "      <td>0.971618</td>\n",
       "    </tr>\n",
       "    <tr>\n",
       "      <th>64</th>\n",
       "      <td>1.0</td>\n",
       "      <td>0.97496</td>\n",
       "    </tr>\n",
       "    <tr>\n",
       "      <th>128</th>\n",
       "      <td>1.0</td>\n",
       "      <td>0.97663</td>\n",
       "    </tr>\n",
       "    <tr>\n",
       "      <th>256</th>\n",
       "      <td>1.0</td>\n",
       "      <td>0.98331</td>\n",
       "    </tr>\n",
       "  </tbody>\n",
       "</table>\n",
       "</div>"
      ],
      "text/plain": [
       "        train      test\n",
       "8    0.999629  0.944907\n",
       "16        1.0  0.958822\n",
       "32        1.0  0.971618\n",
       "64        1.0   0.97496\n",
       "128       1.0   0.97663\n",
       "256       1.0   0.98331"
      ]
     },
     "execution_count": 32,
     "metadata": {},
     "output_type": "execute_result"
    }
   ],
   "source": [
    "indecies = np.around(np.geomspace(8, 256, num=6)).astype(int) #also neurons numbers\n",
    "\n",
    "neurons_accuracies = pd.DataFrame(index=indecies, columns=['train', 'test'])\n",
    "\n",
    "#Iterate over both methods and 6 neurons numbers\n",
    "for how in methods:\n",
    "    for neuron in indecies:\n",
    "        accuracy = mlp_cross_val(digits.frame, neuron, how)\n",
    "        neurons_accuracies.loc[neuron, how] = accuracy\n",
    "\n",
    "neurons_accuracies"
   ]
  },
  {
   "cell_type": "markdown",
   "id": "b1528b16",
   "metadata": {},
   "source": [
    "And now we'll build a plot."
   ]
  },
  {
   "cell_type": "code",
   "execution_count": 36,
   "id": "224bb4cd",
   "metadata": {},
   "outputs": [
    {
     "data": {
      "text/plain": [
       "<matplotlib.legend.Legend at 0x1dabae5df40>"
      ]
     },
     "execution_count": 36,
     "metadata": {},
     "output_type": "execute_result"
    },
    {
     "data": {
      "image/png": "[encoded data removed]",
      "text/plain": [
       "<Figure size 1152x648 with 1 Axes>"
      ]
     },
     "metadata": {
      "needs_background": "light"
     },
     "output_type": "display_data"
    }
   ],
   "source": [
    "fig, ax = plt.subplots(figsize=(16,9))\n",
    "\n",
    "for col in neurons_accuracies.columns:\n",
    "    ax.plot(neurons_accuracies[col],\n",
    "           lw=5)\n",
    "\n",
    "#decorations\n",
    "ax.set_xlim(8, 256)\n",
    "ax.set_title('Mean accuracy vs neurons number', fontsize=20)\n",
    "ax.tick_params(labelsize=14)\n",
    "ax.legend(['Train accuracy', 'Test accuracy'],\n",
    "         fontsize=14)"
   ]
  },
  {
   "cell_type": "markdown",
   "id": "95c0feb5",
   "metadata": {},
   "source": [
    "Our model's reached **accuracy=1** pretty fast on train set while it's far away from 1 on test set. It's an actual overfitting.\n",
    "\n",
    "## Multilayer network"
   ]
  }
 ],
 "metadata": {
  "kernelspec": {
   "display_name": "Python 3",
   "language": "python",
   "name": "python3"
  },
  "language_info": {
   "codemirror_mode": {
    "name": "ipython",
    "version": 3
   },
   "file_extension": ".py",
   "mimetype": "text/x-python",
   "name": "python",
   "nbconvert_exporter": "python",
   "pygments_lexer": "ipython3",
   "version": "3.9.5"
  },
  "toc": {
   "base_numbering": 1,
   "nav_menu": {},
   "number_sections": false,
   "sideBar": true,
   "skip_h1_title": true,
   "title_cell": "Table of Contents",
   "title_sidebar": "Contents",
   "toc_cell": false,
   "toc_position": {},
   "toc_section_display": true,
   "toc_window_display": false
  }
 },
 "nbformat": 4,
 "nbformat_minor": 5
}
