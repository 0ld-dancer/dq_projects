{
 "cells": [
  {
   "cell_type": "markdown",
   "id": "2054ddd3",
   "metadata": {},
   "source": [
    "## Finding the Best Markets to Advertise In\n",
    "\n",
    "![Image](https://www.evolmind.com/articulos/img/2018/05/guia-elearning-1024x484.jpg)\n",
    "\n",
    "### Introduction\n",
    "\n",
    "In this project we're working for an an e-learning company that offers courses on programming. Courses cove a lot of different areas like web and mobile development, data science, game development, etc. Our bosses want to invest some money in advertisement for company products. We need to find out the two best markets to advertise in.\n",
    "\n",
    "To reach our goal, fristly we need some data. Clearly we could organize surveys for different markets but this is very costly. Our best option here is to find already existing data and try to work with it. And there is one good source for that - the data from [freeCodeCamp's 2017 New Coder Survey](https://www.freecodecamp.org/news/we-asked-20-000-people-who-they-are-and-how-theyre-learning-to-code-fff5d668969/).\n",
    "\n",
    "[FreeCodeCamp](https://www.freecodecamp.org/) is another e-learning platform that offers courses on web development. But they also run a popular Medium publication, which attracts new coders with varying interests to their survey.\n",
    "\n",
    "We can download the data from this [GitHub repository](https://github.com/freeCodeCamp/2017-new-coder-survey)."
   ]
  },
  {
   "cell_type": "code",
   "execution_count": 1,
   "id": "b189d782",
   "metadata": {},
   "outputs": [
    {
     "data": {
      "text/html": [
       "<div>\n",
       "<style scoped>\n",
       "    .dataframe tbody tr th:only-of-type {\n",
       "        vertical-align: middle;\n",
       "    }\n",
       "\n",
       "    .dataframe tbody tr th {\n",
       "        vertical-align: top;\n",
       "    }\n",
       "\n",
       "    .dataframe thead th {\n",
       "        text-align: right;\n",
       "    }\n",
       "</style>\n",
       "<table border=\"1\" class=\"dataframe\">\n",
       "  <thead>\n",
       "    <tr style=\"text-align: right;\">\n",
       "      <th></th>\n",
       "      <th>Age</th>\n",
       "      <th>AttendedBootcamp</th>\n",
       "      <th>BootcampFinish</th>\n",
       "      <th>BootcampLoanYesNo</th>\n",
       "      <th>BootcampName</th>\n",
       "      <th>BootcampRecommend</th>\n",
       "      <th>ChildrenNumber</th>\n",
       "      <th>CityPopulation</th>\n",
       "      <th>CodeEventConferences</th>\n",
       "      <th>CodeEventDjangoGirls</th>\n",
       "      <th>...</th>\n",
       "      <th>YouTubeFCC</th>\n",
       "      <th>YouTubeFunFunFunction</th>\n",
       "      <th>YouTubeGoogleDev</th>\n",
       "      <th>YouTubeLearnCode</th>\n",
       "      <th>YouTubeLevelUpTuts</th>\n",
       "      <th>YouTubeMIT</th>\n",
       "      <th>YouTubeMozillaHacks</th>\n",
       "      <th>YouTubeOther</th>\n",
       "      <th>YouTubeSimplilearn</th>\n",
       "      <th>YouTubeTheNewBoston</th>\n",
       "    </tr>\n",
       "  </thead>\n",
       "  <tbody>\n",
       "    <tr>\n",
       "      <th>0</th>\n",
       "      <td>27.0</td>\n",
       "      <td>0.0</td>\n",
       "      <td>NaN</td>\n",
       "      <td>NaN</td>\n",
       "      <td>NaN</td>\n",
       "      <td>NaN</td>\n",
       "      <td>NaN</td>\n",
       "      <td>more than 1 million</td>\n",
       "      <td>NaN</td>\n",
       "      <td>NaN</td>\n",
       "      <td>...</td>\n",
       "      <td>NaN</td>\n",
       "      <td>NaN</td>\n",
       "      <td>NaN</td>\n",
       "      <td>NaN</td>\n",
       "      <td>NaN</td>\n",
       "      <td>NaN</td>\n",
       "      <td>NaN</td>\n",
       "      <td>NaN</td>\n",
       "      <td>NaN</td>\n",
       "      <td>NaN</td>\n",
       "    </tr>\n",
       "    <tr>\n",
       "      <th>1</th>\n",
       "      <td>34.0</td>\n",
       "      <td>0.0</td>\n",
       "      <td>NaN</td>\n",
       "      <td>NaN</td>\n",
       "      <td>NaN</td>\n",
       "      <td>NaN</td>\n",
       "      <td>NaN</td>\n",
       "      <td>less than 100,000</td>\n",
       "      <td>NaN</td>\n",
       "      <td>NaN</td>\n",
       "      <td>...</td>\n",
       "      <td>1.0</td>\n",
       "      <td>NaN</td>\n",
       "      <td>NaN</td>\n",
       "      <td>NaN</td>\n",
       "      <td>NaN</td>\n",
       "      <td>NaN</td>\n",
       "      <td>NaN</td>\n",
       "      <td>NaN</td>\n",
       "      <td>NaN</td>\n",
       "      <td>NaN</td>\n",
       "    </tr>\n",
       "    <tr>\n",
       "      <th>2</th>\n",
       "      <td>21.0</td>\n",
       "      <td>0.0</td>\n",
       "      <td>NaN</td>\n",
       "      <td>NaN</td>\n",
       "      <td>NaN</td>\n",
       "      <td>NaN</td>\n",
       "      <td>NaN</td>\n",
       "      <td>more than 1 million</td>\n",
       "      <td>NaN</td>\n",
       "      <td>NaN</td>\n",
       "      <td>...</td>\n",
       "      <td>NaN</td>\n",
       "      <td>NaN</td>\n",
       "      <td>NaN</td>\n",
       "      <td>1.0</td>\n",
       "      <td>1.0</td>\n",
       "      <td>NaN</td>\n",
       "      <td>NaN</td>\n",
       "      <td>NaN</td>\n",
       "      <td>NaN</td>\n",
       "      <td>NaN</td>\n",
       "    </tr>\n",
       "    <tr>\n",
       "      <th>3</th>\n",
       "      <td>26.0</td>\n",
       "      <td>0.0</td>\n",
       "      <td>NaN</td>\n",
       "      <td>NaN</td>\n",
       "      <td>NaN</td>\n",
       "      <td>NaN</td>\n",
       "      <td>NaN</td>\n",
       "      <td>between 100,000 and 1 million</td>\n",
       "      <td>NaN</td>\n",
       "      <td>NaN</td>\n",
       "      <td>...</td>\n",
       "      <td>1.0</td>\n",
       "      <td>1.0</td>\n",
       "      <td>NaN</td>\n",
       "      <td>NaN</td>\n",
       "      <td>1.0</td>\n",
       "      <td>NaN</td>\n",
       "      <td>NaN</td>\n",
       "      <td>NaN</td>\n",
       "      <td>NaN</td>\n",
       "      <td>NaN</td>\n",
       "    </tr>\n",
       "    <tr>\n",
       "      <th>4</th>\n",
       "      <td>20.0</td>\n",
       "      <td>0.0</td>\n",
       "      <td>NaN</td>\n",
       "      <td>NaN</td>\n",
       "      <td>NaN</td>\n",
       "      <td>NaN</td>\n",
       "      <td>NaN</td>\n",
       "      <td>between 100,000 and 1 million</td>\n",
       "      <td>NaN</td>\n",
       "      <td>NaN</td>\n",
       "      <td>...</td>\n",
       "      <td>NaN</td>\n",
       "      <td>NaN</td>\n",
       "      <td>NaN</td>\n",
       "      <td>NaN</td>\n",
       "      <td>NaN</td>\n",
       "      <td>NaN</td>\n",
       "      <td>NaN</td>\n",
       "      <td>NaN</td>\n",
       "      <td>NaN</td>\n",
       "      <td>NaN</td>\n",
       "    </tr>\n",
       "  </tbody>\n",
       "</table>\n",
       "<p>5 rows × 136 columns</p>\n",
       "</div>"
      ],
      "text/plain": [
       "    Age  AttendedBootcamp  BootcampFinish  BootcampLoanYesNo BootcampName  \\\n",
       "0  27.0               0.0             NaN                NaN          NaN   \n",
       "1  34.0               0.0             NaN                NaN          NaN   \n",
       "2  21.0               0.0             NaN                NaN          NaN   \n",
       "3  26.0               0.0             NaN                NaN          NaN   \n",
       "4  20.0               0.0             NaN                NaN          NaN   \n",
       "\n",
       "   BootcampRecommend  ChildrenNumber                 CityPopulation  \\\n",
       "0                NaN             NaN            more than 1 million   \n",
       "1                NaN             NaN              less than 100,000   \n",
       "2                NaN             NaN            more than 1 million   \n",
       "3                NaN             NaN  between 100,000 and 1 million   \n",
       "4                NaN             NaN  between 100,000 and 1 million   \n",
       "\n",
       "   CodeEventConferences  CodeEventDjangoGirls  ...  YouTubeFCC  \\\n",
       "0                   NaN                   NaN  ...         NaN   \n",
       "1                   NaN                   NaN  ...         1.0   \n",
       "2                   NaN                   NaN  ...         NaN   \n",
       "3                   NaN                   NaN  ...         1.0   \n",
       "4                   NaN                   NaN  ...         NaN   \n",
       "\n",
       "   YouTubeFunFunFunction  YouTubeGoogleDev  YouTubeLearnCode  \\\n",
       "0                    NaN               NaN               NaN   \n",
       "1                    NaN               NaN               NaN   \n",
       "2                    NaN               NaN               1.0   \n",
       "3                    1.0               NaN               NaN   \n",
       "4                    NaN               NaN               NaN   \n",
       "\n",
       "   YouTubeLevelUpTuts  YouTubeMIT  YouTubeMozillaHacks YouTubeOther  \\\n",
       "0                 NaN         NaN                  NaN          NaN   \n",
       "1                 NaN         NaN                  NaN          NaN   \n",
       "2                 1.0         NaN                  NaN          NaN   \n",
       "3                 1.0         NaN                  NaN          NaN   \n",
       "4                 NaN         NaN                  NaN          NaN   \n",
       "\n",
       "   YouTubeSimplilearn  YouTubeTheNewBoston  \n",
       "0                 NaN                  NaN  \n",
       "1                 NaN                  NaN  \n",
       "2                 NaN                  NaN  \n",
       "3                 NaN                  NaN  \n",
       "4                 NaN                  NaN  \n",
       "\n",
       "[5 rows x 136 columns]"
      ]
     },
     "execution_count": 1,
     "metadata": {},
     "output_type": "execute_result"
    }
   ],
   "source": [
    "import pandas as pd\n",
    "import matplotlib.pyplot as plt\n",
    "\n",
    "\n",
    "survey = pd.read_csv('2017-fCC-New-Coders-Survey-Data.csv', low_memory=False)\n",
    "survey.head()"
   ]
  },
  {
   "cell_type": "code",
   "execution_count": 2,
   "id": "67e3deca",
   "metadata": {},
   "outputs": [
    {
     "name": "stdout",
     "output_type": "stream",
     "text": [
      "<class 'pandas.core.frame.DataFrame'>\n",
      "RangeIndex: 18175 entries, 0 to 18174\n",
      "Columns: 136 entries, Age to YouTubeTheNewBoston\n",
      "dtypes: float64(105), object(31)\n",
      "memory usage: 18.9+ MB\n"
     ]
    }
   ],
   "source": [
    "survey.info()"
   ]
  },
  {
   "cell_type": "markdown",
   "id": "4cac1904",
   "metadata": {},
   "source": [
    "### Is the data representative? \n",
    "\n",
    "As we said above our company offer courses for different subjects. So we're intresting in different categories of people are represented in this survey. And `JobRoleInterest` column will help us.\n",
    "\n",
    "Let's take a look on it's structure."
   ]
  },
  {
   "cell_type": "code",
   "execution_count": 3,
   "id": "ac45056e",
   "metadata": {},
   "outputs": [
    {
     "data": {
      "text/plain": [
       "0                                                  NaN\n",
       "1                             Full-Stack Web Developer\n",
       "2      Front-End Web Developer, Back-End Web Develo...\n",
       "3      Front-End Web Developer, Full-Stack Web Deve...\n",
       "4    Full-Stack Web Developer, Information Security...\n",
       "Name: JobRoleInterest, dtype: object"
      ]
     },
     "execution_count": 3,
     "metadata": {},
     "output_type": "execute_result"
    }
   ],
   "source": [
    "survey['JobRoleInterest'].head()"
   ]
  },
  {
   "cell_type": "markdown",
   "id": "a42d1ba2",
   "metadata": {},
   "source": [
    "Every row can have both: no value at all, single or several values. Different values are separated by comma."
   ]
  },
  {
   "cell_type": "code",
   "execution_count": 4,
   "id": "a62539a8",
   "metadata": {},
   "outputs": [
    {
     "data": {
      "text/plain": [
       "NaN                          0.615296\n",
       "Full-Stack Web Developer     0.045282\n",
       "  Front-End Web Developer    0.024759\n",
       "  Data Scientist             0.008363\n",
       "Back-End Web Developer       0.007813\n",
       "Name: JobRoleInterest, dtype: float64"
      ]
     },
     "execution_count": 4,
     "metadata": {},
     "output_type": "execute_result"
    }
   ],
   "source": [
    "survey['JobRoleInterest'].value_counts(dropna=False,\n",
    "                                      normalize=True\n",
    "                                      ).head()"
   ]
  },
  {
   "cell_type": "markdown",
   "id": "156ce751",
   "metadata": {},
   "source": [
    "There is a lot of `NaN` values - about **61%**.\n",
    "\n",
    "Let's drop them and count how many single and several values are in the column."
   ]
  },
  {
   "cell_type": "code",
   "execution_count": 5,
   "id": "5217bff6",
   "metadata": {},
   "outputs": [
    {
     "data": {
      "text/plain": [
       "One        32.0\n",
       "Several    68.0\n",
       "Name: JobRoleInterest, dtype: float64"
      ]
     },
     "execution_count": 5,
     "metadata": {},
     "output_type": "execute_result"
    },
    {
     "data": {
      "image/png": "[encoded data removed]",
      "text/plain": [
       "<Figure size 648x288 with 1 Axes>"
      ]
     },
     "metadata": {
      "needs_background": "light"
     },
     "output_type": "display_data"
    }
   ],
   "source": [
    "job_role_no_nans = survey['JobRoleInterest'].dropna()\n",
    "\n",
    "roles_qty = job_role_no_nans.apply(lambda x: 'Several' if ',' in x else 'One')\n",
    "\n",
    "roles_pct = roles_qty.value_counts(normalize=True,\n",
    "                                  ascending=True) * 100\n",
    "\n",
    "def create_barh(series, title):\n",
    "    #Build a horizontal bar plot from series\n",
    "    ax = series.plot.barh(color='salmon',\n",
    "                          figsize=(9,4),\n",
    "                          fontsize=12,\n",
    "                          title=title)\n",
    "\n",
    "    for spine in ['left', 'top', 'right']:\n",
    "        ax.spines[spine].set_visible(False)\n",
    "        \n",
    "    ax.tick_params(axis='y', which='both', length=0)\n",
    "    return None\n",
    "    \n",
    "create_barh(roles_pct,\n",
    "            title='Interested in one or several jobs')\n",
    "\n",
    "round(roles_pct)"
   ]
  },
  {
   "cell_type": "markdown",
   "id": "a2404e11",
   "metadata": {},
   "source": [
    "It's clearly that most people are interested in more than one subject. And this fact is our advantage. Seems a lot of beginers don't know exactly which subject to learn. So they could decide to start a few courses at the same time.\n",
    "\n",
    "Also let's check how many people are interested in **mobile** or **web** development because our our courses focus on these subjects."
   ]
  },
  {
   "cell_type": "code",
   "execution_count": 6,
   "id": "3ab290b9",
   "metadata": {},
   "outputs": [
    {
     "data": {
      "text/plain": [
       "Other            14.0\n",
       "Mobile or Web    86.0\n",
       "Name: JobRoleInterest, dtype: float64"
      ]
     },
     "execution_count": 6,
     "metadata": {},
     "output_type": "execute_result"
    },
    {
     "data": {
      "image/png": "[encoded data removed]",
      "text/plain": [
       "<Figure size 648x288 with 1 Axes>"
      ]
     },
     "metadata": {
      "needs_background": "light"
     },
     "output_type": "display_data"
    }
   ],
   "source": [
    "mob_web_qty = job_role_no_nans.apply(lambda x: 'Mobile or Web' if ('Mobile' in x\n",
    "                                                                  ) or ('Web' in x) else 'Other')\n",
    "\n",
    "mob_web_pct = mob_web_qty.value_counts(normalize=True,\n",
    "                                       ascending=True) * 100\n",
    "\n",
    "create_barh(mob_web_pct,\n",
    "            title='Interested in mobile/web development or other')\n",
    "    \n",
    "round(mob_web_pct)"
   ]
  },
  {
   "cell_type": "code",
   "execution_count": 7,
   "id": "6279a041",
   "metadata": {},
   "outputs": [
    {
     "name": "stdout",
     "output_type": "stream",
     "text": [
      "6034 learners are interested in web and mobile development\n"
     ]
    }
   ],
   "source": [
    "total_mob_web = job_role_no_nans.str.contains('Mobile|Web').sum()\n",
    "print(total_mob_web, 'learners are interested in web and mobile development')"
   ]
  },
  {
   "cell_type": "markdown",
   "id": "c177791d",
   "metadata": {},
   "source": [
    "That's great! The majority of learners is interested in exactly our main subjects.\n",
    "\n",
    "### Time for analysis\n",
    "\n",
    "So far we've made sure that our data fits our purposes and now we can analyze it. We want to answer several questions about  new coders that are interested in the subjects we teach:\n",
    "\n",
    "* Where are these new coders located\n",
    "* What are the locations with the greatest number of new coders\n",
    "* How much money new coders are willing to spend on learning\n",
    "\n",
    "#### Locations\n",
    "\n",
    "Let's go in that order and take a look on learners locations which are stored in the `CountryLive` column. There is also the `CountryCitizen` column - country of origin for learners. But we want to work with actual info. "
   ]
  },
  {
   "cell_type": "code",
   "execution_count": 8,
   "id": "914c5bca",
   "metadata": {},
   "outputs": [
    {
     "data": {
      "text/html": [
       "<div>\n",
       "<style scoped>\n",
       "    .dataframe tbody tr th:only-of-type {\n",
       "        vertical-align: middle;\n",
       "    }\n",
       "\n",
       "    .dataframe tbody tr th {\n",
       "        vertical-align: top;\n",
       "    }\n",
       "\n",
       "    .dataframe thead th {\n",
       "        text-align: right;\n",
       "    }\n",
       "</style>\n",
       "<table border=\"1\" class=\"dataframe\">\n",
       "  <thead>\n",
       "    <tr style=\"text-align: right;\">\n",
       "      <th></th>\n",
       "      <th>Absolute number</th>\n",
       "      <th>Percentage</th>\n",
       "    </tr>\n",
       "  </thead>\n",
       "  <tbody>\n",
       "    <tr>\n",
       "      <th>United States of America</th>\n",
       "      <td>3125</td>\n",
       "      <td>46.0</td>\n",
       "    </tr>\n",
       "    <tr>\n",
       "      <th>India</th>\n",
       "      <td>528</td>\n",
       "      <td>8.0</td>\n",
       "    </tr>\n",
       "    <tr>\n",
       "      <th>United Kingdom</th>\n",
       "      <td>315</td>\n",
       "      <td>5.0</td>\n",
       "    </tr>\n",
       "    <tr>\n",
       "      <th>Canada</th>\n",
       "      <td>260</td>\n",
       "      <td>4.0</td>\n",
       "    </tr>\n",
       "    <tr>\n",
       "      <th>Poland</th>\n",
       "      <td>131</td>\n",
       "      <td>2.0</td>\n",
       "    </tr>\n",
       "  </tbody>\n",
       "</table>\n",
       "</div>"
      ],
      "text/plain": [
       "                          Absolute number  Percentage\n",
       "United States of America             3125        46.0\n",
       "India                                 528         8.0\n",
       "United Kingdom                        315         5.0\n",
       "Canada                                260         4.0\n",
       "Poland                                131         2.0"
      ]
     },
     "execution_count": 8,
     "metadata": {},
     "output_type": "execute_result"
    }
   ],
   "source": [
    "#Drop rows in the original data set without any role\n",
    "survey_no_nans = survey.dropna(subset=['JobRoleInterest']).copy()\n",
    "\n",
    "best_countries = pd.DataFrame(columns=['Absolute number', 'Percentage'])\n",
    "\n",
    "best_countries['Absolute number'] = survey_no_nans['CountryLive'].value_counts()\n",
    "best_countries['Percentage'] = round(\n",
    "    survey_no_nans['CountryLive'].value_counts(normalize=True) * 100)\n",
    "\n",
    "best_countries.head()"
   ]
  },
  {
   "cell_type": "code",
   "execution_count": 9,
   "id": "58f201bf",
   "metadata": {},
   "outputs": [
    {
     "data": {
      "image/png": "[encoded data removed]",
      "text/plain": [
       "<Figure size 648x288 with 1 Axes>"
      ]
     },
     "metadata": {
      "needs_background": "light"
     },
     "output_type": "display_data"
    }
   ],
   "source": [
    "#Save top for later\n",
    "top5_countries = best_countries.head().index.to_list()\n",
    "\n",
    "create_barh(best_countries['Absolute number'].sort_values().tail(),\n",
    "            title='Top 5 countries by learners')"
   ]
  },
  {
   "cell_type": "markdown",
   "id": "8f411864",
   "metadata": {},
   "source": [
    "On the chart above we can see clearly top 5 countries and even more. The USA is dominating - **46%** of learners are from there. **USA** is our best market for sure.\n",
    "\n",
    "But there is some problem with the second place. Even so **8%** of learners are from **India** it's not very different from the third place - **United Kingdom** with **5%**.\n",
    "\n",
    "We should explore more to become completely sure about our choice. And it's time to answer third question. \n",
    "\n",
    "#### Spending money\n",
    "\n",
    "The `MoneyForLearning` column describes the total amount of money spent by participants for their learning. But our company sells subscriptions at a price of **$59** per month.\n",
    "\n",
    "For this reason we should find out how much money each student spends per month. For that we can divide the total amount of money by number of learning month which is stored in the `MonthsProgramming` column."
   ]
  },
  {
   "cell_type": "code",
   "execution_count": 10,
   "id": "5269f57d",
   "metadata": {},
   "outputs": [
    {
     "data": {
      "text/plain": [
       "1     13.333333\n",
       "2    200.000000\n",
       "3      0.000000\n",
       "4      0.000000\n",
       "6      0.000000\n",
       "Name: MoneyPerMonth, dtype: float64"
      ]
     },
     "execution_count": 10,
     "metadata": {},
     "output_type": "execute_result"
    }
   ],
   "source": [
    "#Replace 0 month with 1 for learners that had just sturted their course\n",
    "survey_no_nans['MonthsProgramming'].replace(0, 1, inplace=True)\n",
    "\n",
    "survey_no_nans['MoneyPerMonth'] = survey_no_nans['MoneyForLearning'] / survey_no_nans['MonthsProgramming']\n",
    "survey_no_nans['MoneyPerMonth'].head()"
   ]
  },
  {
   "cell_type": "markdown",
   "id": "4c1b9fbd",
   "metadata": {},
   "source": [
    "We've avoided division by zero problem but there are null values in the new column."
   ]
  },
  {
   "cell_type": "code",
   "execution_count": 13,
   "id": "621a086f",
   "metadata": {},
   "outputs": [
    {
     "name": "stdout",
     "output_type": "stream",
     "text": [
      "675 rows with null value\n"
     ]
    }
   ],
   "source": [
    "print(survey_no_nans['MoneyPerMonth'].isnull().sum(), 'rows with null value')"
   ]
  },
  {
   "cell_type": "markdown",
   "id": "1ecb5928",
   "metadata": {},
   "source": [
    "Let's delete these rows. Also we'll delete rows that have null values in the `CountryLive` column.\n",
    "\n",
    "Then we could group the remaining data."
   ]
  },
  {
   "cell_type": "code",
   "execution_count": 22,
   "id": "d9b7f17f",
   "metadata": {},
   "outputs": [
    {
     "data": {
      "text/plain": [
       "CountryLive\n",
       "Yemen          10000.000000\n",
       "Puerto Rico     4291.394558\n",
       "Austria          936.208333\n",
       "Spain            784.553084\n",
       "Jamaica          747.037037\n",
       "                   ...     \n",
       "Honduras           0.000000\n",
       "Jordan             0.000000\n",
       "Mozambique         0.000000\n",
       "Nambia             0.000000\n",
       "Kyrgyzstan         0.000000\n",
       "Name: MoneyPerMonth, Length: 131, dtype: float64"
      ]
     },
     "execution_count": 22,
     "metadata": {},
     "output_type": "execute_result"
    }
   ],
   "source": [
    "clean_survey = survey_no_nans.dropna(\n",
    "    subset=['MoneyPerMonth', 'CountryLive']).copy()\n",
    "\n",
    "clean_survey.groupby('CountryLive').mean()['MoneyPerMonth'].sort_values(ascending=False)"
   ]
  },
  {
   "cell_type": "code",
   "execution_count": null,
   "id": "fb643db4",
   "metadata": {},
   "outputs": [],
   "source": []
  }
 ],
 "metadata": {
  "kernelspec": {
   "display_name": "Python 3",
   "language": "python",
   "name": "python3"
  },
  "language_info": {
   "codemirror_mode": {
    "name": "ipython",
    "version": 3
   },
   "file_extension": ".py",
   "mimetype": "text/x-python",
   "name": "python",
   "nbconvert_exporter": "python",
   "pygments_lexer": "ipython3",
   "version": "3.9.7"
  },
  "toc": {
   "base_numbering": 1,
   "nav_menu": {},
   "number_sections": false,
   "sideBar": true,
   "skip_h1_title": true,
   "title_cell": "Table of Contents",
   "title_sidebar": "Contents",
   "toc_cell": false,
   "toc_position": {},
   "toc_section_display": true,
   "toc_window_display": false
  }
 },
 "nbformat": 4,
 "nbformat_minor": 5
}
