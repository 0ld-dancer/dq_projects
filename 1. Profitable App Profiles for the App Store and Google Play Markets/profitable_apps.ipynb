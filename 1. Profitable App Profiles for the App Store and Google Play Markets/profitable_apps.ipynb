{
 "cells": [
  {
   "cell_type": "markdown",
   "metadata": {},
   "source": [
    "# Анализ приложений в AppStore и GooglePlay\n",
    "---\n",
    "В данном проекте мы притворяемся аналитоком в компании, которая занимается созданием бесплатных приложений. Мы поможем ей определить какими должны быть эти приложения, чтобы они могли приносить наибольшую прибыль.\n",
    "\n",
    "Для этого проанализируем уже существующие приложения в **AppStore** и **GooglePlay**.\n",
    "    \n",
    "#### Наборы данных\n",
    "\n",
    "В этом проект мы воспользуемся уже готовыми наборами данных:\n",
    " - Для [AppStore](https://www.kaggle.com/lava18/google-play-store-apps) от августа 2018\n",
    " - Для [GooglePlay](https://www.kaggle.com/ramamet4/app-store-apple-data-set-10k-apps) от июля 2017\n",
    "    \n",
    "Создадим функцию `save_as_list` для преобразования этих данных во вложенные списки    "
   ]
  },
  {
   "cell_type": "code",
   "execution_count": 1,
   "metadata": {},
   "outputs": [],
   "source": [
    "def save_as_list(dataset):\n",
    "    opened_dataset = open(dataset)\n",
    "    from csv import reader \n",
    "    read_dataset = reader(opened_dataset)\n",
    "    dataset_as_list = list(read_dataset)\n",
    "    return dataset_as_list"
   ]
  },
  {
   "cell_type": "markdown",
   "metadata": {},
   "source": [
    "Преобразуем наборы данных"
   ]
  },
  {
   "cell_type": "code",
   "execution_count": 2,
   "metadata": {},
   "outputs": [],
   "source": [
    "appstore_data = save_as_list('AppleStore.csv')\n",
    "googleplay_data = save_as_list('googleplaystore.csv')"
   ]
  },
  {
   "cell_type": "markdown",
   "metadata": {},
   "source": [
    "Задаём исследовательскую функцию `explore_data`, для первичного анализа"
   ]
  },
  {
   "cell_type": "code",
   "execution_count": 3,
   "metadata": {},
   "outputs": [],
   "source": [
    "def explore_data(dataset, start, end, rows_and_columns=False):\n",
    "    dataset_slice = dataset[start:end]\n",
    "    for row in dataset_slice:\n",
    "        print(row, '\\n')\n",
    "    if rows_and_columns:\n",
    "        print('Количесво строк: ', len(dataset))\n",
    "        print('Количество столбцов: ', len(dataset[0]))    "
   ]
  },
  {
   "cell_type": "markdown",
   "metadata": {},
   "source": [
    "Применим функцию `explore_data` к нашим данным"
   ]
  },
  {
   "cell_type": "code",
   "execution_count": 4,
   "metadata": {},
   "outputs": [
    {
     "name": "stdout",
     "output_type": "stream",
     "text": [
      "['284882215', 'Facebook', '389879808', 'USD', '0.0', '2974676', '212', '3.5', '3.5', '95.0', '4+', 'Social Networking', '37', '1', '29', '1'] \n",
      "\n",
      "['389801252', 'Instagram', '113954816', 'USD', '0.0', '2161558', '1289', '4.5', '4.0', '10.23', '12+', 'Photo & Video', '37', '0', '29', '1'] \n",
      "\n",
      "['529479190', 'Clash of Clans', '116476928', 'USD', '0.0', '2130805', '579', '4.5', '4.5', '9.24.12', '9+', 'Games', '38', '5', '18', '1'] \n",
      "\n",
      "['420009108', 'Temple Run', '65921024', 'USD', '0.0', '1724546', '3842', '4.5', '4.0', '1.6.2', '9+', 'Games', '40', '5', '1', '1'] \n",
      "\n",
      "['284035177', 'Pandora - Music & Radio', '130242560', 'USD', '0.0', '1126879', '3594', '4.0', '4.5', '8.4.1', '12+', 'Music', '37', '4', '1', '1'] \n",
      "\n",
      "Количесво строк:  7197\n",
      "Количество столбцов:  16\n"
     ]
    }
   ],
   "source": [
    "explore_data(appstore_data[1:], 0, 5, True)"
   ]
  },
  {
   "cell_type": "code",
   "execution_count": 5,
   "metadata": {},
   "outputs": [
    {
     "name": "stdout",
     "output_type": "stream",
     "text": [
      "['Photo Editor & Candy Camera & Grid & ScrapBook', 'ART_AND_DESIGN', '4.1', '159', '19M', '10,000+', 'Free', '0', 'Everyone', 'Art & Design', 'January 7, 2018', '1.0.0', '4.0.3 and up'] \n",
      "\n",
      "['Coloring book moana', 'ART_AND_DESIGN', '3.9', '967', '14M', '500,000+', 'Free', '0', 'Everyone', 'Art & Design;Pretend Play', 'January 15, 2018', '2.0.0', '4.0.3 and up'] \n",
      "\n",
      "['U Launcher Lite – FREE Live Cool Themes, Hide Apps', 'ART_AND_DESIGN', '4.7', '87510', '8.7M', '5,000,000+', 'Free', '0', 'Everyone', 'Art & Design', 'August 1, 2018', '1.2.4', '4.0.3 and up'] \n",
      "\n",
      "['Sketch - Draw & Paint', 'ART_AND_DESIGN', '4.5', '215644', '25M', '50,000,000+', 'Free', '0', 'Teen', 'Art & Design', 'June 8, 2018', 'Varies with device', '4.2 and up'] \n",
      "\n",
      "['Pixel Draw - Number Art Coloring Book', 'ART_AND_DESIGN', '4.3', '967', '2.8M', '100,000+', 'Free', '0', 'Everyone', 'Art & Design;Creativity', 'June 20, 2018', '1.1', '4.4 and up'] \n",
      "\n",
      "Количесво строк:  10841\n",
      "Количество столбцов:  13\n"
     ]
    }
   ],
   "source": [
    "explore_data(googleplay_data[1:], 0, 5, True)"
   ]
  },
  {
   "cell_type": "markdown",
   "metadata": {},
   "source": [
    "Отдельно выведем названия всех столбцов для обоих датасетов"
   ]
  },
  {
   "cell_type": "code",
   "execution_count": 6,
   "metadata": {},
   "outputs": [
    {
     "name": "stdout",
     "output_type": "stream",
     "text": [
      "['id', 'track_name', 'size_bytes', 'currency', 'price', 'rating_count_tot', 'rating_count_ver', 'user_rating', 'user_rating_ver', 'ver', 'cont_rating', 'prime_genre', 'sup_devices.num', 'ipadSc_urls.num', 'lang.num', 'vpp_lic'] \n",
      "\n",
      "['App', 'Category', 'Rating', 'Reviews', 'Size', 'Installs', 'Type', 'Price', 'Content Rating', 'Genres', 'Last Updated', 'Current Ver', 'Android Ver']\n"
     ]
    }
   ],
   "source": [
    "print(appstore_data[0], '\\n')\n",
    "print(googleplay_data[0])"
   ]
  },
  {
   "cell_type": "markdown",
   "metadata": {},
   "source": [
    "#### Обработка данных\n",
    "Наша компания занимается только **бесплатными** приложения, поэтому мы уберём все платные из наших данных. Также мы оставим только приложения на **английском языке**, так как мы нацелены на англоговорящую аудиторию.\n",
    "\n",
    "Но предже всего найдём ошибки в данных."
   ]
  },
  {
   "cell_type": "code",
   "execution_count": 7,
   "metadata": {},
   "outputs": [
    {
     "name": "stdout",
     "output_type": "stream",
     "text": [
      "['Life Made WI-Fi Touchscreen Photo Frame', '1.9', '19', '3.0M', '1,000+', 'Free', '0', 'Everyone', '', 'February 11, 2018', '1.0.19', '4.0 and up'] 12\n"
     ]
    }
   ],
   "source": [
    "print(googleplay_data[10473], len(googleplay_data[10473]))"
   ]
  },
  {
   "cell_type": "markdown",
   "metadata": {},
   "source": [
    "В данной строке не хватает одного значения, мы её удалим."
   ]
  },
  {
   "cell_type": "code",
   "execution_count": 8,
   "metadata": {},
   "outputs": [],
   "source": [
    "del googleplay_data[10473] #Закомментили после единичного удаления, чтобы случайно не удалить нужные данные"
   ]
  },
  {
   "cell_type": "markdown",
   "metadata": {},
   "source": [
    "Также необходимо проверить есть в списках повторяющиеся приложения. Для этого создадим функцию `duplicate_and_unique_app`."
   ]
  },
  {
   "cell_type": "code",
   "execution_count": 9,
   "metadata": {},
   "outputs": [],
   "source": [
    "def duplicate_and_unique_app(data, column):\n",
    "    unique_app=[]\n",
    "    duplicate_app=[]\n",
    "    for row in data:\n",
    "        if row[column] in unique_app:\n",
    "            duplicate_app.append(row[column])\n",
    "        else:\n",
    "            unique_app.append(row[column])\n",
    "    print('Количесвтво повторяющихся строк:', len(duplicate_app))\n",
    "    return unique_app, duplicate_app"
   ]
  },
  {
   "cell_type": "markdown",
   "metadata": {},
   "source": [
    "Проверим данные из **GooglePlay**:"
   ]
  },
  {
   "cell_type": "code",
   "execution_count": 10,
   "metadata": {},
   "outputs": [
    {
     "name": "stdout",
     "output_type": "stream",
     "text": [
      "Количесвтво повторяющихся строк: 1181\n"
     ]
    }
   ],
   "source": [
    "unique_google, duplicate_google = duplicate_and_unique_app(googleplay_data, 0)"
   ]
  },
  {
   "cell_type": "markdown",
   "metadata": {},
   "source": [
    "Из **AppStore**:"
   ]
  },
  {
   "cell_type": "code",
   "execution_count": 11,
   "metadata": {},
   "outputs": [
    {
     "name": "stdout",
     "output_type": "stream",
     "text": [
      "Количесвтво повторяющихся строк: 2\n"
     ]
    }
   ],
   "source": [
    "unique_apple, duplicate_apple = duplicate_and_unique_app(appstore_data, 1)"
   ]
  },
  {
   "cell_type": "markdown",
   "metadata": {},
   "source": [
    "Давайте подробнее рассмотрим какое-то одно повторяющееся приложение. В качестве примера возьмём самое частотное."
   ]
  },
  {
   "cell_type": "code",
   "execution_count": 12,
   "metadata": {},
   "outputs": [
    {
     "name": "stdout",
     "output_type": "stream",
     "text": [
      "ROBLOX \n",
      "\n",
      "['ROBLOX', 'GAME', '4.5', '4447388', '67M', '100,000,000+', 'Free', '0', 'Everyone 10+', 'Adventure;Action & Adventure', 'July 31, 2018', '2.347.225742', '4.1 and up'] \n",
      "\n",
      "['ROBLOX', 'GAME', '4.5', '4447346', '67M', '100,000,000+', 'Free', '0', 'Everyone 10+', 'Adventure;Action & Adventure', 'July 31, 2018', '2.347.225742', '4.1 and up'] \n",
      "\n",
      "['ROBLOX', 'GAME', '4.5', '4448791', '67M', '100,000,000+', 'Free', '0', 'Everyone 10+', 'Adventure;Action & Adventure', 'July 31, 2018', '2.347.225742', '4.1 and up'] \n",
      "\n",
      "['ROBLOX', 'GAME', '4.5', '4449882', '67M', '100,000,000+', 'Free', '0', 'Everyone 10+', 'Adventure;Action & Adventure', 'July 31, 2018', '2.347.225742', '4.1 and up'] \n",
      "\n",
      "['ROBLOX', 'GAME', '4.5', '4449910', '67M', '100,000,000+', 'Free', '0', 'Everyone 10+', 'Adventure;Action & Adventure', 'July 31, 2018', '2.347.225742', '4.1 and up'] \n",
      "\n",
      "['ROBLOX', 'FAMILY', '4.5', '4449910', '67M', '100,000,000+', 'Free', '0', 'Everyone 10+', 'Adventure;Action & Adventure', 'July 31, 2018', '2.347.225742', '4.1 and up'] \n",
      "\n",
      "['ROBLOX', 'FAMILY', '4.5', '4450855', '67M', '100,000,000+', 'Free', '0', 'Everyone 10+', 'Adventure;Action & Adventure', 'July 31, 2018', '2.347.225742', '4.1 and up'] \n",
      "\n",
      "['ROBLOX', 'FAMILY', '4.5', '4450890', '67M', '100,000,000+', 'Free', '0', 'Everyone 10+', 'Adventure;Action & Adventure', 'July 31, 2018', '2.347.225742', '4.1 and up'] \n",
      "\n",
      "['ROBLOX', 'FAMILY', '4.5', '4443407', '67M', '100,000,000+', 'Free', '0', 'Everyone 10+', 'Adventure;Action & Adventure', 'July 31, 2018', '2.347.225742', '4.1 and up'] \n",
      "\n"
     ]
    }
   ],
   "source": [
    "freq_dupl = {}\n",
    "for app in duplicate_google:\n",
    "    if app in freq_dupl:\n",
    "        freq_dupl[app] += 1\n",
    "    else:\n",
    "        freq_dupl[app] = 1\n",
    "max_freq_value = max(freq_dupl, key=lambda x: freq_dupl[x])        \n",
    "print(max_freq_value, '\\n')\n",
    "for app in googleplay_data:\n",
    "    if app[0] == max_freq_value:\n",
    "        print(app, '\\n')"
   ]
  },
  {
   "cell_type": "markdown",
   "metadata": {},
   "source": [
    "Самый частотным оказалось приложение **\"Roblox\"**. Как можно заметить, единственное различие в записях - разное количество отзывов.\n",
    "\n",
    "Можно предположить, что запись с наибольим количество отзывов самая актуальная. Соотвественно можно воспользовать этим для удаления повторяющихся записей.\n",
    "> Критерий отбора - количество отзывов\n",
    "\n",
    "Создадим функцию `app_reviews` для создания пар приложение - кол-во отзывов, исключая повторы"
   ]
  },
  {
   "cell_type": "code",
   "execution_count": 13,
   "metadata": {},
   "outputs": [],
   "source": [
    "def app_reviews(dataset, column_1, column_2):\n",
    "    max_reviews = {}\n",
    "    for row in dataset[1:]:\n",
    "        name = row[column_1]\n",
    "        qty_reviews = float(row[column_2])\n",
    "        if name not in max_reviews:\n",
    "            max_reviews[name] = qty_reviews\n",
    "        else:\n",
    "            if max_reviews[name] < qty_reviews:\n",
    "                max_reviews[name] = qty_reviews\n",
    "    return max_reviews  "
   ]
  },
  {
   "cell_type": "markdown",
   "metadata": {},
   "source": [
    "Применим `apps_reviews` к обоим наборам данных и произведём небольшую проверку."
   ]
  },
  {
   "cell_type": "code",
   "execution_count": 14,
   "metadata": {},
   "outputs": [
    {
     "name": "stdout",
     "output_type": "stream",
     "text": [
      "7195 9659\n",
      "4450890.0\n"
     ]
    }
   ],
   "source": [
    "apple_max_reviews = app_reviews(appstore_data, 1, 5)\n",
    "google_max_reviews = app_reviews(googleplay_data, 0, 3)\n",
    "print(len(apple_max_reviews), len(google_max_reviews))\n",
    "print(google_max_reviews['ROBLOX'])"
   ]
  },
  {
   "cell_type": "markdown",
   "metadata": {},
   "source": [
    "Теперь применим полученные словари `apple_max_reviews` и `google_max_reviews` для того, чтобы избавиться от повторяющихся данных в наших датасетах."
   ]
  },
  {
   "cell_type": "code",
   "execution_count": 15,
   "metadata": {},
   "outputs": [
    {
     "name": "stdout",
     "output_type": "stream",
     "text": [
      "7195 9659\n"
     ]
    }
   ],
   "source": [
    "def clean_apps(dataset, reviews_dictionary, column_1, column_2):\n",
    "    cleaned_apps_list = []\n",
    "    added_app = []\n",
    "    for row in dataset[1:]:\n",
    "        name = row[column_1]\n",
    "        qty_reviews = float(row[column_2])\n",
    "        if (qty_reviews == reviews_dictionary[name]) and (name not in added_app):\n",
    "            cleaned_apps_list.append(row)\n",
    "            added_app.append(name)\n",
    "    return cleaned_apps_list\n",
    "\n",
    "apple_cleaned = clean_apps(appstore_data, apple_max_reviews, 1, 5)\n",
    "google_cleaned = clean_apps(googleplay_data, google_max_reviews, 0, 3)\n",
    "\n",
    "print(len(apple_cleaned), len(google_cleaned))"
   ]
  },
  {
   "cell_type": "markdown",
   "metadata": {},
   "source": [
    "После того как мы избавились от повторяющихся данных можно приступить к отсеяванию приложений не на английском языке.\n",
    "\n",
    "Для этого воспользуемся кодировкой [ASCII](https://ru.wikipedia.org/wiki/ASCII), в которой каждому символу соотвествует определнное число.\n",
    "\n",
    "Согласно ей все латинские буквы, цифры, а также знаки препинания и некоторые другие символы (%, $ и тд) соотвествуют числам от 0 до 127 включительно.\n",
    "\n",
    "![image](https://upload.wikimedia.org/wikipedia/commons/thumb/4/4f/ASCII_Code_Chart.svg/2560px-ASCII_Code_Chart.svg.png)\n",
    "\n",
    "Вопользуемся этим, а также встроенной функцией `ord()`"
   ]
  },
  {
   "cell_type": "code",
   "execution_count": 16,
   "metadata": {},
   "outputs": [
    {
     "data": {
      "text/plain": [
       "True"
      ]
     },
     "execution_count": 16,
     "metadata": {},
     "output_type": "execute_result"
    }
   ],
   "source": [
    "def non_english_app(row, name_column):\n",
    "    non_eng_symbols = 0\n",
    "    for symbol in row[name_column]:\n",
    "        if ord(symbol) > 127:\n",
    "            non_eng_symbols += 1\n",
    "        #print(non_eng_symbols)\n",
    "    return non_eng_symbols <= 3\n",
    "\n",
    "            \n",
    "test_list = [['爱奇艺PPS -《欢乐颂2》电视剧热播'],\n",
    "            ['爱奇艺PPS -'],\n",
    "            ['Docs To Go™ Free Office Suite'],\n",
    "            ['Instachat 😜']]    \n",
    "non_english_app(test_list[1], 0)"
   ]
  },
  {
   "cell_type": "markdown",
   "metadata": {},
   "source": [
    "Применим только заданную функцию `non_english_app`, чтобы получить списки только с англ. приложениями. Также получим списки с оставшимися приложения для самопроверки."
   ]
  },
  {
   "cell_type": "code",
   "execution_count": 17,
   "metadata": {},
   "outputs": [
    {
     "name": "stdout",
     "output_type": "stream",
     "text": [
      "6181 9614\n",
      "[['445375097', '爱奇艺PPS -《欢乐颂2》电视剧热播', '224617472', 'USD', '0.0', '14844', '0', '4.0', '0.0', '6.3.3', '17+', 'Entertainment', '38', '5', '3', '1'], ['405667771', '聚力视频HD-人民的名义,跨界歌王全网热播', '90725376', 'USD', '0.0', '7446', '8', '4.0', '4.5', '5.0.8', '12+', 'Entertainment', '24', '4', '1', '1'], ['336141475', '优酷视频', '204959744', 'USD', '0.0', '4885', '0', '3.5', '0.0', '6.7.0', '12+', 'Entertainment', '38', '0', '2', '1'], ['425349261', '网易新闻 - 精选好内容，算出你的兴趣', '133134336', 'USD', '0.0', '4263', '6', '4.5', '1.0', '23.2', '17+', 'News', '37', '4', '2', '1'], ['387682726', '淘宝 - 随时随地，想淘就淘', '309673984', 'USD', '0.0', '3801', '6', '4.0', '4.0', '6.7.2', '4+', 'Shopping', '37', '1', '1', '1']]\n"
     ]
    }
   ],
   "source": [
    "def keep_eng_only(dataset, name_column):\n",
    "    only_eng_list = []\n",
    "    only_non_eng_list = []\n",
    "    for row in dataset:\n",
    "        if non_english_app(row, name_column) == True:\n",
    "            only_eng_list.append(row)\n",
    "        else:\n",
    "            only_non_eng_list.append(row)\n",
    "    return only_eng_list, only_non_eng_list\n",
    "\n",
    "apple_eng_only, apple_non_eng_list = keep_eng_only(apple_cleaned, 1)\n",
    "google_eng_only, google_non_eng_list = keep_eng_only(google_cleaned, 0)\n",
    "\n",
    "print(len(apple_eng_only), len(google_eng_only))\n",
    "print(apple_non_eng_list[:5])"
   ]
  },
  {
   "cell_type": "markdown",
   "metadata": {},
   "source": [
    "Тепеь у нас есть два списка только с приложениями на английском языке для обоих маркетов: `apple_eng_only` и `google_eng_only`.\n",
    "\n",
    "Теперь оставим только бесплатные приложения, с помощью нами заданной функции `free_only`."
   ]
  },
  {
   "cell_type": "code",
   "execution_count": 18,
   "metadata": {},
   "outputs": [
    {
     "name": "stdout",
     "output_type": "stream",
     "text": [
      "3220 8863\n"
     ]
    }
   ],
   "source": [
    "def free_only(dataset, price_column, free_price_value):\n",
    "    free_only_list = []\n",
    "    for row in dataset:\n",
    "        if row[price_column] == free_price_value:\n",
    "            free_only_list.append(row)\n",
    "    return free_only_list\n",
    "\n",
    "apple_free_apps = free_only(apple_eng_only, 4, '0.0')\n",
    "google_free_apps = free_only(google_eng_only, 6, 'Free')\n",
    "\n",
    "print(len(apple_free_apps), len(google_free_apps))"
   ]
  },
  {
   "cell_type": "markdown",
   "metadata": {},
   "source": [
    "В результате всех процедур по подготовке данных у нас остались:\n",
    " - 3220 релевантных записи для **AppStore**\n",
    " - 8863 релевантных записи для **GooglePlay**\n",
    " \n",
    "#### Анализ данных \n",
    "\n",
    "Наша компания имеет следущую стратегию по реализации приложений:\n",
    "- Разработать простейшую версию приложения для **Android** и добавить его в **GooglePlay**\n",
    "- Развивать его дальше при положительных отзывах пользователей\n",
    "- После полугода, в течение которых приложение бы приносило прибыль, разработать версию приложения для **iOS** и добавить его в **AppStore**\n",
    "\n",
    "Давайте надйдём в каких категориях самые популярные приложения. Создадим функию `pop_genres` и применем к подготовленным выше датасетам."
   ]
  },
  {
   "cell_type": "code",
   "execution_count": 19,
   "metadata": {},
   "outputs": [
    {
     "name": "stdout",
     "output_type": "stream",
     "text": [
      "AppStore genres \n",
      "\n",
      "Social Networking :  106 \n",
      "\n",
      "Photo & Video :  160 \n",
      "\n",
      "Games :  1872 \n",
      "\n",
      "Music :  66 \n",
      "\n",
      "Reference :  18 \n",
      "\n",
      "Health & Fitness :  65 \n",
      "\n",
      "Weather :  28 \n",
      "\n",
      "Utilities :  81 \n",
      "\n",
      "Travel :  40 \n",
      "\n",
      "Shopping :  84 \n",
      "\n",
      "News :  43 \n",
      "\n",
      "Navigation :  6 \n",
      "\n",
      "Lifestyle :  51 \n",
      "\n",
      "Entertainment :  254 \n",
      "\n",
      "Food & Drink :  26 \n",
      "\n",
      "Sports :  69 \n",
      "\n",
      "Book :  14 \n",
      "\n",
      "Finance :  36 \n",
      "\n",
      "Education :  118 \n",
      "\n",
      "Productivity :  56 \n",
      "\n",
      "Business :  17 \n",
      "\n",
      "Catalogs :  4 \n",
      "\n",
      "Medical :  6 \n",
      "\n"
     ]
    }
   ],
   "source": [
    "def pop_genres(dataset, genre_column, reviews_column):\n",
    "    pop_genres_dict = {}\n",
    "    pop_genres_reviews_count = {}\n",
    "    for row in dataset:\n",
    "        genre = row[genre_column]\n",
    "        reviews = float(row[reviews_column])\n",
    "        if genre not in pop_genres_dict:\n",
    "            pop_genres_dict[genre] = 1\n",
    "        else:\n",
    "            pop_genres_dict[genre] += 1\n",
    "            \n",
    "        if genre not in pop_genres_reviews_count:\n",
    "            pop_genres_reviews_count[genre] = reviews\n",
    "        else:\n",
    "            pop_genres_reviews_count[genre] += reviews     \n",
    "    return pop_genres_dict, pop_genres_reviews_count\n",
    "\n",
    "freq_genre_apple, reviews_count_apple = pop_genres(apple_free_apps, 11, 5)\n",
    "freq_category_google, reviews_count_category_google = pop_genres(google_free_apps, 1, 3)\n",
    "\n",
    "freq_genre_google, reviews_count_genre_google = pop_genres(google_free_apps, 9, 3)\n",
    "\n",
    "print('AppStore genres', '\\n')\n",
    "for note in freq_genre_apple:\n",
    "    print(note, ': ', freq_genre_apple[note], '\\n')\n",
    "\n",
    "#print('GooglePlay genres', '\\n')\n",
    "#for note in freq_genre_google:\n",
    "#    print(note, ': ', freq_genre_google[note], '\\n')"
   ]
  },
  {
   "cell_type": "markdown",
   "metadata": {},
   "source": [
    "Мы получили количества приложений каждого жанра для обоих площадок, а также количество отзывов на приложения каждого жанра. Причём для GooglePlay мы получили данные по двум столбцам: **\"Category\"** и **\"Genre\"**.\n",
    "\n",
    "Чтобы проще было воспринимать эти данные, давайте приведём их к более удобному виду: отсоритруем и переведём в доли. Для этого задаёс функцию `sort_freq_table`."
   ]
  },
  {
   "cell_type": "code",
   "execution_count": 20,
   "metadata": {},
   "outputs": [],
   "source": [
    "def sort_freq_table(freq_table):\n",
    "    table_value_key = []\n",
    "    table_sum = 0 #Задаём эту переменную сугубо для случая с кол-вом обзоров, сумма приложений нам и так известна\n",
    "    for key in freq_table:\n",
    "        table_sum += freq_table[key]\n",
    "    for key in freq_table:\n",
    "        as_tuple = ((freq_table[key] / table_sum), key)\n",
    "        table_value_key.append(as_tuple)\n",
    "    sort_freq_table = sorted(table_value_key, reverse=True)    \n",
    "    return sort_freq_table"
   ]
  },
  {
   "cell_type": "markdown",
   "metadata": {},
   "source": [
    "Применем заданную функцию поочередно ко всем нашим данным. Начнём с **AppStore**, столбец **\"prime_genre\"**."
   ]
  },
  {
   "cell_type": "code",
   "execution_count": 21,
   "metadata": {},
   "outputs": [
    {
     "name": "stdout",
     "output_type": "stream",
     "text": [
      "Топ 5 популярных жанров:\n",
      "Games : 58.14%\n",
      "Entertainment : 7.89%\n",
      "Photo & Video : 4.97%\n",
      "Education : 3.66%\n",
      "Social Networking : 3.29%\n"
     ]
    }
   ],
   "source": [
    "sort_freq_apple = sort_freq_table(freq_genre_apple)\n",
    "\n",
    "print('Топ 5 популярных жанров:')\n",
    "for row in sort_freq_apple[:5]:\n",
    "    print(row[1], ': {:.2%}'.format(row[0]))"
   ]
  },
  {
   "cell_type": "code",
   "execution_count": 22,
   "metadata": {},
   "outputs": [
    {
     "name": "stdout",
     "output_type": "stream",
     "text": [
      "Топ 5 жанров с наибольшим кол-вом отзывов:\n",
      "Games 53.39%\n",
      "Social Networking 9.48%\n",
      "Photo & Video 5.69%\n",
      "Music 4.73%\n",
      "Entertainment 4.46%\n"
     ]
    }
   ],
   "source": [
    "sort_freq_apple_reviews = sort_freq_table(reviews_count_apple)\n",
    "\n",
    "print('Топ 5 жанров с наибольшим кол-вом отзывов:')\n",
    "for row in sort_freq_apple_reviews[:5]:\n",
    "    print(row[1], '{:.2%}'.format(row[0]))"
   ]
  },
  {
   "cell_type": "markdown",
   "metadata": {},
   "source": [
    "Теперь для **GooglePlay**, для столбца **\"Category\"**."
   ]
  },
  {
   "cell_type": "code",
   "execution_count": 23,
   "metadata": {},
   "outputs": [
    {
     "name": "stdout",
     "output_type": "stream",
     "text": [
      "Топ 5 по категориям:\n",
      "FAMILY 18.90%\n",
      "GAME 9.73%\n",
      "TOOLS 8.46%\n",
      "BUSINESS 4.59%\n",
      "LIFESTYLE 3.90%\n"
     ]
    }
   ],
   "source": [
    "sort_freq_cat_google = sort_freq_table(freq_category_google)\n",
    "\n",
    "print('Топ 5 по категориям:')\n",
    "for row in sort_freq_cat_google[:5]:\n",
    "    print(row[1], '{:.2%}'.format(row[0]))"
   ]
  },
  {
   "cell_type": "code",
   "execution_count": 24,
   "metadata": {},
   "outputs": [
    {
     "name": "stdout",
     "output_type": "stream",
     "text": [
      "Топ 5 по категориям и кол-ву отзывов:\n",
      "GAME 28.23%\n",
      "COMMUNICATION 13.69%\n",
      "TOOLS 10.99%\n",
      "SOCIAL 10.92%\n",
      "FAMILY 9.09%\n"
     ]
    }
   ],
   "source": [
    "sort_freq_cat_review_google = sort_freq_table(reviews_count_category_google)\n",
    "\n",
    "print('Топ 5 по категориям и кол-ву отзывов:')\n",
    "for row in sort_freq_cat_review_google[:5]:\n",
    "    print(row[1], '{:.2%}'.format(row[0]))"
   ]
  },
  {
   "cell_type": "markdown",
   "metadata": {},
   "source": [
    "И последнее - **GooglePlay**, столбец **\"Genres\"**."
   ]
  },
  {
   "cell_type": "code",
   "execution_count": 25,
   "metadata": {},
   "outputs": [
    {
     "name": "stdout",
     "output_type": "stream",
     "text": [
      "Топ 5 по жанрам:\n",
      "Tools 8.45%\n",
      "Entertainment 6.07%\n",
      "Education 5.35%\n",
      "Business 4.59%\n",
      "Productivity 3.89%\n"
     ]
    }
   ],
   "source": [
    "sort_freq_genre_google = sort_freq_table(freq_genre_google)\n",
    "\n",
    "print('Топ 5 по жанрам:')\n",
    "for row in sort_freq_genre_google[:5]:\n",
    "    print(row[1], '{:.2%}'.format(row[0]))"
   ]
  },
  {
   "cell_type": "code",
   "execution_count": 26,
   "metadata": {},
   "outputs": [
    {
     "name": "stdout",
     "output_type": "stream",
     "text": [
      "Топ 5 по жанрам и кол-ву отзывов:\n",
      "Communication 13.69%\n",
      "Tools 10.97%\n",
      "Social 10.92%\n",
      "Action 7.18%\n",
      "Casual 6.26%\n"
     ]
    }
   ],
   "source": [
    "sort_freq_genre_review_google = sort_freq_table(reviews_count_genre_google)\n",
    "\n",
    "print('Топ 5 по жанрам и кол-ву отзывов:')\n",
    "for row in sort_freq_genre_review_google[:5]:\n",
    "    print(row[1], '{:.2%}'.format(row[0]))"
   ]
  },
  {
   "cell_type": "markdown",
   "metadata": {},
   "source": [
    "По полученным данным для **AppStore** сразу заметно, что с более чем пятикратным преимуществом лидирует жанр **\"Games\"** как по количеству самих приложений, так и по количеству отзывов. **58.14%** и **53.36%** соответственно.\n",
    "\n",
    "С данными по **GogglePlay** несколько сложнее. Явный лидер по категориям - **\"FAMILY\"** с **18,9%**. В эту категорию, на мой взгляд могут попадать совершенно разные приложения. По кол-ву отзывов категория **\"FAMILY\"** на пятом месте с **9,09%**.\n",
    "\n",
    "На втором месте идёт категория **\"GAMES\"** с **9,73%**, она же лидирует по кол-ву отзывов с **28.23%**.\n",
    "\n",
    "Также с играми можно соотнести некотоhые данные по столбцу **\"Genres\"**. В топ 5 по отзывам там присутствуют **\"Casual\"** и **\"Action\"**, что является играми. К категории **\"FAMILY\"** можно причислить любой жанр из топ-5.\n",
    "\n",
    "Можно сделать предварительный вывод о необходимости разрабатывать игру, подходящую для семейного использользования.\n",
    "\n",
    "Чтобый получить дополнитлеьные сведения, давайте обратимся к столбцу **\"Installs\"** - кол-во установок. В датасете количество задано не конкретным число а интервалом, например **100,000+**. Точного кол-ва мы всё равно не узнаем, поэтому давайте примем за него нижнюю границу интервала => **100,000+ = 100000**.\n",
    "\n",
    "Модернизируем нашу функцию `pop_genres` в `pop_genres_2`."
   ]
  },
  {
   "cell_type": "code",
   "execution_count": 27,
   "metadata": {},
   "outputs": [],
   "source": [
    "def pop_genres_2(dataset, genre_column, installs_column):\n",
    "    #pop_genres_dict = {}\n",
    "    pop_genres_installs_count = {}\n",
    "    for row in dataset:\n",
    "        genre = row[genre_column]\n",
    "        temp_installs = row[installs_column].replace(',', '')\n",
    "        installs = float(temp_installs.replace('+', ''))\n",
    "           \n",
    "        if genre not in pop_genres_installs_count:\n",
    "            pop_genres_installs_count[genre] = installs\n",
    "        else:\n",
    "            pop_genres_installs_count[genre] += installs     \n",
    "    return pop_genres_installs_count"
   ]
  },
  {
   "cell_type": "markdown",
   "metadata": {},
   "source": [
    "Теперь примененим её на датасет вместе с сортирующей функциуй `sort_freq_table`."
   ]
  },
  {
   "cell_type": "code",
   "execution_count": 28,
   "metadata": {},
   "outputs": [
    {
     "name": "stdout",
     "output_type": "stream",
     "text": [
      "Топ 5 категорий с наибольшим числом установок:\n",
      "GAME 17.86%\n",
      "COMMUNICATION 14.67%\n",
      "TOOLS 10.77%\n",
      "FAMILY 8.23%\n",
      "PRODUCTIVITY 7.70%\n"
     ]
    }
   ],
   "source": [
    "installs_count_category_google = pop_genres_2(google_free_apps, 1, 5)\n",
    "\n",
    "sort_installs_count_category_google = sort_freq_table(installs_count_category_google)\n",
    "\n",
    "print('Топ 5 категорий с наибольшим числом установок:')\n",
    "for row in sort_installs_count_category_google[:5]:\n",
    "    print(row[1], '{:.2%}'.format(row[0]))"
   ]
  },
  {
   "cell_type": "markdown",
   "metadata": {},
   "source": [
    "По кол-ву установок явно лидирует категория **\"Games\"** с **17,86%**.\n",
    "\n",
    "Соотвественно у нас получанется следующее:\n",
    " - Более половины всех отзывов в **AppStore** относятся к играм (**53.36%**)\n",
    " - Более половины всех приложений в **AppStore** - игры (**58.14%**)\n",
    " - Больше всех установленных приложений в **GooglePlay** - игры (**17.86%**)\n",
    " - Больше всего отзывов на  приложения в **GooglePlay** - на игры (**28.23%**)\n",
    " \n",
    "Кажется, что сделать игру - это наилучший вариант. Больше всего  установок и отзывов могут наводить на эту мысль. Но такие результаты обусловлены большим кол-вом самих игр в магазинах. Давайте посмотрим сколько отзывов или установок приходится на одно приложение по жанрам."
   ]
  },
  {
   "cell_type": "code",
   "execution_count": 29,
   "metadata": {},
   "outputs": [
    {
     "name": "stdout",
     "output_type": "stream",
     "text": [
      "Navigation :86090.3\n",
      "Reference :74942.1\n",
      "Social Networking :71548.3\n",
      "Music :57326.5\n",
      "Weather :52279.9\n",
      "Book :39758.5\n",
      "Food & Drink :33333.9\n",
      "Finance :31467.9\n",
      "Photo & Video :28441.5\n",
      "Travel :28243.8\n",
      "Shopping :26919.7\n",
      "Health & Fitness :23298.0\n",
      "Sports :23008.9\n",
      "Games :22812.9\n",
      "News :21248.0\n",
      "Productivity :21028.4\n",
      "Utilities :18684.5\n",
      "Lifestyle :16485.8\n",
      "Entertainment :14029.8\n",
      "Business :7491.12\n",
      "Education :7003.98\n",
      "Catalogs :4004.0\n",
      "Medical :612.0\n"
     ]
    }
   ],
   "source": [
    "def avg_reviews(genre_data, reviews_data):\n",
    "    avg_table = {}\n",
    "    presort_avg_table = []\n",
    "    for key in genre_data:\n",
    "        avg_table[key] = reviews_data[key] / genre_data[key]\n",
    "    for key in avg_table:\n",
    "        as_tuple = (avg_table[key], key)\n",
    "        presort_avg_table.append(as_tuple)\n",
    "    sort_avg_table = sorted(presort_avg_table, reverse=True)    \n",
    "    return sort_avg_table    \n",
    "\n",
    "avg_reviews_apple = avg_reviews(freq_genre_apple, reviews_count_apple)\n",
    "\n",
    "for row in avg_reviews_apple:\n",
    "    print(row[1], ':{:.6}'.format(row[0]))"
   ]
  },
  {
   "cell_type": "code",
   "execution_count": 30,
   "metadata": {},
   "outputs": [
    {
     "name": "stdout",
     "output_type": "stream",
     "text": [
      "COMMUNICATION :995608.5\n",
      "SOCIAL :965831.0\n",
      "GAME :683523.8\n",
      "VIDEO_PLAYERS :425350.1\n",
      "PHOTOGRAPHY :404081.4\n",
      "TOOLS :305732.9\n",
      "ENTERTAINMENT :301752.2\n",
      "SHOPPING :223887.3\n",
      "PERSONALIZATION :181122.3\n",
      "WEATHER :171250.8\n",
      "PRODUCTIVITY :160634.5\n",
      "MAPS_AND_NAVIGATION :142860.0\n",
      "TRAVEL_AND_LOCAL :129484.4\n",
      "SPORTS :116938.6\n",
      "FAMILY :113210.5\n",
      "NEWS_AND_MAGAZINES :93088.03\n",
      "BOOKS_AND_REFERENCE :87995.07\n",
      "HEALTH_AND_FITNESS :78094.97\n",
      "FOOD_AND_DRINK :57478.79\n",
      "EDUCATION :56293.1\n",
      "COMICS :42585.62\n",
      "FINANCE :38535.9\n",
      "LIFESTYLE :33921.82\n",
      "HOUSE_AND_HOME :26435.47\n",
      "ART_AND_DESIGN :24699.42\n",
      "BUSINESS :24239.73\n",
      "DATING :21953.27\n",
      "PARENTING :16378.71\n",
      "AUTO_AND_VEHICLES :14140.28\n",
      "LIBRARIES_AND_DEMO :10925.81\n",
      "BEAUTY :7476.226\n",
      "MEDICAL :3730.153\n",
      "EVENTS :2555.841\n"
     ]
    }
   ],
   "source": [
    "avg_reviews_google = avg_reviews(freq_category_google, reviews_count_category_google)\n",
    "    \n",
    "for row in avg_reviews_google:\n",
    "    print(row[1], ':{:.7}'.format(row[0]))"
   ]
  },
  {
   "cell_type": "code",
   "execution_count": 31,
   "metadata": {},
   "outputs": [
    {
     "name": "stdout",
     "output_type": "stream",
     "text": [
      "COMMUNICATION :38456119.2\n",
      "VIDEO_PLAYERS :24727872.5\n",
      "SOCIAL :23253652.1\n",
      "PHOTOGRAPHY :17840110.4\n",
      "PRODUCTIVITY :16787331.3\n",
      "GAME :15588015.6\n",
      "TRAVEL_AND_LOCAL :13984077.7\n",
      "ENTERTAINMENT :11640705.9\n",
      "TOOLS :10801391.3\n",
      "NEWS_AND_MAGAZINES :9549178.47\n",
      "BOOKS_AND_REFERENCE :8767811.89\n",
      "SHOPPING :7036877.31\n",
      "PERSONALIZATION :5201482.61\n",
      "WEATHER :5074486.2\n",
      "HEALTH_AND_FITNESS :4188821.99\n",
      "MAPS_AND_NAVIGATION :4056941.77\n",
      "FAMILY :3697848.17\n",
      "SPORTS :3638640.14\n",
      "ART_AND_DESIGN :1986335.09\n",
      "FOOD_AND_DRINK :1924897.74\n",
      "EDUCATION :1833495.15\n",
      "BUSINESS :1712290.15\n",
      "LIFESTYLE :1437816.27\n",
      "FINANCE :1387692.48\n",
      "HOUSE_AND_HOME :1331540.56\n",
      "DATING :854028.83\n",
      "COMICS :817657.273\n",
      "AUTO_AND_VEHICLES :647317.817\n",
      "LIBRARIES_AND_DEMO :638503.735\n",
      "PARENTING :542603.621\n",
      "BEAUTY :513151.887\n",
      "EVENTS :253542.222\n",
      "MEDICAL :120550.62\n"
     ]
    }
   ],
   "source": [
    "avg_inst_google = avg_reviews(freq_category_google, installs_count_category_google)\n",
    "    \n",
    "for row in avg_inst_google:\n",
    "    print(row[1], ':{:.9}'.format(row[0]))"
   ]
  },
  {
   "cell_type": "markdown",
   "metadata": {},
   "source": [
    "По среднему кол-ву отзывов и установок игры не лидируют и нам следует обратить внимание на другие жанры. При этом надо не забывать, что в некоторых категориях есть приложения-монстры, которые генерируют большую часть данных. Например, в **'SOCIAL'**."
   ]
  },
  {
   "cell_type": "code",
   "execution_count": 47,
   "metadata": {},
   "outputs": [
    {
     "name": "stdout",
     "output_type": "stream",
     "text": [
      "Tumblr 100,000,000+\n",
      "Pinterest 100,000,000+\n",
      "Badoo - Free Chat & Dating App 100,000,000+\n",
      "Tango - Live Video Broadcast 100,000,000+\n",
      "LinkedIn 100,000,000+\n",
      "Tik Tok - including musical.ly 100,000,000+\n",
      "BIGO LIVE - Live Stream 100,000,000+\n",
      "VK 100,000,000+\n"
     ]
    }
   ],
   "source": [
    "for row in google_free_apps:\n",
    "    if row[1] == 'SOCIAL' and row[5] == '100,000,000+':\n",
    "        print(row[0], row[5])  "
   ]
  },
  {
   "cell_type": "code",
   "execution_count": 45,
   "metadata": {},
   "outputs": [
    {
     "name": "stdout",
     "output_type": "stream",
     "text": [
      "Facebook 2974676\n",
      "Pinterest 1061624\n",
      "Skype for iPhone 373519\n",
      "Messenger 351466\n",
      "Tumblr 334293\n",
      "WhatsApp Messenger 287589\n",
      "Kik 260965\n",
      "ooVoo – Free Video Call, Text and Voice 177501\n",
      "TextNow - Unlimited Text + Calls 164963\n",
      "Viber Messenger – Text & Call 164249\n",
      "Followers - Social Analytics For Instagram 112778\n"
     ]
    }
   ],
   "source": [
    "for row in apple_free_apps:\n",
    "    if row[11] == 'Social Networking' and float(row[5]) > 100000:\n",
    "        print(row[1], row[5]) "
   ]
  },
  {
   "cell_type": "markdown",
   "metadata": {},
   "source": [
    "Это необходимо учесть и выбрать категорию, в которой наше приложение не останется незамеченным на фоне гигантов. Просмотрев несколько категорий, остановимся на приложениях для фотографий."
   ]
  },
  {
   "cell_type": "code",
   "execution_count": 32,
   "metadata": {},
   "outputs": [
    {
     "name": "stdout",
     "output_type": "stream",
     "text": [
      "TouchNote: Cards & Gifts 1,000,000+\n",
      "FreePrints – Free Photos Delivered 1,000,000+\n",
      "Groovebook Photo Books & Gifts 500,000+\n",
      "Moony Lab - Print Photos, Books & Magnets ™ 50,000+\n",
      "LALALAB prints your photos, photobooks and magnets 1,000,000+\n",
      "Snapfish 1,000,000+\n",
      "Motorola Camera 50,000,000+\n",
      "HD Camera - Best Cam with filters & panorama 5,000,000+\n",
      "LightX Photo Editor & Photo Effects 10,000,000+\n",
      "Sweet Snap - live filter, Selfie photo edit 10,000,000+\n",
      "HD Camera - Quick Snap Photo & Video 1,000,000+\n",
      "B612 - Beauty & Filter Camera 100,000,000+\n",
      "Waterfall Photo Frames 1,000,000+\n",
      "Photo frame 100,000+\n",
      "Huji Cam 5,000,000+\n",
      "Unicorn Photo 1,000,000+\n",
      "HD Camera 5,000,000+\n",
      "Makeup Editor -Beauty Photo Editor & Selfie Camera 1,000,000+\n",
      "Makeup Photo Editor: Makeup Camera & Makeup Editor 1,000,000+\n",
      "Moto Photo Editor 5,000,000+\n",
      "InstaBeauty -Makeup Selfie Cam 50,000,000+\n",
      "Garden Photo Frames - Garden Photo Editor 500,000+\n",
      "Photo Frame 10,000,000+\n",
      "Selfie Camera - Photo Editor & Filter & Sticker 50,000,000+\n",
      "Sweet Snap Lite - live filter, Selfie photo editor 500,000+\n",
      "Selfie Camera: Beauty Camera, Photo Editor,Collage 1,000,000+\n",
      "Night Photo Frame 1,000,000+\n",
      "YouCam Makeup - Magic Selfie Makeovers 100,000,000+\n",
      "Selfie Photo Editor 1,000,000+\n",
      "ASUS Gallery 50,000,000+\n",
      "Kids Photo Frames 1,000,000+\n",
      "Pencil Photo Sketch-Sketching Drawing Photo Editor 1,000,000+\n",
      "Pretty Makeup, Beauty Photo Editor & Snappy Camera 5,000,000+\n",
      "Photo Collage - Layout Editor 10,000,000+\n",
      "DSLR Camera Hd Ultra Professional 1,000,000+\n",
      "Snap Cat Face Camera 1,000,000+\n",
      "Silent Camera [High Quality] 5,000,000+\n",
      "Sweet Camera - Selfie Filters, Beauty Camera 10,000,000+\n",
      "Photo Frames 10,000,000+\n",
      "Sweet Selfie - selfie camera, beauty cam, photo edit 100,000,000+\n",
      "Candy selfie - photo editor, live filter camera 10,000,000+\n",
      "Open Camera 10,000,000+\n",
      "Beauty Makeup – Photo Makeover 1,000,000+\n",
      "Blur Image Background Editor (Blur Photo Editor) 5,000,000+\n",
      "Muzy - Share photos & collages 5,000,000+\n",
      "QuickPic - Photo Gallery with Google Drive Support 10,000,000+\n",
      "Flickr 10,000,000+\n",
      "Camera for Android 10,000,000+\n",
      "Photo Mixer 10,000,000+\n",
      "Wondershare PowerCam 10,000,000+\n",
      "love 1,000,000+\n",
      "KVAD Camera +: Selfie, Photo Filter, Grids 1,000,000+\n",
      "Camera51 - a smarter camera 1,000,000+\n",
      "InstaCam - Camera for Selfie 1,000,000+\n",
      "Sweet Camera 5,000,000+\n",
      "RetroSelfie - Selfie Editor 10,000,000+\n",
      "Mega Photo 1,000,000+\n",
      "Blur Image Background 10,000,000+\n",
      "MIX by Camera360 5,000,000+\n",
      "Google Photos 1,000,000,000+\n",
      "SuperPhoto - Effects & Filters 5,000,000+\n",
      "Camera FV-5 Lite 10,000,000+\n",
      "HD Camera Ultra 10,000,000+\n",
      "Cameringo Lite. Filters Camera 10,000,000+\n",
      "Camera ZOOM FX - FREE 5,000,000+\n",
      "HD Camera Pro for Android 1,000,000+\n",
      "GoPro (formerly Capture) 10,000,000+\n",
      "Beauty Makeup Snappy Collage Photo Editor - Lidow 10,000,000+\n",
      "Samsung SMART CAMERA App 1,000,000+\n",
      "Square InPic - Photo Editor & Collage Maker 50,000,000+\n",
      "High-Speed Camera (GIF,Burst) 5,000,000+\n",
      "Camera MX - Free Photo & Video Camera 10,000,000+\n",
      "EyeEm - Camera & Photo Filter 10,000,000+\n",
      "Retrica 100,000,000+\n",
      "VSCO 50,000,000+\n",
      "PhotoWonder: Pro Beauty Photo Editor Collage Maker 50,000,000+\n",
      "Photo Effects Pro 50,000,000+\n",
      "Photo Editor Selfie Camera Filter & Mirror Image 50,000,000+\n",
      "No Crop & Square for Instagram 10,000,000+\n",
      "Picture Grid Builder 5,000,000+\n",
      "HD Camera for Android 10,000,000+\n",
      "Photo Studio 10,000,000+\n",
      "Photo Editor Pro 100,000,000+\n",
      "Photo Editor- 5,000,000+\n",
      "Mirror Photo:Editor Collage (HD) 10,000,000+\n",
      "Pic Stitch - #1 Collage Maker 1,000,000+\n",
      "PhotoDirector Photo Editor App 10,000,000+\n",
      "Pic Collage - Photo Editor 50,000,000+\n",
      "Photo Editor by Aviary 50,000,000+\n",
      "Video Editor Music,Cut,No Crop 50,000,000+\n",
      "Pixlr – Free Photo Editor 50,000,000+\n",
      "Photo Editor 10,000,000+\n",
      "Photo Collage Maker 10,000,000+\n",
      "Adobe Photoshop Express:Photo Editor Collage Maker 50,000,000+\n",
      "BeautyPlus - Easy Photo Editor & Selfie Camera 100,000,000+\n",
      "PicsArt Photo Studio: Collage Maker & Pic Editor 100,000,000+\n",
      "Photo Collage Editor 100,000,000+\n",
      "Color Touch Effects 10,000,000+\n",
      "InstaSize Photo Filters & Collage Editor 50,000,000+\n",
      "Z Camera - Photo Editor, Beauty Selfie, Collage 100,000,000+\n",
      "PhotoGrid: Video & Pic Collage Maker, Photo Editor 100,000,000+\n",
      "Candy Camera - selfie, beauty camera, photo editor 100,000,000+\n",
      "YouCam Perfect - Selfie Photo Editor 100,000,000+\n",
      "Pixgram- video photo slideshow 5,000,000+\n",
      "Fotor Photo Editor - Photo Collage & Photo Effects 10,000,000+\n",
      "Snapseed 50,000,000+\n",
      "Camera360: Selfie Photo Editor with Funny Sticker 100,000,000+\n",
      "Font Studio- Photo Texts Image 10,000,000+\n",
      "Add Text To Photo 1,000,000+\n",
      "Phonto - Text on Photos 10,000,000+\n",
      "Collage&Add Stickers papelook 5,000,000+\n",
      "Shutterfly: Free Prints, Photo Books, Cards, Gifts 5,000,000+\n",
      "Photo Collage - InstaMag 10,000,000+\n",
      "Meitu – Beauty Cam, Easy Photo Editor 10,000,000+\n",
      "Bestie - Camera360 Selfie 10,000,000+\n",
      "B Tiff Viewer 100,000+\n",
      "F-Stop Gallery 1,000,000+\n",
      "How Do I Look 500,000+\n",
      "Keepsafe Photo Vault: Hide Private Photos & Videos 50,000,000+\n",
      "MakeupPlus - Your Own Virtual Makeup Artist 50,000,000+\n",
      "Pixlr-o-matic 10,000,000+\n",
      "PixelLab - Text on pictures 10,000,000+\n",
      "Leica Q 10,000+\n",
      "S Photo Editor - Collage Maker , Photo Collage 100,000,000+\n",
      "U Camera : Phone 6s OS 9 style 500,000+\n",
      "V.360° Camera 100,000+\n",
      "Profile w/o crop for Telegram 10,000+\n",
      "Z Camera 10,000+\n",
      "Six Pack Abs Photo Editor 1,000,000+\n",
      "Brica BPRO5 AE 500,000+\n",
      "AfterFocus 10,000,000+\n",
      "DSLR camera - Auto Focus and Blur Professional 10,000+\n",
      "AR effect 100,000,000+\n",
      "ASUS PixelMaster Camera 10,000,000+\n",
      "easyFocus 500,000+\n",
      "Blur Image - DSLR focus effect 5,000,000+\n",
      "Camera Pro 1,000,000+\n",
      "HD Camera - silent shutter 1,000,000+\n",
      "A Better Camera 5,000,000+\n",
      "Auto Dslr Photo Effect : Auto Focus Effect 1,000+\n",
      "PhotoScan by Google Photos 10,000,000+\n",
      "Afterlight 1,000,000+\n",
      "Blurfoto : Auto blur photo background & DSLR focus 500,000+\n",
      "Blur 1,000,000+\n",
      "Picai - Smart AI Camera 100,000+\n",
      "Adobe Illustrator Draw 5,000,000+\n",
      "FaceApp 10,000,000+\n",
      "AI Image Recognizer (beta) 500+\n",
      "AJ Cam 100+\n",
      "Selfie With Champion AJ Style 500+\n",
      "A.J. Styles HD Wallpapers 2018 100+\n",
      "Scoompa Video - Slideshow Maker and Video Editor 10,000,000+\n",
      "AEE AP 1,000+\n",
      "SNOW - AR Camera 50,000,000+\n",
      "Add Watermark Free 1,000,000+\n",
      "camera zoom moon 500,000+\n",
      "AZ Camera - Manual Pro Cam 100,000+\n",
      "BC Camera 500+\n",
      "Photo Editor by BeFunky 10,000,000+\n",
      "Be Fabulous PHOTO BOOTH 10,000+\n",
      "Adobe Photoshop Fix 5,000,000+\n",
      "Photo BG Changer 1,000+\n",
      "BG Editor 5+\n",
      "PhotoLayers〜Superimpose,Eraser 10,000,000+\n",
      "Blender BG - Photo Blend With Background 100+\n",
      "Auto Background Changer 1,000,000+\n",
      "Change photo background 5,000,000+\n",
      "Background Eraser 10,000,000+\n",
      "Background Changer & Eraser 500,000+\n",
      "Cut Out : Background Eraser and background changer 1,000,000+\n",
      "Ultimate Background Eraser 1,000,000+\n",
      "DSLR Photography Training apps 100,000+\n",
      "Photo Editor - BPhoto 1,000+\n",
      "24 megapixel hd camera 100,000+\n",
      "BK Photography 1,000+\n",
      "BL 1-Click Camera - Free 10,000+\n",
      "BL Portfolio 100+\n",
      "BQ Camera 1,000,000+\n",
      "BT Camera 500,000+\n",
      "BlitzWolf Shutter - BW Shutter 50,000+\n",
      "Black & White Camera - Lovely BW 100,000+\n",
      "Analog BW - Camera filter effect foto film retouch 100+\n",
      "Hypocam 1,000,000+\n",
      "B&W Photo Filter Editor 50,000+\n",
      "CB VIDEO VISION 100+\n",
      "CB Hair Png - New Hair Png For CB Editing 500+\n",
      "CB Edits PNG & CB Backgrounds 5,000+\n",
      "CG Prints 100+\n",
      "Gold Teeth Photo Editor 100,000+\n",
      "Night Camera Blur Effect 10,000+\n",
      "Camera V7 24 Megapixel 100,000+\n",
      "Leica CL 1,000+\n",
      "Canon CameraWindow 1,000,000+\n",
      "Cymera Camera- Photo Editor, Filter,Collage,Layout 100,000,000+\n",
      "Camera360 Lite - Selfie Camera 10,000,000+\n",
      "Wallpaper.cz 100+\n",
      "Face Filter, Selfie Editor - Sweet Camera 10,000,000+\n",
      "Visage Lab – face retouch 5,000,000+\n",
      "LC-DB-LITE 100+\n",
      "DC-014 500+\n",
      "Bokeh (Background defocus) 10,000,000+\n",
      "Love Collage - Photo Editor 10,000,000+\n",
      "LINE Camera - Photo editor 100,000,000+\n",
      "DF Night Selfies 10,000+\n",
      "My Photo Keyboard 10,000,000+\n",
      "Story Saver for Instagram 5,000,000+\n",
      "Boomerang from Instagram 50,000,000+\n",
      "Insave-Download for Instagram 1,000,000+\n",
      "DP Editor 5,000+\n",
      "DP Maker 100,000+\n",
      "Square DP For Whatsapp 10,000+\n",
      "DP Creator for WhatsApp 100,000+\n",
      "Dp For FB 1,000+\n",
      "Magical Insta DP 1,000+\n",
      "All Types DP & Status Maker 1,000+\n",
      "DP Photo Editor 10,000+\n",
      "Fifa World Cup 2018: Photo Frame Editor & DP Maker 100,000+\n",
      "Insta Square Profile DP 5,000+\n",
      "DP Status 2017 50,000+\n",
      "LightMeter Free 1,000,000+\n",
      "DS-L4 Viewer 1,000+\n",
      "DU GIF Maker: GIF Maker, Video to GIF & GIF Editor 500,000+\n",
      "DU Collage Maker - Photo Collage & Grid & Layout 100,000+\n",
      "Live DV 1,000+\n",
      "DV-4036 by Somikon 1,000+\n",
      "Touch DV 50+\n",
      "XDV 1,000,000+\n",
      "DV Lottery Photo Tool 50,000+\n",
      "DV KING 4K 100+\n",
      "Wifi Action Camera 50,000+\n",
      "4K Ultra Camera 100,000+\n",
      "DV KING 100+\n",
      "DENVER ACTION CAM 3 10,000+\n",
      "SportLook 100,000+\n",
      "Displaying You VR 50+\n",
      "i am EB 10+\n",
      "Retro Camera 10,000,000+\n",
      "Footej Camera 1,000,000+\n",
      "Video Maker with Photo and Music 1,000,000+\n",
      "Phogy, 3D Camera 1,000,000+\n",
      "Photo Lab Picture Editor: face effects, art frames 50,000,000+\n",
      "MomentCam Cartoons & Stickers 50,000,000+\n",
      "A+ Gallery - Photos & Videos 10,000,000+\n",
      "Light Meter - EV 1,000+\n",
      "FilterGrid - Cam&Photo Editor 1,000,000+\n",
      "ez Share Android app 100,000+\n",
      "Ez iCam 1,000,000+\n",
      "Facejjang 10,000,000+\n",
      "Cover Camera for FB 100,000+\n",
      "FB Photographie 1,000+\n",
      "FD Fotografia 100+\n",
      "Ghost In Photo 5,000,000+\n",
      "FH WiFiCam 10,000+\n",
      "PIP Selfie Camera Photo Editor 10,000,000+\n",
      "FL Drone 2 5,000+\n",
      "FN Cam 10,000+\n",
      "PIP-Camera FN Photo Effect 1,000+\n",
      "Photo Editor Collage Maker Pro 100,000,000+\n",
      "Free Slideshow Maker & Video Editor 10,000,000+\n",
      "Thumbnail Maker 1,000,000+\n",
      "PhotoFunia 10,000,000+\n"
     ]
    }
   ],
   "source": [
    "for row in google_free_apps:\n",
    "    if row[1] == 'PHOTOGRAPHY':\n",
    "        print(row[0], row[5])    "
   ]
  },
  {
   "cell_type": "code",
   "execution_count": 48,
   "metadata": {},
   "outputs": [
    {
     "name": "stdout",
     "output_type": "stream",
     "text": [
      "Instagram 2161558\n",
      "Snapchat 323905\n",
      "YouTube - Watch Videos, Music, and Live Streams 278166\n",
      "Pic Collage - Picture Editor & Photo Collage Maker 123433\n",
      "Funimate video editor: add cool effects to videos 123268\n",
      "musical.ly - your video social network 105429\n",
      "Photo Collage Maker & Photo Editor - Live Collage 93781\n",
      "Vine Camera 90355\n",
      "Google Photos - unlimited photo and video storage 88742\n",
      "Flipagram 79905\n",
      "Mixgram - Picture Collage Maker - Pic Photo Editor 54282\n",
      "Shutterfly: Prints, Photo Books, Cards Made Easy 51427\n",
      "Pic Jointer – Photo Collage, Camera Effects Editor 51330\n",
      "Color Pop Effects - Photo Editor & Picture Editing 45320\n",
      "Photo Grid - photo collage maker & photo editor 40531\n",
      "iSwap Faces LITE 39722\n",
      "MOLDIV - Photo Editor, Collage & Beauty Camera 39501\n",
      "Photo Editor by Aviary 39501\n",
      "Photo Lab: Picture Editor, effects & fun face app 34585\n",
      "Rookie Cam - Photo Editor & Filter Camera 33921\n",
      "FotoRus -Camera & Photo Editor & Pic Collage Maker 32558\n",
      "PicsArt Photo Studio: Collage Maker & Pic Editor 29078\n",
      "Quik – GoPro Video Editor to edit clips with music 28654\n",
      "Splice - Video Editor + Movie Maker by GoPro 28189\n",
      "FreePrints – Photos Delivered 26060\n",
      "Triller - Music Video & Film Maker 25683\n",
      "Ghost Lens+Scary Photo Video Edit&Collage Maker 18316\n",
      "Camera360 - Selfie Filter Camera, Photo Editor 16729\n",
      "InstaMag - Free Pic and Photo Collage Maker 16221\n",
      "Over— Edit Photos, Add Text & Captions to Pictures 16221\n",
      "Photo Transfer App - Easy backup of photos+videos 15654\n",
      "InstaSize: Photo Editor, Picture Effects & Collage 15605\n",
      "Prisma: Photo Editor, Art Filters Pic Effects 15060\n",
      "Filterra – Photo Editor, Effects for Pictures 14744\n",
      "YouCam Makeup: Magic Makeup Selfie Cam 14188\n",
      "MSQRD — Live Filters & Face Swap for Video Selfies 12982\n",
      "Artisto – Video and Photo Editor with Art Filters 12963\n",
      "InShot Video Editor Music, No Crop, Cut 12779\n",
      "Layout from Instagram 12616\n",
      "Face Swap App- Funny Face Changer Photo Effects 11977\n",
      "Moments - private albums with friends and family 11955\n",
      "VSCO 11174\n",
      "Retrica - Selfie Camera with Filter, Sticker & GIF 11021\n",
      "VivaVideo - Best Video Editor & Photo Movie Maker 10618\n",
      "Prime Photos from Amazon 10511\n",
      "Canva - Graphic Design & Photo Editing 9114\n",
      "Photo Editor- 9095\n",
      "Snapseed 8683\n",
      "You Doodle - draw on photos & pictures, add text 8520\n",
      "PIP Camera-Selfie Cam&Pic Collage&Photo Editor 8454\n",
      "BeautyPlus - Selfie Camera for a Beautiful Image 7503\n",
      "Baby Story - Pregnancy Pics Baby Milestones Photo 6700\n",
      "Capture - Control Your GoPro Camera - Share Video 6542\n",
      "Meitu 6478\n",
      "Visage makeup editor plus photo teeth whitener 5767\n",
      "Video & TV Cast for Chromecast: Best Browser to cast and stream webvideos and local videos on TV & Displays 5676\n",
      "Adobe Photoshop Mix - Cut out, combine, create 5253\n",
      "Collageable - Photo Collage Maker, Pic Grid Free 5112\n",
      "Bazaart Photo Editor Pro and Picture Collage Maker 4909\n",
      "InstaBeauty -Camera&Photo Editor&Pic Collage Maker 4818\n",
      "YouCam Perfect - Photo & Selfie Editor 4293\n",
      "PHHHOTO - Look Alive 4280\n",
      "MuseCam - Edit Photos & Manual Camera 4267\n",
      "VR Tube - Virtual Reality 360 Video Player 4142\n",
      "Fyuse - 3D Photos 4126\n",
      "MakeupPlus - Natural, Professional Makeup Looks 3987\n",
      "LINE Camera - Photo editor, Animated Stamp, Filter 3978\n",
      "Printicular Print Photos - 1 Hour Pickup 3909\n",
      "Lumyer - augmented reality camera effects 3896\n",
      "KODAK Kiosk Connect App 3711\n",
      "Cool Wallpapers for Pokemon 3694\n",
      "Pro Editor - Video Maker for FaceBook & Youtube 3668\n",
      "Lomotif Music Video Editor - Add Music & Effects! 3507\n",
      "Epson iPrint 2838\n",
      "YouCam Fun - Live Selfie Video Filters 2522\n",
      "A Color Story 2436\n",
      "Boomerang from Instagram 2373\n",
      "B612 - Trendy Filters, Selfiegenic Camera 2275\n",
      "Polarr Photo Editor - Photo Editing Tools for All 2246\n",
      "Retouch Vogue - Facetune Wrinkles & Pimples Makeup 2235\n",
      "Kanvas - Express Yourself 2177\n",
      "Easy Save - Repost your Instagram Photos & Videos 2159\n",
      "Meitu HD 2150\n",
      "Pixlr - Photo Collages, Effects, Overlays, Filters 2099\n",
      "Patternator Pattern Maker Backgrounds & Wallpapers 2092\n",
      "BeautyCam - AR Carnie selfie 2082\n",
      "GIPHY. The GIF Search Engine for All the GIFs 2069\n",
      "Adobe Photoshop Lightroom for iPad 2005\n",
      "SuperPhoto - Photo Effects & Filters 1952\n",
      "Solo Selfie 1799\n",
      "Felt: Birthday & Greeting Cards & Thank You Card 1724\n",
      "Perfect Image - Pic Collage Maker, Add Text to Photo, Cool Picture Editor 1646\n",
      "InstaBoard  for Instagram - photos & videos repost 1571\n",
      "Adobe Photoshop Lightroom for iPhone 1494\n",
      "PhotoScan - scanner by Google Photos 1421\n",
      "RealTimes: Video Maker 1274\n",
      "Meipai 1190\n",
      "POTO - Photo Collage Maker 1149\n",
      "SNOW - Selfie, Motion sticker, Fun camera 1115\n",
      "Bestie-Beauty Camera 360 & Portrait Selfie Editor 1035\n",
      "Facetune 2 1009\n",
      "Pitu 968\n",
      "intoLive - Custom Live Photos wallpaper maker 938\n",
      "LOL Movie: Change your face + voice! 849\n",
      "Camcorder - Record VHS Home Videos 830\n",
      "Anime Power FX 807\n",
      "Squaready for Video - Convert Rectangle Movie Clip into Square Shape for Instagram 778\n",
      "Canon PRINT Inkjet/SELPHY 689\n",
      "Microsoft Pix Camera 678\n",
      "Kwai - Share your video moments 668\n",
      "Polaroid Print App - ZIP 631\n",
      "Photo Quilt - Auto Collage Maker 599\n",
      "Cymera - Photo & Beauty Editor & Collage 523\n",
      "FACIE 514\n",
      "Photo Editing Effects & Collage Maker - Effectshop 422\n",
      "Pic-it Collage - Photo Collage Maker and Editor 415\n",
      "Candy Camera 397\n",
      "Microsoft Selfie 375\n",
      "Color Pop Free - Selective Color Splash Effects and Black & White Photography Editor 352\n",
      "SelfieCity 252\n",
      "InstaSave for Instagram - Download & Repost your own Videos & Photos for Free 243\n",
      "CATCHY Photos-Easter Bunny, Tooth Fairy and more.. 228\n",
      "SW/NG - Living Photos. Memories that Swing. 222\n",
      "SlideStory - Create a slideshow movie and a snap video 220\n",
      "April - Layouts, Photo Collage, and Poster Maker 165\n",
      "PopCam　Photo 160\n",
      "Foodie - Delicious Camera for Food 144\n",
      "FreeVRPlayer 134\n",
      "Confetti - Geofilter Design Maker for Snapchat 120\n",
      "Philm-Video&Photo Editor,REAL-TIME Magic Filter 103\n",
      "Digital Domain 102\n",
      "Homido 360 VR player 100\n",
      "Best 9 for Instagram 88\n",
      "VR Video World - Virtual Reality 88\n",
      "FilmStory - For All Your Video Editing Needs 66\n",
      "GIFYme - Create video loops and gifs with amazing filters for Whatsapp and Instagram 65\n",
      "Kiosk Photo Transfer by Fujifilm 58\n",
      "Pikazo – AI art that YOU control 56\n",
      "lollicam - photo, video, and selfie camera 51\n",
      "LOOKS - Real Makeup Camera 25\n",
      "C CHANNEL -Watch tips & tricks videos for girls 21\n",
      "in-capturing moments in life 16\n",
      "Everfilter - transform your photos into artworks 15\n",
      "GoSnaps - Share Screenshots for Pokémon GO 12\n",
      "NightShooting 9\n",
      "MixChannel 6\n",
      "Simple Camera - Fast Minimal Design 3\n",
      "SwapperFace - Face Swap Free, Live Mask Effects 2\n",
      "LINE Moments - Capture Your Fun Moments 1\n",
      "Video speed editor - VBooster 1\n",
      "Video Smith - A Powerful video editing tool set 1\n",
      "MeiCam -  Video Production Master 0\n",
      "Instant X - Take instant-camera-like photo with double exposure and bulb mode 0\n",
      "EOPAN 0\n",
      "StageCameraHD 0\n",
      "Pictalive for Live Photos - Create from videos 0\n",
      "BlurEffect-Blur Photo & Video, Hide Face 0\n",
      "camera for filter 0\n",
      "Emojil - original emoji stamp, decoration camera 0\n",
      "CelebrityDiagnosis! 0\n"
     ]
    }
   ],
   "source": [
    "for row in apple_free_apps:\n",
    "    if row[11] == 'Photo & Video':\n",
    "        print(row[1], row[5]) "
   ]
  },
  {
   "cell_type": "markdown",
   "metadata": {},
   "source": [
    "В этой категории тоже есть сильные приложения, например **Instagram** или **YouTube**, но мы не собираемся с ними конкурировать. Вместе с ними в списках есть куча **редакторов фото**, которые нас и интересуют.\n",
    "\n",
    "#### Заключение\n",
    "---\n",
    "\n",
    "В данном проекте мы проанализировали два набора данных с приложениями: из **Appstore** и **GooglePlay**, чтобы найти наиболее прибыльное приложение.\n",
    "\n",
    "При этом мы ориентировались только на бесплатные приложения на английском языке, для чего изначальные наборы данных были очищены от всех нерелевантных записей.\n",
    "\n",
    "В конце, основываясь на кол-ве установок и отзывов, а также на популярности самого жанра приложений, мы остановились на **редакторах фотографий**. Люди постоянно делают фотографи и постят их повсеместно. Мы же можем предложить приложение, которое поможет им улучщить их снимки, добавить какие-либо эффекты, создать коллажи  т.д. Оно обязательное займёт свою нишу в магазинах."
   ]
  }
 ],
 "metadata": {
  "kernelspec": {
   "display_name": "Python 3",
   "language": "python",
   "name": "python3"
  },
  "language_info": {
   "codemirror_mode": {
    "name": "ipython",
    "version": 3
   },
   "file_extension": ".py",
   "mimetype": "text/x-python",
   "name": "python",
   "nbconvert_exporter": "python",
   "pygments_lexer": "ipython3",
   "version": "3.9.5"
  },
  "toc": {
   "base_numbering": 1,
   "nav_menu": {},
   "number_sections": false,
   "sideBar": true,
   "skip_h1_title": true,
   "title_cell": "Table of Contents",
   "title_sidebar": "Contents",
   "toc_cell": false,
   "toc_position": {},
   "toc_section_display": true,
   "toc_window_display": true
  }
 },
 "nbformat": 4,
 "nbformat_minor": 2
}
