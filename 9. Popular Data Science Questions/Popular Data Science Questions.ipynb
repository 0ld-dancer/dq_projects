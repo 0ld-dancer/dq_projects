{
 "cells": [
  {
   "cell_type": "markdown",
   "id": "2820d624",
   "metadata": {},
   "source": [
    "# Popular Data Science Questions\n",
    "---\n",
    "## Introduction\n",
    "### What is this project about\n",
    "\n",
    "In this scenario, we're working for a company that creates data science content, be it books, online articles, videos or interactive text-based platforms like [Dataquest](https://www.dataquest.io/). And as enthusiastic employees we've desided to o scour the internet in search for the answer to the question:\n",
    "* **What is it that people want to learn about in data science?**\n",
    "\n",
    "Thinking back to our experience when we first started learning programming, it occurs to us that if we wanted to figure out what programming content to write, we could consult [Stack Overflow](https://stackoverflow.com/) and see what kind of content is more popular. We've decided to investigate Stack Overflow a little more and found out that it is part of a question and answer website network called [Stack Exchange](https://stackexchange.com/).\n",
    "![Image](https://dq-content.s3.amazonaws.com/469/se_sites.png)\n",
    "\n",
    "---\n",
    "\n",
    "Stack Exchange hosts a huge amount of sitess on a multitude of fields and subjects, including mathematics, physics, philosophy, and data science. Just what we are looking for!\n",
    "Also we can include data engineering as our point of interest. So there are some websites relevant to our goal:\n",
    "* [Data Science](https://datascience.stackexchange.com/)\n",
    "* [Cross Validated](https://stats.stackexchange.com/) (a statistics site)\n",
    "* [Artificial Intelligence](https://ai.stackexchange.com/)\n",
    "* [Mathematics](https://math.stackexchange.com/)\n",
    "* [Stack Overflow](https://stackoverflow.com/) itself\n",
    "* [Database Administrators](https://dba.stackexchange.com/)\n",
    "* [Unix & Linux](https://unix.stackexchange.com/)\n",
    "* [Software Engineering](https://softwareengineering.stackexchange.com/)\n",
    "\n",
    "### A closer look to the Stack Exchange websites\n",
    "Let's take for example **Stack Overflow** and walk through it a bit just to get you familiar with it. Another sites are similar to Stack Overflow\n",
    "\n",
    "Basically **it is Q&A website** where everyone welcomes to ask about a wide range of topics in computer programming. If someone runs into a problem, doesn't know exactly how a particular function works, or is struggling to get their code to work they come here.\n",
    "\n",
    "Due to issues can be related to different programming languages, there is a **tagging system** that helps filter and navigate content. Also there is a **voting system** that allows to rate best questions and answers so their authors can earn reputation points.\n",
    "\n",
    "And finally there is a **job finding section** where you can try to get youself a new fancy job.\n",
    "\n",
    "So the question here is the main unit followed with answer and comments. It has rating, views number and tags (usually)\n",
    "\n",
    "![Image](https://upload.wikimedia.org/wikipedia/commons/d/dd/Stack_Overflow_Home.png)\n",
    "\n",
    "---\n",
    "\n",
    "### Stack Exchange Database\n",
    "\n",
    "Stack Exchange provides a public data base for each of its websites. Here's a link to query and explore [Data Science Stack Exchange's database](https://data.stackexchange.com/datascience/query/new). It uses a Transact-SQL to write queries.\n",
    "\n",
    "There are a lot of intresting tables like:\n",
    "* Posts\n",
    "* Tags\n",
    "* TagSynonymous\n",
    "* Comments\n",
    "\n",
    "## First steps\n",
    "### Stack Exchange Data Explorer\n",
    "Stack Exchange Data Explorer or just SEDE is a great instrument so why wouldn't we use it. We can run a query right there and just download a CSV file that we'll be able to use further.\n",
    "\n",
    "Let's start with the posts table. We'll be focusing our attention on those that seem relevant towards our goal:\n",
    "\n",
    "* **Id**: An identification number for the post.\n",
    "* **PostTypeId**: An identification number for the type of post.\n",
    "* **CreationDate**: The date and time of creation of the post.\n",
    "* **Score**: The post's score.\n",
    "* **ViewCount**: How many times the post was viewed.\n",
    "* **Tags**: What tags were used.\n",
    "* **AnswerCount**: How many answers the question got.\n",
    "* **FavoriteCount**: How many times the question was favored.\n",
    "\n",
    "Also we will limit ourselves questions asked in 2019.\n",
    "\n",
    "To get that info from the SEDE we'll run the folllowing query:\n",
    "```\n",
    "SELECT p.Id, pt.Name AS PostType, p.CreationDate, p.Score,\n",
    "       p.ViewCount, p.Tags, p.AnswerCount, p.FavoriteCount\n",
    "  FROM posts AS p\n",
    "       LEFT JOIN PostTypes AS pt\n",
    "       ON p.PostTypeId = pt.Id\n",
    " WHERE YEAR(CreationDate) = 2019;\n",
    "```\n",
    "Then we'll just download related CSV and read it to the dataframe."
   ]
  },
  {
   "cell_type": "code",
   "execution_count": 1,
   "id": "d36dac56",
   "metadata": {},
   "outputs": [
    {
     "data": {
      "text/html": [
       "<div>\n",
       "<style scoped>\n",
       "    .dataframe tbody tr th:only-of-type {\n",
       "        vertical-align: middle;\n",
       "    }\n",
       "\n",
       "    .dataframe tbody tr th {\n",
       "        vertical-align: top;\n",
       "    }\n",
       "\n",
       "    .dataframe thead th {\n",
       "        text-align: right;\n",
       "    }\n",
       "</style>\n",
       "<table border=\"1\" class=\"dataframe\">\n",
       "  <thead>\n",
       "    <tr style=\"text-align: right;\">\n",
       "      <th></th>\n",
       "      <th>Id</th>\n",
       "      <th>PostType</th>\n",
       "      <th>CreationDate</th>\n",
       "      <th>Score</th>\n",
       "      <th>ViewCount</th>\n",
       "      <th>Tags</th>\n",
       "      <th>AnswerCount</th>\n",
       "      <th>FavoriteCount</th>\n",
       "    </tr>\n",
       "  </thead>\n",
       "  <tbody>\n",
       "    <tr>\n",
       "      <th>0</th>\n",
       "      <td>49302</td>\n",
       "      <td>Question</td>\n",
       "      <td>2019-04-15 04:00:33</td>\n",
       "      <td>0</td>\n",
       "      <td>1818.0</td>\n",
       "      <td>&lt;python&gt;&lt;statistics&gt;</td>\n",
       "      <td>1.0</td>\n",
       "      <td>NaN</td>\n",
       "    </tr>\n",
       "    <tr>\n",
       "      <th>1</th>\n",
       "      <td>49303</td>\n",
       "      <td>Answer</td>\n",
       "      <td>2019-04-15 04:34:33</td>\n",
       "      <td>4</td>\n",
       "      <td>NaN</td>\n",
       "      <td>NaN</td>\n",
       "      <td>NaN</td>\n",
       "      <td>NaN</td>\n",
       "    </tr>\n",
       "    <tr>\n",
       "      <th>2</th>\n",
       "      <td>49304</td>\n",
       "      <td>Question</td>\n",
       "      <td>2019-04-15 05:35:40</td>\n",
       "      <td>0</td>\n",
       "      <td>123.0</td>\n",
       "      <td>&lt;logistic-regression&gt;</td>\n",
       "      <td>1.0</td>\n",
       "      <td>NaN</td>\n",
       "    </tr>\n",
       "    <tr>\n",
       "      <th>3</th>\n",
       "      <td>49305</td>\n",
       "      <td>Answer</td>\n",
       "      <td>2019-04-15 05:43:03</td>\n",
       "      <td>0</td>\n",
       "      <td>NaN</td>\n",
       "      <td>NaN</td>\n",
       "      <td>NaN</td>\n",
       "      <td>NaN</td>\n",
       "    </tr>\n",
       "    <tr>\n",
       "      <th>4</th>\n",
       "      <td>49306</td>\n",
       "      <td>Question</td>\n",
       "      <td>2019-04-15 06:02:12</td>\n",
       "      <td>0</td>\n",
       "      <td>172.0</td>\n",
       "      <td>&lt;nlp&gt;&lt;chatbot&gt;</td>\n",
       "      <td>1.0</td>\n",
       "      <td>1.0</td>\n",
       "    </tr>\n",
       "  </tbody>\n",
       "</table>\n",
       "</div>"
      ],
      "text/plain": [
       "      Id  PostType         CreationDate  Score  ViewCount  \\\n",
       "0  49302  Question  2019-04-15 04:00:33      0     1818.0   \n",
       "1  49303    Answer  2019-04-15 04:34:33      4        NaN   \n",
       "2  49304  Question  2019-04-15 05:35:40      0      123.0   \n",
       "3  49305    Answer  2019-04-15 05:43:03      0        NaN   \n",
       "4  49306  Question  2019-04-15 06:02:12      0      172.0   \n",
       "\n",
       "                    Tags  AnswerCount  FavoriteCount  \n",
       "0   <python><statistics>          1.0            NaN  \n",
       "1                    NaN          NaN            NaN  \n",
       "2  <logistic-regression>          1.0            NaN  \n",
       "3                    NaN          NaN            NaN  \n",
       "4         <nlp><chatbot>          1.0            1.0  "
      ]
     },
     "execution_count": 1,
     "metadata": {},
     "output_type": "execute_result"
    }
   ],
   "source": [
    "import pandas as pd\n",
    "import matplotlib.pyplot as plt\n",
    "\n",
    "stack_2019_df = pd.read_csv(\"QueryResults.csv\")\n",
    "stack_2019_df.head()"
   ]
  },
  {
   "cell_type": "markdown",
   "id": "34eeefaa",
   "metadata": {},
   "source": [
    "### Exploring and cleansing\n",
    "\n",
    "Nowe we have familiar that we can explore. So let's see what we're dealing with!\n",
    "\n",
    "Start with overall info."
   ]
  },
  {
   "cell_type": "code",
   "execution_count": 2,
   "id": "591ba20e",
   "metadata": {},
   "outputs": [
    {
     "name": "stdout",
     "output_type": "stream",
     "text": [
      "<class 'pandas.core.frame.DataFrame'>\n",
      "RangeIndex: 14676 entries, 0 to 14675\n",
      "Data columns (total 8 columns):\n",
      " #   Column         Non-Null Count  Dtype  \n",
      "---  ------         --------------  -----  \n",
      " 0   Id             14676 non-null  int64  \n",
      " 1   PostType       14676 non-null  object \n",
      " 2   CreationDate   14676 non-null  object \n",
      " 3   Score          14676 non-null  int64  \n",
      " 4   ViewCount      6773 non-null   float64\n",
      " 5   Tags           6773 non-null   object \n",
      " 6   AnswerCount    6773 non-null   float64\n",
      " 7   FavoriteCount  1656 non-null   float64\n",
      "dtypes: float64(3), int64(2), object(3)\n",
      "memory usage: 917.4+ KB\n"
     ]
    }
   ],
   "source": [
    "stack_2019_df.info()"
   ]
  },
  {
   "cell_type": "markdown",
   "id": "bf07156d",
   "metadata": {},
   "source": [
    "Thera are a few issues as we can see:\n",
    "* `CreationDate` column isn't `datetime` type. We should fix it.\n",
    "* `ViewCount`, `AnswerCount` and `FavoriteCount` columns should be `int64`.\n",
    "* `ViewCount`, `AnswerCount` and `FavoriteCount` columns have a lot of missing values. We may find a way to fix it aswell.\n",
    "* `Tags` column aslo has missing values but due to it's not a counting column it will not be easy to fix.\n",
    "\n",
    "First goes first - let's deal with the `CreationDate` column."
   ]
  },
  {
   "cell_type": "code",
   "execution_count": 3,
   "id": "f4adeb77",
   "metadata": {},
   "outputs": [
    {
     "data": {
      "text/plain": [
       "0   2019-04-15 04:00:33\n",
       "1   2019-04-15 04:34:33\n",
       "2   2019-04-15 05:35:40\n",
       "3   2019-04-15 05:43:03\n",
       "4   2019-04-15 06:02:12\n",
       "Name: CreationDate, dtype: datetime64[ns]"
      ]
     },
     "execution_count": 3,
     "metadata": {},
     "output_type": "execute_result"
    }
   ],
   "source": [
    "stack_2019_df['CreationDate'] = pd.to_datetime(stack_2019_df['CreationDate'])\n",
    "stack_2019_df['CreationDate'].head()"
   ]
  },
  {
   "cell_type": "markdown",
   "id": "c25d758c",
   "metadata": {},
   "source": [
    "It's done!\n",
    "\n",
    "Now proceed to the next step - missing values with the counting columns.\n",
    "\n",
    "`AnswerCount` column is appliable for questions only. It's obvious actually. Why would you answer to the another answer! There are comments for it.\n",
    "\n",
    "And making favorite answer or comment also isn't convenient because the question is the boss here as we already know. So `FavoriteCount` column used to only question itself.\n",
    "\n",
    "In this way all `NaN` values should be in these columns only. Let's check these columns for all non-question post types."
   ]
  },
  {
   "cell_type": "code",
   "execution_count": 4,
   "id": "562edac5",
   "metadata": {},
   "outputs": [
    {
     "name": "stdout",
     "output_type": "stream",
     "text": [
      "<class 'pandas.core.frame.DataFrame'>\n",
      "Int64Index: 7903 entries, 1 to 14673\n",
      "Data columns (total 3 columns):\n",
      " #   Column         Non-Null Count  Dtype  \n",
      "---  ------         --------------  -----  \n",
      " 0   PostType       7903 non-null   object \n",
      " 1   AnswerCount    0 non-null      float64\n",
      " 2   FavoriteCount  0 non-null      float64\n",
      "dtypes: float64(2), object(1)\n",
      "memory usage: 247.0+ KB\n"
     ]
    }
   ],
   "source": [
    "stack_2019_df.loc[stack_2019_df['PostType'] != 'Question', ['PostType', 'AnswerCount', 'FavoriteCount']].info()"
   ]
  },
  {
   "cell_type": "markdown",
   "id": "c9c47dfe",
   "metadata": {},
   "source": [
    "Yep, all values are `NaN` in our columns like we've assumed. So it is reasonable to replace them to `0`.\n",
    "\n",
    "Probably `ViewCount` column uses `NaN` values instead of `0`. We'll check it aswell."
   ]
  },
  {
   "cell_type": "code",
   "execution_count": 5,
   "id": "94bcd0aa",
   "metadata": {},
   "outputs": [
    {
     "data": {
      "text/plain": [
       "8.0            2\n",
       "9.0            5\n",
       "10.0           5\n",
       "11.0           9\n",
       "12.0           8\n",
       "            ... \n",
       "92580.0        1\n",
       "106605.0       1\n",
       "111240.0       1\n",
       "152559.0       1\n",
       "NaN         7903\n",
       "Name: ViewCount, Length: 1899, dtype: int64"
      ]
     },
     "execution_count": 5,
     "metadata": {},
     "output_type": "execute_result"
    }
   ],
   "source": [
    "stack_2019_df['ViewCount'].value_counts(dropna=False).sort_index()"
   ]
  },
  {
   "cell_type": "markdown",
   "id": "a66f0d71",
   "metadata": {},
   "source": [
    "There is no `0` values at all so as we assumed `NaN` stands for it.\n",
    "\n",
    "Now we can easily replace all `NaN`s with `0` and change type to the `int64` at the same time."
   ]
  },
  {
   "cell_type": "code",
   "execution_count": 6,
   "id": "20e22695",
   "metadata": {},
   "outputs": [
    {
     "name": "stdout",
     "output_type": "stream",
     "text": [
      "<class 'pandas.core.frame.DataFrame'>\n",
      "RangeIndex: 14676 entries, 0 to 14675\n",
      "Data columns (total 8 columns):\n",
      " #   Column         Non-Null Count  Dtype         \n",
      "---  ------         --------------  -----         \n",
      " 0   Id             14676 non-null  int64         \n",
      " 1   PostType       14676 non-null  object        \n",
      " 2   CreationDate   14676 non-null  datetime64[ns]\n",
      " 3   Score          14676 non-null  int64         \n",
      " 4   ViewCount      14676 non-null  int64         \n",
      " 5   Tags           6773 non-null   object        \n",
      " 6   AnswerCount    14676 non-null  int64         \n",
      " 7   FavoriteCount  14676 non-null  int64         \n",
      "dtypes: datetime64[ns](1), int64(5), object(2)\n",
      "memory usage: 917.4+ KB\n"
     ]
    }
   ],
   "source": [
    "stack_2019_df[['ViewCount','AnswerCount', 'FavoriteCount']] = stack_2019_df[\n",
    "    ['ViewCount', 'AnswerCount', 'FavoriteCount']].fillna(0).astype('int64')\n",
    "\n",
    "stack_2019_df.info()"
   ]
  },
  {
   "cell_type": "markdown",
   "id": "8aa7e451",
   "metadata": {},
   "source": [
    "### Tags\n",
    "\n",
    "Now we can start cleansing probably the most important column - `Tags`. At first look there are two problems:\n",
    "* Missing values\n",
    "* Quite inconvinient way of storing more than two tags - `<python><statistics>`\n",
    "\n",
    "Let's solve the second problem first. String `<python><statistics>` actually means two different tags: `python` and `stasistics`. So it seems logical to separate two tags with `,` and not with `><`. Also we don't need any extra symbols at the begining and at the end of the strings.\n",
    "\n",
    "So let's replace all `><` with `,` and remove any single angle brackets."
   ]
  },
  {
   "cell_type": "code",
   "execution_count": 7,
   "id": "8c32b43c",
   "metadata": {},
   "outputs": [
    {
     "data": {
      "text/plain": [
       "0                                        python,statistics\n",
       "1                                                      NaN\n",
       "2                                      logistic-regression\n",
       "3                                                      NaN\n",
       "4                                              nlp,chatbot\n",
       "                               ...                        \n",
       "14671    python,scikit-learn,anomaly-detection,outlier,...\n",
       "14672        python,scikit-learn,anomaly-detection,outlier\n",
       "14673                                                  NaN\n",
       "14674                           python,logistic-regression\n",
       "14675               dataset,nlp,machine-translation,google\n",
       "Name: Tags, Length: 14676, dtype: object"
      ]
     },
     "execution_count": 7,
     "metadata": {},
     "output_type": "execute_result"
    }
   ],
   "source": [
    "stack_2019_df['Tags'] = stack_2019_df['Tags'].str.replace('><', ',')\\\n",
    "                                             .str.replace('<', '')\\\n",
    "                                             .str.replace('>', '')\n",
    "stack_2019_df['Tags']"
   ]
  },
  {
   "cell_type": "markdown",
   "id": "11c882d6",
   "metadata": {},
   "source": [
    "Now we can go back to the missing values.\n",
    "\n",
    "I think missing values here stand for `0` so these posts just do not have any tags. We can easily replace `NaN` with `0` like we did before."
   ]
  },
  {
   "cell_type": "code",
   "execution_count": 8,
   "id": "2c77bbf3",
   "metadata": {},
   "outputs": [
    {
     "data": {
      "text/plain": [
       "0                                        python,statistics\n",
       "1                                                  No tags\n",
       "2                                      logistic-regression\n",
       "3                                                  No tags\n",
       "4                                              nlp,chatbot\n",
       "                               ...                        \n",
       "14671    python,scikit-learn,anomaly-detection,outlier,...\n",
       "14672        python,scikit-learn,anomaly-detection,outlier\n",
       "14673                                              No tags\n",
       "14674                           python,logistic-regression\n",
       "14675               dataset,nlp,machine-translation,google\n",
       "Name: Tags, Length: 14676, dtype: object"
      ]
     },
     "execution_count": 8,
     "metadata": {},
     "output_type": "execute_result"
    }
   ],
   "source": [
    "stack_2019_df['Tags'].fillna(\"No tags\", inplace=True)\n",
    "stack_2019_df['Tags']"
   ]
  },
  {
   "cell_type": "markdown",
   "id": "cfc223a3",
   "metadata": {},
   "source": [
    "## Time for analysys\n",
    "\n",
    "### Tags count\n",
    "\n",
    "So far we have clean and preaty dataframe which means we are free to start some analysys. But first let me remind our main question:\n",
    "* **What is it that people want to learn about in data science?**\n",
    "\n",
    "The best way to answer to this question is using tags because each tag is like a short questions topic. But these is still one problem - we have strings with multiply tags. Fortunately we can split them using `,` as delimiter."
   ]
  },
  {
   "cell_type": "code",
   "execution_count": 9,
   "id": "14fe6dee",
   "metadata": {},
   "outputs": [
    {
     "data": {
      "text/html": [
       "<div>\n",
       "<style scoped>\n",
       "    .dataframe tbody tr th:only-of-type {\n",
       "        vertical-align: middle;\n",
       "    }\n",
       "\n",
       "    .dataframe tbody tr th {\n",
       "        vertical-align: top;\n",
       "    }\n",
       "\n",
       "    .dataframe thead th {\n",
       "        text-align: right;\n",
       "    }\n",
       "</style>\n",
       "<table border=\"1\" class=\"dataframe\">\n",
       "  <thead>\n",
       "    <tr style=\"text-align: right;\">\n",
       "      <th></th>\n",
       "      <th>0</th>\n",
       "      <th>1</th>\n",
       "      <th>2</th>\n",
       "      <th>3</th>\n",
       "      <th>4</th>\n",
       "    </tr>\n",
       "  </thead>\n",
       "  <tbody>\n",
       "    <tr>\n",
       "      <th>0</th>\n",
       "      <td>python</td>\n",
       "      <td>statistics</td>\n",
       "      <td>None</td>\n",
       "      <td>None</td>\n",
       "      <td>None</td>\n",
       "    </tr>\n",
       "    <tr>\n",
       "      <th>1</th>\n",
       "      <td>No tags</td>\n",
       "      <td>None</td>\n",
       "      <td>None</td>\n",
       "      <td>None</td>\n",
       "      <td>None</td>\n",
       "    </tr>\n",
       "    <tr>\n",
       "      <th>2</th>\n",
       "      <td>logistic-regression</td>\n",
       "      <td>None</td>\n",
       "      <td>None</td>\n",
       "      <td>None</td>\n",
       "      <td>None</td>\n",
       "    </tr>\n",
       "    <tr>\n",
       "      <th>3</th>\n",
       "      <td>No tags</td>\n",
       "      <td>None</td>\n",
       "      <td>None</td>\n",
       "      <td>None</td>\n",
       "      <td>None</td>\n",
       "    </tr>\n",
       "    <tr>\n",
       "      <th>4</th>\n",
       "      <td>nlp</td>\n",
       "      <td>chatbot</td>\n",
       "      <td>None</td>\n",
       "      <td>None</td>\n",
       "      <td>None</td>\n",
       "    </tr>\n",
       "    <tr>\n",
       "      <th>...</th>\n",
       "      <td>...</td>\n",
       "      <td>...</td>\n",
       "      <td>...</td>\n",
       "      <td>...</td>\n",
       "      <td>...</td>\n",
       "    </tr>\n",
       "    <tr>\n",
       "      <th>14671</th>\n",
       "      <td>python</td>\n",
       "      <td>scikit-learn</td>\n",
       "      <td>anomaly-detection</td>\n",
       "      <td>outlier</td>\n",
       "      <td>data-imputation</td>\n",
       "    </tr>\n",
       "    <tr>\n",
       "      <th>14672</th>\n",
       "      <td>python</td>\n",
       "      <td>scikit-learn</td>\n",
       "      <td>anomaly-detection</td>\n",
       "      <td>outlier</td>\n",
       "      <td>None</td>\n",
       "    </tr>\n",
       "    <tr>\n",
       "      <th>14673</th>\n",
       "      <td>No tags</td>\n",
       "      <td>None</td>\n",
       "      <td>None</td>\n",
       "      <td>None</td>\n",
       "      <td>None</td>\n",
       "    </tr>\n",
       "    <tr>\n",
       "      <th>14674</th>\n",
       "      <td>python</td>\n",
       "      <td>logistic-regression</td>\n",
       "      <td>None</td>\n",
       "      <td>None</td>\n",
       "      <td>None</td>\n",
       "    </tr>\n",
       "    <tr>\n",
       "      <th>14675</th>\n",
       "      <td>dataset</td>\n",
       "      <td>nlp</td>\n",
       "      <td>machine-translation</td>\n",
       "      <td>google</td>\n",
       "      <td>None</td>\n",
       "    </tr>\n",
       "  </tbody>\n",
       "</table>\n",
       "<p>14676 rows × 5 columns</p>\n",
       "</div>"
      ],
      "text/plain": [
       "                         0                    1                    2        3  \\\n",
       "0                   python           statistics                 None     None   \n",
       "1                  No tags                 None                 None     None   \n",
       "2      logistic-regression                 None                 None     None   \n",
       "3                  No tags                 None                 None     None   \n",
       "4                      nlp              chatbot                 None     None   \n",
       "...                    ...                  ...                  ...      ...   \n",
       "14671               python         scikit-learn    anomaly-detection  outlier   \n",
       "14672               python         scikit-learn    anomaly-detection  outlier   \n",
       "14673              No tags                 None                 None     None   \n",
       "14674               python  logistic-regression                 None     None   \n",
       "14675              dataset                  nlp  machine-translation   google   \n",
       "\n",
       "                     4  \n",
       "0                 None  \n",
       "1                 None  \n",
       "2                 None  \n",
       "3                 None  \n",
       "4                 None  \n",
       "...                ...  \n",
       "14671  data-imputation  \n",
       "14672             None  \n",
       "14673             None  \n",
       "14674             None  \n",
       "14675             None  \n",
       "\n",
       "[14676 rows x 5 columns]"
      ]
     },
     "execution_count": 9,
     "metadata": {},
     "output_type": "execute_result"
    }
   ],
   "source": [
    "tags_df = stack_2019_df['Tags'].str.split(',', expand=True)\n",
    "tags_df"
   ]
  },
  {
   "cell_type": "markdown",
   "id": "313c5bda",
   "metadata": {},
   "source": [
    "Now we only have to combine all columns and drop `NaN` values."
   ]
  },
  {
   "cell_type": "code",
   "execution_count": 10,
   "id": "b5cef4f7",
   "metadata": {},
   "outputs": [
    {
     "data": {
      "text/plain": [
       "0                       python\n",
       "1                      No tags\n",
       "2          logistic-regression\n",
       "3                      No tags\n",
       "4                          nlp\n",
       "                 ...          \n",
       "28431          word-embeddings\n",
       "28432      predictive-modeling\n",
       "28433                  smotenc\n",
       "28434    unsupervised-learning\n",
       "28435          data-imputation\n",
       "Length: 28436, dtype: object"
      ]
     },
     "execution_count": 10,
     "metadata": {},
     "output_type": "execute_result"
    }
   ],
   "source": [
    "tags = tags_df[0]\n",
    "\n",
    "for i in range(1,5):\n",
    "    tags = pd.concat([tags, tags_df[i]])\n",
    "\n",
    "tags.dropna(inplace=True)\n",
    "tags.reset_index(drop=True, inplace=True)\n",
    "\n",
    "tags"
   ]
  },
  {
   "cell_type": "code",
   "execution_count": 11,
   "id": "e2fa6f00",
   "metadata": {},
   "outputs": [
    {
     "data": {
      "text/plain": [
       "machine-learning          2134\n",
       "machine-learning-model     172\n",
       "dtype: int64"
      ]
     },
     "execution_count": 11,
     "metadata": {},
     "output_type": "execute_result"
    }
   ],
   "source": [
    "tags[tags.str.contains('machine-learning')].value_counts()"
   ]
  },
  {
   "cell_type": "markdown",
   "id": "4f6b0df9",
   "metadata": {},
   "source": [
    "We've got series that contains separated tags. With that we can find how many times each tag was used. Let's check **top 7** for example."
   ]
  },
  {
   "cell_type": "code",
   "execution_count": 12,
   "id": "5ddca319",
   "metadata": {},
   "outputs": [
    {
     "data": {
      "text/plain": [
       "Text(0.5, 1.0, 'Top 7 used tags')"
      ]
     },
     "execution_count": 12,
     "metadata": {},
     "output_type": "execute_result"
    },
    {
     "data": {
      "image/png": "[encoded data removed]",
      "text/plain": [
       "<Figure size 1152x648 with 1 Axes>"
      ]
     },
     "metadata": {
      "needs_background": "light"
     },
     "output_type": "display_data"
    }
   ],
   "source": [
    "%matplotlib inline\n",
    "\n",
    "#Create df for seven most used tags exlude \"No tags\"\n",
    "top_7_tags = tags.value_counts().head(7).to_frame()\n",
    "top_7_tags.drop('No tags', inplace=True)\n",
    "top_7_tags.columns = ['Uses']\n",
    "\n",
    "#Simple bar plot for uses\n",
    "fig, ax = plt.subplots(figsize=(16,9))\n",
    "ax.bar(top_7_tags.index, top_7_tags['Uses'], color=\"mediumpurple\")\n",
    "plt.xticks(fontsize=14)\n",
    "plt.yticks(fontsize=14)\n",
    "\n",
    "def set_annotations(ax, df_column):\n",
    "    #Make annotation for bar plot\n",
    "    for i, uses in enumerate(df_column):\n",
    "        ax.text(i, uses - 0.1 * df_column.iloc[0], uses,\n",
    "                horizontalalignment='center', fontsize=16, color=\"white\")\n",
    "        \n",
    "set_annotations(ax, top_7_tags.Uses)\n",
    "\n",
    "plt.title(\"Top 7 used tags\", fontsize=36)"
   ]
  },
  {
   "cell_type": "markdown",
   "id": "f8a3c5b5",
   "metadata": {},
   "source": [
    "Okay, we have the most used tags top. Our current leader is **machine-learning** tag with **2134** uses. But there can be one tricky problem. \n",
    ">What if posts with these tags have never been seen and answered? \n",
    "\n",
    "So it would be unwise not to check how many views or answers do these posts have. Let's add these metrics to `top_7_tags` dataframe."
   ]
  },
  {
   "cell_type": "code",
   "execution_count": 13,
   "id": "159f2247",
   "metadata": {},
   "outputs": [
    {
     "data": {
      "text/html": [
       "<div>\n",
       "<style scoped>\n",
       "    .dataframe tbody tr th:only-of-type {\n",
       "        vertical-align: middle;\n",
       "    }\n",
       "\n",
       "    .dataframe tbody tr th {\n",
       "        vertical-align: top;\n",
       "    }\n",
       "\n",
       "    .dataframe thead th {\n",
       "        text-align: right;\n",
       "    }\n",
       "</style>\n",
       "<table border=\"1\" class=\"dataframe\">\n",
       "  <thead>\n",
       "    <tr style=\"text-align: right;\">\n",
       "      <th></th>\n",
       "      <th>Uses</th>\n",
       "      <th>Views</th>\n",
       "      <th>Answers</th>\n",
       "    </tr>\n",
       "  </thead>\n",
       "  <tbody>\n",
       "    <tr>\n",
       "      <th>machine-learning</th>\n",
       "      <td>2134</td>\n",
       "      <td>1621199</td>\n",
       "      <td>2624</td>\n",
       "    </tr>\n",
       "    <tr>\n",
       "      <th>python</th>\n",
       "      <td>1445</td>\n",
       "      <td>2453840</td>\n",
       "      <td>1669</td>\n",
       "    </tr>\n",
       "    <tr>\n",
       "      <th>deep-learning</th>\n",
       "      <td>896</td>\n",
       "      <td>907840</td>\n",
       "      <td>1003</td>\n",
       "    </tr>\n",
       "    <tr>\n",
       "      <th>neural-network</th>\n",
       "      <td>820</td>\n",
       "      <td>836628</td>\n",
       "      <td>988</td>\n",
       "    </tr>\n",
       "    <tr>\n",
       "      <th>keras</th>\n",
       "      <td>706</td>\n",
       "      <td>1026508</td>\n",
       "      <td>736</td>\n",
       "    </tr>\n",
       "    <tr>\n",
       "      <th>classification</th>\n",
       "      <td>579</td>\n",
       "      <td>683915</td>\n",
       "      <td>1024</td>\n",
       "    </tr>\n",
       "  </tbody>\n",
       "</table>\n",
       "</div>"
      ],
      "text/plain": [
       "                  Uses    Views  Answers\n",
       "machine-learning  2134  1621199     2624\n",
       "python            1445  2453840     1669\n",
       "deep-learning      896   907840     1003\n",
       "neural-network     820   836628      988\n",
       "keras              706  1026508      736\n",
       "classification     579   683915     1024"
      ]
     },
     "execution_count": 13,
     "metadata": {},
     "output_type": "execute_result"
    }
   ],
   "source": [
    "# Iterate for each tag from top 7\n",
    "for tag in top_7_tags.index:\n",
    "        \n",
    "    mask = stack_2019_df['Tags'].str.contains(tag, regex=False)\n",
    "    \n",
    "    tag_views = stack_2019_df.loc[mask, 'ViewCount'].sum()#Views for current tag\n",
    "    tag_answers = stack_2019_df.loc[mask, 'AnswerCount'].sum()#Answers for current tag\n",
    "    \n",
    "    top_7_tags.loc[tag, 'Views'] = tag_views\n",
    "    top_7_tags.loc[tag, 'Answers'] = tag_answers\n",
    "\n",
    "top_7_tags[['Views', 'Answers']] = top_7_tags[\n",
    "                                 ['Views','Answers']].astype('int64')\n",
    "    \n",
    "top_7_tags"
   ]
  },
  {
   "cell_type": "markdown",
   "id": "b22d5357",
   "metadata": {},
   "source": [
    "Now we can build plot for views and answers aswell."
   ]
  },
  {
   "cell_type": "code",
   "execution_count": 14,
   "id": "a1a0c11b",
   "metadata": {},
   "outputs": [
    {
     "data": {
      "image/png": "[encoded data removed]",
      "text/plain": [
       "<Figure size 1152x1296 with 3 Axes>"
      ]
     },
     "metadata": {
      "needs_background": "light"
     },
     "output_type": "display_data"
    }
   ],
   "source": [
    "fig, axs = plt.subplots(3, figsize=(16,18))\n",
    "\n",
    "#Plot for uses\n",
    "axs[0].bar(top_7_tags.index, top_7_tags['Uses'],\n",
    "           color=\"mediumpurple\")\n",
    "\n",
    "axs[0].set_title(\"Top 7 used tags\", fontsize=24)\n",
    "set_annotations(axs[0], top_7_tags.Uses)\n",
    "\n",
    "#Plot for views\n",
    "top_7_tags.sort_values(by='Views', ascending=False, inplace=True)\n",
    "\n",
    "axs[1].bar(top_7_tags.index, top_7_tags['Views'],\n",
    "           color=\"mediumpurple\")\n",
    "\n",
    "axs[1].set_title(\"Top 7 viewed tags\", fontsize=24)\n",
    "set_annotations(axs[1], top_7_tags.Views)\n",
    "\n",
    "#Plot for answers\n",
    "top_7_tags.sort_values(by='Answers', ascending=False, inplace=True)\n",
    "\n",
    "axs[2].bar(top_7_tags.index, top_7_tags['Answers'].sort_values(ascending=False),\n",
    "           color=\"mediumpurple\")\n",
    "\n",
    "axs[2].set_title(\"Top 7 answered tags\", fontsize=24)\n",
    "set_annotations(axs[2], top_7_tags.Answers)\n",
    "\n",
    "for i in range(0,3):\n",
    "    axs[i].tick_params(labelsize=14)"
   ]
  },
  {
   "cell_type": "markdown",
   "id": "ee2fac5c",
   "metadata": {},
   "source": [
    "Let's work with views because there a lot of read only I assume they generates views only."
   ]
  },
  {
   "cell_type": "code",
   "execution_count": null,
   "id": "56c8e75d",
   "metadata": {},
   "outputs": [],
   "source": []
  }
 ],
 "metadata": {
  "kernelspec": {
   "display_name": "Python 3",
   "language": "python",
   "name": "python3"
  },
  "language_info": {
   "codemirror_mode": {
    "name": "ipython",
    "version": 3
   },
   "file_extension": ".py",
   "mimetype": "text/x-python",
   "name": "python",
   "nbconvert_exporter": "python",
   "pygments_lexer": "ipython3",
   "version": "3.9.5"
  },
  "toc": {
   "base_numbering": 1,
   "nav_menu": {},
   "number_sections": false,
   "sideBar": true,
   "skip_h1_title": true,
   "title_cell": "Table of Contents",
   "title_sidebar": "Contents",
   "toc_cell": false,
   "toc_position": {},
   "toc_section_display": true,
   "toc_window_display": true
  }
 },
 "nbformat": 4,
 "nbformat_minor": 5
}
