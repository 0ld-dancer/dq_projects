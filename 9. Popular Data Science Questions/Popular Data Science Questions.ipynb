{
 "cells": [
  {
   "cell_type": "markdown",
   "id": "2820d624",
   "metadata": {},
   "source": [
    "# Popular Data Science Questions\n",
    "---\n",
    "## Introduction\n",
    "### What is this project about\n",
    "\n",
    "In this scenario, we're working for a company that creates data science content, be it books, online articles, videos or interactive text-based platforms like [Dataquest](https://www.dataquest.io/). And as enthusiastic employees we've desided to scour the internet in search for the answer to the question:\n",
    "* **What is it that people want to learn about in data science?**\n",
    "\n",
    "Thinking back to our experience when we first started learning programming, it occurs to us that if we wanted to figure out what programming content to write, we could consult [Stack Overflow](https://stackoverflow.com/) and see what kind of content is more popular. We've decided to investigate Stack Overflow a little more and found out that it is part of a question and answer website network called [Stack Exchange](https://stackexchange.com/).\n",
    "![Image](https://dq-content.s3.amazonaws.com/469/se_sites.png)\n",
    "\n",
    "---\n",
    "\n",
    "Stack Exchange hosts a huge amount of sitess on a multitude of fields and subjects, including mathematics, physics, philosophy, and data science. Just what we are looking for!\n",
    "Also we can include data engineering as our point of interest. So there are some websites relevant to our goal:\n",
    "* [Data Science](https://datascience.stackexchange.com/)\n",
    "* [Cross Validated](https://stats.stackexchange.com/) (a statistics site)\n",
    "* [Artificial Intelligence](https://ai.stackexchange.com/)\n",
    "* [Mathematics](https://math.stackexchange.com/)\n",
    "* [Stack Overflow](https://stackoverflow.com/) itself\n",
    "* [Database Administrators](https://dba.stackexchange.com/)\n",
    "* [Unix & Linux](https://unix.stackexchange.com/)\n",
    "* [Software Engineering](https://softwareengineering.stackexchange.com/)\n",
    "\n",
    "### A closer look to the Stack Exchange websites\n",
    "Let's take for example **Stack Overflow** and walk through it a bit just to get you familiar with it. Another sites are similar to Stack Overflow\n",
    "\n",
    "Basically **it is Q&A website** where everyone welcomes to ask about a wide range of topics in computer programming. If someone runs into a problem, doesn't know exactly how a particular function works, or is struggling to get their code to work they come here.\n",
    "\n",
    "Due to issues can be related to different programming languages, there is a **tagging system** that helps filter and navigate content. Also there is a **voting system** that allows to rate best questions and answers so their authors can earn reputation points.\n",
    "\n",
    "And finally there is a **job finding section** where you can try to get youself a new fancy job.\n",
    "\n",
    "So the question here is the main unit followed with answer and comments. It has rating, views number and tags (usually)\n",
    "\n",
    "![Image](https://upload.wikimedia.org/wikipedia/commons/d/dd/Stack_Overflow_Home.png)\n",
    "\n",
    "---\n",
    "\n",
    "### Stack Exchange Database\n",
    "\n",
    "Stack Exchange provides a public data base for each of its websites. Here's a link to query and explore [Data Science Stack Exchange's database](https://data.stackexchange.com/datascience/query/new). It uses a Transact-SQL to write queries.\n",
    "\n",
    "There are a lot of intresting tables like:\n",
    "* Posts\n",
    "* Tags\n",
    "* TagSynonymous\n",
    "* Comments\n",
    "\n",
    "## First steps\n",
    "### Stack Exchange Data Explorer\n",
    "Stack Exchange Data Explorer or just SEDE is a great instrument so why wouldn't we use it. We can run a query right there and just download a CSV file that we'll be able to use further.\n",
    "\n",
    "Let's start with the posts table. We'll be focusing our attention on those that seem relevant towards our goal:\n",
    "\n",
    "* **Id**: An identification number for the post.\n",
    "* **PostTypeId**: An identification number for the type of post.\n",
    "* **CreationDate**: The date and time of creation of the post.\n",
    "* **Score**: The post's score.\n",
    "* **ViewCount**: How many times the post was viewed.\n",
    "* **Tags**: What tags were used.\n",
    "* **AnswerCount**: How many answers the question got.\n",
    "* **FavoriteCount**: How many times the question was favored.\n",
    "\n",
    "Also we will limit ourselves questions asked in 2019.\n",
    "\n",
    "To get that info from the SEDE we'll run the folllowing query:\n",
    "```\n",
    "SELECT p.Id, pt.Name AS PostType, p.CreationDate, p.Score,\n",
    "       p.ViewCount, p.Tags, p.AnswerCount, p.FavoriteCount\n",
    "  FROM posts AS p\n",
    "       LEFT JOIN PostTypes AS pt\n",
    "       ON p.PostTypeId = pt.Id\n",
    " WHERE YEAR(CreationDate) = 2019;\n",
    "```\n",
    "Then we'll just download related CSV and read it to the dataframe."
   ]
  },
  {
   "cell_type": "code",
   "execution_count": 1,
   "id": "d36dac56",
   "metadata": {
    "scrolled": false
   },
   "outputs": [
    {
     "data": {
      "text/html": [
       "<div>\n",
       "<style scoped>\n",
       "    .dataframe tbody tr th:only-of-type {\n",
       "        vertical-align: middle;\n",
       "    }\n",
       "\n",
       "    .dataframe tbody tr th {\n",
       "        vertical-align: top;\n",
       "    }\n",
       "\n",
       "    .dataframe thead th {\n",
       "        text-align: right;\n",
       "    }\n",
       "</style>\n",
       "<table border=\"1\" class=\"dataframe\">\n",
       "  <thead>\n",
       "    <tr style=\"text-align: right;\">\n",
       "      <th></th>\n",
       "      <th>Id</th>\n",
       "      <th>PostType</th>\n",
       "      <th>CreationDate</th>\n",
       "      <th>Score</th>\n",
       "      <th>ViewCount</th>\n",
       "      <th>Tags</th>\n",
       "      <th>AnswerCount</th>\n",
       "      <th>FavoriteCount</th>\n",
       "    </tr>\n",
       "  </thead>\n",
       "  <tbody>\n",
       "    <tr>\n",
       "      <th>0</th>\n",
       "      <td>49302</td>\n",
       "      <td>Question</td>\n",
       "      <td>2019-04-15 04:00:33</td>\n",
       "      <td>0</td>\n",
       "      <td>1818.0</td>\n",
       "      <td>&lt;python&gt;&lt;statistics&gt;</td>\n",
       "      <td>1.0</td>\n",
       "      <td>NaN</td>\n",
       "    </tr>\n",
       "    <tr>\n",
       "      <th>1</th>\n",
       "      <td>49303</td>\n",
       "      <td>Answer</td>\n",
       "      <td>2019-04-15 04:34:33</td>\n",
       "      <td>4</td>\n",
       "      <td>NaN</td>\n",
       "      <td>NaN</td>\n",
       "      <td>NaN</td>\n",
       "      <td>NaN</td>\n",
       "    </tr>\n",
       "    <tr>\n",
       "      <th>2</th>\n",
       "      <td>49304</td>\n",
       "      <td>Question</td>\n",
       "      <td>2019-04-15 05:35:40</td>\n",
       "      <td>0</td>\n",
       "      <td>123.0</td>\n",
       "      <td>&lt;logistic-regression&gt;</td>\n",
       "      <td>1.0</td>\n",
       "      <td>NaN</td>\n",
       "    </tr>\n",
       "    <tr>\n",
       "      <th>3</th>\n",
       "      <td>49305</td>\n",
       "      <td>Answer</td>\n",
       "      <td>2019-04-15 05:43:03</td>\n",
       "      <td>0</td>\n",
       "      <td>NaN</td>\n",
       "      <td>NaN</td>\n",
       "      <td>NaN</td>\n",
       "      <td>NaN</td>\n",
       "    </tr>\n",
       "    <tr>\n",
       "      <th>4</th>\n",
       "      <td>49306</td>\n",
       "      <td>Question</td>\n",
       "      <td>2019-04-15 06:02:12</td>\n",
       "      <td>0</td>\n",
       "      <td>172.0</td>\n",
       "      <td>&lt;nlp&gt;&lt;chatbot&gt;</td>\n",
       "      <td>1.0</td>\n",
       "      <td>1.0</td>\n",
       "    </tr>\n",
       "  </tbody>\n",
       "</table>\n",
       "</div>"
      ],
      "text/plain": [
       "      Id  PostType         CreationDate  Score  ViewCount  \\\n",
       "0  49302  Question  2019-04-15 04:00:33      0     1818.0   \n",
       "1  49303    Answer  2019-04-15 04:34:33      4        NaN   \n",
       "2  49304  Question  2019-04-15 05:35:40      0      123.0   \n",
       "3  49305    Answer  2019-04-15 05:43:03      0        NaN   \n",
       "4  49306  Question  2019-04-15 06:02:12      0      172.0   \n",
       "\n",
       "                    Tags  AnswerCount  FavoriteCount  \n",
       "0   <python><statistics>          1.0            NaN  \n",
       "1                    NaN          NaN            NaN  \n",
       "2  <logistic-regression>          1.0            NaN  \n",
       "3                    NaN          NaN            NaN  \n",
       "4         <nlp><chatbot>          1.0            1.0  "
      ]
     },
     "execution_count": 1,
     "metadata": {},
     "output_type": "execute_result"
    }
   ],
   "source": [
    "import pandas as pd\n",
    "import matplotlib.pyplot as plt\n",
    "\n",
    "stack_2019_df = pd.read_csv(\"QueryResults_2019.csv\")\n",
    "stack_2019_df.head()"
   ]
  },
  {
   "cell_type": "markdown",
   "id": "34eeefaa",
   "metadata": {},
   "source": [
    "### Exploring and cleansing\n",
    "\n",
    "Nowe we have familiar that we can explore. So let's see what we're dealing with!\n",
    "\n",
    "Start with overall info."
   ]
  },
  {
   "cell_type": "code",
   "execution_count": 2,
   "id": "591ba20e",
   "metadata": {
    "scrolled": false
   },
   "outputs": [
    {
     "name": "stdout",
     "output_type": "stream",
     "text": [
      "<class 'pandas.core.frame.DataFrame'>\n",
      "RangeIndex: 14676 entries, 0 to 14675\n",
      "Data columns (total 8 columns):\n",
      " #   Column         Non-Null Count  Dtype  \n",
      "---  ------         --------------  -----  \n",
      " 0   Id             14676 non-null  int64  \n",
      " 1   PostType       14676 non-null  object \n",
      " 2   CreationDate   14676 non-null  object \n",
      " 3   Score          14676 non-null  int64  \n",
      " 4   ViewCount      6773 non-null   float64\n",
      " 5   Tags           6773 non-null   object \n",
      " 6   AnswerCount    6773 non-null   float64\n",
      " 7   FavoriteCount  1656 non-null   float64\n",
      "dtypes: float64(3), int64(2), object(3)\n",
      "memory usage: 917.4+ KB\n"
     ]
    }
   ],
   "source": [
    "stack_2019_df.info()"
   ]
  },
  {
   "cell_type": "markdown",
   "id": "bf07156d",
   "metadata": {},
   "source": [
    "Thera are a few issues as we can see:\n",
    "* `CreationDate` column isn't `datetime` type. We should fix it.\n",
    "* `ViewCount`, `AnswerCount` and `FavoriteCount` columns should be `int64`.\n",
    "* `ViewCount`, `AnswerCount` and `FavoriteCount` columns have a lot of missing values. We may find a way to fix it aswell.\n",
    "* `Tags` column aslo has missing values but due to it's not a counting column it will not be easy to fix.\n",
    "\n",
    "First goes first - let's deal with the `CreationDate` column."
   ]
  },
  {
   "cell_type": "code",
   "execution_count": 3,
   "id": "f4adeb77",
   "metadata": {
    "scrolled": false
   },
   "outputs": [
    {
     "data": {
      "text/plain": [
       "0   2019-04-15 04:00:33\n",
       "1   2019-04-15 04:34:33\n",
       "2   2019-04-15 05:35:40\n",
       "3   2019-04-15 05:43:03\n",
       "4   2019-04-15 06:02:12\n",
       "Name: CreationDate, dtype: datetime64[ns]"
      ]
     },
     "execution_count": 3,
     "metadata": {},
     "output_type": "execute_result"
    }
   ],
   "source": [
    "stack_2019_df['CreationDate'] = pd.to_datetime(stack_2019_df['CreationDate'])\n",
    "stack_2019_df['CreationDate'].head()"
   ]
  },
  {
   "cell_type": "markdown",
   "id": "c25d758c",
   "metadata": {},
   "source": [
    "It's done!\n",
    "\n",
    "Now proceed to the next step - missing values with the counting columns.\n",
    "\n",
    "`AnswerCount` column is appliable for questions only. It's obvious actually. Why would you answer to the another answer! There are comments for it.\n",
    "\n",
    "And making favorite answer or comment also isn't convenient because the question is the boss here as we already know. So `FavoriteCount` column used to only question itself.\n",
    "\n",
    "In this way all `NaN` values should be in these columns only. Let's check these columns for all non-question post types."
   ]
  },
  {
   "cell_type": "code",
   "execution_count": 4,
   "id": "562edac5",
   "metadata": {
    "scrolled": false
   },
   "outputs": [
    {
     "name": "stdout",
     "output_type": "stream",
     "text": [
      "<class 'pandas.core.frame.DataFrame'>\n",
      "Int64Index: 7903 entries, 1 to 14673\n",
      "Data columns (total 3 columns):\n",
      " #   Column         Non-Null Count  Dtype  \n",
      "---  ------         --------------  -----  \n",
      " 0   PostType       7903 non-null   object \n",
      " 1   AnswerCount    0 non-null      float64\n",
      " 2   FavoriteCount  0 non-null      float64\n",
      "dtypes: float64(2), object(1)\n",
      "memory usage: 247.0+ KB\n"
     ]
    }
   ],
   "source": [
    "stack_2019_df.loc[stack_2019_df['PostType'] != 'Question', ['PostType', 'AnswerCount', 'FavoriteCount']].info()"
   ]
  },
  {
   "cell_type": "markdown",
   "id": "c9c47dfe",
   "metadata": {},
   "source": [
    "Yep, all values are `NaN` in our columns like we've assumed. So it is reasonable to replace them to `0`.\n",
    "\n",
    "Probably `ViewCount` column uses `NaN` values instead of `0`. We'll check it aswell."
   ]
  },
  {
   "cell_type": "code",
   "execution_count": 5,
   "id": "94bcd0aa",
   "metadata": {
    "scrolled": false
   },
   "outputs": [
    {
     "data": {
      "text/plain": [
       "8.0            2\n",
       "9.0            5\n",
       "10.0           5\n",
       "11.0           9\n",
       "12.0           8\n",
       "            ... \n",
       "92580.0        1\n",
       "106605.0       1\n",
       "111240.0       1\n",
       "152559.0       1\n",
       "NaN         7903\n",
       "Name: ViewCount, Length: 1899, dtype: int64"
      ]
     },
     "execution_count": 5,
     "metadata": {},
     "output_type": "execute_result"
    }
   ],
   "source": [
    "stack_2019_df['ViewCount'].value_counts(dropna=False).sort_index()"
   ]
  },
  {
   "cell_type": "markdown",
   "id": "a66f0d71",
   "metadata": {},
   "source": [
    "There is no `0` values at all so as we assumed `NaN` stands for it.\n",
    "\n",
    "Now we can easily replace all `NaN`s with `0` and change type to the `int64` at the same time."
   ]
  },
  {
   "cell_type": "code",
   "execution_count": 6,
   "id": "20e22695",
   "metadata": {
    "scrolled": false
   },
   "outputs": [
    {
     "name": "stdout",
     "output_type": "stream",
     "text": [
      "<class 'pandas.core.frame.DataFrame'>\n",
      "RangeIndex: 14676 entries, 0 to 14675\n",
      "Data columns (total 8 columns):\n",
      " #   Column         Non-Null Count  Dtype         \n",
      "---  ------         --------------  -----         \n",
      " 0   Id             14676 non-null  int64         \n",
      " 1   PostType       14676 non-null  object        \n",
      " 2   CreationDate   14676 non-null  datetime64[ns]\n",
      " 3   Score          14676 non-null  int64         \n",
      " 4   ViewCount      14676 non-null  int64         \n",
      " 5   Tags           6773 non-null   object        \n",
      " 6   AnswerCount    14676 non-null  int64         \n",
      " 7   FavoriteCount  14676 non-null  int64         \n",
      "dtypes: datetime64[ns](1), int64(5), object(2)\n",
      "memory usage: 917.4+ KB\n"
     ]
    }
   ],
   "source": [
    "stack_2019_df[['ViewCount','AnswerCount', 'FavoriteCount']] = stack_2019_df[\n",
    "    ['ViewCount', 'AnswerCount', 'FavoriteCount']].fillna(0).astype('int64')\n",
    "\n",
    "stack_2019_df.info()"
   ]
  },
  {
   "cell_type": "markdown",
   "id": "8aa7e451",
   "metadata": {},
   "source": [
    "### Tags\n",
    "\n",
    "Now we can start cleansing probably the most important column - `Tags`. At first look there are two problems:\n",
    "* Missing values\n",
    "* Quite inconvinient way of storing more than two tags - `<python><statistics>`\n",
    "\n",
    "Let's solve the second problem first. String `<python><statistics>` actually means two different tags: `python` and `stasistics`. So it seems logical to separate two tags with `,` and not with `><`. Also we don't need any extra symbols at the begining and at the end of the strings.\n",
    "\n",
    "So let's replace all `><` with `,` and remove any single angle brackets."
   ]
  },
  {
   "cell_type": "code",
   "execution_count": 7,
   "id": "8c32b43c",
   "metadata": {
    "scrolled": false
   },
   "outputs": [
    {
     "data": {
      "text/plain": [
       "0                                     [python, statistics]\n",
       "1                                                      NaN\n",
       "2                                    [logistic-regression]\n",
       "3                                                      NaN\n",
       "4                                           [nlp, chatbot]\n",
       "                               ...                        \n",
       "14671    [python, scikit-learn, anomaly-detection, outl...\n",
       "14672    [python, scikit-learn, anomaly-detection, outl...\n",
       "14673                                                  NaN\n",
       "14674                        [python, logistic-regression]\n",
       "14675          [dataset, nlp, machine-translation, google]\n",
       "Name: Tags, Length: 14676, dtype: object"
      ]
     },
     "execution_count": 7,
     "metadata": {},
     "output_type": "execute_result"
    }
   ],
   "source": [
    "stack_2019_df['Tags'] = stack_2019_df['Tags'].str.replace('><', ',')\\\n",
    "                                             .str.replace('<', '')\\\n",
    "                                             .str.replace('>', '')\\\n",
    "                                             .str.split(',')\n",
    "\n",
    "stack_2019_df['Tags']"
   ]
  },
  {
   "cell_type": "markdown",
   "id": "11c882d6",
   "metadata": {},
   "source": [
    "Now we can go back to the missing values.\n",
    "\n",
    "I think missing values here stand for `0` so these posts just do not have any tags. We can easily replace `NaN` with `No tags` like we did before."
   ]
  },
  {
   "cell_type": "code",
   "execution_count": 8,
   "id": "2c77bbf3",
   "metadata": {
    "scrolled": false
   },
   "outputs": [
    {
     "data": {
      "text/plain": [
       "0                                     [python, statistics]\n",
       "1                                                  No tags\n",
       "2                                    [logistic-regression]\n",
       "3                                                  No tags\n",
       "4                                           [nlp, chatbot]\n",
       "                               ...                        \n",
       "14671    [python, scikit-learn, anomaly-detection, outl...\n",
       "14672    [python, scikit-learn, anomaly-detection, outl...\n",
       "14673                                              No tags\n",
       "14674                        [python, logistic-regression]\n",
       "14675          [dataset, nlp, machine-translation, google]\n",
       "Name: Tags, Length: 14676, dtype: object"
      ]
     },
     "execution_count": 8,
     "metadata": {},
     "output_type": "execute_result"
    }
   ],
   "source": [
    "stack_2019_df['Tags'].fillna(\"No tags\", inplace=True)\n",
    "stack_2019_df['Tags']"
   ]
  },
  {
   "cell_type": "markdown",
   "id": "cfc223a3",
   "metadata": {},
   "source": [
    "## Time for analysys\n",
    "\n",
    "### Tags count\n",
    "\n",
    "So far we have clean and preaty dataframe which means we are free to start some analysys. But first let me remind our main question:\n",
    "* **What is it that people want to learn about in data science?**\n",
    "\n",
    "The best way to answer to this question is using **tags** because each tag is like a short questions topic. But these is still one problem - we have strings with multiply tags. Fortunately we can split them using `,` as delimiter."
   ]
  },
  {
   "cell_type": "code",
   "execution_count": 9,
   "id": "14fe6dee",
   "metadata": {
    "scrolled": false
   },
   "outputs": [
    {
     "data": {
      "text/html": [
       "<div>\n",
       "<style scoped>\n",
       "    .dataframe tbody tr th:only-of-type {\n",
       "        vertical-align: middle;\n",
       "    }\n",
       "\n",
       "    .dataframe tbody tr th {\n",
       "        vertical-align: top;\n",
       "    }\n",
       "\n",
       "    .dataframe thead th {\n",
       "        text-align: right;\n",
       "    }\n",
       "</style>\n",
       "<table border=\"1\" class=\"dataframe\">\n",
       "  <thead>\n",
       "    <tr style=\"text-align: right;\">\n",
       "      <th></th>\n",
       "      <th>0</th>\n",
       "      <th>1</th>\n",
       "      <th>2</th>\n",
       "      <th>3</th>\n",
       "      <th>4</th>\n",
       "    </tr>\n",
       "  </thead>\n",
       "  <tbody>\n",
       "    <tr>\n",
       "      <th>0</th>\n",
       "      <td>python</td>\n",
       "      <td>statistics</td>\n",
       "      <td>NaN</td>\n",
       "      <td>NaN</td>\n",
       "      <td>NaN</td>\n",
       "    </tr>\n",
       "    <tr>\n",
       "      <th>1</th>\n",
       "      <td>No tags</td>\n",
       "      <td>NaN</td>\n",
       "      <td>NaN</td>\n",
       "      <td>NaN</td>\n",
       "      <td>NaN</td>\n",
       "    </tr>\n",
       "    <tr>\n",
       "      <th>2</th>\n",
       "      <td>logistic-regression</td>\n",
       "      <td>NaN</td>\n",
       "      <td>NaN</td>\n",
       "      <td>NaN</td>\n",
       "      <td>NaN</td>\n",
       "    </tr>\n",
       "    <tr>\n",
       "      <th>3</th>\n",
       "      <td>No tags</td>\n",
       "      <td>NaN</td>\n",
       "      <td>NaN</td>\n",
       "      <td>NaN</td>\n",
       "      <td>NaN</td>\n",
       "    </tr>\n",
       "    <tr>\n",
       "      <th>4</th>\n",
       "      <td>nlp</td>\n",
       "      <td>chatbot</td>\n",
       "      <td>NaN</td>\n",
       "      <td>NaN</td>\n",
       "      <td>NaN</td>\n",
       "    </tr>\n",
       "    <tr>\n",
       "      <th>...</th>\n",
       "      <td>...</td>\n",
       "      <td>...</td>\n",
       "      <td>...</td>\n",
       "      <td>...</td>\n",
       "      <td>...</td>\n",
       "    </tr>\n",
       "    <tr>\n",
       "      <th>14671</th>\n",
       "      <td>python</td>\n",
       "      <td>scikit-learn</td>\n",
       "      <td>anomaly-detection</td>\n",
       "      <td>outlier</td>\n",
       "      <td>data-imputation</td>\n",
       "    </tr>\n",
       "    <tr>\n",
       "      <th>14672</th>\n",
       "      <td>python</td>\n",
       "      <td>scikit-learn</td>\n",
       "      <td>anomaly-detection</td>\n",
       "      <td>outlier</td>\n",
       "      <td>NaN</td>\n",
       "    </tr>\n",
       "    <tr>\n",
       "      <th>14673</th>\n",
       "      <td>No tags</td>\n",
       "      <td>NaN</td>\n",
       "      <td>NaN</td>\n",
       "      <td>NaN</td>\n",
       "      <td>NaN</td>\n",
       "    </tr>\n",
       "    <tr>\n",
       "      <th>14674</th>\n",
       "      <td>python</td>\n",
       "      <td>logistic-regression</td>\n",
       "      <td>NaN</td>\n",
       "      <td>NaN</td>\n",
       "      <td>NaN</td>\n",
       "    </tr>\n",
       "    <tr>\n",
       "      <th>14675</th>\n",
       "      <td>dataset</td>\n",
       "      <td>nlp</td>\n",
       "      <td>machine-translation</td>\n",
       "      <td>google</td>\n",
       "      <td>NaN</td>\n",
       "    </tr>\n",
       "  </tbody>\n",
       "</table>\n",
       "<p>14676 rows × 5 columns</p>\n",
       "</div>"
      ],
      "text/plain": [
       "                         0                    1                    2        3  \\\n",
       "0                   python           statistics                  NaN      NaN   \n",
       "1                  No tags                  NaN                  NaN      NaN   \n",
       "2      logistic-regression                  NaN                  NaN      NaN   \n",
       "3                  No tags                  NaN                  NaN      NaN   \n",
       "4                      nlp              chatbot                  NaN      NaN   \n",
       "...                    ...                  ...                  ...      ...   \n",
       "14671               python         scikit-learn    anomaly-detection  outlier   \n",
       "14672               python         scikit-learn    anomaly-detection  outlier   \n",
       "14673              No tags                  NaN                  NaN      NaN   \n",
       "14674               python  logistic-regression                  NaN      NaN   \n",
       "14675              dataset                  nlp  machine-translation   google   \n",
       "\n",
       "                     4  \n",
       "0                  NaN  \n",
       "1                  NaN  \n",
       "2                  NaN  \n",
       "3                  NaN  \n",
       "4                  NaN  \n",
       "...                ...  \n",
       "14671  data-imputation  \n",
       "14672              NaN  \n",
       "14673              NaN  \n",
       "14674              NaN  \n",
       "14675              NaN  \n",
       "\n",
       "[14676 rows x 5 columns]"
      ]
     },
     "execution_count": 9,
     "metadata": {},
     "output_type": "execute_result"
    }
   ],
   "source": [
    "tags_df = stack_2019_df['Tags'].apply(pd.Series)\n",
    "tags_df"
   ]
  },
  {
   "cell_type": "markdown",
   "id": "313c5bda",
   "metadata": {},
   "source": [
    "Now we only have to combine all columns and drop `NaN` values."
   ]
  },
  {
   "cell_type": "code",
   "execution_count": 10,
   "id": "b5cef4f7",
   "metadata": {
    "scrolled": false
   },
   "outputs": [
    {
     "data": {
      "text/plain": [
       "0                       python\n",
       "1                      No tags\n",
       "2          logistic-regression\n",
       "3                      No tags\n",
       "4                          nlp\n",
       "                 ...          \n",
       "28431          word-embeddings\n",
       "28432      predictive-modeling\n",
       "28433                  smotenc\n",
       "28434    unsupervised-learning\n",
       "28435          data-imputation\n",
       "Length: 28436, dtype: object"
      ]
     },
     "execution_count": 10,
     "metadata": {},
     "output_type": "execute_result"
    }
   ],
   "source": [
    "tags = tags_df[0]\n",
    "\n",
    "for i in range(1,5):\n",
    "    tags = pd.concat([tags, tags_df[i]])\n",
    "\n",
    "tags.dropna(inplace=True)\n",
    "tags.reset_index(drop=True, inplace=True)\n",
    "\n",
    "tags"
   ]
  },
  {
   "cell_type": "markdown",
   "id": "4f6b0df9",
   "metadata": {},
   "source": [
    "We've got series that contains separated tags. With that we can find how many times each tag was used."
   ]
  },
  {
   "cell_type": "code",
   "execution_count": 11,
   "id": "7f28b83c",
   "metadata": {},
   "outputs": [],
   "source": [
    "#Create df for most used tags exclude \"No tags\"\n",
    "top_tags = tags.value_counts().to_frame()\n",
    "top_tags.drop('No tags', inplace=True)\n",
    "top_tags.columns = ['Uses']"
   ]
  },
  {
   "cell_type": "markdown",
   "id": "5c57b90a",
   "metadata": {},
   "source": [
    "Now we'll build bar plot for tags and uses. Let's check **top 10** for example."
   ]
  },
  {
   "cell_type": "code",
   "execution_count": 12,
   "id": "5ddca319",
   "metadata": {},
   "outputs": [
    {
     "data": {
      "text/plain": [
       "Text(0.5, 1.0, 'Top 10 used tags')"
      ]
     },
     "execution_count": 12,
     "metadata": {},
     "output_type": "execute_result"
    },
    {
     "data": {
      "image/png": "[encoded data removed]",
      "text/plain": [
       "<Figure size 1152x648 with 1 Axes>"
      ]
     },
     "metadata": {
      "needs_background": "light"
     },
     "output_type": "display_data"
    }
   ],
   "source": [
    "#Simple bar plot for uses\n",
    "%matplotlib inline\n",
    "fig, ax = plt.subplots(figsize=(16,9))\n",
    "ax.bar(top_tags.index[:10],\n",
    "       top_tags.iloc[:10, 0],\n",
    "       color=\"mediumpurple\")\n",
    "\n",
    "plt.xticks(fontsize=14, rotation=45)\n",
    "plt.yticks(fontsize=14)\n",
    "\n",
    "def set_annotations(ax, df_column):\n",
    "    #Make annotation with value for bar plot\n",
    "    for i, uses in enumerate(df_column):\n",
    "        ax.text(i, uses - 0.1 * df_column.iloc[0], uses,\n",
    "                horizontalalignment='center', fontsize=14, color=\"white\")\n",
    "        \n",
    "set_annotations(ax, top_tags.Uses[:10])\n",
    "\n",
    "plt.title(\"Top 10 used tags\", fontsize=36)"
   ]
  },
  {
   "cell_type": "markdown",
   "id": "f8a3c5b5",
   "metadata": {},
   "source": [
    "Okay, we have the most used tags top. Our current leader is **machine-learning** tag with **2134** uses. But there can be one tricky problem. \n",
    ">What if posts with these tags have never been seen and answered? \n",
    "\n",
    "\n",
    "### Checking views and answers\n",
    "According to our last assumption it would be unwise not to check how many views or answers do these posts have. Let's add these metrics to `top_tags` dataframe."
   ]
  },
  {
   "cell_type": "code",
   "execution_count": 13,
   "id": "159f2247",
   "metadata": {
    "scrolled": false
   },
   "outputs": [
    {
     "data": {
      "text/html": [
       "<div>\n",
       "<style scoped>\n",
       "    .dataframe tbody tr th:only-of-type {\n",
       "        vertical-align: middle;\n",
       "    }\n",
       "\n",
       "    .dataframe tbody tr th {\n",
       "        vertical-align: top;\n",
       "    }\n",
       "\n",
       "    .dataframe thead th {\n",
       "        text-align: right;\n",
       "    }\n",
       "</style>\n",
       "<table border=\"1\" class=\"dataframe\">\n",
       "  <thead>\n",
       "    <tr style=\"text-align: right;\">\n",
       "      <th></th>\n",
       "      <th>Uses</th>\n",
       "      <th>Views</th>\n",
       "      <th>Answers</th>\n",
       "    </tr>\n",
       "  </thead>\n",
       "  <tbody>\n",
       "    <tr>\n",
       "      <th>machine-learning</th>\n",
       "      <td>2134</td>\n",
       "      <td>1586378</td>\n",
       "      <td>2542</td>\n",
       "    </tr>\n",
       "    <tr>\n",
       "      <th>python</th>\n",
       "      <td>1445</td>\n",
       "      <td>2431941</td>\n",
       "      <td>1655</td>\n",
       "    </tr>\n",
       "    <tr>\n",
       "      <th>deep-learning</th>\n",
       "      <td>896</td>\n",
       "      <td>907840</td>\n",
       "      <td>1003</td>\n",
       "    </tr>\n",
       "    <tr>\n",
       "      <th>neural-network</th>\n",
       "      <td>820</td>\n",
       "      <td>790461</td>\n",
       "      <td>918</td>\n",
       "    </tr>\n",
       "    <tr>\n",
       "      <th>keras</th>\n",
       "      <td>706</td>\n",
       "      <td>1022784</td>\n",
       "      <td>733</td>\n",
       "    </tr>\n",
       "  </tbody>\n",
       "</table>\n",
       "</div>"
      ],
      "text/plain": [
       "                  Uses    Views  Answers\n",
       "machine-learning  2134  1586378     2542\n",
       "python            1445  2431941     1655\n",
       "deep-learning      896   907840     1003\n",
       "neural-network     820   790461      918\n",
       "keras              706  1022784      733"
      ]
     },
     "execution_count": 13,
     "metadata": {},
     "output_type": "execute_result"
    }
   ],
   "source": [
    "# Iterate for each tag from top_tags\n",
    "for tag in top_tags.index:\n",
    "    #Mask for posts with current tag selection\n",
    "    mask = stack_2019_df['Tags'].apply(lambda x: True if tag in x else False)\n",
    "    \n",
    "    tag_views = stack_2019_df.loc[mask, 'ViewCount'].sum()#Views for current tag\n",
    "    tag_answers = stack_2019_df.loc[mask, 'AnswerCount'].sum()#Answers for current tag\n",
    "    \n",
    "    top_tags.loc[tag, 'Views'] = tag_views\n",
    "    top_tags.loc[tag, 'Answers'] = tag_answers\n",
    "\n",
    "top_tags[['Views', 'Answers']] = top_tags[\n",
    "                                 ['Views','Answers']].astype('int64')\n",
    "    \n",
    "top_tags.head()"
   ]
  },
  {
   "cell_type": "markdown",
   "id": "b22d5357",
   "metadata": {},
   "source": [
    "Now we can build plot for views and answers aswell."
   ]
  },
  {
   "cell_type": "code",
   "execution_count": 14,
   "id": "a1a0c11b",
   "metadata": {
    "scrolled": false
   },
   "outputs": [
    {
     "data": {
      "image/png": "[encoded data removed]",
      "text/plain": [
       "<Figure size 1152x1296 with 3 Axes>"
      ]
     },
     "metadata": {
      "needs_background": "light"
     },
     "output_type": "display_data"
    }
   ],
   "source": [
    "fig, axs = plt.subplots(3, figsize=(16,18))\n",
    "\n",
    "x = 10 #how many tags will be in the top \n",
    "\n",
    "#Plot for uses\n",
    "axs[0].bar(top_tags.index[:x],\n",
    "           top_tags.iloc[:x, 0],\n",
    "           color=\"mediumpurple\")\n",
    "\n",
    "axs[0].set_title(\"Top {} used tags\".format(x), fontsize=24)\n",
    "set_annotations(axs[0], top_tags.Uses[:x])\n",
    "\n",
    "#Plot for views\n",
    "top_tags.sort_values(by='Views', ascending=False, inplace=True)\n",
    "\n",
    "axs[1].bar(top_tags.index[:x],\n",
    "           top_tags.iloc[:x, 1],\n",
    "           color=\"mediumpurple\")\n",
    "\n",
    "axs[1].set_title(\"Top {} viewed tags\".format(x), fontsize=24)\n",
    "set_annotations(axs[1], top_tags.Views[:x])\n",
    "\n",
    "#Plot for answers\n",
    "top_tags.sort_values(by='Answers', ascending=False, inplace=True)\n",
    "\n",
    "axs[2].bar(top_tags.index[:x],\n",
    "           top_tags.iloc[:x, 2],\n",
    "           color=\"mediumpurple\")\n",
    "\n",
    "axs[2].set_title(\"Top {} answered tags\".format(x), fontsize=24)\n",
    "set_annotations(axs[2], top_tags.Answers[:x])\n",
    "\n",
    "plt.subplots_adjust(hspace = 0.35) #Separating subplots\n",
    "\n",
    "for i in range(0,3):\n",
    "    axs[i].tick_params(axis='x', labelsize=12, rotation=15)\n",
    "    axs[i].tick_params(axis='y', labelsize=12)"
   ]
  },
  {
   "cell_type": "markdown",
   "id": "ee2fac5c",
   "metadata": {},
   "source": [
    "We've got our plots! Now we can clearly see that some tags are popular according to different metrics. For example **machine-learning** and **python** tags split first two places in all tops.\n",
    "\n",
    "But there are some tags that appear in some tops only. **Dataframe** tag is one of them and probably not so interesting to analyse. Also that kind of tags can be used with any tag. Tag **python** is applicable to almost any other tag, like **machine-learning,scikit-learn,python**.\n",
    "\n",
    "Also some tags are related to each other. To get more info about tags we use [tags page](https://datascience.stackexchange.com/tags) on DSSE. Let's take **machine-learning** and look at some related tags:\n",
    "* **deep-learnig** - new area of machine Learning research\n",
    "* **neural-network** - programming constructs that mimic the properties of biological neurons\n",
    "* **cnn** - convolutional neural networks used for classification tasks and image recognition\n",
    "* **tesorflow** - open source library for machine learning\n",
    "* **keras** - open-source deep learning API\n",
    "* **scikit-learn** - popular machine learning package for Python\n",
    "* **classification** - one of the main machine learning tasks\n",
    "* **nlp** - natural language processing is a field of computer science concerned with the interactions between computers and human languages\n",
    "\n",
    "And we can continue this list. There is no doubts that **machine learning** is really popular theme but it's like **python** it could represent a lot of different areas of data science like we see above. Let's try be more specific and pick some other tag.\n",
    "\n",
    "Excluding **machine-learning** and **python** we see that next most popular tag is **deep-learning**:\n",
    "* **top 3** by uses and answers\n",
    "* **top 5** by views\n",
    "\n",
    "Also we have closely related tags in our plot like **neural-network** and **keras**.\n",
    "\n",
    "### Deep learning across the years\n",
    "\n",
    "We can be pretty sure that **deep learning** was really popular in 2019. But we want to find theme that would be popular as long as possible. For that purpose let's get extanded dataset from the [SEDE](https://data.stackexchange.com/datascience/query/new) using simle query:\n",
    "\n",
    "```\n",
    "SELECT Id, CreationDate, Tags\n",
    "  FROM posts\n",
    " WHERE PostTypeId = 1;\n",
    "```\n",
    "\n",
    "Then read downloaded csv into dataframe."
   ]
  },
  {
   "cell_type": "code",
   "execution_count": 15,
   "id": "dbe9bef0",
   "metadata": {
    "scrolled": false
   },
   "outputs": [
    {
     "data": {
      "text/html": [
       "<div>\n",
       "<style scoped>\n",
       "    .dataframe tbody tr th:only-of-type {\n",
       "        vertical-align: middle;\n",
       "    }\n",
       "\n",
       "    .dataframe tbody tr th {\n",
       "        vertical-align: top;\n",
       "    }\n",
       "\n",
       "    .dataframe thead th {\n",
       "        text-align: right;\n",
       "    }\n",
       "</style>\n",
       "<table border=\"1\" class=\"dataframe\">\n",
       "  <thead>\n",
       "    <tr style=\"text-align: right;\">\n",
       "      <th></th>\n",
       "      <th>Id</th>\n",
       "      <th>CreationDate</th>\n",
       "      <th>Tags</th>\n",
       "    </tr>\n",
       "  </thead>\n",
       "  <tbody>\n",
       "    <tr>\n",
       "      <th>0</th>\n",
       "      <td>85426</td>\n",
       "      <td>2020-11-14 20:04:19</td>\n",
       "      <td>&lt;machine-learning&gt;&lt;neural-network&gt;&lt;hyperparame...</td>\n",
       "    </tr>\n",
       "    <tr>\n",
       "      <th>1</th>\n",
       "      <td>85433</td>\n",
       "      <td>2020-11-14 22:29:19</td>\n",
       "      <td>&lt;neural-network&gt;&lt;rnn&gt;&lt;gradient-descent&gt;&lt;optimi...</td>\n",
       "    </tr>\n",
       "    <tr>\n",
       "      <th>2</th>\n",
       "      <td>85435</td>\n",
       "      <td>2020-11-15 00:17:00</td>\n",
       "      <td>&lt;statistics&gt;&lt;multiclass-classification&gt;&lt;perfor...</td>\n",
       "    </tr>\n",
       "    <tr>\n",
       "      <th>3</th>\n",
       "      <td>85437</td>\n",
       "      <td>2020-11-15 02:45:16</td>\n",
       "      <td>&lt;neural-network&gt;&lt;multilabel-classification&gt;</td>\n",
       "    </tr>\n",
       "    <tr>\n",
       "      <th>4</th>\n",
       "      <td>85438</td>\n",
       "      <td>2020-11-15 05:26:08</td>\n",
       "      <td>&lt;linear-regression&gt;&lt;k-means&gt;</td>\n",
       "    </tr>\n",
       "    <tr>\n",
       "      <th>5</th>\n",
       "      <td>85439</td>\n",
       "      <td>2020-11-15 07:24:21</td>\n",
       "      <td>&lt;recommender-system&gt;</td>\n",
       "    </tr>\n",
       "    <tr>\n",
       "      <th>6</th>\n",
       "      <td>85441</td>\n",
       "      <td>2020-11-15 11:29:38</td>\n",
       "      <td>&lt;machine-learning&gt;&lt;python&gt;&lt;classification&gt;&lt;log...</td>\n",
       "    </tr>\n",
       "    <tr>\n",
       "      <th>7</th>\n",
       "      <td>85442</td>\n",
       "      <td>2020-11-15 12:14:51</td>\n",
       "      <td>&lt;python&gt;&lt;deep-learning&gt;&lt;keras&gt;&lt;tensorflow&gt;&lt;cnn&gt;</td>\n",
       "    </tr>\n",
       "    <tr>\n",
       "      <th>8</th>\n",
       "      <td>85443</td>\n",
       "      <td>2020-11-15 13:43:43</td>\n",
       "      <td>&lt;machine-learning&gt;&lt;machine-learning-model&gt;</td>\n",
       "    </tr>\n",
       "    <tr>\n",
       "      <th>9</th>\n",
       "      <td>85447</td>\n",
       "      <td>2020-11-15 15:36:00</td>\n",
       "      <td>&lt;deep-learning&gt;&lt;tensorflow&gt;&lt;lstm&gt;&lt;pooling&gt;</td>\n",
       "    </tr>\n",
       "  </tbody>\n",
       "</table>\n",
       "</div>"
      ],
      "text/plain": [
       "      Id        CreationDate  \\\n",
       "0  85426 2020-11-14 20:04:19   \n",
       "1  85433 2020-11-14 22:29:19   \n",
       "2  85435 2020-11-15 00:17:00   \n",
       "3  85437 2020-11-15 02:45:16   \n",
       "4  85438 2020-11-15 05:26:08   \n",
       "5  85439 2020-11-15 07:24:21   \n",
       "6  85441 2020-11-15 11:29:38   \n",
       "7  85442 2020-11-15 12:14:51   \n",
       "8  85443 2020-11-15 13:43:43   \n",
       "9  85447 2020-11-15 15:36:00   \n",
       "\n",
       "                                                Tags  \n",
       "0  <machine-learning><neural-network><hyperparame...  \n",
       "1  <neural-network><rnn><gradient-descent><optimi...  \n",
       "2  <statistics><multiclass-classification><perfor...  \n",
       "3        <neural-network><multilabel-classification>  \n",
       "4                       <linear-regression><k-means>  \n",
       "5                               <recommender-system>  \n",
       "6  <machine-learning><python><classification><log...  \n",
       "7    <python><deep-learning><keras><tensorflow><cnn>  \n",
       "8         <machine-learning><machine-learning-model>  \n",
       "9         <deep-learning><tensorflow><lstm><pooling>  "
      ]
     },
     "execution_count": 15,
     "metadata": {},
     "output_type": "execute_result"
    }
   ],
   "source": [
    "stack_all_df = pd.read_csv(\"QueryResults_all.csv\", parse_dates=[\"CreationDate\"])\n",
    "stack_all_df.head(10)"
   ]
  },
  {
   "cell_type": "markdown",
   "id": "76d448e1",
   "metadata": {},
   "source": [
    "Let's repeat the tags column transformation like we did before."
   ]
  },
  {
   "cell_type": "code",
   "execution_count": 16,
   "id": "4fcfd263",
   "metadata": {},
   "outputs": [
    {
     "data": {
      "text/plain": [
       "0        [machine-learning, neural-network, hyperparame...\n",
       "1        [neural-network, rnn, gradient-descent, optimi...\n",
       "2        [statistics, multiclass-classification, perfor...\n",
       "3              [neural-network, multilabel-classification]\n",
       "4                             [linear-regression, k-means]\n",
       "                               ...                        \n",
       "29361    [cosine-distance, similar-documents, semantic-...\n",
       "29362    [deep-learning, classification, keras, tensorf...\n",
       "29363                  [machine-learning, python, jupyter]\n",
       "29364               [machine-learning, python, nlp, spacy]\n",
       "29365                  [classification, feature-selection]\n",
       "Name: Tags, Length: 29366, dtype: object"
      ]
     },
     "execution_count": 16,
     "metadata": {},
     "output_type": "execute_result"
    }
   ],
   "source": [
    "stack_all_df['Tags'] = stack_all_df['Tags'].str.replace('><', ',')\\\n",
    "                                             .str.replace('<', '')\\\n",
    "                                             .str.replace('>', '')\\\n",
    "                                             .str.split(',')\n",
    "\n",
    "stack_all_df['Tags']"
   ]
  },
  {
   "cell_type": "markdown",
   "id": "7fdcac20",
   "metadata": {},
   "source": [
    "Before we'll start counting tags let's make some assumption. We'll classify as **deep learning** questions those that have one of the following tags:\n",
    "* **deep-learnig**\n",
    "* **neural-network**\n",
    "* **cnn**\n",
    "* **keras**\n",
    "\n",
    "So we'll replace any tags from above to `deep-learning` fro proper futher counting."
   ]
  },
  {
   "cell_type": "code",
   "execution_count": 17,
   "id": "2c405d28",
   "metadata": {},
   "outputs": [
    {
     "data": {
      "text/plain": [
       "0                                          [deep-learning]\n",
       "1                                          [deep-learning]\n",
       "2        [statistics, multiclass-classification, perfor...\n",
       "3                                          [deep-learning]\n",
       "4                             [linear-regression, k-means]\n",
       "                               ...                        \n",
       "29361    [cosine-distance, similar-documents, semantic-...\n",
       "29362                                      [deep-learning]\n",
       "29363                  [machine-learning, python, jupyter]\n",
       "29364               [machine-learning, python, nlp, spacy]\n",
       "29365                  [classification, feature-selection]\n",
       "Name: Tags, Length: 29366, dtype: object"
      ]
     },
     "execution_count": 17,
     "metadata": {},
     "output_type": "execute_result"
    }
   ],
   "source": [
    "#Deep learning related tags\n",
    "dl_tags = ['deep-learning', 'neural-network', 'cnn', 'keras']\n",
    "\n",
    "def make_dl_tag(tag_list):\n",
    "    #Change tag to deep-learning if question has specific tags\n",
    "    #from dl_tags list\n",
    "    \n",
    "    for tag in tag_list:\n",
    "        #Iterate for each tag in current question\n",
    "        if tag in dl_tags:\n",
    "            #If in the list - return deep-learning\n",
    "            tag_list = ['deep-learning']\n",
    "            return tag_list\n",
    "        \n",
    "    return tag_list\n",
    "\n",
    "#Use function\n",
    "stack_all_df['Tags'] = stack_all_df['Tags'].apply(make_dl_tag)\n",
    "\n",
    "stack_all_df['Tags']"
   ]
  },
  {
   "cell_type": "code",
   "execution_count": 18,
   "id": "22c6e977",
   "metadata": {},
   "outputs": [
    {
     "data": {
      "text/plain": [
       "Timestamp('2014-05-13 23:58:30')"
      ]
     },
     "execution_count": 18,
     "metadata": {},
     "output_type": "execute_result"
    }
   ],
   "source": [
    "stack_all_df['CreationDate'].min()"
   ]
  },
  {
   "cell_type": "markdown",
   "id": "320c5934",
   "metadata": {},
   "source": [
    "That's done. But we should make one more thing. As we want relevant results for better recomadation we'll use fresh data. Let's work with question from 2017 to nowadays."
   ]
  },
  {
   "cell_type": "code",
   "execution_count": 20,
   "id": "78e6279a",
   "metadata": {},
   "outputs": [
    {
     "name": "stdout",
     "output_type": "stream",
     "text": [
      "Quarter-month for all posts:\n",
      " <PeriodArray>\n",
      "['2020Q4', '2019Q2', '2018Q4', '2014Q3', '2016Q4', '2019Q4', '2018Q1',\n",
      " '2020Q2', '2018Q3', '2014Q4', '2015Q1', '2017Q1', '2015Q2', '2021Q1',\n",
      " '2018Q2', '2015Q3', '2017Q2', '2020Q1', '2019Q1', '2015Q4', '2016Q3',\n",
      " '2014Q2', '2019Q3', '2020Q3', '2016Q1', '2017Q3', '2016Q2', '2021Q2',\n",
      " '2017Q4']\n",
      "Length: 29, dtype: period[Q-DEC]\n",
      "\n",
      "Quarter-month for 2019-2021 posts:\n",
      " <PeriodArray>\n",
      "['2020Q4', '2019Q2', '2018Q4', '2019Q4', '2018Q1', '2020Q2', '2018Q3',\n",
      " '2017Q1', '2021Q1', '2018Q2', '2017Q2', '2020Q1', '2019Q1', '2019Q3',\n",
      " '2020Q3', '2017Q3', '2021Q2', '2017Q4']\n",
      "Length: 18, dtype: period[Q-DEC]\n"
     ]
    }
   ],
   "source": [
    "#Create column with year and month only\n",
    "stack_all_df['quarter_month'] = stack_all_df['CreationDate'].dt.to_period('Q')\n",
    "\n",
    "print('Quarter-month for all posts:\\n', stack_all_df['quarter_month'].unique())\n",
    "\n",
    "#Keep only 2019-2021 posts\n",
    "stack_17_21 = stack_all_df[stack_all_df['quarter_month'] >= '2017-1']\n",
    "\n",
    "print('\\nQuarter-month for 2019-2021 posts:\\n', stack_17_21['quarter_month'].unique())"
   ]
  },
  {
   "cell_type": "markdown",
   "id": "f85d230c",
   "metadata": {},
   "source": [
    "Now let's compute some stuff:\n",
    "* How many questions were asked during the period\n",
    "* How many deep learning questions were asked during the period\n",
    "* Percentage of deep learning questions asked during the period"
   ]
  },
  {
   "cell_type": "code",
   "execution_count": 21,
   "id": "06229c9c",
   "metadata": {},
   "outputs": [
    {
     "name": "stdout",
     "output_type": "stream",
     "text": [
      "Total questions asked:  25530 \n",
      "Deep learnig questions asked:  7665 \n",
      "Persentage of deep learning questionds: 30.02%\n"
     ]
    }
   ],
   "source": [
    "#Deep learning mask for questions\n",
    "dl_mask = stack_17_21['Tags'].apply(lambda x: True if x == ['deep-learning'] else False)\n",
    "\n",
    "#Total amount of questions\n",
    "total_questions = stack_17_21.shape[0]\n",
    "\n",
    "#Amount of DL questions\n",
    "dl_questions = stack_17_21[dl_mask].shape[0]\n",
    "\n",
    "print('Total questions asked: ', total_questions,\n",
    "     '\\nDeep learnig questions asked: ', dl_questions,\n",
    "     '\\nPersentage of deep learning questionds: {:.2%}'\\\n",
    "      .format(dl_questions/total_questions))"
   ]
  },
  {
   "cell_type": "markdown",
   "id": "58fadf8d",
   "metadata": {},
   "source": [
    "For whole period was asked about **30%** deep learning questions. It is a lot!\n",
    "\n",
    "Let's build a plot to see dynamic changes for deep learning questions."
   ]
  },
  {
   "cell_type": "code",
   "execution_count": 23,
   "id": "1e1f8681",
   "metadata": {},
   "outputs": [
    {
     "data": {
      "text/html": [
       "<div>\n",
       "<style scoped>\n",
       "    .dataframe tbody tr th:only-of-type {\n",
       "        vertical-align: middle;\n",
       "    }\n",
       "\n",
       "    .dataframe tbody tr th {\n",
       "        vertical-align: top;\n",
       "    }\n",
       "\n",
       "    .dataframe thead th {\n",
       "        text-align: right;\n",
       "    }\n",
       "</style>\n",
       "<table border=\"1\" class=\"dataframe\">\n",
       "  <thead>\n",
       "    <tr style=\"text-align: right;\">\n",
       "      <th></th>\n",
       "      <th>quarter_month</th>\n",
       "      <th>Tags</th>\n",
       "      <th>Dl tags</th>\n",
       "      <th>Dl percentage</th>\n",
       "    </tr>\n",
       "  </thead>\n",
       "  <tbody>\n",
       "    <tr>\n",
       "      <th>0</th>\n",
       "      <td>2017Q1</td>\n",
       "      <td>690</td>\n",
       "      <td>190</td>\n",
       "      <td>0.275362</td>\n",
       "    </tr>\n",
       "    <tr>\n",
       "      <th>1</th>\n",
       "      <td>2017Q2</td>\n",
       "      <td>633</td>\n",
       "      <td>169</td>\n",
       "      <td>0.266983</td>\n",
       "    </tr>\n",
       "    <tr>\n",
       "      <th>2</th>\n",
       "      <td>2017Q3</td>\n",
       "      <td>707</td>\n",
       "      <td>188</td>\n",
       "      <td>0.265912</td>\n",
       "    </tr>\n",
       "    <tr>\n",
       "      <th>3</th>\n",
       "      <td>2017Q4</td>\n",
       "      <td>888</td>\n",
       "      <td>270</td>\n",
       "      <td>0.304054</td>\n",
       "    </tr>\n",
       "    <tr>\n",
       "      <th>4</th>\n",
       "      <td>2018Q1</td>\n",
       "      <td>1200</td>\n",
       "      <td>423</td>\n",
       "      <td>0.352500</td>\n",
       "    </tr>\n",
       "  </tbody>\n",
       "</table>\n",
       "</div>"
      ],
      "text/plain": [
       "  quarter_month  Tags  Dl tags  Dl percentage\n",
       "0        2017Q1   690      190       0.275362\n",
       "1        2017Q2   633      169       0.266983\n",
       "2        2017Q3   707      188       0.265912\n",
       "3        2017Q4   888      270       0.304054\n",
       "4        2018Q1  1200      423       0.352500"
      ]
     },
     "execution_count": 23,
     "metadata": {},
     "output_type": "execute_result"
    }
   ],
   "source": [
    "#Create df with amount of tags grouped by year_month\n",
    "tags_dyn = stack_17_21[['quarter_month', 'Tags']].groupby('quarter_month')\\\n",
    "                                              .count().reset_index()\n",
    "\n",
    "#Add column with amount of DL tags grouped by year_month\n",
    "tags_dyn['Dl tags'] = stack_17_21.loc[dl_mask, ['quarter_month', 'Tags']]\\\n",
    "                      .groupby('quarter_month').count().reset_index()['Tags']\n",
    "\n",
    "#Add DL percentage\n",
    "tags_dyn['Dl percentage'] = tags_dyn['Dl tags'] / tags_dyn['Tags']\n",
    "\n",
    "#Transform year_month to string\n",
    "tags_dyn['quarter_month'] = tags_dyn['quarter_month'].astype('str')\n",
    "\n",
    "tags_dyn.head()"
   ]
  },
  {
   "cell_type": "code",
   "execution_count": 43,
   "id": "939639ee",
   "metadata": {},
   "outputs": [
    {
     "data": {
      "image/png": "[encoded data removed]",
      "text/plain": [
       "<Figure size 1152x648 with 1 Axes>"
      ]
     },
     "metadata": {
      "needs_background": "light"
     },
     "output_type": "display_data"
    }
   ],
   "source": [
    "# Draw Plot \n",
    "fig, ax = plt.subplots(figsize=(16,9))\n",
    "\n",
    "ax.plot(tags_dyn['quarter_month'],\n",
    "        tags_dyn['Dl percentage'],\n",
    "        color='darkcyan',\n",
    "        linewidth=3)\n",
    "\n",
    "#Mean percentage line\n",
    "plt.hlines(y=dl_questions/total_questions, \n",
    "           xmin=0, \n",
    "           xmax=len(tags_dyn),\n",
    "           color='gray',\n",
    "           alpha=0.5\n",
    "           )\n",
    "\n",
    "#Decorations\n",
    "ax.set_title('DL questions percentage by quarter', fontsize=24)\n",
    "ax.tick_params(axis='x', labelsize=14, rotation=15)\n",
    "ax.tick_params(axis='y', labelsize=14)\n",
    "ax.set_ylim(0.25, 0.40)\n",
    "\n",
    "#Mark for maximum\n",
    "ax.text(tags_dyn['Dl percentage'].idxmax()+0.5,\n",
    "        tags_dyn['Dl percentage'].max(),\n",
    "        'Local peak - {:.2%}'.format(tags_dyn['Dl percentage'].max()),\n",
    "        horizontalalignment='left',\n",
    "        fontsize=16, color=\"black\")\n",
    "\n",
    "#Hiding ticks\n",
    "for i, tick in enumerate(ax.xaxis.get_ticklabels()):\n",
    "    if i % 2 == 0:\n",
    "        tick.set_visible(False)"
   ]
  },
  {
   "cell_type": "markdown",
   "id": "61e04f48",
   "metadata": {},
   "source": [
    "Now we can that deep learning questions were even more popular in the **third quarter of 2018** - almost **38%** percents of all questions related to DL.\n",
    "\n",
    "After that percentage fluctuates about solid **30%**. Also now it has an local uptrend.\n",
    "\n",
    "## Conclusion\n",
    "\n",
    "In this project we tried to answer to one simlpe question:\n",
    "* **What is it that people want to learn about in data science?**\n",
    "\n",
    "Right anwer would help our company to create relevant data science content like books, videos etc. We used [Data Science Stack Exchange's database](https://data.stackexchange.com/datascience/query/new) to get info about stuff people asking about on the [Data Science](https://datascience.stackexchange.com/).\n",
    "\n",
    "We used tags to determine most post popular questions. With tags we used some metrics from dataset:\n",
    "* Tag uses\n",
    "* Question views\n",
    "* Questions answers\n",
    "\n",
    "Сonsidering these metrics,we came to the conclusion that **deep learning** questions is the most popular. From 2017 about **30%** of all questions was related to the DL. Also deep learning has become the dominant approach for much ongoing work in the field of machine learning at of 2020 according to the [Wikipedia](https://en.wikipedia.org/wiki/Machine_learning).\n",
    "\n",
    "Besides deep learning itself there are some closely connected themes:\n",
    "* **neural network**\n",
    "* **cnn**\n",
    "* **keras** and more\n",
    "\n",
    "So we recommend our company to make deep learning content. It looks promising.\n",
    "\n",
    "### Way forward\n",
    "\n",
    "We can analyse data from other data science related sites that we listed in the introduction. Like [Artificial Intelligence](https://ai.stackexchange.com/) of [Stack Overflow](https://stackoverflow.com/) itself.\n",
    "\n",
    "Probably we can find some interesting insights there aswell."
   ]
  }
 ],
 "metadata": {
  "kernelspec": {
   "display_name": "Python 3",
   "language": "python",
   "name": "python3"
  },
  "language_info": {
   "codemirror_mode": {
    "name": "ipython",
    "version": 3
   },
   "file_extension": ".py",
   "mimetype": "text/x-python",
   "name": "python",
   "nbconvert_exporter": "python",
   "pygments_lexer": "ipython3",
   "version": "3.9.5"
  },
  "toc": {
   "base_numbering": 1,
   "nav_menu": {},
   "number_sections": false,
   "sideBar": true,
   "skip_h1_title": true,
   "title_cell": "Table of Contents",
   "title_sidebar": "Contents",
   "toc_cell": false,
   "toc_position": {},
   "toc_section_display": true,
   "toc_window_display": true
  }
 },
 "nbformat": 4,
 "nbformat_minor": 5
}
