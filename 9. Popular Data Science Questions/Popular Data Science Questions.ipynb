{
 "cells": [
  {
   "cell_type": "markdown",
   "id": "2820d624",
   "metadata": {},
   "source": [
    "# Popular Data Science Questions\n",
    "---\n",
    "## Introduction\n",
    "### What is this project about\n",
    "\n",
    "In this scenario, we're working for a company that creates data science content, be it books, online articles, videos or interactive text-based platforms like [Dataquest](https://www.dataquest.io/). And as enthusiastic employees we've desided to o scour the internet in search for the answer to the question:\n",
    "* **What is it that people want to learn about in data science?**\n",
    "\n",
    "Thinking back to our experience when we first started learning programming, it occurs to us that if we wanted to figure out what programming content to write, we could consult [Stack Overflow](https://stackoverflow.com/) and see what kind of content is more popular. We've decided to investigate Stack Overflow a little more and found out that it is part of a question and answer website network called [Stack Exchange](https://stackexchange.com/).\n",
    "![Image](https://dq-content.s3.amazonaws.com/469/se_sites.png)\n",
    "\n",
    "---\n",
    "\n",
    "Stack Exchange hosts a huge amount of sitess on a multitude of fields and subjects, including mathematics, physics, philosophy, and data science. Just what we are looking for!\n",
    "Also we can include data engineering as our point of interest. So there are some websites relevant to our goal:\n",
    "* [Data Science](https://datascience.stackexchange.com/)\n",
    "* [Cross Validated](https://stats.stackexchange.com/) (a statistics site)\n",
    "* [Artificial Intelligence](https://ai.stackexchange.com/)\n",
    "* [Mathematics](https://math.stackexchange.com/)\n",
    "* [Stack Overflow](https://stackoverflow.com/) itself\n",
    "* [Database Administrators](https://dba.stackexchange.com/)\n",
    "* [Unix & Linux](https://unix.stackexchange.com/)\n",
    "* [Software Engineering](https://softwareengineering.stackexchange.com/)\n",
    "\n",
    "### A closer look to the Stack Exchange websites\n",
    "Let's take for example **Stack Overflow** and walk through it a bit just to get you familiar with it. Another sites are similar to Stack Overflow\n",
    "\n",
    "Basically **it is Q&A website** where everyone welcomes to ask about a wide range of topics in computer programming. If someone runs into a problem, doesn't know exactly how a particular function works, or is struggling to get their code to work they come here.\n",
    "\n",
    "Due to issues can be related to different programming languages, there is a **tagging system** that helps filter and navigate content. Also there is a **voting system** that allows rate best questions and answers so their authors can earn reputation points.\n",
    "\n",
    "And finally there is a **job finding section** where you can try to get youself a new fancy job.\n",
    "\n",
    "![Image](https://upload.wikimedia.org/wikipedia/commons/d/dd/Stack_Overflow_Home.png)\n",
    "\n",
    "---\n",
    "### Stack Exchange Database\n",
    "\n",
    "Stack Exchange provides a public data base for each of its websites. Here's a link to query and explore [Data Science Stack Exchange's database](https://data.stackexchange.com/datascience/query/new). It uses a Transact-SQL to write queries.\n",
    "\n",
    "There are a lot of tables. Here's the most interesting for our purpose:\n",
    "* Posts\n",
    "* Tags\n",
    "* TagSynonymous\n",
    "* Comments\n",
    "\n",
    "## Probably start"
   ]
  },
  {
   "cell_type": "code",
   "execution_count": 1,
   "id": "d36dac56",
   "metadata": {},
   "outputs": [],
   "source": [
    "import pandas as pd"
   ]
  }
 ],
 "metadata": {
  "kernelspec": {
   "display_name": "Python 3",
   "language": "python",
   "name": "python3"
  },
  "language_info": {
   "codemirror_mode": {
    "name": "ipython",
    "version": 3
   },
   "file_extension": ".py",
   "mimetype": "text/x-python",
   "name": "python",
   "nbconvert_exporter": "python",
   "pygments_lexer": "ipython3",
   "version": "3.9.5"
  },
  "toc": {
   "base_numbering": 1,
   "nav_menu": {},
   "number_sections": false,
   "sideBar": true,
   "skip_h1_title": true,
   "title_cell": "Table of Contents",
   "title_sidebar": "Contents",
   "toc_cell": false,
   "toc_position": {},
   "toc_section_display": true,
   "toc_window_display": true
  }
 },
 "nbformat": 4,
 "nbformat_minor": 5
}
