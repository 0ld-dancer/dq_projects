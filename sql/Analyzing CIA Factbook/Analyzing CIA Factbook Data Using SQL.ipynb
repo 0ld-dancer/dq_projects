{
 "cells": [
  {
   "cell_type": "markdown",
   "metadata": {},
   "source": [
    "## Analysing CIA World Factbook\n",
    "---\n",
    "\n",
    "### Introduction\n",
    "\n",
    "In this project we'll work with data from the [CIA World Factbook](https://www.cia.gov/the-world-factbook/). That contains a lot of statistics about countries from all ovet the world.\n",
    "\n",
    "For project we use `factbook.db` database that you can download [here](https://dsserver-prod-resources-1.s3.amazonaws.com/257/factbook.db).\n",
    "\n",
    "First of let's connect to the database and quickly explore it."
   ]
  },
  {
   "cell_type": "code",
   "execution_count": 1,
   "metadata": {
    "collapsed": false
   },
   "outputs": [
    {
     "data": {
      "text/plain": [
       "'Connected: None@factbook.db'"
      ]
     },
     "execution_count": 1,
     "metadata": {},
     "output_type": "execute_result"
    }
   ],
   "source": [
    "%%capture\n",
    "%load_ext sql\n",
    "%sql sqlite:///factbook.db"
   ]
  },
  {
   "cell_type": "code",
   "execution_count": 2,
   "metadata": {
    "collapsed": false
   },
   "outputs": [
    {
     "name": "stdout",
     "output_type": "stream",
     "text": [
      "Done.\n"
     ]
    },
    {
     "data": {
      "text/html": [
       "<table>\n",
       "    <tr>\n",
       "        <th>type</th>\n",
       "        <th>name</th>\n",
       "        <th>tbl_name</th>\n",
       "        <th>rootpage</th>\n",
       "        <th>sql</th>\n",
       "    </tr>\n",
       "    <tr>\n",
       "        <td>table</td>\n",
       "        <td>sqlite_sequence</td>\n",
       "        <td>sqlite_sequence</td>\n",
       "        <td>3</td>\n",
       "        <td>CREATE TABLE sqlite_sequence(name,seq)</td>\n",
       "    </tr>\n",
       "    <tr>\n",
       "        <td>table</td>\n",
       "        <td>facts</td>\n",
       "        <td>facts</td>\n",
       "        <td>47</td>\n",
       "        <td>CREATE TABLE &quot;facts&quot; (&quot;id&quot; INTEGER PRIMARY KEY AUTOINCREMENT NOT NULL, &quot;code&quot; varchar(255) NOT NULL, &quot;name&quot; varchar(255) NOT NULL, &quot;area&quot; integer, &quot;area_land&quot; integer, &quot;area_water&quot; integer, &quot;population&quot; integer, &quot;population_growth&quot; float, &quot;birth_rate&quot; float, &quot;death_rate&quot; float, &quot;migration_rate&quot; float)</td>\n",
       "    </tr>\n",
       "</table>"
      ],
      "text/plain": [
       "[('table', 'sqlite_sequence', 'sqlite_sequence', 3, 'CREATE TABLE sqlite_sequence(name,seq)'),\n",
       " ('table', 'facts', 'facts', 47, 'CREATE TABLE \"facts\" (\"id\" INTEGER PRIMARY KEY AUTOINCREMENT NOT NULL, \"code\" varchar(255) NOT NULL, \"name\" varchar(255) NOT NULL, \"area\" integer, \"a ... (4 characters truncated) ... land\" integer, \"area_water\" integer, \"population\" integer, \"population_growth\" float, \"birth_rate\" float, \"death_rate\" float, \"migration_rate\" float)')]"
      ]
     },
     "execution_count": 2,
     "metadata": {},
     "output_type": "execute_result"
    }
   ],
   "source": [
    "%%sql\n",
    "SELECT *\n",
    "  FROM sqlite_master\n",
    " WHERE type = 'table';"
   ]
  },
  {
   "cell_type": "markdown",
   "metadata": {},
   "source": [
    "There ate two tables in the database. Let's see what them contains."
   ]
  },
  {
   "cell_type": "code",
   "execution_count": 3,
   "metadata": {
    "collapsed": false
   },
   "outputs": [
    {
     "name": "stdout",
     "output_type": "stream",
     "text": [
      "Done.\n"
     ]
    },
    {
     "data": {
      "text/html": [
       "<table>\n",
       "    <tr>\n",
       "        <th>name</th>\n",
       "        <th>seq</th>\n",
       "    </tr>\n",
       "    <tr>\n",
       "        <td>facts</td>\n",
       "        <td>261</td>\n",
       "    </tr>\n",
       "</table>"
      ],
      "text/plain": [
       "[('facts', 261)]"
      ]
     },
     "execution_count": 3,
     "metadata": {},
     "output_type": "execute_result"
    }
   ],
   "source": [
    "%%sql\n",
    "SELECT *\n",
    "  FROM sqlite_sequence\n",
    " LIMIT 5; "
   ]
  },
  {
   "cell_type": "code",
   "execution_count": 4,
   "metadata": {
    "collapsed": false,
    "scrolled": true
   },
   "outputs": [
    {
     "name": "stdout",
     "output_type": "stream",
     "text": [
      "Done.\n"
     ]
    },
    {
     "data": {
      "text/html": [
       "<table>\n",
       "    <tr>\n",
       "        <th>id</th>\n",
       "        <th>code</th>\n",
       "        <th>name</th>\n",
       "        <th>area</th>\n",
       "        <th>area_land</th>\n",
       "        <th>area_water</th>\n",
       "        <th>population</th>\n",
       "        <th>population_growth</th>\n",
       "        <th>birth_rate</th>\n",
       "        <th>death_rate</th>\n",
       "        <th>migration_rate</th>\n",
       "    </tr>\n",
       "    <tr>\n",
       "        <td>1</td>\n",
       "        <td>af</td>\n",
       "        <td>Afghanistan</td>\n",
       "        <td>652230</td>\n",
       "        <td>652230</td>\n",
       "        <td>0</td>\n",
       "        <td>32564342</td>\n",
       "        <td>2.32</td>\n",
       "        <td>38.57</td>\n",
       "        <td>13.89</td>\n",
       "        <td>1.51</td>\n",
       "    </tr>\n",
       "    <tr>\n",
       "        <td>2</td>\n",
       "        <td>al</td>\n",
       "        <td>Albania</td>\n",
       "        <td>28748</td>\n",
       "        <td>27398</td>\n",
       "        <td>1350</td>\n",
       "        <td>3029278</td>\n",
       "        <td>0.3</td>\n",
       "        <td>12.92</td>\n",
       "        <td>6.58</td>\n",
       "        <td>3.3</td>\n",
       "    </tr>\n",
       "    <tr>\n",
       "        <td>3</td>\n",
       "        <td>ag</td>\n",
       "        <td>Algeria</td>\n",
       "        <td>2381741</td>\n",
       "        <td>2381741</td>\n",
       "        <td>0</td>\n",
       "        <td>39542166</td>\n",
       "        <td>1.84</td>\n",
       "        <td>23.67</td>\n",
       "        <td>4.31</td>\n",
       "        <td>0.92</td>\n",
       "    </tr>\n",
       "    <tr>\n",
       "        <td>4</td>\n",
       "        <td>an</td>\n",
       "        <td>Andorra</td>\n",
       "        <td>468</td>\n",
       "        <td>468</td>\n",
       "        <td>0</td>\n",
       "        <td>85580</td>\n",
       "        <td>0.12</td>\n",
       "        <td>8.13</td>\n",
       "        <td>6.96</td>\n",
       "        <td>0.0</td>\n",
       "    </tr>\n",
       "    <tr>\n",
       "        <td>5</td>\n",
       "        <td>ao</td>\n",
       "        <td>Angola</td>\n",
       "        <td>1246700</td>\n",
       "        <td>1246700</td>\n",
       "        <td>0</td>\n",
       "        <td>19625353</td>\n",
       "        <td>2.78</td>\n",
       "        <td>38.78</td>\n",
       "        <td>11.49</td>\n",
       "        <td>0.46</td>\n",
       "    </tr>\n",
       "</table>"
      ],
      "text/plain": [
       "[(1, 'af', 'Afghanistan', 652230, 652230, 0, 32564342, 2.32, 38.57, 13.89, 1.51),\n",
       " (2, 'al', 'Albania', 28748, 27398, 1350, 3029278, 0.3, 12.92, 6.58, 3.3),\n",
       " (3, 'ag', 'Algeria', 2381741, 2381741, 0, 39542166, 1.84, 23.67, 4.31, 0.92),\n",
       " (4, 'an', 'Andorra', 468, 468, 0, 85580, 0.12, 8.13, 6.96, 0.0),\n",
       " (5, 'ao', 'Angola', 1246700, 1246700, 0, 19625353, 2.78, 38.78, 11.49, 0.46)]"
      ]
     },
     "execution_count": 4,
     "metadata": {},
     "output_type": "execute_result"
    }
   ],
   "source": [
    "%%sql\n",
    "SELECT *\n",
    "  FROM facts\n",
    " LIMIT 5;   "
   ]
  },
  {
   "cell_type": "markdown",
   "metadata": {},
   "source": [
    "We'll work with the `facts` table. Column names are mostly clear but anyway we'll give short description for them below:\n",
    "* `id` - the index number\n",
    "* `code` - the country's code\n",
    "* `name` - the country's name\n",
    "* `area` - the country's total area in km2\n",
    "* `area_land` - the country's land area in km2\n",
    "* `area_water` - the country's water area in km2\n",
    "* `population` - the country's population\n",
    "* `population_growth` - the country's population growth in %\n",
    "* `birth_rate` - the number of birth per 1000 people\n",
    "* `death_rate` - the number of death per 1000 people\n",
    "* `migration_rate` - the number of migrants per 1000 people\n",
    "\n",
    "### Population analysys\n",
    "\n",
    "Now we can start exploring our data. First goes population, let's check min and max population and growth also."
   ]
  },
  {
   "cell_type": "code",
   "execution_count": 5,
   "metadata": {
    "collapsed": false
   },
   "outputs": [
    {
     "name": "stdout",
     "output_type": "stream",
     "text": [
      "Done.\n"
     ]
    },
    {
     "data": {
      "text/html": [
       "<table>\n",
       "    <tr>\n",
       "        <th>Min population</th>\n",
       "        <th>Max population</th>\n",
       "        <th>Min population growth</th>\n",
       "        <th>Max population growth</th>\n",
       "    </tr>\n",
       "    <tr>\n",
       "        <td>0</td>\n",
       "        <td>7256490011</td>\n",
       "        <td>0.0</td>\n",
       "        <td>4.02</td>\n",
       "    </tr>\n",
       "</table>"
      ],
      "text/plain": [
       "[(0, 7256490011, 0.0, 4.02)]"
      ]
     },
     "execution_count": 5,
     "metadata": {},
     "output_type": "execute_result"
    }
   ],
   "source": [
    "%%sql\n",
    "SELECT MIN(population) AS 'Min population',\n",
    "       MAX(population) AS 'Max population',\n",
    "       MIN(population_growth) AS 'Min population growth',\n",
    "       MAX(population_growth) AS 'Max population growth'\n",
    "  FROM facts;"
   ]
  },
  {
   "cell_type": "markdown",
   "metadata": {},
   "source": [
    "It is quite exiting to find that there is at least one country with **zero population**. Also there is no country with the negative population growth. Wonderfull!\n",
    "\n",
    "Now let's find out country with the largest population and countries with zero population."
   ]
  },
  {
   "cell_type": "code",
   "execution_count": 6,
   "metadata": {
    "collapsed": false
   },
   "outputs": [
    {
     "name": "stdout",
     "output_type": "stream",
     "text": [
      "Done.\n"
     ]
    },
    {
     "data": {
      "text/html": [
       "<table>\n",
       "    <tr>\n",
       "        <th>name</th>\n",
       "        <th>population</th>\n",
       "    </tr>\n",
       "    <tr>\n",
       "        <td>Antarctica</td>\n",
       "        <td>0</td>\n",
       "    </tr>\n",
       "    <tr>\n",
       "        <td>World</td>\n",
       "        <td>7256490011</td>\n",
       "    </tr>\n",
       "</table>"
      ],
      "text/plain": [
       "[('Antarctica', 0), ('World', 7256490011)]"
      ]
     },
     "execution_count": 6,
     "metadata": {},
     "output_type": "execute_result"
    }
   ],
   "source": [
    "%%sql\n",
    "SELECT name, population\n",
    "  FROM facts\n",
    " WHERE population = (SELECT MAX(population)\n",
    "                       FROM facts\n",
    "                      )\n",
    "    OR population = (SELECT MIN(population)\n",
    "                       FROM facts\n",
    "                      );"
   ]
  },
  {
   "cell_type": "markdown",
   "metadata": {},
   "source": [
    "So the largest popualtion(**7.2 billion**) is the whole world population. We might guess about it.\n",
    "\n",
    "There is explanation for zero population aswell. It's Antarctica! It is consistent with [Antarctica page](https://www.cia.gov/the-world-factbook/countries/antarctica/):\n",
    "> no indigenous inhabitants, but there are both permanent and summer-only staffed research stations\n",
    "\n",
    "Now we can exclude these two rows and find real number for population and growth."
   ]
  },
  {
   "cell_type": "code",
   "execution_count": 26,
   "metadata": {
    "collapsed": false
   },
   "outputs": [
    {
     "name": "stdout",
     "output_type": "stream",
     "text": [
      "Done.\n"
     ]
    },
    {
     "data": {
      "text/html": [
       "<table>\n",
       "    <tr>\n",
       "        <th>name</th>\n",
       "        <th>population</th>\n",
       "        <th>area</th>\n",
       "    </tr>\n",
       "    <tr>\n",
       "        <td>European Union</td>\n",
       "        <td>513949445</td>\n",
       "        <td>4324782</td>\n",
       "    </tr>\n",
       "</table>"
      ],
      "text/plain": [
       "[('European Union', 513949445, 4324782)]"
      ]
     },
     "execution_count": 26,
     "metadata": {},
     "output_type": "execute_result"
    }
   ],
   "source": [
    "%%sql\n",
    "SELECT name, population, area\n",
    "  FROM facts\n",
    " WHERE name = 'European Union'"
   ]
  },
  {
   "cell_type": "markdown",
   "metadata": {},
   "source": [
    "Also I've find out there is **European Union** in the table. We'll exclude it from some futher analysys."
   ]
  },
  {
   "cell_type": "code",
   "execution_count": 27,
   "metadata": {
    "collapsed": false
   },
   "outputs": [
    {
     "name": "stdout",
     "output_type": "stream",
     "text": [
      "Done.\n"
     ]
    },
    {
     "data": {
      "text/html": [
       "<table>\n",
       "    <tr>\n",
       "        <th>Min population</th>\n",
       "        <th>Max population</th>\n",
       "        <th>Min population growth</th>\n",
       "        <th>Max population growth</th>\n",
       "    </tr>\n",
       "    <tr>\n",
       "        <td>0</td>\n",
       "        <td>1367485388</td>\n",
       "        <td>0.0</td>\n",
       "        <td>4.02</td>\n",
       "    </tr>\n",
       "</table>"
      ],
      "text/plain": [
       "[(0, 1367485388, 0.0, 4.02)]"
      ]
     },
     "execution_count": 27,
     "metadata": {},
     "output_type": "execute_result"
    }
   ],
   "source": [
    "%%sql\n",
    "SELECT MIN(population) AS 'Min population',\n",
    "       MAX(population) AS 'Max population',\n",
    "       MIN(population_growth) AS 'Min population growth',\n",
    "       MAX(population_growth) AS 'Max population growth'\n",
    "  FROM facts\n",
    " WHERE name NOT IN ('World', 'European Union');"
   ]
  },
  {
   "cell_type": "markdown",
   "metadata": {},
   "source": [
    "Also find country with the largest population."
   ]
  },
  {
   "cell_type": "code",
   "execution_count": 28,
   "metadata": {
    "collapsed": false
   },
   "outputs": [
    {
     "name": "stdout",
     "output_type": "stream",
     "text": [
      "Done.\n"
     ]
    },
    {
     "data": {
      "text/html": [
       "<table>\n",
       "    <tr>\n",
       "        <th>name</th>\n",
       "        <th>population</th>\n",
       "    </tr>\n",
       "    <tr>\n",
       "        <td>China</td>\n",
       "        <td>1367485388</td>\n",
       "    </tr>\n",
       "</table>"
      ],
      "text/plain": [
       "[('China', 1367485388)]"
      ]
     },
     "execution_count": 28,
     "metadata": {},
     "output_type": "execute_result"
    }
   ],
   "source": [
    "%%sql\n",
    "SELECT name, population\n",
    "  FROM facts\n",
    " WHERE population = (SELECT MAX(population)\n",
    "                       FROM facts\n",
    "                      WHERE name NOT IN ('World', 'European Union')\n",
    "                    );"
   ]
  },
  {
   "cell_type": "markdown",
   "metadata": {},
   "source": [
    "It's China! It is wide known fact so we might guess it aswell. Exclude `World` row again.\n",
    "\n",
    "### Densely populated countries\n",
    "\n",
    "Let's calculate the average value for the `population` and `area` columns first."
   ]
  },
  {
   "cell_type": "code",
   "execution_count": 66,
   "metadata": {
    "collapsed": false
   },
   "outputs": [
    {
     "name": "stdout",
     "output_type": "stream",
     "text": [
      "Done.\n"
     ]
    },
    {
     "data": {
      "text/html": [
       "<table>\n",
       "    <tr>\n",
       "        <th>Avg population</th>\n",
       "        <th>Avg area</th>\n",
       "        <th>Avg density</th>\n",
       "    </tr>\n",
       "    <tr>\n",
       "        <td>30235554.991666667</td>\n",
       "        <td>539893.1895161291</td>\n",
       "        <td>56.002845708731414</td>\n",
       "    </tr>\n",
       "</table>"
      ],
      "text/plain": [
       "[(30235554.991666667, 539893.1895161291, 56.002845708731414)]"
      ]
     },
     "execution_count": 66,
     "metadata": {},
     "output_type": "execute_result"
    }
   ],
   "source": [
    "%%sql\n",
    "SELECT AVG(population) AS 'Avg population',\n",
    "       AVG(area) AS 'Avg area',\n",
    "       AVG(population)/AVG(area) AS 'Avg density'\n",
    "  FROM facts\n",
    " WHERE name NOT IN ('World', 'European Union');"
   ]
  },
  {
   "cell_type": "markdown",
   "metadata": {},
   "source": [
    "Now we can use these values to identify densely populated countries. They should meet the following criteria:\n",
    "* Above-average values for population.\n",
    "* Below-average values for area\n",
    "\n",
    "Also calculate population density for these countries."
   ]
  },
  {
   "cell_type": "code",
   "execution_count": 30,
   "metadata": {
    "collapsed": false
   },
   "outputs": [
    {
     "name": "stdout",
     "output_type": "stream",
     "text": [
      "Done.\n"
     ]
    },
    {
     "data": {
      "text/html": [
       "<table>\n",
       "    <tr>\n",
       "        <th>name</th>\n",
       "        <th>population</th>\n",
       "        <th>area</th>\n",
       "        <th>population density</th>\n",
       "    </tr>\n",
       "    <tr>\n",
       "        <td>Bangladesh</td>\n",
       "        <td>168957745</td>\n",
       "        <td>148460</td>\n",
       "        <td>1138.07</td>\n",
       "    </tr>\n",
       "    <tr>\n",
       "        <td>Korea, South</td>\n",
       "        <td>49115196</td>\n",
       "        <td>99720</td>\n",
       "        <td>492.53</td>\n",
       "    </tr>\n",
       "    <tr>\n",
       "        <td>Philippines</td>\n",
       "        <td>100998376</td>\n",
       "        <td>300000</td>\n",
       "        <td>336.66</td>\n",
       "    </tr>\n",
       "    <tr>\n",
       "        <td>Japan</td>\n",
       "        <td>126919659</td>\n",
       "        <td>377915</td>\n",
       "        <td>335.84</td>\n",
       "    </tr>\n",
       "    <tr>\n",
       "        <td>Vietnam</td>\n",
       "        <td>94348835</td>\n",
       "        <td>331210</td>\n",
       "        <td>284.86</td>\n",
       "    </tr>\n",
       "    <tr>\n",
       "        <td>United Kingdom</td>\n",
       "        <td>64088222</td>\n",
       "        <td>243610</td>\n",
       "        <td>263.08</td>\n",
       "    </tr>\n",
       "    <tr>\n",
       "        <td>Germany</td>\n",
       "        <td>80854408</td>\n",
       "        <td>357022</td>\n",
       "        <td>226.47</td>\n",
       "    </tr>\n",
       "    <tr>\n",
       "        <td>Nepal</td>\n",
       "        <td>31551305</td>\n",
       "        <td>147181</td>\n",
       "        <td>214.37</td>\n",
       "    </tr>\n",
       "    <tr>\n",
       "        <td>Italy</td>\n",
       "        <td>61855120</td>\n",
       "        <td>301340</td>\n",
       "        <td>205.27</td>\n",
       "    </tr>\n",
       "    <tr>\n",
       "        <td>Uganda</td>\n",
       "        <td>37101745</td>\n",
       "        <td>241038</td>\n",
       "        <td>153.92</td>\n",
       "    </tr>\n",
       "    <tr>\n",
       "        <td>Thailand</td>\n",
       "        <td>67976405</td>\n",
       "        <td>513120</td>\n",
       "        <td>132.48</td>\n",
       "    </tr>\n",
       "    <tr>\n",
       "        <td>Poland</td>\n",
       "        <td>38562189</td>\n",
       "        <td>312685</td>\n",
       "        <td>123.33</td>\n",
       "    </tr>\n",
       "    <tr>\n",
       "        <td>Spain</td>\n",
       "        <td>48146134</td>\n",
       "        <td>505370</td>\n",
       "        <td>95.27</td>\n",
       "    </tr>\n",
       "    <tr>\n",
       "        <td>Malaysia</td>\n",
       "        <td>30513848</td>\n",
       "        <td>329847</td>\n",
       "        <td>92.51</td>\n",
       "    </tr>\n",
       "    <tr>\n",
       "        <td>Iraq</td>\n",
       "        <td>37056169</td>\n",
       "        <td>438317</td>\n",
       "        <td>84.54</td>\n",
       "    </tr>\n",
       "    <tr>\n",
       "        <td>Morocco</td>\n",
       "        <td>33322699</td>\n",
       "        <td>446550</td>\n",
       "        <td>74.62</td>\n",
       "    </tr>\n",
       "</table>"
      ],
      "text/plain": [
       "[('Bangladesh', 168957745, 148460, 1138.07),\n",
       " ('Korea, South', 49115196, 99720, 492.53),\n",
       " ('Philippines', 100998376, 300000, 336.66),\n",
       " ('Japan', 126919659, 377915, 335.84),\n",
       " ('Vietnam', 94348835, 331210, 284.86),\n",
       " ('United Kingdom', 64088222, 243610, 263.08),\n",
       " ('Germany', 80854408, 357022, 226.47),\n",
       " ('Nepal', 31551305, 147181, 214.37),\n",
       " ('Italy', 61855120, 301340, 205.27),\n",
       " ('Uganda', 37101745, 241038, 153.92),\n",
       " ('Thailand', 67976405, 513120, 132.48),\n",
       " ('Poland', 38562189, 312685, 123.33),\n",
       " ('Spain', 48146134, 505370, 95.27),\n",
       " ('Malaysia', 30513848, 329847, 92.51),\n",
       " ('Iraq', 37056169, 438317, 84.54),\n",
       " ('Morocco', 33322699, 446550, 74.62)]"
      ]
     },
     "execution_count": 30,
     "metadata": {},
     "output_type": "execute_result"
    }
   ],
   "source": [
    "%%sql\n",
    "SELECT name, population, area, ROUND(CAST(population AS Float)/area, 2) AS 'population density'\n",
    "  FROM facts\n",
    " WHERE population > (SELECT AVG(population)\n",
    "                       FROM facts\n",
    "                      WHERE name NOT IN ('World', 'European Union')\n",
    "                      )\n",
    "   AND area < (SELECT AVG(area)\n",
    "                 FROM facts\n",
    "                WHERE name NOT IN ('World', 'European Union')\n",
    "                      )\n",
    "   AND name NOT IN ('World', 'European Union')\n",
    " ORDER BY \"population density\" DESC;"
   ]
  },
  {
   "cell_type": "markdown",
   "metadata": {},
   "source": [
    "Now we can see that **Banladesh** is most densely populated country. It has more than 2 times higher density than the second place - **South Korea**.\n",
    "\n",
    "Just out of curiosity let's find least densely populated countries."
   ]
  },
  {
   "cell_type": "code",
   "execution_count": 31,
   "metadata": {
    "collapsed": false,
    "scrolled": false
   },
   "outputs": [
    {
     "name": "stdout",
     "output_type": "stream",
     "text": [
      "Done.\n"
     ]
    },
    {
     "data": {
      "text/html": [
       "<table>\n",
       "    <tr>\n",
       "        <th>name</th>\n",
       "        <th>population</th>\n",
       "        <th>area</th>\n",
       "        <th>population density</th>\n",
       "    </tr>\n",
       "    <tr>\n",
       "        <td>Greenland</td>\n",
       "        <td>57733</td>\n",
       "        <td>2166086</td>\n",
       "        <td>0.03</td>\n",
       "    </tr>\n",
       "    <tr>\n",
       "        <td>Mongolia</td>\n",
       "        <td>2992908</td>\n",
       "        <td>1564116</td>\n",
       "        <td>1.91</td>\n",
       "    </tr>\n",
       "    <tr>\n",
       "        <td>Namibia</td>\n",
       "        <td>2212307</td>\n",
       "        <td>824292</td>\n",
       "        <td>2.68</td>\n",
       "    </tr>\n",
       "    <tr>\n",
       "        <td>Australia</td>\n",
       "        <td>22751014</td>\n",
       "        <td>7741220</td>\n",
       "        <td>2.94</td>\n",
       "    </tr>\n",
       "    <tr>\n",
       "        <td>Mauritania</td>\n",
       "        <td>3596702</td>\n",
       "        <td>1030700</td>\n",
       "        <td>3.49</td>\n",
       "    </tr>\n",
       "    <tr>\n",
       "        <td>Libya</td>\n",
       "        <td>6411776</td>\n",
       "        <td>1759540</td>\n",
       "        <td>3.64</td>\n",
       "    </tr>\n",
       "    <tr>\n",
       "        <td>Botswana</td>\n",
       "        <td>2182719</td>\n",
       "        <td>581730</td>\n",
       "        <td>3.75</td>\n",
       "    </tr>\n",
       "    <tr>\n",
       "        <td>Kazakhstan</td>\n",
       "        <td>18157122</td>\n",
       "        <td>2724900</td>\n",
       "        <td>6.66</td>\n",
       "    </tr>\n",
       "    <tr>\n",
       "        <td>Central African Republic</td>\n",
       "        <td>5391539</td>\n",
       "        <td>622984</td>\n",
       "        <td>8.65</td>\n",
       "    </tr>\n",
       "    <tr>\n",
       "        <td>Bolivia</td>\n",
       "        <td>10800882</td>\n",
       "        <td>1098581</td>\n",
       "        <td>9.83</td>\n",
       "    </tr>\n",
       "    <tr>\n",
       "        <td>Saudi Arabia</td>\n",
       "        <td>27752316</td>\n",
       "        <td>2149690</td>\n",
       "        <td>12.91</td>\n",
       "    </tr>\n",
       "    <tr>\n",
       "        <td>Mali</td>\n",
       "        <td>16955536</td>\n",
       "        <td>1240192</td>\n",
       "        <td>13.67</td>\n",
       "    </tr>\n",
       "    <tr>\n",
       "        <td>Angola</td>\n",
       "        <td>19625353</td>\n",
       "        <td>1246700</td>\n",
       "        <td>15.74</td>\n",
       "    </tr>\n",
       "    <tr>\n",
       "        <td>Somalia</td>\n",
       "        <td>10616380</td>\n",
       "        <td>637657</td>\n",
       "        <td>16.65</td>\n",
       "    </tr>\n",
       "    <tr>\n",
       "        <td>South Sudan</td>\n",
       "        <td>12042910</td>\n",
       "        <td>644329</td>\n",
       "        <td>18.69</td>\n",
       "    </tr>\n",
       "    <tr>\n",
       "        <td>Zambia</td>\n",
       "        <td>15066266</td>\n",
       "        <td>752618</td>\n",
       "        <td>20.02</td>\n",
       "    </tr>\n",
       "    <tr>\n",
       "        <td>Chile</td>\n",
       "        <td>17508260</td>\n",
       "        <td>756102</td>\n",
       "        <td>23.16</td>\n",
       "    </tr>\n",
       "    <tr>\n",
       "        <td>Mozambique</td>\n",
       "        <td>25303113</td>\n",
       "        <td>799380</td>\n",
       "        <td>31.65</td>\n",
       "    </tr>\n",
       "    <tr>\n",
       "        <td>Venezuela</td>\n",
       "        <td>29275460</td>\n",
       "        <td>912050</td>\n",
       "        <td>32.1</td>\n",
       "    </tr>\n",
       "    <tr>\n",
       "        <td>Madagascar</td>\n",
       "        <td>23812681</td>\n",
       "        <td>587041</td>\n",
       "        <td>40.56</td>\n",
       "    </tr>\n",
       "</table>"
      ],
      "text/plain": [
       "[('Greenland', 57733, 2166086, 0.03),\n",
       " ('Mongolia', 2992908, 1564116, 1.91),\n",
       " ('Namibia', 2212307, 824292, 2.68),\n",
       " ('Australia', 22751014, 7741220, 2.94),\n",
       " ('Mauritania', 3596702, 1030700, 3.49),\n",
       " ('Libya', 6411776, 1759540, 3.64),\n",
       " ('Botswana', 2182719, 581730, 3.75),\n",
       " ('Kazakhstan', 18157122, 2724900, 6.66),\n",
       " ('Central African Republic', 5391539, 622984, 8.65),\n",
       " ('Bolivia', 10800882, 1098581, 9.83),\n",
       " ('Saudi Arabia', 27752316, 2149690, 12.91),\n",
       " ('Mali', 16955536, 1240192, 13.67),\n",
       " ('Angola', 19625353, 1246700, 15.74),\n",
       " ('Somalia', 10616380, 637657, 16.65),\n",
       " ('South Sudan', 12042910, 644329, 18.69),\n",
       " ('Zambia', 15066266, 752618, 20.02),\n",
       " ('Chile', 17508260, 756102, 23.16),\n",
       " ('Mozambique', 25303113, 799380, 31.65),\n",
       " ('Venezuela', 29275460, 912050, 32.1),\n",
       " ('Madagascar', 23812681, 587041, 40.56)]"
      ]
     },
     "execution_count": 31,
     "metadata": {},
     "output_type": "execute_result"
    }
   ],
   "source": [
    "%%sql\n",
    "SELECT name, population, area, ROUND(CAST(population AS FLOAT)/area, 2) AS 'population density'\n",
    "  FROM facts\n",
    " WHERE population < (SELECT AVG(population)\n",
    "                       FROM facts\n",
    "                      WHERE name NOT IN ('World', 'European Union')\n",
    "                      )\n",
    "   AND area > (SELECT AVG(area)\n",
    "                 FROM facts\n",
    "                WHERE name NOT IN ('World', 'European Union')\n",
    "                      )\n",
    "   AND name NOT IN ('World', 'European Union')\n",
    " ORDER BY \"population density\";"
   ]
  },
  {
   "cell_type": "markdown",
   "metadata": {},
   "source": [
    "**Greenland** has the lowest population density but it is an [autonomous territory within the Kingdom of Denmark](https://en.wikipedia.org/wiki/Greenland).\n",
    "So actual country with the lowest population density is **Mongolia**.\n",
    "\n",
    "### Growth rate\n",
    "\n",
    "Let's find out top 10 countries with highest growth rate. Also calculate actual number of people that these countries will add to their populations next year."
   ]
  },
  {
   "cell_type": "code",
   "execution_count": 32,
   "metadata": {
    "collapsed": false,
    "scrolled": false
   },
   "outputs": [
    {
     "name": "stdout",
     "output_type": "stream",
     "text": [
      "Done.\n"
     ]
    },
    {
     "data": {
      "text/html": [
       "<table>\n",
       "    <tr>\n",
       "        <th>name</th>\n",
       "        <th>population</th>\n",
       "        <th>population_growth</th>\n",
       "        <th>yearly change</th>\n",
       "    </tr>\n",
       "    <tr>\n",
       "        <td>South Sudan</td>\n",
       "        <td>12042910</td>\n",
       "        <td>4.02</td>\n",
       "        <td>48412498.2</td>\n",
       "    </tr>\n",
       "    <tr>\n",
       "        <td>Malawi</td>\n",
       "        <td>17964697</td>\n",
       "        <td>3.32</td>\n",
       "        <td>59642794.04</td>\n",
       "    </tr>\n",
       "    <tr>\n",
       "        <td>Burundi</td>\n",
       "        <td>10742276</td>\n",
       "        <td>3.28</td>\n",
       "        <td>35234665.28</td>\n",
       "    </tr>\n",
       "    <tr>\n",
       "        <td>Niger</td>\n",
       "        <td>18045729</td>\n",
       "        <td>3.25</td>\n",
       "        <td>58648619.25</td>\n",
       "    </tr>\n",
       "    <tr>\n",
       "        <td>Uganda</td>\n",
       "        <td>37101745</td>\n",
       "        <td>3.24</td>\n",
       "        <td>120209653.8</td>\n",
       "    </tr>\n",
       "    <tr>\n",
       "        <td>Qatar</td>\n",
       "        <td>2194817</td>\n",
       "        <td>3.07</td>\n",
       "        <td>6738088.19</td>\n",
       "    </tr>\n",
       "    <tr>\n",
       "        <td>Burkina Faso</td>\n",
       "        <td>18931686</td>\n",
       "        <td>3.03</td>\n",
       "        <td>57363008.58</td>\n",
       "    </tr>\n",
       "    <tr>\n",
       "        <td>Mali</td>\n",
       "        <td>16955536</td>\n",
       "        <td>2.98</td>\n",
       "        <td>50527497.28</td>\n",
       "    </tr>\n",
       "    <tr>\n",
       "        <td>Cook Islands</td>\n",
       "        <td>9838</td>\n",
       "        <td>2.95</td>\n",
       "        <td>29022.1</td>\n",
       "    </tr>\n",
       "    <tr>\n",
       "        <td>Iraq</td>\n",
       "        <td>37056169</td>\n",
       "        <td>2.93</td>\n",
       "        <td>108574575.17</td>\n",
       "    </tr>\n",
       "</table>"
      ],
      "text/plain": [
       "[('South Sudan', 12042910, 4.02, 48412498.2),\n",
       " ('Malawi', 17964697, 3.32, 59642794.04),\n",
       " ('Burundi', 10742276, 3.28, 35234665.28),\n",
       " ('Niger', 18045729, 3.25, 58648619.25),\n",
       " ('Uganda', 37101745, 3.24, 120209653.8),\n",
       " ('Qatar', 2194817, 3.07, 6738088.19),\n",
       " ('Burkina Faso', 18931686, 3.03, 57363008.58),\n",
       " ('Mali', 16955536, 2.98, 50527497.28),\n",
       " ('Cook Islands', 9838, 2.95, 29022.1),\n",
       " ('Iraq', 37056169, 2.93, 108574575.17)]"
      ]
     },
     "execution_count": 32,
     "metadata": {},
     "output_type": "execute_result"
    }
   ],
   "source": [
    "%%sql\n",
    "SELECT name, population, population_growth, ROUND(population*population_growth, 2) AS 'yearly change'\n",
    "  FROM facts\n",
    " WHERE name NOT IN ('World', 'European Union')\n",
    " ORDER BY population_growth DESC\n",
    " LIMIT 10;"
   ]
  },
  {
   "cell_type": "markdown",
   "metadata": {},
   "source": [
    "All countries except **Cook Islands** are from **Africa** and **Middle East**. Probably it's because of high fertility rate(births) per women in this region. But we should explore it more.\n",
    "![Image](https://upload.wikimedia.org/wikipedia/commons/thumb/2/2e/Countriesbyfertilityrate.svg/2560px-Countriesbyfertilityrate.svg.png)\n",
    "\n",
    "\n",
    "---\n",
    "\n",
    "Let's also sort it by absolute values - `yearly chage`."
   ]
  },
  {
   "cell_type": "code",
   "execution_count": 40,
   "metadata": {
    "collapsed": false
   },
   "outputs": [
    {
     "name": "stdout",
     "output_type": "stream",
     "text": [
      "Done.\n"
     ]
    },
    {
     "data": {
      "text/html": [
       "<table>\n",
       "    <tr>\n",
       "        <th>name</th>\n",
       "        <th>population</th>\n",
       "        <th>population_growth</th>\n",
       "        <th>yearly change</th>\n",
       "    </tr>\n",
       "    <tr>\n",
       "        <td>India</td>\n",
       "        <td>1251695584</td>\n",
       "        <td>1.22</td>\n",
       "        <td>15270686.12</td>\n",
       "    </tr>\n",
       "    <tr>\n",
       "        <td>China</td>\n",
       "        <td>1367485388</td>\n",
       "        <td>0.45</td>\n",
       "        <td>6153684.25</td>\n",
       "    </tr>\n",
       "    <tr>\n",
       "        <td>Nigeria</td>\n",
       "        <td>181562056</td>\n",
       "        <td>2.45</td>\n",
       "        <td>4448270.37</td>\n",
       "    </tr>\n",
       "    <tr>\n",
       "        <td>Pakistan</td>\n",
       "        <td>199085847</td>\n",
       "        <td>1.46</td>\n",
       "        <td>2906653.37</td>\n",
       "    </tr>\n",
       "    <tr>\n",
       "        <td>Ethiopia</td>\n",
       "        <td>99465819</td>\n",
       "        <td>2.89</td>\n",
       "        <td>2874562.17</td>\n",
       "    </tr>\n",
       "    <tr>\n",
       "        <td>Bangladesh</td>\n",
       "        <td>168957745</td>\n",
       "        <td>1.6</td>\n",
       "        <td>2703323.92</td>\n",
       "    </tr>\n",
       "    <tr>\n",
       "        <td>United States</td>\n",
       "        <td>321368864</td>\n",
       "        <td>0.78</td>\n",
       "        <td>2506677.14</td>\n",
       "    </tr>\n",
       "    <tr>\n",
       "        <td>Indonesia</td>\n",
       "        <td>255993674</td>\n",
       "        <td>0.92</td>\n",
       "        <td>2355141.8</td>\n",
       "    </tr>\n",
       "    <tr>\n",
       "        <td>Congo, Democratic Republic of the</td>\n",
       "        <td>79375136</td>\n",
       "        <td>2.45</td>\n",
       "        <td>1944690.83</td>\n",
       "    </tr>\n",
       "    <tr>\n",
       "        <td>Philippines</td>\n",
       "        <td>100998376</td>\n",
       "        <td>1.61</td>\n",
       "        <td>1626073.85</td>\n",
       "    </tr>\n",
       "</table>"
      ],
      "text/plain": [
       "[('India', 1251695584, 1.22, 15270686.12),\n",
       " ('China', 1367485388, 0.45, 6153684.25),\n",
       " ('Nigeria', 181562056, 2.45, 4448270.37),\n",
       " ('Pakistan', 199085847, 1.46, 2906653.37),\n",
       " ('Ethiopia', 99465819, 2.89, 2874562.17),\n",
       " ('Bangladesh', 168957745, 1.6, 2703323.92),\n",
       " ('United States', 321368864, 0.78, 2506677.14),\n",
       " ('Indonesia', 255993674, 0.92, 2355141.8),\n",
       " ('Congo, Democratic Republic of the', 79375136, 2.45, 1944690.83),\n",
       " ('Philippines', 100998376, 1.61, 1626073.85)]"
      ]
     },
     "execution_count": 40,
     "metadata": {},
     "output_type": "execute_result"
    }
   ],
   "source": [
    "%%sql\n",
    "SELECT name, population, population_growth,\n",
    "       ROUND(population*population_growth/100, 2) AS 'yearly change'\n",
    "  FROM facts\n",
    " WHERE name NOT IN ('World', 'European Union')\n",
    " ORDER BY \"yearly change\" DESC\n",
    " LIMIT 10;"
   ]
  },
  {
   "cell_type": "markdown",
   "metadata": {},
   "source": [
    "Here we can see counries with the highest current population like **China** and **India**. It expains huge yearly change numbers.\n",
    "\n",
    "There are no countries from top 10 growth rate due to their small current population.\n",
    "\n",
    "At the and of the paragraph I want to see **World** population growth."
   ]
  },
  {
   "cell_type": "code",
   "execution_count": 39,
   "metadata": {
    "collapsed": false
   },
   "outputs": [
    {
     "name": "stdout",
     "output_type": "stream",
     "text": [
      "Done.\n"
     ]
    },
    {
     "data": {
      "text/html": [
       "<table>\n",
       "    <tr>\n",
       "        <th>name</th>\n",
       "        <th>population</th>\n",
       "        <th>population_growth</th>\n",
       "        <th>yearly change</th>\n",
       "    </tr>\n",
       "    <tr>\n",
       "        <td>World</td>\n",
       "        <td>7256490011</td>\n",
       "        <td>1.08</td>\n",
       "        <td>78370092.12</td>\n",
       "    </tr>\n",
       "</table>"
      ],
      "text/plain": [
       "[('World', 7256490011, 1.08, 78370092.12)]"
      ]
     },
     "execution_count": 39,
     "metadata": {},
     "output_type": "execute_result"
    }
   ],
   "source": [
    "%%sql\n",
    "SELECT name, population, population_growth,\n",
    "       ROUND(population*population_growth/100, 2) AS 'yearly change'\n",
    "  FROM facts\n",
    " WHERE name = 'World'"
   ]
  },
  {
   "cell_type": "markdown",
   "metadata": {},
   "source": [
    "### Birth and death rates\n",
    "\n",
    "Let's take a closer look to the birth and death rates of these countries."
   ]
  },
  {
   "cell_type": "code",
   "execution_count": 34,
   "metadata": {
    "collapsed": false
   },
   "outputs": [
    {
     "name": "stdout",
     "output_type": "stream",
     "text": [
      "Done.\n"
     ]
    },
    {
     "data": {
      "text/html": [
       "<table>\n",
       "    <tr>\n",
       "        <th>name</th>\n",
       "        <th>population_growth</th>\n",
       "        <th>birth_rate</th>\n",
       "        <th>death_rate</th>\n",
       "    </tr>\n",
       "    <tr>\n",
       "        <td>South Sudan</td>\n",
       "        <td>4.02</td>\n",
       "        <td>36.91</td>\n",
       "        <td>8.18</td>\n",
       "    </tr>\n",
       "    <tr>\n",
       "        <td>Malawi</td>\n",
       "        <td>3.32</td>\n",
       "        <td>41.56</td>\n",
       "        <td>8.41</td>\n",
       "    </tr>\n",
       "    <tr>\n",
       "        <td>Burundi</td>\n",
       "        <td>3.28</td>\n",
       "        <td>42.01</td>\n",
       "        <td>9.27</td>\n",
       "    </tr>\n",
       "    <tr>\n",
       "        <td>Niger</td>\n",
       "        <td>3.25</td>\n",
       "        <td>45.45</td>\n",
       "        <td>12.42</td>\n",
       "    </tr>\n",
       "    <tr>\n",
       "        <td>Uganda</td>\n",
       "        <td>3.24</td>\n",
       "        <td>43.79</td>\n",
       "        <td>10.69</td>\n",
       "    </tr>\n",
       "    <tr>\n",
       "        <td>Qatar</td>\n",
       "        <td>3.07</td>\n",
       "        <td>9.84</td>\n",
       "        <td>1.53</td>\n",
       "    </tr>\n",
       "    <tr>\n",
       "        <td>Burkina Faso</td>\n",
       "        <td>3.03</td>\n",
       "        <td>42.03</td>\n",
       "        <td>11.72</td>\n",
       "    </tr>\n",
       "    <tr>\n",
       "        <td>Mali</td>\n",
       "        <td>2.98</td>\n",
       "        <td>44.99</td>\n",
       "        <td>12.89</td>\n",
       "    </tr>\n",
       "    <tr>\n",
       "        <td>Cook Islands</td>\n",
       "        <td>2.95</td>\n",
       "        <td>14.33</td>\n",
       "        <td>8.03</td>\n",
       "    </tr>\n",
       "    <tr>\n",
       "        <td>Iraq</td>\n",
       "        <td>2.93</td>\n",
       "        <td>31.45</td>\n",
       "        <td>3.77</td>\n",
       "    </tr>\n",
       "</table>"
      ],
      "text/plain": [
       "[('South Sudan', 4.02, 36.91, 8.18),\n",
       " ('Malawi', 3.32, 41.56, 8.41),\n",
       " ('Burundi', 3.28, 42.01, 9.27),\n",
       " ('Niger', 3.25, 45.45, 12.42),\n",
       " ('Uganda', 3.24, 43.79, 10.69),\n",
       " ('Qatar', 3.07, 9.84, 1.53),\n",
       " ('Burkina Faso', 3.03, 42.03, 11.72),\n",
       " ('Mali', 2.98, 44.99, 12.89),\n",
       " ('Cook Islands', 2.95, 14.33, 8.03),\n",
       " ('Iraq', 2.93, 31.45, 3.77)]"
      ]
     },
     "execution_count": 34,
     "metadata": {},
     "output_type": "execute_result"
    }
   ],
   "source": [
    "%%sql\n",
    "SELECT name, population_growth, birth_rate, death_rate\n",
    "  FROM facts\n",
    " WHERE name NOT IN ('World', 'European Union')\n",
    " ORDER BY population_growth DESC\n",
    " LIMIT 10;"
   ]
  },
  {
   "cell_type": "markdown",
   "metadata": {},
   "source": [
    "It's interesting. Higher growth rate has lowest birth rate from our top 10 table. So death rate probably impact even more then birth rate.\n",
    "Let's check top countries with highest birth and death rates"
   ]
  },
  {
   "cell_type": "code",
   "execution_count": 35,
   "metadata": {
    "collapsed": false
   },
   "outputs": [
    {
     "name": "stdout",
     "output_type": "stream",
     "text": [
      "Done.\n"
     ]
    },
    {
     "data": {
      "text/html": [
       "<table>\n",
       "    <tr>\n",
       "        <th>name</th>\n",
       "        <th>population_growth</th>\n",
       "        <th>birth_rate</th>\n",
       "        <th>death_rate</th>\n",
       "    </tr>\n",
       "    <tr>\n",
       "        <td>Niger</td>\n",
       "        <td>3.25</td>\n",
       "        <td>45.45</td>\n",
       "        <td>12.42</td>\n",
       "    </tr>\n",
       "    <tr>\n",
       "        <td>Mali</td>\n",
       "        <td>2.98</td>\n",
       "        <td>44.99</td>\n",
       "        <td>12.89</td>\n",
       "    </tr>\n",
       "    <tr>\n",
       "        <td>Uganda</td>\n",
       "        <td>3.24</td>\n",
       "        <td>43.79</td>\n",
       "        <td>10.69</td>\n",
       "    </tr>\n",
       "    <tr>\n",
       "        <td>Zambia</td>\n",
       "        <td>2.88</td>\n",
       "        <td>42.13</td>\n",
       "        <td>12.67</td>\n",
       "    </tr>\n",
       "    <tr>\n",
       "        <td>Burkina Faso</td>\n",
       "        <td>3.03</td>\n",
       "        <td>42.03</td>\n",
       "        <td>11.72</td>\n",
       "    </tr>\n",
       "    <tr>\n",
       "        <td>Burundi</td>\n",
       "        <td>3.28</td>\n",
       "        <td>42.01</td>\n",
       "        <td>9.27</td>\n",
       "    </tr>\n",
       "    <tr>\n",
       "        <td>Malawi</td>\n",
       "        <td>3.32</td>\n",
       "        <td>41.56</td>\n",
       "        <td>8.41</td>\n",
       "    </tr>\n",
       "    <tr>\n",
       "        <td>Somalia</td>\n",
       "        <td>1.83</td>\n",
       "        <td>40.45</td>\n",
       "        <td>13.62</td>\n",
       "    </tr>\n",
       "    <tr>\n",
       "        <td>Angola</td>\n",
       "        <td>2.78</td>\n",
       "        <td>38.78</td>\n",
       "        <td>11.49</td>\n",
       "    </tr>\n",
       "    <tr>\n",
       "        <td>Mozambique</td>\n",
       "        <td>2.45</td>\n",
       "        <td>38.58</td>\n",
       "        <td>12.1</td>\n",
       "    </tr>\n",
       "</table>"
      ],
      "text/plain": [
       "[('Niger', 3.25, 45.45, 12.42),\n",
       " ('Mali', 2.98, 44.99, 12.89),\n",
       " ('Uganda', 3.24, 43.79, 10.69),\n",
       " ('Zambia', 2.88, 42.13, 12.67),\n",
       " ('Burkina Faso', 3.03, 42.03, 11.72),\n",
       " ('Burundi', 3.28, 42.01, 9.27),\n",
       " ('Malawi', 3.32, 41.56, 8.41),\n",
       " ('Somalia', 1.83, 40.45, 13.62),\n",
       " ('Angola', 2.78, 38.78, 11.49),\n",
       " ('Mozambique', 2.45, 38.58, 12.1)]"
      ]
     },
     "execution_count": 35,
     "metadata": {},
     "output_type": "execute_result"
    }
   ],
   "source": [
    "%%sql\n",
    "SELECT name, population_growth, birth_rate, death_rate\n",
    "  FROM facts\n",
    " WHERE name NOT IN ('World', 'European Union')\n",
    " ORDER BY birth_rate DESC\n",
    " LIMIT 10;"
   ]
  },
  {
   "cell_type": "markdown",
   "metadata": {},
   "source": [
    "All countries are from **Africa**. This region is the leader for number of births as we could see at the fertility map above.\n",
    "\n",
    "Now death rates."
   ]
  },
  {
   "cell_type": "code",
   "execution_count": 36,
   "metadata": {
    "collapsed": false
   },
   "outputs": [
    {
     "name": "stdout",
     "output_type": "stream",
     "text": [
      "Done.\n"
     ]
    },
    {
     "data": {
      "text/html": [
       "<table>\n",
       "    <tr>\n",
       "        <th>name</th>\n",
       "        <th>population_growth</th>\n",
       "        <th>birth_rate</th>\n",
       "        <th>death_rate</th>\n",
       "    </tr>\n",
       "    <tr>\n",
       "        <td>Lesotho</td>\n",
       "        <td>0.32</td>\n",
       "        <td>25.47</td>\n",
       "        <td>14.89</td>\n",
       "    </tr>\n",
       "    <tr>\n",
       "        <td>Ukraine</td>\n",
       "        <td>0.6</td>\n",
       "        <td>10.72</td>\n",
       "        <td>14.46</td>\n",
       "    </tr>\n",
       "    <tr>\n",
       "        <td>Bulgaria</td>\n",
       "        <td>0.58</td>\n",
       "        <td>8.92</td>\n",
       "        <td>14.44</td>\n",
       "    </tr>\n",
       "    <tr>\n",
       "        <td>Guinea-Bissau</td>\n",
       "        <td>1.91</td>\n",
       "        <td>33.38</td>\n",
       "        <td>14.33</td>\n",
       "    </tr>\n",
       "    <tr>\n",
       "        <td>Latvia</td>\n",
       "        <td>1.06</td>\n",
       "        <td>10.0</td>\n",
       "        <td>14.31</td>\n",
       "    </tr>\n",
       "    <tr>\n",
       "        <td>Chad</td>\n",
       "        <td>1.89</td>\n",
       "        <td>36.6</td>\n",
       "        <td>14.28</td>\n",
       "    </tr>\n",
       "    <tr>\n",
       "        <td>Lithuania</td>\n",
       "        <td>1.04</td>\n",
       "        <td>10.1</td>\n",
       "        <td>14.27</td>\n",
       "    </tr>\n",
       "    <tr>\n",
       "        <td>Namibia</td>\n",
       "        <td>0.59</td>\n",
       "        <td>19.8</td>\n",
       "        <td>13.91</td>\n",
       "    </tr>\n",
       "    <tr>\n",
       "        <td>Afghanistan</td>\n",
       "        <td>2.32</td>\n",
       "        <td>38.57</td>\n",
       "        <td>13.89</td>\n",
       "    </tr>\n",
       "    <tr>\n",
       "        <td>Central African Republic</td>\n",
       "        <td>2.13</td>\n",
       "        <td>35.08</td>\n",
       "        <td>13.8</td>\n",
       "    </tr>\n",
       "</table>"
      ],
      "text/plain": [
       "[('Lesotho', 0.32, 25.47, 14.89),\n",
       " ('Ukraine', 0.6, 10.72, 14.46),\n",
       " ('Bulgaria', 0.58, 8.92, 14.44),\n",
       " ('Guinea-Bissau', 1.91, 33.38, 14.33),\n",
       " ('Latvia', 1.06, 10.0, 14.31),\n",
       " ('Chad', 1.89, 36.6, 14.28),\n",
       " ('Lithuania', 1.04, 10.1, 14.27),\n",
       " ('Namibia', 0.59, 19.8, 13.91),\n",
       " ('Afghanistan', 2.32, 38.57, 13.89),\n",
       " ('Central African Republic', 2.13, 35.08, 13.8)]"
      ]
     },
     "execution_count": 36,
     "metadata": {},
     "output_type": "execute_result"
    }
   ],
   "source": [
    "%%sql\n",
    "SELECT name, population_growth, birth_rate, death_rate\n",
    "  FROM facts\n",
    " WHERE name NOT IN ('World', 'European Union')\n",
    " ORDER BY death_rate DESC\n",
    " LIMIT 10;"
   ]
  },
  {
   "cell_type": "markdown",
   "metadata": {},
   "source": [
    "Quite unexpected find here countries like **Bulgaria** or **Ukraine**. It seems **Eastern Europe** and **Baltic region** are suffering from high death rates as much as **Africa**.\n",
    "![Image](https://upload.wikimedia.org/wikipedia/commons/d/d7/Death_rate_world_map.PNG)\n",
    "\n",
    "___\n",
    "### Area. Land and water ratio\n",
    "\n",
    "Now let's explore country territories a bit. First we'll find top 10 countries with land area."
   ]
  },
  {
   "cell_type": "code",
   "execution_count": 23,
   "metadata": {
    "collapsed": false
   },
   "outputs": [
    {
     "name": "stdout",
     "output_type": "stream",
     "text": [
      "Done.\n"
     ]
    },
    {
     "data": {
      "text/html": [
       "<table>\n",
       "    <tr>\n",
       "        <th>name</th>\n",
       "        <th>area</th>\n",
       "        <th>area_land</th>\n",
       "        <th>area_water</th>\n",
       "    </tr>\n",
       "    <tr>\n",
       "        <td>Russia</td>\n",
       "        <td>17098242</td>\n",
       "        <td>16377742</td>\n",
       "        <td>720500</td>\n",
       "    </tr>\n",
       "    <tr>\n",
       "        <td>Canada</td>\n",
       "        <td>9984670</td>\n",
       "        <td>9093507</td>\n",
       "        <td>891163</td>\n",
       "    </tr>\n",
       "    <tr>\n",
       "        <td>United States</td>\n",
       "        <td>9826675</td>\n",
       "        <td>9161966</td>\n",
       "        <td>664709</td>\n",
       "    </tr>\n",
       "    <tr>\n",
       "        <td>China</td>\n",
       "        <td>9596960</td>\n",
       "        <td>9326410</td>\n",
       "        <td>270550</td>\n",
       "    </tr>\n",
       "    <tr>\n",
       "        <td>Brazil</td>\n",
       "        <td>8515770</td>\n",
       "        <td>8358140</td>\n",
       "        <td>157630</td>\n",
       "    </tr>\n",
       "    <tr>\n",
       "        <td>Australia</td>\n",
       "        <td>7741220</td>\n",
       "        <td>7682300</td>\n",
       "        <td>58920</td>\n",
       "    </tr>\n",
       "    <tr>\n",
       "        <td>India</td>\n",
       "        <td>3287263</td>\n",
       "        <td>2973193</td>\n",
       "        <td>314070</td>\n",
       "    </tr>\n",
       "    <tr>\n",
       "        <td>Argentina</td>\n",
       "        <td>2780400</td>\n",
       "        <td>2736690</td>\n",
       "        <td>43710</td>\n",
       "    </tr>\n",
       "    <tr>\n",
       "        <td>Kazakhstan</td>\n",
       "        <td>2724900</td>\n",
       "        <td>2699700</td>\n",
       "        <td>25200</td>\n",
       "    </tr>\n",
       "    <tr>\n",
       "        <td>Algeria</td>\n",
       "        <td>2381741</td>\n",
       "        <td>2381741</td>\n",
       "        <td>0</td>\n",
       "    </tr>\n",
       "</table>"
      ],
      "text/plain": [
       "[('Russia', 17098242, 16377742, 720500),\n",
       " ('Canada', 9984670, 9093507, 891163),\n",
       " ('United States', 9826675, 9161966, 664709),\n",
       " ('China', 9596960, 9326410, 270550),\n",
       " ('Brazil', 8515770, 8358140, 157630),\n",
       " ('Australia', 7741220, 7682300, 58920),\n",
       " ('India', 3287263, 2973193, 314070),\n",
       " ('Argentina', 2780400, 2736690, 43710),\n",
       " ('Kazakhstan', 2724900, 2699700, 25200),\n",
       " ('Algeria', 2381741, 2381741, 0)]"
      ]
     },
     "execution_count": 23,
     "metadata": {},
     "output_type": "execute_result"
    }
   ],
   "source": [
    "%%sql\n",
    "SELECT name, area, area_land, area_water\n",
    "  FROM facts\n",
    " WHERE name NOT IN ('World', 'European Union')\n",
    " ORDER BY area DESC\n",
    " LIMIT 10;"
   ]
  },
  {
   "cell_type": "markdown",
   "metadata": {},
   "source": [
    "Three is no surprise, [**Russia**](https://en.wikipedia.org/wiki/Russia) is the biggest country. Whole list obviously correspondts with [wikipedia](https://en.wikipedia.org/wiki/List_of_countries_and_dependencies_by_area).\n",
    "\n",
    "![Image](https://travelnotes.org/Europe/images/russia.gif)\n",
    "___\n",
    "\n",
    "Now we'll find bottom 10."
   ]
  },
  {
   "cell_type": "code",
   "execution_count": 24,
   "metadata": {
    "collapsed": false
   },
   "outputs": [
    {
     "name": "stdout",
     "output_type": "stream",
     "text": [
      "Done.\n"
     ]
    },
    {
     "data": {
      "text/html": [
       "<table>\n",
       "    <tr>\n",
       "        <th>name</th>\n",
       "        <th>area</th>\n",
       "        <th>area_land</th>\n",
       "        <th>area_water</th>\n",
       "    </tr>\n",
       "    <tr>\n",
       "        <td>Holy See (Vatican City)</td>\n",
       "        <td>0</td>\n",
       "        <td>0</td>\n",
       "        <td>0</td>\n",
       "    </tr>\n",
       "    <tr>\n",
       "        <td>Monaco</td>\n",
       "        <td>2</td>\n",
       "        <td>2</td>\n",
       "        <td>0</td>\n",
       "    </tr>\n",
       "    <tr>\n",
       "        <td>Coral Sea Islands</td>\n",
       "        <td>3</td>\n",
       "        <td>3</td>\n",
       "        <td>0</td>\n",
       "    </tr>\n",
       "    <tr>\n",
       "        <td>Ashmore and Cartier Islands</td>\n",
       "        <td>5</td>\n",
       "        <td>5</td>\n",
       "        <td>0</td>\n",
       "    </tr>\n",
       "    <tr>\n",
       "        <td>Navassa Island</td>\n",
       "        <td>5</td>\n",
       "        <td>5</td>\n",
       "        <td>0</td>\n",
       "    </tr>\n",
       "    <tr>\n",
       "        <td>Spratly Islands</td>\n",
       "        <td>5</td>\n",
       "        <td>5</td>\n",
       "        <td>0</td>\n",
       "    </tr>\n",
       "    <tr>\n",
       "        <td>Clipperton Island</td>\n",
       "        <td>6</td>\n",
       "        <td>6</td>\n",
       "        <td>0</td>\n",
       "    </tr>\n",
       "    <tr>\n",
       "        <td>Gibraltar</td>\n",
       "        <td>6</td>\n",
       "        <td>6</td>\n",
       "        <td>0</td>\n",
       "    </tr>\n",
       "    <tr>\n",
       "        <td>Wake Island</td>\n",
       "        <td>6</td>\n",
       "        <td>6</td>\n",
       "        <td>0</td>\n",
       "    </tr>\n",
       "    <tr>\n",
       "        <td>Paracel Islands</td>\n",
       "        <td>7</td>\n",
       "        <td>7</td>\n",
       "        <td>0</td>\n",
       "    </tr>\n",
       "</table>"
      ],
      "text/plain": [
       "[('Holy See (Vatican City)', 0, 0, 0),\n",
       " ('Monaco', 2, 2, 0),\n",
       " ('Coral Sea Islands', 3, 3, 0),\n",
       " ('Ashmore and Cartier Islands', 5, 5, 0),\n",
       " ('Navassa Island', 5, 5, 0),\n",
       " ('Spratly Islands', 5, 5, 0),\n",
       " ('Clipperton Island', 6, 6, 0),\n",
       " ('Gibraltar', 6, 6, 0),\n",
       " ('Wake Island', 6, 6, 0),\n",
       " ('Paracel Islands', 7, 7, 0)]"
      ]
     },
     "execution_count": 24,
     "metadata": {},
     "output_type": "execute_result"
    }
   ],
   "source": [
    "%%sql\n",
    "SELECT name, area, area_land, area_water\n",
    "  FROM facts\n",
    " WHERE name NOT IN ('World', 'European Union')\n",
    "   AND area IS NOT NULL\n",
    " ORDER BY area\n",
    " LIMIT 10;"
   ]
  },
  {
   "cell_type": "markdown",
   "metadata": {},
   "source": [
    "There are only city-states or island states which explains their area values.[**Vatican**](https://en.wikipedia.org/wiki/Vatican_City) is so small that it has less than 1 km2 according the table.\n",
    "\n",
    "![Image](https://maps-vatican.com/img/1200/map-of-vatican-city-in-rome.jpg)\n",
    "___\n",
    "\n",
    "Last thing that we're going to do is calculating land water ratio. With these values check top 10 and bottom 10 countries aswell.\n",
    "\n",
    "But before that we'll find how many counties do not have any water area at all."
   ]
  },
  {
   "cell_type": "code",
   "execution_count": 52,
   "metadata": {
    "collapsed": false
   },
   "outputs": [
    {
     "name": "stdout",
     "output_type": "stream",
     "text": [
      "Done.\n"
     ]
    },
    {
     "data": {
      "text/html": [
       "<table>\n",
       "    <tr>\n",
       "        <th>Countries without water area</th>\n",
       "    </tr>\n",
       "    <tr>\n",
       "        <td>108</td>\n",
       "    </tr>\n",
       "</table>"
      ],
      "text/plain": [
       "[(108,)]"
      ]
     },
     "execution_count": 52,
     "metadata": {},
     "output_type": "execute_result"
    }
   ],
   "source": [
    "%%sql\n",
    "SELECT COUNT(name) AS 'Countries without water area'\n",
    "  FROM facts\n",
    " WHERE area_water = 0\n",
    "    OR area_water IS NULL"
   ]
  },
  {
   "cell_type": "markdown",
   "metadata": {},
   "source": [
    "There are **108** countries without any water area or without info about it in the table. We'll exclude them from ratio calculation.\n",
    "Let's start with top 10."
   ]
  },
  {
   "cell_type": "code",
   "execution_count": 53,
   "metadata": {
    "collapsed": false
   },
   "outputs": [
    {
     "name": "stdout",
     "output_type": "stream",
     "text": [
      "Done.\n"
     ]
    },
    {
     "data": {
      "text/html": [
       "<table>\n",
       "    <tr>\n",
       "        <th>name</th>\n",
       "        <th>area</th>\n",
       "        <th>area_land</th>\n",
       "        <th>area_water</th>\n",
       "        <th>land_water_ratio</th>\n",
       "    </tr>\n",
       "    <tr>\n",
       "        <td>Bosnia and Herzegovina</td>\n",
       "        <td>51197</td>\n",
       "        <td>51187</td>\n",
       "        <td>10</td>\n",
       "        <td>5118.7</td>\n",
       "    </tr>\n",
       "    <tr>\n",
       "        <td>Niger</td>\n",
       "        <td>None</td>\n",
       "        <td>1266700</td>\n",
       "        <td>300</td>\n",
       "        <td>4222.33</td>\n",
       "    </tr>\n",
       "    <tr>\n",
       "        <td>Morocco</td>\n",
       "        <td>446550</td>\n",
       "        <td>446300</td>\n",
       "        <td>250</td>\n",
       "        <td>1785.2</td>\n",
       "    </tr>\n",
       "    <tr>\n",
       "        <td>Guinea</td>\n",
       "        <td>245857</td>\n",
       "        <td>245717</td>\n",
       "        <td>140</td>\n",
       "        <td>1755.12</td>\n",
       "    </tr>\n",
       "    <tr>\n",
       "        <td>Costa Rica</td>\n",
       "        <td>51100</td>\n",
       "        <td>51060</td>\n",
       "        <td>40</td>\n",
       "        <td>1276.5</td>\n",
       "    </tr>\n",
       "    <tr>\n",
       "        <td>Djibouti</td>\n",
       "        <td>23200</td>\n",
       "        <td>23180</td>\n",
       "        <td>20</td>\n",
       "        <td>1159.0</td>\n",
       "    </tr>\n",
       "    <tr>\n",
       "        <td>Korea, North</td>\n",
       "        <td>120538</td>\n",
       "        <td>120408</td>\n",
       "        <td>130</td>\n",
       "        <td>926.22</td>\n",
       "    </tr>\n",
       "    <tr>\n",
       "        <td>Cyprus</td>\n",
       "        <td>9251</td>\n",
       "        <td>9241</td>\n",
       "        <td>10</td>\n",
       "        <td>924.1</td>\n",
       "    </tr>\n",
       "    <tr>\n",
       "        <td>Namibia</td>\n",
       "        <td>824292</td>\n",
       "        <td>823290</td>\n",
       "        <td>1002</td>\n",
       "        <td>821.65</td>\n",
       "    </tr>\n",
       "    <tr>\n",
       "        <td>Burkina Faso</td>\n",
       "        <td>274200</td>\n",
       "        <td>273800</td>\n",
       "        <td>400</td>\n",
       "        <td>684.5</td>\n",
       "    </tr>\n",
       "</table>"
      ],
      "text/plain": [
       "[('Bosnia and Herzegovina', 51197, 51187, 10, 5118.7),\n",
       " ('Niger', None, 1266700, 300, 4222.33),\n",
       " ('Morocco', 446550, 446300, 250, 1785.2),\n",
       " ('Guinea', 245857, 245717, 140, 1755.12),\n",
       " ('Costa Rica', 51100, 51060, 40, 1276.5),\n",
       " ('Djibouti', 23200, 23180, 20, 1159.0),\n",
       " ('Korea, North', 120538, 120408, 130, 926.22),\n",
       " ('Cyprus', 9251, 9241, 10, 924.1),\n",
       " ('Namibia', 824292, 823290, 1002, 821.65),\n",
       " ('Burkina Faso', 274200, 273800, 400, 684.5)]"
      ]
     },
     "execution_count": 53,
     "metadata": {},
     "output_type": "execute_result"
    }
   ],
   "source": [
    "%%sql\n",
    "SELECT name, area, area_land, area_water,\n",
    "       ROUND(CAST(area_land AS Float)/area_water, 2) AS land_water_ratio\n",
    "  FROM facts\n",
    " WHERE name NOT IN ('World', 'European Union')\n",
    "   AND (area_water != 0 OR area_water IS NOT NULL)\n",
    " ORDER BY land_water_ratio DESC\n",
    " LIMIT 10;"
   ]
  },
  {
   "cell_type": "markdown",
   "metadata": {},
   "source": [
    "Bottom 10"
   ]
  },
  {
   "cell_type": "code",
   "execution_count": 67,
   "metadata": {
    "collapsed": false
   },
   "outputs": [
    {
     "name": "stdout",
     "output_type": "stream",
     "text": [
      "Done.\n"
     ]
    },
    {
     "data": {
      "text/html": [
       "<table>\n",
       "    <tr>\n",
       "        <th>name</th>\n",
       "        <th>area</th>\n",
       "        <th>area_land</th>\n",
       "        <th>area_water</th>\n",
       "        <th>land_water_ratio</th>\n",
       "    </tr>\n",
       "    <tr>\n",
       "        <td>British Indian Ocean Territory</td>\n",
       "        <td>54400</td>\n",
       "        <td>60</td>\n",
       "        <td>54340</td>\n",
       "        <td>0.0011</td>\n",
       "    </tr>\n",
       "    <tr>\n",
       "        <td>Virgin Islands</td>\n",
       "        <td>1910</td>\n",
       "        <td>346</td>\n",
       "        <td>1564</td>\n",
       "        <td>0.22123</td>\n",
       "    </tr>\n",
       "    <tr>\n",
       "        <td>Puerto Rico</td>\n",
       "        <td>13791</td>\n",
       "        <td>8870</td>\n",
       "        <td>4921</td>\n",
       "        <td>1.80248</td>\n",
       "    </tr>\n",
       "    <tr>\n",
       "        <td>Bahamas, The</td>\n",
       "        <td>13880</td>\n",
       "        <td>10010</td>\n",
       "        <td>3870</td>\n",
       "        <td>2.58656</td>\n",
       "    </tr>\n",
       "    <tr>\n",
       "        <td>Guinea-Bissau</td>\n",
       "        <td>36125</td>\n",
       "        <td>28120</td>\n",
       "        <td>8005</td>\n",
       "        <td>3.5128</td>\n",
       "    </tr>\n",
       "    <tr>\n",
       "        <td>Malawi</td>\n",
       "        <td>118484</td>\n",
       "        <td>94080</td>\n",
       "        <td>24404</td>\n",
       "        <td>3.85511</td>\n",
       "    </tr>\n",
       "    <tr>\n",
       "        <td>Netherlands</td>\n",
       "        <td>41543</td>\n",
       "        <td>33893</td>\n",
       "        <td>7650</td>\n",
       "        <td>4.43046</td>\n",
       "    </tr>\n",
       "    <tr>\n",
       "        <td>Uganda</td>\n",
       "        <td>241038</td>\n",
       "        <td>197100</td>\n",
       "        <td>43938</td>\n",
       "        <td>4.48587</td>\n",
       "    </tr>\n",
       "    <tr>\n",
       "        <td>Eritrea</td>\n",
       "        <td>117600</td>\n",
       "        <td>101000</td>\n",
       "        <td>16600</td>\n",
       "        <td>6.08434</td>\n",
       "    </tr>\n",
       "    <tr>\n",
       "        <td>Liberia</td>\n",
       "        <td>111369</td>\n",
       "        <td>96320</td>\n",
       "        <td>15049</td>\n",
       "        <td>6.40043</td>\n",
       "    </tr>\n",
       "</table>"
      ],
      "text/plain": [
       "[('British Indian Ocean Territory', 54400, 60, 54340, 0.0011),\n",
       " ('Virgin Islands', 1910, 346, 1564, 0.22123),\n",
       " ('Puerto Rico', 13791, 8870, 4921, 1.80248),\n",
       " ('Bahamas, The', 13880, 10010, 3870, 2.58656),\n",
       " ('Guinea-Bissau', 36125, 28120, 8005, 3.5128),\n",
       " ('Malawi', 118484, 94080, 24404, 3.85511),\n",
       " ('Netherlands', 41543, 33893, 7650, 4.43046),\n",
       " ('Uganda', 241038, 197100, 43938, 4.48587),\n",
       " ('Eritrea', 117600, 101000, 16600, 6.08434),\n",
       " ('Liberia', 111369, 96320, 15049, 6.40043)]"
      ]
     },
     "execution_count": 67,
     "metadata": {},
     "output_type": "execute_result"
    }
   ],
   "source": [
    "%%sql\n",
    "SELECT name, area, area_land, area_water,\n",
    "       ROUND(CAST(area_land AS Float)/area_water, 5) AS land_water_ratio\n",
    "  FROM facts\n",
    " WHERE name NOT IN ('World', 'European Union')\n",
    "   AND area_water != 0\n",
    "   AND area_water IS NOT NULL\n",
    "   AND area_land IS NOT NULL \n",
    " ORDER BY land_water_ratio\n",
    " LIMIT 10;"
   ]
  },
  {
   "cell_type": "markdown",
   "metadata": {},
   "source": [
    "Let's tale a closer look at our leaders.\n",
    "\n",
    "[**Bosnia and Herzegovina**](https://en.wikipedia.org/wiki/Bosnia_and_Herzegovina) is a country in South and Southeast Europe, located within the Balkans. It has access to the sea across the tiny isthmus.  \n",
    "\n",
    "![Image](https://www.ecoi.net/en/file/local/1302548/4543_1438871079_bosnia-and-herzegovina-sm-2015.gif)\n",
    "___\n",
    "\n",
    "[**British Indian Ocean Territory**](https://en.wikipedia.org/wiki/British_Indian_Ocean_Territory) comprises the seven atolls of Chagos Archipelago in the Indian Ocean.\n",
    "\n",
    "![Image](https://res.cloudinary.com/fen-learning/image/upload/c_limit/infopls_images/images/mbritindian.gif)\n",
    "___\n",
    "\n",
    "There are also countries in the list with high land water ratio but without any access to sea. For example [**Malawi**](https://www.researchgate.net/profile/Steven-Gondwe/publication/341480255/figure/fig1/AS:895036526981120@1590404745084/Map-of-Malawi-showing-districts-and-major-water-bodies.ppm) which has huge lake. \n",
    "\n",
    "![Image](https://www.countrycodeguide.com/worldmap/uploads/settings/map-malawi.jpg)\n",
    "___\n",
    "\n",
    "### Conclusions\n",
    "\n",
    "In this project we've analysed some demographic and geogrphic data from CIA Factbook. Here some findings:\n",
    "##### Demigraphic\n",
    "* **China** is the country with the largest population. It has **1.367B** people.\n",
    "* **India** has largest population growth per year at absolute numbers - **15.27M**. Then go **China** with **6.15M** and **Nigerea** with **4.44M**.\n",
    "* But if we measure growth rate in relative values the first three places will be next:\n",
    "    1. **South Sudan** with\t**4.02%**\n",
    "    2. **Malawi** with\t**3.32%**\n",
    "    3. **Burundi** with\t**3.28%**\n",
    "* We went further and estimated birth and death rates. We've discovered that all 10 countries with highest birth rate are from **Africa**. Their birth rates lie between **38.58** and **45.45**.\n",
    "* More exciting findings in death rate analysys. It seems **Eastern Europe** and **Baltic region** are suffering from high death rates as much as **Africa**. Death rates lie between **13.8** and **14.89**.\n",
    "\n",
    "###### Geographic\n",
    "* We've found the largest country which is **Russia** with **17098242 km2** area. **Canada** and **USA** are folowing with **9984670 km2** and\t**9826675 km2** respectively.\n",
    "* Also we've explored smallest countries which are bunch of island states and city-states. **Vatican** is the smallest country with less than **1 km2** area.\n",
    "* Finally we've calculated land water ratio and analysed countries using it. There are countries all over the world with high land water ratio which means lack of water resources. **Bosnia and Herzegovina**, **Namibia** and **North Korea** for exaple.\n",
    "* Countries with low land water ratio are separated into two categories:\n",
    "    1. Island and coastal countries like **British Indian Ocean Territory** or **Netherlands**.\n",
    "    2. Counties with fresh water reservoirs like **Malawi** or **Uganda**."
   ]
  }
 ],
 "metadata": {
  "kernelspec": {
   "display_name": "Python 3",
   "language": "python",
   "name": "python3"
  },
  "language_info": {
   "codemirror_mode": {
    "name": "ipython",
    "version": 3
   },
   "file_extension": ".py",
   "mimetype": "text/x-python",
   "name": "python",
   "nbconvert_exporter": "python",
   "pygments_lexer": "ipython3",
   "version": "3.4.3"
  }
 },
 "nbformat": 4,
 "nbformat_minor": 2
}
