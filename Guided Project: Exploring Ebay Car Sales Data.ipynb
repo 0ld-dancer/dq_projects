{
 "cells": [
  {
   "cell_type": "markdown",
   "metadata": {
    "collapsed": true
   },
   "source": [
    "# Подержаные машины на eBay\n",
    "---\n",
    "\n",
    "### Описание\n",
    "\n",
    "В этом проекте мы будем работать с набором данных о подержаных машинах из специалнього раздела немецкого eBay. Его можно скачать [тут](https://data.world/data-society/used-cars-data).\n",
    "\n",
    "Ниже приведена расшировка данных.\n",
    "\n",
    "* dateCrawled - дата занесения в базу.\n",
    "* name - название машины.\n",
    "* seller - продавец дилер или частное лицо.\n",
    "* offerType - тип сделки\n",
    "* price - цена.\n",
    "* abtest - включен ли A/B тест.\n",
    "* vehicleType - тип машины.\n",
    "* yearOfRegistration - год первой регистрации авто.\n",
    "* gearbox - тип трансмиссии.\n",
    "* powerPS - мощность в лс.\n",
    "* model - модель.\n",
    "* kilometer - пробег.\n",
    "* monthOfRegistration - месяц первой регистрации.\n",
    "* fuelType - тип топлива.\n",
    "* brand - марка.\n",
    "* notRepairedDamage - есть ли неустранённые повереждения.\n",
    "* dateCreated - дата создание объявления.\n",
    "* nrOfPictures - количество картинок в нём.\n",
    "* postalCode - почтовой индекс местоположения машины.\n",
    "* lastSeenOnline - последняя дата, еогда объявление было онлайн.\n",
    "\n",
    "Начнём с того, что импортируем необходимые библиотеки и прочитаем файл с данными\n"
   ]
  },
  {
   "cell_type": "code",
   "execution_count": 1,
   "metadata": {
    "collapsed": false
   },
   "outputs": [],
   "source": [
    "import numpy as np\n",
    "import pandas as pd\n",
    "\n",
    "autos = pd.read_csv('autos.csv', encoding='Latin-1')"
   ]
  },
  {
   "cell_type": "code",
   "execution_count": 2,
   "metadata": {
    "collapsed": false
   },
   "outputs": [
    {
     "name": "stdout",
     "output_type": "stream",
     "text": [
      "<class 'pandas.core.frame.DataFrame'>\n",
      "RangeIndex: 50000 entries, 0 to 49999\n",
      "Data columns (total 20 columns):\n",
      "dateCrawled            50000 non-null object\n",
      "name                   50000 non-null object\n",
      "seller                 50000 non-null object\n",
      "offerType              50000 non-null object\n",
      "price                  50000 non-null object\n",
      "abtest                 50000 non-null object\n",
      "vehicleType            44905 non-null object\n",
      "yearOfRegistration     50000 non-null int64\n",
      "gearbox                47320 non-null object\n",
      "powerPS                50000 non-null int64\n",
      "model                  47242 non-null object\n",
      "odometer               50000 non-null object\n",
      "monthOfRegistration    50000 non-null int64\n",
      "fuelType               45518 non-null object\n",
      "brand                  50000 non-null object\n",
      "notRepairedDamage      40171 non-null object\n",
      "dateCreated            50000 non-null object\n",
      "nrOfPictures           50000 non-null int64\n",
      "postalCode             50000 non-null int64\n",
      "lastSeen               50000 non-null object\n",
      "dtypes: int64(5), object(15)\n",
      "memory usage: 7.6+ MB\n"
     ]
    }
   ],
   "source": [
    "autos.info()"
   ]
  },
  {
   "cell_type": "code",
   "execution_count": 3,
   "metadata": {
    "collapsed": false
   },
   "outputs": [
    {
     "data": {
      "text/html": [
       "<div>\n",
       "<style scoped>\n",
       "    .dataframe tbody tr th:only-of-type {\n",
       "        vertical-align: middle;\n",
       "    }\n",
       "\n",
       "    .dataframe tbody tr th {\n",
       "        vertical-align: top;\n",
       "    }\n",
       "\n",
       "    .dataframe thead th {\n",
       "        text-align: right;\n",
       "    }\n",
       "</style>\n",
       "<table border=\"1\" class=\"dataframe\">\n",
       "  <thead>\n",
       "    <tr style=\"text-align: right;\">\n",
       "      <th></th>\n",
       "      <th>dateCrawled</th>\n",
       "      <th>name</th>\n",
       "      <th>seller</th>\n",
       "      <th>offerType</th>\n",
       "      <th>price</th>\n",
       "      <th>abtest</th>\n",
       "      <th>vehicleType</th>\n",
       "      <th>yearOfRegistration</th>\n",
       "      <th>gearbox</th>\n",
       "      <th>powerPS</th>\n",
       "      <th>model</th>\n",
       "      <th>odometer</th>\n",
       "      <th>monthOfRegistration</th>\n",
       "      <th>fuelType</th>\n",
       "      <th>brand</th>\n",
       "      <th>notRepairedDamage</th>\n",
       "      <th>dateCreated</th>\n",
       "      <th>nrOfPictures</th>\n",
       "      <th>postalCode</th>\n",
       "      <th>lastSeen</th>\n",
       "    </tr>\n",
       "  </thead>\n",
       "  <tbody>\n",
       "    <tr>\n",
       "      <th>0</th>\n",
       "      <td>2016-03-26 17:47:46</td>\n",
       "      <td>Peugeot_807_160_NAVTECH_ON_BOARD</td>\n",
       "      <td>privat</td>\n",
       "      <td>Angebot</td>\n",
       "      <td>$5,000</td>\n",
       "      <td>control</td>\n",
       "      <td>bus</td>\n",
       "      <td>2004</td>\n",
       "      <td>manuell</td>\n",
       "      <td>158</td>\n",
       "      <td>andere</td>\n",
       "      <td>150,000km</td>\n",
       "      <td>3</td>\n",
       "      <td>lpg</td>\n",
       "      <td>peugeot</td>\n",
       "      <td>nein</td>\n",
       "      <td>2016-03-26 00:00:00</td>\n",
       "      <td>0</td>\n",
       "      <td>79588</td>\n",
       "      <td>2016-04-06 06:45:54</td>\n",
       "    </tr>\n",
       "    <tr>\n",
       "      <th>1</th>\n",
       "      <td>2016-04-04 13:38:56</td>\n",
       "      <td>BMW_740i_4_4_Liter_HAMANN_UMBAU_Mega_Optik</td>\n",
       "      <td>privat</td>\n",
       "      <td>Angebot</td>\n",
       "      <td>$8,500</td>\n",
       "      <td>control</td>\n",
       "      <td>limousine</td>\n",
       "      <td>1997</td>\n",
       "      <td>automatik</td>\n",
       "      <td>286</td>\n",
       "      <td>7er</td>\n",
       "      <td>150,000km</td>\n",
       "      <td>6</td>\n",
       "      <td>benzin</td>\n",
       "      <td>bmw</td>\n",
       "      <td>nein</td>\n",
       "      <td>2016-04-04 00:00:00</td>\n",
       "      <td>0</td>\n",
       "      <td>71034</td>\n",
       "      <td>2016-04-06 14:45:08</td>\n",
       "    </tr>\n",
       "    <tr>\n",
       "      <th>2</th>\n",
       "      <td>2016-03-26 18:57:24</td>\n",
       "      <td>Volkswagen_Golf_1.6_United</td>\n",
       "      <td>privat</td>\n",
       "      <td>Angebot</td>\n",
       "      <td>$8,990</td>\n",
       "      <td>test</td>\n",
       "      <td>limousine</td>\n",
       "      <td>2009</td>\n",
       "      <td>manuell</td>\n",
       "      <td>102</td>\n",
       "      <td>golf</td>\n",
       "      <td>70,000km</td>\n",
       "      <td>7</td>\n",
       "      <td>benzin</td>\n",
       "      <td>volkswagen</td>\n",
       "      <td>nein</td>\n",
       "      <td>2016-03-26 00:00:00</td>\n",
       "      <td>0</td>\n",
       "      <td>35394</td>\n",
       "      <td>2016-04-06 20:15:37</td>\n",
       "    </tr>\n",
       "    <tr>\n",
       "      <th>3</th>\n",
       "      <td>2016-03-12 16:58:10</td>\n",
       "      <td>Smart_smart_fortwo_coupe_softouch/F1/Klima/Pan...</td>\n",
       "      <td>privat</td>\n",
       "      <td>Angebot</td>\n",
       "      <td>$4,350</td>\n",
       "      <td>control</td>\n",
       "      <td>kleinwagen</td>\n",
       "      <td>2007</td>\n",
       "      <td>automatik</td>\n",
       "      <td>71</td>\n",
       "      <td>fortwo</td>\n",
       "      <td>70,000km</td>\n",
       "      <td>6</td>\n",
       "      <td>benzin</td>\n",
       "      <td>smart</td>\n",
       "      <td>nein</td>\n",
       "      <td>2016-03-12 00:00:00</td>\n",
       "      <td>0</td>\n",
       "      <td>33729</td>\n",
       "      <td>2016-03-15 03:16:28</td>\n",
       "    </tr>\n",
       "    <tr>\n",
       "      <th>4</th>\n",
       "      <td>2016-04-01 14:38:50</td>\n",
       "      <td>Ford_Focus_1_6_Benzin_TÜV_neu_ist_sehr_gepfleg...</td>\n",
       "      <td>privat</td>\n",
       "      <td>Angebot</td>\n",
       "      <td>$1,350</td>\n",
       "      <td>test</td>\n",
       "      <td>kombi</td>\n",
       "      <td>2003</td>\n",
       "      <td>manuell</td>\n",
       "      <td>0</td>\n",
       "      <td>focus</td>\n",
       "      <td>150,000km</td>\n",
       "      <td>7</td>\n",
       "      <td>benzin</td>\n",
       "      <td>ford</td>\n",
       "      <td>nein</td>\n",
       "      <td>2016-04-01 00:00:00</td>\n",
       "      <td>0</td>\n",
       "      <td>39218</td>\n",
       "      <td>2016-04-01 14:38:50</td>\n",
       "    </tr>\n",
       "  </tbody>\n",
       "</table>\n",
       "</div>"
      ],
      "text/plain": [
       "           dateCrawled                                               name  \\\n",
       "0  2016-03-26 17:47:46                   Peugeot_807_160_NAVTECH_ON_BOARD   \n",
       "1  2016-04-04 13:38:56         BMW_740i_4_4_Liter_HAMANN_UMBAU_Mega_Optik   \n",
       "2  2016-03-26 18:57:24                         Volkswagen_Golf_1.6_United   \n",
       "3  2016-03-12 16:58:10  Smart_smart_fortwo_coupe_softouch/F1/Klima/Pan...   \n",
       "4  2016-04-01 14:38:50  Ford_Focus_1_6_Benzin_TÜV_neu_ist_sehr_gepfleg...   \n",
       "\n",
       "   seller offerType   price   abtest vehicleType  yearOfRegistration  \\\n",
       "0  privat   Angebot  $5,000  control         bus                2004   \n",
       "1  privat   Angebot  $8,500  control   limousine                1997   \n",
       "2  privat   Angebot  $8,990     test   limousine                2009   \n",
       "3  privat   Angebot  $4,350  control  kleinwagen                2007   \n",
       "4  privat   Angebot  $1,350     test       kombi                2003   \n",
       "\n",
       "     gearbox  powerPS   model   odometer  monthOfRegistration fuelType  \\\n",
       "0    manuell      158  andere  150,000km                    3      lpg   \n",
       "1  automatik      286     7er  150,000km                    6   benzin   \n",
       "2    manuell      102    golf   70,000km                    7   benzin   \n",
       "3  automatik       71  fortwo   70,000km                    6   benzin   \n",
       "4    manuell        0   focus  150,000km                    7   benzin   \n",
       "\n",
       "        brand notRepairedDamage          dateCreated  nrOfPictures  \\\n",
       "0     peugeot              nein  2016-03-26 00:00:00             0   \n",
       "1         bmw              nein  2016-04-04 00:00:00             0   \n",
       "2  volkswagen              nein  2016-03-26 00:00:00             0   \n",
       "3       smart              nein  2016-03-12 00:00:00             0   \n",
       "4        ford              nein  2016-04-01 00:00:00             0   \n",
       "\n",
       "   postalCode             lastSeen  \n",
       "0       79588  2016-04-06 06:45:54  \n",
       "1       71034  2016-04-06 14:45:08  \n",
       "2       35394  2016-04-06 20:15:37  \n",
       "3       33729  2016-03-15 03:16:28  \n",
       "4       39218  2016-04-01 14:38:50  "
      ]
     },
     "execution_count": 3,
     "metadata": {},
     "output_type": "execute_result"
    }
   ],
   "source": [
    "autos.head()"
   ]
  },
  {
   "cell_type": "markdown",
   "metadata": {},
   "source": [
    "Как можно заметить в названиях столбцов использован CamelCase. Для дальнейшей работы нам предпочтительно использовать snake_case(такой стиль гораздо более читабелен), поэтому переименуем интересующие нас столбцы."
   ]
  },
  {
   "cell_type": "code",
   "execution_count": 4,
   "metadata": {
    "collapsed": false
   },
   "outputs": [
    {
     "data": {
      "text/plain": [
       "Index(['dateCrawled', 'name', 'seller', 'offerType', 'price', 'abtest',\n",
       "       'vehicleType', 'yearOfRegistration', 'gearbox', 'powerPS', 'model',\n",
       "       'odometer', 'monthOfRegistration', 'fuelType', 'brand',\n",
       "       'notRepairedDamage', 'dateCreated', 'nrOfPictures', 'postalCode',\n",
       "       'lastSeen'],\n",
       "      dtype='object')"
      ]
     },
     "execution_count": 4,
     "metadata": {},
     "output_type": "execute_result"
    }
   ],
   "source": [
    "autos.columns"
   ]
  },
  {
   "cell_type": "code",
   "execution_count": 25,
   "metadata": {
    "collapsed": false
   },
   "outputs": [
    {
     "data": {
      "text/plain": [
       "Index(['date_crawled', 'name', 'price', 'abtest', 'vehicle_type',\n",
       "       'registration_year', 'gearbox', 'powerPS', 'model', 'odometer_km',\n",
       "       'registration_month', 'fuelType', 'brand', 'unrepaired_damage',\n",
       "       'ad_created', 'postalCode', 'last_seen'],\n",
       "      dtype='object')"
      ]
     },
     "execution_count": 25,
     "metadata": {},
     "output_type": "execute_result"
    }
   ],
   "source": [
    "autos.rename({'yearOfRegistration': 'registration_year', 'monthOfRegistration': 'registration_month',\n",
    "              'notRepairedDamage': 'unrepaired_damage', 'dateCreated': 'ad_created','lastSeen': 'last_seen',\n",
    "             'dateCrawled': 'date_crawled', 'vehicleType': 'vehicle_type'},\n",
    "            axis=1, inplace=True)\n",
    "autos.columns"
   ]
  },
  {
   "cell_type": "markdown",
   "metadata": {},
   "source": [
    "## Очистка данных\n",
    "\n",
    "Давайте внимательнее посмотрим на стоблцы, возможно некоторые их них абсолютно не информативны и их можно удалить"
   ]
  },
  {
   "cell_type": "code",
   "execution_count": 26,
   "metadata": {
    "collapsed": false
   },
   "outputs": [
    {
     "data": {
      "text/html": [
       "<div>\n",
       "<style scoped>\n",
       "    .dataframe tbody tr th:only-of-type {\n",
       "        vertical-align: middle;\n",
       "    }\n",
       "\n",
       "    .dataframe tbody tr th {\n",
       "        vertical-align: top;\n",
       "    }\n",
       "\n",
       "    .dataframe thead th {\n",
       "        text-align: right;\n",
       "    }\n",
       "</style>\n",
       "<table border=\"1\" class=\"dataframe\">\n",
       "  <thead>\n",
       "    <tr style=\"text-align: right;\">\n",
       "      <th></th>\n",
       "      <th>date_crawled</th>\n",
       "      <th>name</th>\n",
       "      <th>price</th>\n",
       "      <th>abtest</th>\n",
       "      <th>vehicle_type</th>\n",
       "      <th>registration_year</th>\n",
       "      <th>gearbox</th>\n",
       "      <th>powerPS</th>\n",
       "      <th>model</th>\n",
       "      <th>odometer_km</th>\n",
       "      <th>registration_month</th>\n",
       "      <th>fuelType</th>\n",
       "      <th>brand</th>\n",
       "      <th>unrepaired_damage</th>\n",
       "      <th>ad_created</th>\n",
       "      <th>postalCode</th>\n",
       "      <th>last_seen</th>\n",
       "    </tr>\n",
       "  </thead>\n",
       "  <tbody>\n",
       "    <tr>\n",
       "      <th>count</th>\n",
       "      <td>38629</td>\n",
       "      <td>38629</td>\n",
       "      <td>38629.000000</td>\n",
       "      <td>38629</td>\n",
       "      <td>35873</td>\n",
       "      <td>38629.000000</td>\n",
       "      <td>37195</td>\n",
       "      <td>38629.000000</td>\n",
       "      <td>37011</td>\n",
       "      <td>38629.000000</td>\n",
       "      <td>38629.000000</td>\n",
       "      <td>36271</td>\n",
       "      <td>38629</td>\n",
       "      <td>32857</td>\n",
       "      <td>38629</td>\n",
       "      <td>38629.000000</td>\n",
       "      <td>38629</td>\n",
       "    </tr>\n",
       "    <tr>\n",
       "      <th>unique</th>\n",
       "      <td>37561</td>\n",
       "      <td>29747</td>\n",
       "      <td>NaN</td>\n",
       "      <td>2</td>\n",
       "      <td>8</td>\n",
       "      <td>NaN</td>\n",
       "      <td>2</td>\n",
       "      <td>NaN</td>\n",
       "      <td>242</td>\n",
       "      <td>NaN</td>\n",
       "      <td>NaN</td>\n",
       "      <td>7</td>\n",
       "      <td>40</td>\n",
       "      <td>2</td>\n",
       "      <td>74</td>\n",
       "      <td>NaN</td>\n",
       "      <td>31223</td>\n",
       "    </tr>\n",
       "    <tr>\n",
       "      <th>top</th>\n",
       "      <td>2016-03-11 22:38:16</td>\n",
       "      <td>BMW_318i</td>\n",
       "      <td>NaN</td>\n",
       "      <td>test</td>\n",
       "      <td>limousine</td>\n",
       "      <td>NaN</td>\n",
       "      <td>manuell</td>\n",
       "      <td>NaN</td>\n",
       "      <td>golf</td>\n",
       "      <td>NaN</td>\n",
       "      <td>NaN</td>\n",
       "      <td>benzin</td>\n",
       "      <td>volkswagen</td>\n",
       "      <td>nein</td>\n",
       "      <td>2016-04-03 00:00:00</td>\n",
       "      <td>NaN</td>\n",
       "      <td>2016-04-07 03:16:17</td>\n",
       "    </tr>\n",
       "    <tr>\n",
       "      <th>freq</th>\n",
       "      <td>3</td>\n",
       "      <td>67</td>\n",
       "      <td>NaN</td>\n",
       "      <td>19944</td>\n",
       "      <td>10545</td>\n",
       "      <td>NaN</td>\n",
       "      <td>27820</td>\n",
       "      <td>NaN</td>\n",
       "      <td>3077</td>\n",
       "      <td>NaN</td>\n",
       "      <td>NaN</td>\n",
       "      <td>21911</td>\n",
       "      <td>8222</td>\n",
       "      <td>30472</td>\n",
       "      <td>1524</td>\n",
       "      <td>NaN</td>\n",
       "      <td>7</td>\n",
       "    </tr>\n",
       "    <tr>\n",
       "      <th>mean</th>\n",
       "      <td>NaN</td>\n",
       "      <td>NaN</td>\n",
       "      <td>7332.474359</td>\n",
       "      <td>NaN</td>\n",
       "      <td>NaN</td>\n",
       "      <td>2005.678713</td>\n",
       "      <td>NaN</td>\n",
       "      <td>128.912941</td>\n",
       "      <td>NaN</td>\n",
       "      <td>122780.035724</td>\n",
       "      <td>5.998757</td>\n",
       "      <td>NaN</td>\n",
       "      <td>NaN</td>\n",
       "      <td>NaN</td>\n",
       "      <td>NaN</td>\n",
       "      <td>51690.997256</td>\n",
       "      <td>NaN</td>\n",
       "    </tr>\n",
       "    <tr>\n",
       "      <th>std</th>\n",
       "      <td>NaN</td>\n",
       "      <td>NaN</td>\n",
       "      <td>13060.890754</td>\n",
       "      <td>NaN</td>\n",
       "      <td>NaN</td>\n",
       "      <td>86.681928</td>\n",
       "      <td>NaN</td>\n",
       "      <td>215.883262</td>\n",
       "      <td>NaN</td>\n",
       "      <td>40795.760641</td>\n",
       "      <td>3.591162</td>\n",
       "      <td>NaN</td>\n",
       "      <td>NaN</td>\n",
       "      <td>NaN</td>\n",
       "      <td>NaN</td>\n",
       "      <td>25689.793419</td>\n",
       "      <td>NaN</td>\n",
       "    </tr>\n",
       "    <tr>\n",
       "      <th>min</th>\n",
       "      <td>NaN</td>\n",
       "      <td>NaN</td>\n",
       "      <td>1000.000000</td>\n",
       "      <td>NaN</td>\n",
       "      <td>NaN</td>\n",
       "      <td>1000.000000</td>\n",
       "      <td>NaN</td>\n",
       "      <td>0.000000</td>\n",
       "      <td>NaN</td>\n",
       "      <td>5000.000000</td>\n",
       "      <td>0.000000</td>\n",
       "      <td>NaN</td>\n",
       "      <td>NaN</td>\n",
       "      <td>NaN</td>\n",
       "      <td>NaN</td>\n",
       "      <td>1067.000000</td>\n",
       "      <td>NaN</td>\n",
       "    </tr>\n",
       "    <tr>\n",
       "      <th>25%</th>\n",
       "      <td>NaN</td>\n",
       "      <td>NaN</td>\n",
       "      <td>2200.000000</td>\n",
       "      <td>NaN</td>\n",
       "      <td>NaN</td>\n",
       "      <td>2001.000000</td>\n",
       "      <td>NaN</td>\n",
       "      <td>80.000000</td>\n",
       "      <td>NaN</td>\n",
       "      <td>100000.000000</td>\n",
       "      <td>3.000000</td>\n",
       "      <td>NaN</td>\n",
       "      <td>NaN</td>\n",
       "      <td>NaN</td>\n",
       "      <td>NaN</td>\n",
       "      <td>31224.000000</td>\n",
       "      <td>NaN</td>\n",
       "    </tr>\n",
       "    <tr>\n",
       "      <th>50%</th>\n",
       "      <td>NaN</td>\n",
       "      <td>NaN</td>\n",
       "      <td>4350.000000</td>\n",
       "      <td>NaN</td>\n",
       "      <td>NaN</td>\n",
       "      <td>2005.000000</td>\n",
       "      <td>NaN</td>\n",
       "      <td>116.000000</td>\n",
       "      <td>NaN</td>\n",
       "      <td>150000.000000</td>\n",
       "      <td>6.000000</td>\n",
       "      <td>NaN</td>\n",
       "      <td>NaN</td>\n",
       "      <td>NaN</td>\n",
       "      <td>NaN</td>\n",
       "      <td>50858.000000</td>\n",
       "      <td>NaN</td>\n",
       "    </tr>\n",
       "    <tr>\n",
       "      <th>75%</th>\n",
       "      <td>NaN</td>\n",
       "      <td>NaN</td>\n",
       "      <td>8950.000000</td>\n",
       "      <td>NaN</td>\n",
       "      <td>NaN</td>\n",
       "      <td>2009.000000</td>\n",
       "      <td>NaN</td>\n",
       "      <td>160.000000</td>\n",
       "      <td>NaN</td>\n",
       "      <td>150000.000000</td>\n",
       "      <td>9.000000</td>\n",
       "      <td>NaN</td>\n",
       "      <td>NaN</td>\n",
       "      <td>NaN</td>\n",
       "      <td>NaN</td>\n",
       "      <td>72534.000000</td>\n",
       "      <td>NaN</td>\n",
       "    </tr>\n",
       "    <tr>\n",
       "      <th>max</th>\n",
       "      <td>NaN</td>\n",
       "      <td>NaN</td>\n",
       "      <td>999999.000000</td>\n",
       "      <td>NaN</td>\n",
       "      <td>NaN</td>\n",
       "      <td>9999.000000</td>\n",
       "      <td>NaN</td>\n",
       "      <td>17700.000000</td>\n",
       "      <td>NaN</td>\n",
       "      <td>150000.000000</td>\n",
       "      <td>12.000000</td>\n",
       "      <td>NaN</td>\n",
       "      <td>NaN</td>\n",
       "      <td>NaN</td>\n",
       "      <td>NaN</td>\n",
       "      <td>99998.000000</td>\n",
       "      <td>NaN</td>\n",
       "    </tr>\n",
       "  </tbody>\n",
       "</table>\n",
       "</div>"
      ],
      "text/plain": [
       "               date_crawled      name          price abtest vehicle_type  \\\n",
       "count                 38629     38629   38629.000000  38629        35873   \n",
       "unique                37561     29747            NaN      2            8   \n",
       "top     2016-03-11 22:38:16  BMW_318i            NaN   test    limousine   \n",
       "freq                      3        67            NaN  19944        10545   \n",
       "mean                    NaN       NaN    7332.474359    NaN          NaN   \n",
       "std                     NaN       NaN   13060.890754    NaN          NaN   \n",
       "min                     NaN       NaN    1000.000000    NaN          NaN   \n",
       "25%                     NaN       NaN    2200.000000    NaN          NaN   \n",
       "50%                     NaN       NaN    4350.000000    NaN          NaN   \n",
       "75%                     NaN       NaN    8950.000000    NaN          NaN   \n",
       "max                     NaN       NaN  999999.000000    NaN          NaN   \n",
       "\n",
       "        registration_year  gearbox       powerPS  model    odometer_km  \\\n",
       "count        38629.000000    37195  38629.000000  37011   38629.000000   \n",
       "unique                NaN        2           NaN    242            NaN   \n",
       "top                   NaN  manuell           NaN   golf            NaN   \n",
       "freq                  NaN    27820           NaN   3077            NaN   \n",
       "mean          2005.678713      NaN    128.912941    NaN  122780.035724   \n",
       "std             86.681928      NaN    215.883262    NaN   40795.760641   \n",
       "min           1000.000000      NaN      0.000000    NaN    5000.000000   \n",
       "25%           2001.000000      NaN     80.000000    NaN  100000.000000   \n",
       "50%           2005.000000      NaN    116.000000    NaN  150000.000000   \n",
       "75%           2009.000000      NaN    160.000000    NaN  150000.000000   \n",
       "max           9999.000000      NaN  17700.000000    NaN  150000.000000   \n",
       "\n",
       "        registration_month fuelType       brand unrepaired_damage  \\\n",
       "count         38629.000000    36271       38629             32857   \n",
       "unique                 NaN        7          40                 2   \n",
       "top                    NaN   benzin  volkswagen              nein   \n",
       "freq                   NaN    21911        8222             30472   \n",
       "mean              5.998757      NaN         NaN               NaN   \n",
       "std               3.591162      NaN         NaN               NaN   \n",
       "min               0.000000      NaN         NaN               NaN   \n",
       "25%               3.000000      NaN         NaN               NaN   \n",
       "50%               6.000000      NaN         NaN               NaN   \n",
       "75%               9.000000      NaN         NaN               NaN   \n",
       "max              12.000000      NaN         NaN               NaN   \n",
       "\n",
       "                 ad_created    postalCode            last_seen  \n",
       "count                 38629  38629.000000                38629  \n",
       "unique                   74           NaN                31223  \n",
       "top     2016-04-03 00:00:00           NaN  2016-04-07 03:16:17  \n",
       "freq                   1524           NaN                    7  \n",
       "mean                    NaN  51690.997256                  NaN  \n",
       "std                     NaN  25689.793419                  NaN  \n",
       "min                     NaN   1067.000000                  NaN  \n",
       "25%                     NaN  31224.000000                  NaN  \n",
       "50%                     NaN  50858.000000                  NaN  \n",
       "75%                     NaN  72534.000000                  NaN  \n",
       "max                     NaN  99998.000000                  NaN  "
      ]
     },
     "execution_count": 26,
     "metadata": {},
     "output_type": "execute_result"
    }
   ],
   "source": [
    "autos.describe(include='all')"
   ]
  },
  {
   "cell_type": "markdown",
   "metadata": {},
   "source": [
    "К примеру столбцы `seller` и `offerType` имеют всего по 2 уникальных значения, при этом одно из них встречается в 49999 случаях из 50000. Из невозможно почерпнуть полезную инфу, соответственно их можно удалять.\n",
    "\n",
    "Также можно заметить, что в столбцах `price` и `odometer` данные сохранены как текст, хотя для пробега и цены нужны числовые значения. Будем их переводить."
   ]
  },
  {
   "cell_type": "code",
   "execution_count": 7,
   "metadata": {
    "collapsed": false
   },
   "outputs": [
    {
     "data": {
      "text/plain": [
       "$0          1421\n",
       "$500         781\n",
       "$1,500       734\n",
       "$2,500       643\n",
       "$1,200       639\n",
       "$1,000       639\n",
       "$600         531\n",
       "$3,500       498\n",
       "$800         498\n",
       "$2,000       460\n",
       "$999         434\n",
       "$750         433\n",
       "$900         420\n",
       "$650         419\n",
       "$850         410\n",
       "$700         395\n",
       "$4,500       394\n",
       "$300         384\n",
       "$2,200       382\n",
       "$950         379\n",
       "$1,100       376\n",
       "$1,300       371\n",
       "$3,000       365\n",
       "$550         356\n",
       "$1,800       355\n",
       "$5,500       340\n",
       "$1,250       335\n",
       "$350         335\n",
       "$1,600       327\n",
       "$1,999       322\n",
       "            ... \n",
       "$73,900        1\n",
       "$1,039         1\n",
       "$13,888        1\n",
       "$10,480        1\n",
       "$13,680        1\n",
       "$51,500        1\n",
       "$2,549         1\n",
       "$37,400        1\n",
       "$2,175         1\n",
       "$16,845        1\n",
       "$4,180         1\n",
       "$10,555        1\n",
       "$88,900        1\n",
       "$24,290        1\n",
       "$37,950        1\n",
       "$16,650        1\n",
       "$30,650        1\n",
       "$4,320         1\n",
       "$15,186        1\n",
       "$19,777        1\n",
       "$30,987        1\n",
       "$55,900        1\n",
       "$1,820         1\n",
       "$4,201         1\n",
       "$175,000       1\n",
       "$1,985         1\n",
       "$925           1\n",
       "$1,698         1\n",
       "$98,500        1\n",
       "$4,398         1\n",
       "Name: price, Length: 2357, dtype: int64"
      ]
     },
     "execution_count": 7,
     "metadata": {},
     "output_type": "execute_result"
    }
   ],
   "source": [
    "autos['price'].value_counts()"
   ]
  },
  {
   "cell_type": "code",
   "execution_count": 8,
   "metadata": {
    "collapsed": false
   },
   "outputs": [
    {
     "data": {
      "text/plain": [
       "150,000km    32424\n",
       "125,000km     5170\n",
       "100,000km     2169\n",
       "90,000km      1757\n",
       "80,000km      1436\n",
       "70,000km      1230\n",
       "60,000km      1164\n",
       "50,000km      1027\n",
       "5,000km        967\n",
       "40,000km       819\n",
       "30,000km       789\n",
       "20,000km       784\n",
       "10,000km       264\n",
       "Name: odometer, dtype: int64"
      ]
     },
     "execution_count": 8,
     "metadata": {},
     "output_type": "execute_result"
    }
   ],
   "source": [
    "autos['odometer'].value_counts()"
   ]
  },
  {
   "cell_type": "code",
   "execution_count": 9,
   "metadata": {
    "collapsed": false
   },
   "outputs": [
    {
     "data": {
      "text/plain": [
       "0    50000\n",
       "Name: nrOfPictures, dtype: int64"
      ]
     },
     "execution_count": 9,
     "metadata": {},
     "output_type": "execute_result"
    }
   ],
   "source": [
    "autos['nrOfPictures'].value_counts()"
   ]
  },
  {
   "cell_type": "markdown",
   "metadata": {},
   "source": [
    "При ближайнем рассмотрении становится понятно, что во всех ячейках столбца `nrOfPictures` записано одно и то же значение - **0**. Очередной бесполезный столбец."
   ]
  },
  {
   "cell_type": "code",
   "execution_count": 37,
   "metadata": {
    "collapsed": false
   },
   "outputs": [
    {
     "data": {
      "text/plain": [
       "1000       1\n",
       "1001       1\n",
       "1927       1\n",
       "1929       1\n",
       "1931       1\n",
       "1934       2\n",
       "1937       4\n",
       "1938       1\n",
       "1939       1\n",
       "1941       2\n",
       "1943       1\n",
       "1948       1\n",
       "1950       1\n",
       "1951       2\n",
       "1952       1\n",
       "1953       1\n",
       "1954       2\n",
       "1955       2\n",
       "1956       4\n",
       "1957       2\n",
       "1958       3\n",
       "1959       6\n",
       "1960      17\n",
       "1961       6\n",
       "1962       4\n",
       "1963       8\n",
       "1964       9\n",
       "1965      17\n",
       "1966      21\n",
       "1967      25\n",
       "        ... \n",
       "1999    1724\n",
       "2000    2001\n",
       "2001    2065\n",
       "2002    2135\n",
       "2003    2477\n",
       "2004    2608\n",
       "2005    2785\n",
       "2006    2651\n",
       "2007    2259\n",
       "2008    2204\n",
       "2009    2077\n",
       "2010    1584\n",
       "2011    1617\n",
       "2012    1306\n",
       "2013     795\n",
       "2014     649\n",
       "2015     361\n",
       "2016     651\n",
       "2017    1008\n",
       "2018     398\n",
       "2019       1\n",
       "2800       1\n",
       "4100       1\n",
       "4500       1\n",
       "5000       2\n",
       "5911       1\n",
       "6200       1\n",
       "8888       1\n",
       "9000       1\n",
       "9999       2\n",
       "Name: registration_year, Length: 91, dtype: int64"
      ]
     },
     "execution_count": 37,
     "metadata": {},
     "output_type": "execute_result"
    }
   ],
   "source": [
    "autos['registration_year'].value_counts().sort_index()"
   ]
  },
  {
   "cell_type": "markdown",
   "metadata": {},
   "source": [
    "В столбце `registration_year` часть значений либо превышают текущий год, либо слишком маленькие, чтобы быть реальными.\n",
    "\n",
    "Начнём чистить наш набор данных!"
   ]
  },
  {
   "cell_type": "code",
   "execution_count": 11,
   "metadata": {
    "collapsed": false
   },
   "outputs": [],
   "source": [
    "# Комментим после первого запуска\n",
    "autos = autos.drop(['nrOfPictures', 'seller', 'offerType'], axis=1)\n",
    "\n",
    "autos['price'] = autos['price'].str.replace(',', '').str.replace('$', '').astype('int64')\n",
    "\n",
    "autos['odometer'] = autos['odometer'].str.replace(',', '').str.replace('km', '').astype('int64')\n",
    "\n",
    "autos.rename(columns={'odometer': 'odometer_km'}, inplace=True)"
   ]
  },
  {
   "cell_type": "markdown",
   "metadata": {},
   "source": [
    "Давайте внимательнее изучим данные по ценам и пробегу.\n",
    "\n",
    "Сначала столбец `price`."
   ]
  },
  {
   "cell_type": "code",
   "execution_count": 12,
   "metadata": {
    "collapsed": false
   },
   "outputs": [
    {
     "data": {
      "text/plain": [
       "(2357,)"
      ]
     },
     "execution_count": 12,
     "metadata": {},
     "output_type": "execute_result"
    }
   ],
   "source": [
    "autos['price'].unique().shape"
   ]
  },
  {
   "cell_type": "code",
   "execution_count": 13,
   "metadata": {
    "collapsed": false
   },
   "outputs": [
    {
     "data": {
      "text/plain": [
       "count    5.000000e+04\n",
       "mean     9.840044e+03\n",
       "std      4.811044e+05\n",
       "min      0.000000e+00\n",
       "25%      1.100000e+03\n",
       "50%      2.950000e+03\n",
       "75%      7.200000e+03\n",
       "max      1.000000e+08\n",
       "Name: price, dtype: float64"
      ]
     },
     "execution_count": 13,
     "metadata": {},
     "output_type": "execute_result"
    }
   ],
   "source": [
    "autos['price'].describe()"
   ]
  },
  {
   "cell_type": "code",
   "execution_count": 32,
   "metadata": {
    "collapsed": false
   },
   "outputs": [
    {
     "data": {
      "text/plain": [
       "999999      2\n",
       "999990      1\n",
       "350000      1\n",
       "345000      1\n",
       "299000      1\n",
       "295000      1\n",
       "265000      1\n",
       "259000      1\n",
       "250000      1\n",
       "220000      1\n",
       "198000      1\n",
       "197000      1\n",
       "194000      1\n",
       "190000      1\n",
       "180000      1\n",
       "175000      1\n",
       "169999      1\n",
       "169000      1\n",
       "163991      1\n",
       "163500      1\n",
       "155000      1\n",
       "151990      1\n",
       "145000      1\n",
       "139997      1\n",
       "137999      1\n",
       "135000      1\n",
       "130000      1\n",
       "129000      1\n",
       "128000      1\n",
       "120000      2\n",
       "         ... \n",
       "1212        2\n",
       "1209        1\n",
       "1201        2\n",
       "1200      639\n",
       "1199      126\n",
       "1195        1\n",
       "1190       37\n",
       "1189        1\n",
       "1180        4\n",
       "1170        1\n",
       "1169        1\n",
       "1150      226\n",
       "1149       10\n",
       "1120        2\n",
       "1119        1\n",
       "1112        1\n",
       "1111       39\n",
       "1100      376\n",
       "1099       44\n",
       "1098        1\n",
       "1095        3\n",
       "1090        4\n",
       "1080        6\n",
       "1070        1\n",
       "1059        1\n",
       "1050       95\n",
       "1049        6\n",
       "1040        1\n",
       "1039        1\n",
       "1000      639\n",
       "Name: price, Length: 2091, dtype: int64"
      ]
     },
     "execution_count": 32,
     "metadata": {},
     "output_type": "execute_result"
    }
   ],
   "source": [
    "autos['price'].value_counts().sort_index(ascending=False)"
   ]
  },
  {
   "cell_type": "markdown",
   "metadata": {},
   "source": [
    "Среди всех объявлений очень много записей с ценой в **0** долларов. Наверняка у продавцов были свои причины не указывать цену, но для нас такие записи бесполезны.\n",
    "\n",
    "Также есть ряд записей с аномально большими и маленькими ценами, которые будут искажения в наш анализ.\n",
    "\n",
    "Предположу, что подержанный автомобиль не должен стоить меньше **1000** и больше **1000000** долларов. Давайте уберём все выбивающиеся значения."
   ]
  },
  {
   "cell_type": "code",
   "execution_count": 15,
   "metadata": {
    "collapsed": false
   },
   "outputs": [],
   "source": [
    "autos = autos[autos['price'].between(1000, 1000000)]"
   ]
  },
  {
   "cell_type": "code",
   "execution_count": 16,
   "metadata": {
    "collapsed": false
   },
   "outputs": [
    {
     "data": {
      "text/plain": [
       "999999    2\n",
       "999990    1\n",
       "350000    1\n",
       "345000    1\n",
       "299000    1\n",
       "Name: price, dtype: int64"
      ]
     },
     "execution_count": 16,
     "metadata": {},
     "output_type": "execute_result"
    }
   ],
   "source": [
    "autos['price'].value_counts().sort_index(ascending=False).head()"
   ]
  },
  {
   "cell_type": "code",
   "execution_count": 17,
   "metadata": {
    "collapsed": false
   },
   "outputs": [
    {
     "data": {
      "text/plain": [
       "1050     95\n",
       "1049      6\n",
       "1040      1\n",
       "1039      1\n",
       "1000    639\n",
       "Name: price, dtype: int64"
      ]
     },
     "execution_count": 17,
     "metadata": {},
     "output_type": "execute_result"
    }
   ],
   "source": [
    "autos['price'].value_counts().sort_index(ascending=False).tail()"
   ]
  },
  {
   "cell_type": "markdown",
   "metadata": {},
   "source": [
    "Теперь посмотрим на столбец `odometer_km`."
   ]
  },
  {
   "cell_type": "code",
   "execution_count": 18,
   "metadata": {
    "collapsed": false
   },
   "outputs": [
    {
     "data": {
      "text/plain": [
       "(13,)"
      ]
     },
     "execution_count": 18,
     "metadata": {},
     "output_type": "execute_result"
    }
   ],
   "source": [
    "autos['odometer_km'].unique().shape"
   ]
  },
  {
   "cell_type": "code",
   "execution_count": 19,
   "metadata": {
    "collapsed": false
   },
   "outputs": [
    {
     "data": {
      "text/plain": [
       "count     38629.000000\n",
       "mean     122780.035724\n",
       "std       40795.760641\n",
       "min        5000.000000\n",
       "25%      100000.000000\n",
       "50%      150000.000000\n",
       "75%      150000.000000\n",
       "max      150000.000000\n",
       "Name: odometer_km, dtype: float64"
      ]
     },
     "execution_count": 19,
     "metadata": {},
     "output_type": "execute_result"
    }
   ],
   "source": [
    "autos['odometer_km'].describe()"
   ]
  },
  {
   "cell_type": "code",
   "execution_count": 21,
   "metadata": {
    "collapsed": false
   },
   "outputs": [
    {
     "data": {
      "text/plain": [
       "150000    23316\n",
       "125000     4341\n",
       "100000     1860\n",
       "90000      1569\n",
       "80000      1334\n",
       "70000      1154\n",
       "60000      1099\n",
       "50000       986\n",
       "40000       795\n",
       "30000       748\n",
       "20000       692\n",
       "5000        507\n",
       "10000       228\n",
       "Name: odometer_km, dtype: int64"
      ]
     },
     "execution_count": 21,
     "metadata": {},
     "output_type": "execute_result"
    }
   ],
   "source": [
    "autos['odometer_km'].value_counts(ascending=False)"
   ]
  },
  {
   "cell_type": "markdown",
   "metadata": {},
   "source": [
    "В столбце с пробегом на мой взгляд нет каких-либо странных значений."
   ]
  },
  {
   "cell_type": "markdown",
   "metadata": {},
   "source": [
    "## Работа с датами\n",
    "\n",
    "В нашей таблице есть пять столбцов, которые так или иначе указывают на какие-либо даты.\n",
    "\n",
    "Два столбца, указывающие на год и месяц регистрации, распознаются как `int64`. Нам это подходит(помним про странные значения в столбце с годами).\n",
    "\n",
    "Три других столбца(`date_crawled`, `last_seen`, и `ad_created`) распознаются как `string`, поэтому нам необходимо привести их к более подходящему формату.\n",
    "\n",
    "Для начала давайте посмотрим на то, как записаны даты в этих столбцах."
   ]
  },
  {
   "cell_type": "code",
   "execution_count": 27,
   "metadata": {
    "collapsed": false
   },
   "outputs": [
    {
     "data": {
      "text/html": [
       "<div>\n",
       "<style scoped>\n",
       "    .dataframe tbody tr th:only-of-type {\n",
       "        vertical-align: middle;\n",
       "    }\n",
       "\n",
       "    .dataframe tbody tr th {\n",
       "        vertical-align: top;\n",
       "    }\n",
       "\n",
       "    .dataframe thead th {\n",
       "        text-align: right;\n",
       "    }\n",
       "</style>\n",
       "<table border=\"1\" class=\"dataframe\">\n",
       "  <thead>\n",
       "    <tr style=\"text-align: right;\">\n",
       "      <th></th>\n",
       "      <th>date_crawled</th>\n",
       "      <th>ad_created</th>\n",
       "      <th>last_seen</th>\n",
       "    </tr>\n",
       "  </thead>\n",
       "  <tbody>\n",
       "    <tr>\n",
       "      <th>0</th>\n",
       "      <td>2016-03-26 17:47:46</td>\n",
       "      <td>2016-03-26 00:00:00</td>\n",
       "      <td>2016-04-06 06:45:54</td>\n",
       "    </tr>\n",
       "    <tr>\n",
       "      <th>1</th>\n",
       "      <td>2016-04-04 13:38:56</td>\n",
       "      <td>2016-04-04 00:00:00</td>\n",
       "      <td>2016-04-06 14:45:08</td>\n",
       "    </tr>\n",
       "    <tr>\n",
       "      <th>2</th>\n",
       "      <td>2016-03-26 18:57:24</td>\n",
       "      <td>2016-03-26 00:00:00</td>\n",
       "      <td>2016-04-06 20:15:37</td>\n",
       "    </tr>\n",
       "    <tr>\n",
       "      <th>3</th>\n",
       "      <td>2016-03-12 16:58:10</td>\n",
       "      <td>2016-03-12 00:00:00</td>\n",
       "      <td>2016-03-15 03:16:28</td>\n",
       "    </tr>\n",
       "    <tr>\n",
       "      <th>4</th>\n",
       "      <td>2016-04-01 14:38:50</td>\n",
       "      <td>2016-04-01 00:00:00</td>\n",
       "      <td>2016-04-01 14:38:50</td>\n",
       "    </tr>\n",
       "  </tbody>\n",
       "</table>\n",
       "</div>"
      ],
      "text/plain": [
       "          date_crawled           ad_created            last_seen\n",
       "0  2016-03-26 17:47:46  2016-03-26 00:00:00  2016-04-06 06:45:54\n",
       "1  2016-04-04 13:38:56  2016-04-04 00:00:00  2016-04-06 14:45:08\n",
       "2  2016-03-26 18:57:24  2016-03-26 00:00:00  2016-04-06 20:15:37\n",
       "3  2016-03-12 16:58:10  2016-03-12 00:00:00  2016-03-15 03:16:28\n",
       "4  2016-04-01 14:38:50  2016-04-01 00:00:00  2016-04-01 14:38:50"
      ]
     },
     "execution_count": 27,
     "metadata": {},
     "output_type": "execute_result"
    }
   ],
   "source": [
    "autos[['date_crawled','ad_created','last_seen']][0:5]"
   ]
  },
  {
   "cell_type": "markdown",
   "metadata": {},
   "source": [
    "Во всех трёх случаях даты записаны однотипно, при этом непосредственно день записан в первых 10 символах.\n",
    "\n",
    "Давайте используем это и посмотрим распределение объявлений по датам."
   ]
  },
  {
   "cell_type": "code",
   "execution_count": 34,
   "metadata": {
    "collapsed": false
   },
   "outputs": [
    {
     "data": {
      "text/plain": [
       "2016-03-05    0.025551\n",
       "2016-03-06    0.013876\n",
       "2016-03-07    0.035129\n",
       "2016-03-08    0.032618\n",
       "2016-03-09    0.032463\n",
       "2016-03-10    0.033317\n",
       "2016-03-11    0.032799\n",
       "2016-03-12    0.037381\n",
       "2016-03-13    0.015998\n",
       "2016-03-14    0.036631\n",
       "2016-03-15    0.033628\n",
       "2016-03-16    0.029071\n",
       "2016-03-17    0.030495\n",
       "2016-03-18    0.012840\n",
       "2016-03-19    0.035129\n",
       "2016-03-20    0.038158\n",
       "2016-03-21    0.037304\n",
       "2016-03-22    0.032514\n",
       "2016-03-23    0.032204\n",
       "2016-03-24    0.029020\n",
       "2016-03-25    0.030521\n",
       "2016-03-26    0.033110\n",
       "2016-03-27    0.031401\n",
       "2016-03-28    0.035362\n",
       "2016-03-29    0.033990\n",
       "2016-03-30    0.033058\n",
       "2016-03-31    0.031401\n",
       "2016-04-01    0.034611\n",
       "2016-04-02    0.036294\n",
       "2016-04-03    0.039142\n",
       "2016-04-04    0.036863\n",
       "2016-04-05    0.013358\n",
       "2016-04-06    0.003262\n",
       "2016-04-07    0.001501\n",
       "Name: date_crawled, dtype: float64"
      ]
     },
     "execution_count": 34,
     "metadata": {},
     "output_type": "execute_result"
    }
   ],
   "source": [
    "autos['date_crawled'].str[:10].value_counts(normalize=True ,dropna=False).sort_index()"
   ]
  },
  {
   "cell_type": "code",
   "execution_count": 35,
   "metadata": {
    "collapsed": false
   },
   "outputs": [
    {
     "data": {
      "text/plain": [
       "2015-06-11    0.000026\n",
       "2015-08-10    0.000026\n",
       "2015-09-09    0.000026\n",
       "2015-11-10    0.000026\n",
       "2015-12-30    0.000026\n",
       "2016-01-03    0.000026\n",
       "2016-01-07    0.000026\n",
       "2016-01-10    0.000052\n",
       "2016-01-13    0.000026\n",
       "2016-01-14    0.000026\n",
       "2016-01-16    0.000026\n",
       "2016-01-22    0.000026\n",
       "2016-01-27    0.000078\n",
       "2016-01-29    0.000026\n",
       "2016-02-01    0.000026\n",
       "2016-02-02    0.000052\n",
       "2016-02-05    0.000052\n",
       "2016-02-07    0.000026\n",
       "2016-02-09    0.000026\n",
       "2016-02-11    0.000026\n",
       "2016-02-12    0.000052\n",
       "2016-02-14    0.000052\n",
       "2016-02-16    0.000026\n",
       "2016-02-17    0.000026\n",
       "2016-02-18    0.000052\n",
       "2016-02-19    0.000078\n",
       "2016-02-20    0.000026\n",
       "2016-02-21    0.000052\n",
       "2016-02-22    0.000026\n",
       "2016-02-23    0.000104\n",
       "                ...   \n",
       "2016-03-09    0.032644\n",
       "2016-03-10    0.032980\n",
       "2016-03-11    0.033058\n",
       "2016-03-12    0.037122\n",
       "2016-03-13    0.017655\n",
       "2016-03-14    0.034974\n",
       "2016-03-15    0.033446\n",
       "2016-03-16    0.029641\n",
       "2016-03-17    0.030185\n",
       "2016-03-18    0.013280\n",
       "2016-03-19    0.034068\n",
       "2016-03-20    0.038261\n",
       "2016-03-21    0.037588\n",
       "2016-03-22    0.032307\n",
       "2016-03-23    0.031945\n",
       "2016-03-24    0.029020\n",
       "2016-03-25    0.030676\n",
       "2016-03-26    0.033213\n",
       "2016-03-27    0.031272\n",
       "2016-03-28    0.035388\n",
       "2016-03-29    0.033990\n",
       "2016-03-30    0.032903\n",
       "2016-03-31    0.031557\n",
       "2016-04-01    0.034456\n",
       "2016-04-02    0.035957\n",
       "2016-04-03    0.039452\n",
       "2016-04-04    0.037278\n",
       "2016-04-05    0.011986\n",
       "2016-04-06    0.003365\n",
       "2016-04-07    0.001320\n",
       "Name: ad_created, Length: 74, dtype: float64"
      ]
     },
     "execution_count": 35,
     "metadata": {},
     "output_type": "execute_result"
    }
   ],
   "source": [
    "autos['ad_created'].str[:10].value_counts(normalize=True ,dropna=False).sort_index()"
   ]
  },
  {
   "cell_type": "code",
   "execution_count": 36,
   "metadata": {
    "collapsed": false
   },
   "outputs": [
    {
     "data": {
      "text/plain": [
       "2016-03-05    0.001087\n",
       "2016-03-06    0.003572\n",
       "2016-03-07    0.004556\n",
       "2016-03-08    0.006239\n",
       "2016-03-09    0.008905\n",
       "2016-03-10    0.009811\n",
       "2016-03-11    0.011727\n",
       "2016-03-12    0.022185\n",
       "2016-03-13    0.008387\n",
       "2016-03-14    0.011986\n",
       "2016-03-15    0.014989\n",
       "2016-03-16    0.015455\n",
       "2016-03-17    0.026379\n",
       "2016-03-18    0.007378\n",
       "2016-03-19    0.014600\n",
       "2016-03-20    0.019804\n",
       "2016-03-21    0.019674\n",
       "2016-03-22    0.020787\n",
       "2016-03-23    0.017914\n",
       "2016-03-24    0.018535\n",
       "2016-03-25    0.017759\n",
       "2016-03-26    0.016076\n",
       "2016-03-27    0.014083\n",
       "2016-03-28    0.019441\n",
       "2016-03-29    0.020787\n",
       "2016-03-30    0.023454\n",
       "2016-03-31    0.022729\n",
       "2016-04-01    0.023195\n",
       "2016-04-02    0.024904\n",
       "2016-04-03    0.024438\n",
       "2016-04-04    0.023376\n",
       "2016-04-05    0.131119\n",
       "2016-04-06    0.234694\n",
       "2016-04-07    0.139973\n",
       "Name: last_seen, dtype: float64"
      ]
     },
     "execution_count": 36,
     "metadata": {},
     "output_type": "execute_result"
    }
   ],
   "source": [
    "autos['last_seen'].str[:10].value_counts(normalize=True ,dropna=False).sort_index()"
   ]
  },
  {
   "cell_type": "markdown",
   "metadata": {},
   "source": [
    "Настало время вернуться к столбцу `registration_year` и его странным значениям."
   ]
  },
  {
   "cell_type": "code",
   "execution_count": 38,
   "metadata": {
    "collapsed": false
   },
   "outputs": [
    {
     "data": {
      "text/plain": [
       "1000       1\n",
       "1001       1\n",
       "1927       1\n",
       "1929       1\n",
       "1931       1\n",
       "1934       2\n",
       "1937       4\n",
       "1938       1\n",
       "1939       1\n",
       "1941       2\n",
       "1943       1\n",
       "1948       1\n",
       "1950       1\n",
       "1951       2\n",
       "1952       1\n",
       "1953       1\n",
       "1954       2\n",
       "1955       2\n",
       "1956       4\n",
       "1957       2\n",
       "1958       3\n",
       "1959       6\n",
       "1960      17\n",
       "1961       6\n",
       "1962       4\n",
       "1963       8\n",
       "1964       9\n",
       "1965      17\n",
       "1966      21\n",
       "1967      25\n",
       "        ... \n",
       "1999    1724\n",
       "2000    2001\n",
       "2001    2065\n",
       "2002    2135\n",
       "2003    2477\n",
       "2004    2608\n",
       "2005    2785\n",
       "2006    2651\n",
       "2007    2259\n",
       "2008    2204\n",
       "2009    2077\n",
       "2010    1584\n",
       "2011    1617\n",
       "2012    1306\n",
       "2013     795\n",
       "2014     649\n",
       "2015     361\n",
       "2016     651\n",
       "2017    1008\n",
       "2018     398\n",
       "2019       1\n",
       "2800       1\n",
       "4100       1\n",
       "4500       1\n",
       "5000       2\n",
       "5911       1\n",
       "6200       1\n",
       "8888       1\n",
       "9000       1\n",
       "9999       2\n",
       "Name: registration_year, Length: 91, dtype: int64"
      ]
     },
     "execution_count": 38,
     "metadata": {},
     "output_type": "execute_result"
    }
   ],
   "source": [
    "autos['registration_year'].value_counts().sort_index()"
   ]
  },
  {
   "cell_type": "markdown",
   "metadata": {},
   "source": [
    "Очевидно, что значения **1000** и **1001** некорректные, никаких автомобилей в эти годы быть не могло. Также можно проверять каждый год из начала 20 века на достоверность, но давайте предположим, что они верны.\n",
    "\n",
    "Также год регистрации не может быть больше года создания объявления: автомобиль должен был использоваться кем-то до этого момента. Самая поздняя дата создания - **07.04.2016**. Соответственно все значения года регистрации свыше **2016** не корректны.\n",
    "\n",
    "Давайте удалим записи с некорректными годами."
   ]
  },
  {
   "cell_type": "code",
   "execution_count": 43,
   "metadata": {
    "collapsed": false
   },
   "outputs": [
    {
     "data": {
      "text/plain": [
       "1927    0.000027\n",
       "1929    0.000027\n",
       "1931    0.000027\n",
       "1934    0.000054\n",
       "1937    0.000108\n",
       "1938    0.000027\n",
       "1939    0.000027\n",
       "1941    0.000054\n",
       "1943    0.000027\n",
       "1948    0.000027\n",
       "1950    0.000027\n",
       "1951    0.000054\n",
       "1952    0.000027\n",
       "1953    0.000027\n",
       "1954    0.000054\n",
       "1955    0.000054\n",
       "1956    0.000108\n",
       "1957    0.000054\n",
       "1958    0.000081\n",
       "1959    0.000161\n",
       "1960    0.000457\n",
       "1961    0.000161\n",
       "1962    0.000108\n",
       "1963    0.000215\n",
       "1964    0.000242\n",
       "1965    0.000457\n",
       "1966    0.000564\n",
       "1967    0.000672\n",
       "1968    0.000699\n",
       "1969    0.000484\n",
       "          ...   \n",
       "1987    0.001371\n",
       "1988    0.002849\n",
       "1989    0.003306\n",
       "1990    0.005079\n",
       "1991    0.005563\n",
       "1992    0.005859\n",
       "1993    0.005859\n",
       "1994    0.007283\n",
       "1995    0.011906\n",
       "1996    0.014566\n",
       "1997    0.021151\n",
       "1998    0.034481\n",
       "1999    0.046333\n",
       "2000    0.053777\n",
       "2001    0.055497\n",
       "2002    0.057379\n",
       "2003    0.066570\n",
       "2004    0.070091\n",
       "2005    0.074847\n",
       "2006    0.071246\n",
       "2007    0.060711\n",
       "2008    0.059233\n",
       "2009    0.055820\n",
       "2010    0.042570\n",
       "2011    0.043457\n",
       "2012    0.035099\n",
       "2013    0.021366\n",
       "2014    0.017442\n",
       "2015    0.009702\n",
       "2016    0.017496\n",
       "Name: registration_year, Length: 77, dtype: float64"
      ]
     },
     "execution_count": 43,
     "metadata": {},
     "output_type": "execute_result"
    }
   ],
   "source": [
    "autos = autos[autos['registration_year'].between(1900, 2016)]\n",
    "\n",
    "autos['registration_year'].value_counts(normalize=True).sort_index()"
   ]
  },
  {
   "cell_type": "markdown",
   "metadata": {},
   "source": [
    "Из результата выше видно, что большинство автомобилей(~60%) из таблицы были зарегестрированы в 2000х."
   ]
  },
  {
   "cell_type": "markdown",
   "metadata": {},
   "source": [
    "## Исследуем марки автомобилей\n",
    "\n",
    "Для начала давайте посмотрим какие вообще марки представлены в таблице и в каком количестве."
   ]
  },
  {
   "cell_type": "code",
   "execution_count": 45,
   "metadata": {
    "collapsed": false
   },
   "outputs": [
    {
     "data": {
      "text/plain": [
       "volkswagen        0.210836\n",
       "bmw               0.125346\n",
       "mercedes_benz     0.111586\n",
       "audi              0.097584\n",
       "opel              0.089064\n",
       "ford              0.058722\n",
       "renault           0.037276\n",
       "peugeot           0.027896\n",
       "fiat              0.021070\n",
       "skoda             0.019055\n",
       "seat              0.017281\n",
       "smart             0.016609\n",
       "toyota            0.014620\n",
       "mazda             0.014244\n",
       "citroen           0.013894\n",
       "nissan            0.013626\n",
       "mini              0.010884\n",
       "hyundai           0.010750\n",
       "sonstige_autos    0.010454\n",
       "volvo             0.008976\n",
       "kia               0.007686\n",
       "porsche           0.007471\n",
       "honda             0.007337\n",
       "mitsubishi        0.006880\n",
       "chevrolet         0.006611\n",
       "alfa_romeo        0.006235\n",
       "suzuki            0.005724\n",
       "dacia             0.003279\n",
       "chrysler          0.003171\n",
       "jeep              0.002768\n",
       "land_rover        0.002634\n",
       "jaguar            0.001854\n",
       "subaru            0.001720\n",
       "daihatsu          0.001693\n",
       "saab              0.001371\n",
       "daewoo            0.000914\n",
       "trabant           0.000860\n",
       "rover             0.000726\n",
       "lancia            0.000672\n",
       "lada              0.000618\n",
       "Name: brand, dtype: float64"
      ]
     },
     "execution_count": 45,
     "metadata": {},
     "output_type": "execute_result"
    }
   ],
   "source": [
    "autos['brand'].value_counts(normalize=True)"
   ]
  },
  {
   "cell_type": "code",
   "execution_count": 48,
   "metadata": {
    "collapsed": false
   },
   "outputs": [
    {
     "data": {
      "text/plain": [
       "0.7984358622913812"
      ]
     },
     "execution_count": 48,
     "metadata": {},
     "output_type": "execute_result"
    }
   ],
   "source": [
    "autos['brand'].value_counts(normalize=True)[:10].sum()"
   ]
  },
  {
   "cell_type": "markdown",
   "metadata": {},
   "source": [
    "Неудивительно, что в таблице весь топ занят немецкими марками, всё-таки мы рассматриваем данные из немецкой части ebay.\n",
    "\n",
    "Далее будем работать только с первой десяткой: она закрывает практически 80% объявлений.\n",
    "\n",
    "Посмотрим, какая средняя цена у машин каждого бренда."
   ]
  },
  {
   "cell_type": "code",
   "execution_count": 80,
   "metadata": {
    "collapsed": false
   },
   "outputs": [
    {
     "name": "stdout",
     "output_type": "stream",
     "text": [
      "opel - 4219\n",
      "renault - 3590\n",
      "skoda - 6836\n",
      "peugeot - 3955\n",
      "fiat - 4008\n",
      "volkswagen - 6898\n",
      "bmw - 9119\n",
      "audi - 10322\n",
      "mercedes_benz - 9302\n",
      "ford - 5786\n"
     ]
    }
   ],
   "source": [
    "brand_mean_price = {}\n",
    "\n",
    "top_ten = autos['brand'].value_counts(normalize=True)[:10].index\n",
    "\n",
    "for brand in top_ten:\n",
    "    brand_mean_price[brand] = int(autos[autos['brand'] == brand]['price'].mean())\n",
    "    \n",
    "for brand in brand_mean_price:\n",
    "    print(brand, '-', brand_mean_price[brand]) "
   ]
  },
  {
   "cell_type": "markdown",
   "metadata": {},
   "source": [
    "Из результата видно, и это довольно предсказуемо, что наибольшую цену имеют машины марок: **BMW, Audi и Mersedes Benz**.\n",
    "\n",
    "Самые дешёвые: **Opel**, **Renault**, **Fiat** и **Peugeot**.\n",
    "\n",
    "Давайте посмотрим, есть ли связь между ценой и пробегом. Для начала получим средний пробег для каждой марки."
   ]
  },
  {
   "cell_type": "code",
   "execution_count": 81,
   "metadata": {
    "collapsed": false
   },
   "outputs": [
    {
     "name": "stdout",
     "output_type": "stream",
     "text": [
      "opel - 123952\n",
      "renault - 121423\n",
      "skoda - 110063\n",
      "peugeot - 122341\n",
      "fiat - 107901\n",
      "volkswagen - 125771\n",
      "bmw - 132001\n",
      "audi - 127491\n",
      "mercedes_benz - 130062\n",
      "ford - 119622\n"
     ]
    }
   ],
   "source": [
    "brand_mean_km = {}\n",
    "\n",
    "for brand in top_ten:\n",
    "    brand_mean_km[brand] = int(autos[autos['brand'] == brand]['odometer_km'].mean())\n",
    "    \n",
    "for brand in brand_mean_km:\n",
    "    print(brand, '-', brand_mean_km[brand])"
   ]
  },
  {
   "cell_type": "markdown",
   "metadata": {},
   "source": [
    "А теперь давайте сравним цену и пробег."
   ]
  },
  {
   "cell_type": "code",
   "execution_count": 82,
   "metadata": {
    "collapsed": false
   },
   "outputs": [
    {
     "data": {
      "text/html": [
       "<div>\n",
       "<style scoped>\n",
       "    .dataframe tbody tr th:only-of-type {\n",
       "        vertical-align: middle;\n",
       "    }\n",
       "\n",
       "    .dataframe tbody tr th {\n",
       "        vertical-align: top;\n",
       "    }\n",
       "\n",
       "    .dataframe thead th {\n",
       "        text-align: right;\n",
       "    }\n",
       "</style>\n",
       "<table border=\"1\" class=\"dataframe\">\n",
       "  <thead>\n",
       "    <tr style=\"text-align: right;\">\n",
       "      <th></th>\n",
       "      <th>mean_price</th>\n",
       "      <th>mean_km</th>\n",
       "    </tr>\n",
       "  </thead>\n",
       "  <tbody>\n",
       "    <tr>\n",
       "      <th>audi</th>\n",
       "      <td>10322</td>\n",
       "      <td>127491</td>\n",
       "    </tr>\n",
       "    <tr>\n",
       "      <th>bmw</th>\n",
       "      <td>9119</td>\n",
       "      <td>132001</td>\n",
       "    </tr>\n",
       "    <tr>\n",
       "      <th>fiat</th>\n",
       "      <td>4008</td>\n",
       "      <td>107901</td>\n",
       "    </tr>\n",
       "    <tr>\n",
       "      <th>ford</th>\n",
       "      <td>5786</td>\n",
       "      <td>119622</td>\n",
       "    </tr>\n",
       "    <tr>\n",
       "      <th>mercedes_benz</th>\n",
       "      <td>9302</td>\n",
       "      <td>130062</td>\n",
       "    </tr>\n",
       "    <tr>\n",
       "      <th>opel</th>\n",
       "      <td>4219</td>\n",
       "      <td>123952</td>\n",
       "    </tr>\n",
       "    <tr>\n",
       "      <th>peugeot</th>\n",
       "      <td>3955</td>\n",
       "      <td>122341</td>\n",
       "    </tr>\n",
       "    <tr>\n",
       "      <th>renault</th>\n",
       "      <td>3590</td>\n",
       "      <td>121423</td>\n",
       "    </tr>\n",
       "    <tr>\n",
       "      <th>skoda</th>\n",
       "      <td>6836</td>\n",
       "      <td>110063</td>\n",
       "    </tr>\n",
       "    <tr>\n",
       "      <th>volkswagen</th>\n",
       "      <td>6898</td>\n",
       "      <td>125771</td>\n",
       "    </tr>\n",
       "  </tbody>\n",
       "</table>\n",
       "</div>"
      ],
      "text/plain": [
       "               mean_price  mean_km\n",
       "audi                10322   127491\n",
       "bmw                  9119   132001\n",
       "fiat                 4008   107901\n",
       "ford                 5786   119622\n",
       "mercedes_benz        9302   130062\n",
       "opel                 4219   123952\n",
       "peugeot              3955   122341\n",
       "renault              3590   121423\n",
       "skoda                6836   110063\n",
       "volkswagen           6898   125771"
      ]
     },
     "execution_count": 82,
     "metadata": {},
     "output_type": "execute_result"
    }
   ],
   "source": [
    "bmp_series = pd.Series(brand_mean_price)\n",
    "bmkm_series = pd.Series(brand_mean_km)\n",
    "\n",
    "new_df = pd.DataFrame(bmp_series, columns=['mean_price'])\n",
    "new_df['mean_km'] = bmkm_series\n",
    "new_df"
   ]
  },
  {
   "cell_type": "markdown",
   "metadata": {},
   "source": [
    "Средний пробег у автомобилей всех марок примерно одинаков, разницы в два раза как с ценами нет. Следовательно можно сделать вывод, что разница в цене вызвана только маркой самого автомобиля."
   ]
  }
 ],
 "metadata": {
  "kernelspec": {
   "display_name": "Python 3",
   "language": "python",
   "name": "python3"
  },
  "language_info": {
   "codemirror_mode": {
    "name": "ipython",
    "version": 3
   },
   "file_extension": ".py",
   "mimetype": "text/x-python",
   "name": "python",
   "nbconvert_exporter": "python",
   "pygments_lexer": "ipython3",
   "version": "3.4.3"
  }
 },
 "nbformat": 4,
 "nbformat_minor": 2
}
